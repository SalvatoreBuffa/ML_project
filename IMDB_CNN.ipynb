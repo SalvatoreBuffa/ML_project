{
 "metadata": {
  "language_info": {
   "codemirror_mode": {
    "name": "ipython",
    "version": 3
   },
   "file_extension": ".py",
   "mimetype": "text/x-python",
   "name": "python",
   "nbconvert_exporter": "python",
   "pygments_lexer": "ipython3",
   "version": "3.8.5"
  },
  "orig_nbformat": 2,
  "kernelspec": {
   "name": "pythonjvsc74a57bd0799eb0fd45bbf32cd22b7eb12315f66a6945dddec75ab4ee4de6611b037c6c79",
   "display_name": "Python 3.8.5 64-bit ('venv': venv)"
  },
  "metadata": {
   "interpreter": {
    "hash": "799eb0fd45bbf32cd22b7eb12315f66a6945dddec75ab4ee4de6611b037c6c79"
   }
  }
 },
 "nbformat": 4,
 "nbformat_minor": 2,
 "cells": [
  {
   "cell_type": "code",
   "execution_count": 112,
   "metadata": {},
   "outputs": [],
   "source": [
    "import pandas as pd\n",
    "import numpy as np\n",
    "from tensorflow.keras.layers import Embedding\n",
    "from tensorflow.keras.layers import Activation, Dropout, Dense, Conv1D, GlobalMaxPool1D, MaxPool1D, Input, MaxPooling1D, Flatten\n",
    "from tensorflow.keras.models import Model, Sequential\n",
    "from keras.backend import clear_session\n",
    "from tensorflow.keras.optimizers import RMSprop\n",
    "from tensorflow.keras.activations import tanh\n",
    "import string\n",
    "import re\n",
    "from keras.preprocessing.text import Tokenizer\n",
    "from sklearn.preprocessing import LabelBinarizer\n",
    "from keras.preprocessing.sequence import pad_sequences\n",
    "import keras\n",
    "from sklearn.model_selection import train_test_split\n",
    "from sklearn.metrics import classification_report\n",
    "import pickle\n",
    "from tensorflow import keras"
   ]
  },
  {
   "cell_type": "code",
   "execution_count": 3,
   "metadata": {},
   "outputs": [],
   "source": [
    "dataset = pickle.load(open(\"dataset/IMDB/dataset_IMDB.pickle\", \"rb\"))"
   ]
  },
  {
   "cell_type": "code",
   "execution_count": 4,
   "metadata": {},
   "outputs": [],
   "source": [
    "Y = np.array(list(map(lambda x: 1 if x==\"positive\" else 0, dataset[\"sentiment\"])))"
   ]
  },
  {
   "cell_type": "code",
   "execution_count": 5,
   "metadata": {},
   "outputs": [],
   "source": [
    "x_train,x_test,y_train,y_test = train_test_split(dataset[\"processed_review\"],Y, test_size=0.1, shuffle=True)"
   ]
  },
  {
   "cell_type": "code",
   "execution_count": 6,
   "metadata": {},
   "outputs": [],
   "source": [
    "def creazione_modello_GloVe(filename):\n",
    "    f = open(filename, encoding=\"utf8\")\n",
    "    embeding_index = {}\n",
    "    for line in f:\n",
    "        values = line.split()\n",
    "        word = values[0]\n",
    "        coefs = np.asarray(values[1:], dtype=\"float32\")\n",
    "        embeding_index[word] = coefs\n",
    "    f.close()\n",
    "    return embeding_index"
   ]
  },
  {
   "cell_type": "code",
   "execution_count": 7,
   "metadata": {},
   "outputs": [],
   "source": [
    "embedding = creazione_modello_GloVe(\"dataset/glove.6B.50d.txt\")"
   ]
  },
  {
   "cell_type": "code",
   "execution_count": 8,
   "metadata": {},
   "outputs": [],
   "source": [
    "tokenizer = Tokenizer(num_words=142092)\n",
    "tokenizer.fit_on_texts(x_train)\n",
    "\n",
    "word_index = tokenizer.word_index"
   ]
  },
  {
   "cell_type": "code",
   "execution_count": 9,
   "metadata": {},
   "outputs": [],
   "source": [
    "vocab_len = len(word_index)+1\n",
    "embedding_vector_len = embedding[\"banan\"].shape[0]\n",
    "embedding_matrix = np.zeros((vocab_len, embedding_vector_len))\n",
    "\n",
    "for word, index in word_index.items():\n",
    "    vector = embedding.get(word)\n",
    "    if vector is not None:\n",
    "        embedding_matrix[index, :] = vector\n",
    "\n",
    "embedding_layer = Embedding(input_dim=vocab_len, output_dim=embedding_vector_len, input_length=200, weights=[embedding_matrix])"
   ]
  },
  {
   "cell_type": "code",
   "execution_count": 123,
   "metadata": {},
   "outputs": [
    {
     "output_type": "stream",
     "name": "stdout",
     "text": [
      "Model: \"sequential\"\n_________________________________________________________________\nLayer (type)                 Output Shape              Param #   \n=================================================================\nembedding (Embedding)        (None, 200, 50)           5010850   \n_________________________________________________________________\nconv1d (Conv1D)              (None, 200, 5)            2005      \n_________________________________________________________________\nmax_pooling1d (MaxPooling1D) (None, 40, 5)             0         \n_________________________________________________________________\nflatten (Flatten)            (None, 200)               0         \n_________________________________________________________________\ndense (Dense)                (None, 2)                 402       \n=================================================================\nTotal params: 5,013,257\nTrainable params: 5,013,257\nNon-trainable params: 0\n_________________________________________________________________\n"
     ]
    }
   ],
   "source": [
    "CNN_model = Sequential()\n",
    "#CNN_model.add(Input(shape=(200,)))\n",
    "CNN_model.add(embedding_layer)\n",
    "CNN_model.add(Conv1D(filters=5, kernel_size=8, padding=\"same\"))\n",
    "CNN_model.add(MaxPooling1D(5, padding=\"same\"))\n",
    "CNN_model.add(Flatten())\n",
    "#CNN_model.add(Dropout(0.2))\n",
    "#CNN_model.add(Dense(20))\n",
    "CNN_model.add(Dense(2, activation=tanh))\n",
    "#RMSprop(learning_rate=0.20)\n",
    "CNN_model.compile(loss=\"binary_crossentropy\", optimizer=\"adam\", metrics=[\"accuracy\"])\n",
    "CNN_model.summary()"
   ]
  },
  {
   "cell_type": "code",
   "execution_count": 18,
   "metadata": {},
   "outputs": [
    {
     "output_type": "stream",
     "name": "stdout",
     "text": [
      "(45000,) (45000,)\n(5000,) (5000,)\n"
     ]
    }
   ],
   "source": [
    "print(x_train.shape, y_train.shape)\n",
    "print(x_test.shape, y_test.shape)"
   ]
  },
  {
   "cell_type": "code",
   "execution_count": 19,
   "metadata": {},
   "outputs": [],
   "source": [
    "x_train_index = tokenizer.texts_to_sequences(x_train)\n",
    "x_train_index = pad_sequences(x_train_index, maxlen=200)"
   ]
  },
  {
   "cell_type": "code",
   "execution_count": 32,
   "metadata": {},
   "outputs": [
    {
     "output_type": "stream",
     "name": "stdout",
     "text": [
      "(45000, 200)\n"
     ]
    }
   ],
   "source": [
    "print(x_train_index.shape)"
   ]
  },
  {
   "cell_type": "code",
   "execution_count": 20,
   "metadata": {},
   "outputs": [],
   "source": [
    "y_train_categorical = keras.utils.to_categorical(y_train, 2)"
   ]
  },
  {
   "cell_type": "code",
   "execution_count": 47,
   "metadata": {},
   "outputs": [
    {
     "output_type": "stream",
     "name": "stdout",
     "text": [
      "(45000, 2)\n"
     ]
    }
   ],
   "source": [
    "print(y_train_categorical.shape)"
   ]
  },
  {
   "cell_type": "code",
   "execution_count": 124,
   "metadata": {},
   "outputs": [
    {
     "output_type": "stream",
     "name": "stdout",
     "text": [
      "Epoch 1/8\n",
      "547/547 [==============================] - 29s 52ms/step - loss: 4.3011 - accuracy: 0.4997 - val_loss: 5.8040 - val_accuracy: 0.5019\n",
      "Epoch 2/8\n",
      "547/547 [==============================] - 28s 52ms/step - loss: 6.0498 - accuracy: 0.5051 - val_loss: 3.9083 - val_accuracy: 0.5056\n",
      "Epoch 3/8\n",
      "547/547 [==============================] - 28s 52ms/step - loss: 5.8511 - accuracy: 0.5091 - val_loss: 6.6071 - val_accuracy: 0.5094\n",
      "Epoch 4/8\n",
      "547/547 [==============================] - 28s 52ms/step - loss: 6.1282 - accuracy: 0.5161 - val_loss: 6.3431 - val_accuracy: 0.4970\n",
      "Epoch 5/8\n",
      "547/547 [==============================] - 29s 52ms/step - loss: 4.9568 - accuracy: 0.5205 - val_loss: 4.2078 - val_accuracy: 0.5080\n",
      "Epoch 6/8\n",
      "547/547 [==============================] - 29s 52ms/step - loss: 2.5978 - accuracy: 0.5717 - val_loss: 2.4687 - val_accuracy: 0.5406\n",
      "Epoch 7/8\n",
      "547/547 [==============================] - 29s 52ms/step - loss: 2.2149 - accuracy: 0.6078 - val_loss: 2.8349 - val_accuracy: 0.5296\n",
      "Epoch 8/8\n",
      "547/547 [==============================] - 29s 54ms/step - loss: 1.9229 - accuracy: 0.6355 - val_loss: 2.2781 - val_accuracy: 0.5659\n"
     ]
    },
    {
     "output_type": "execute_result",
     "data": {
      "text/plain": [
       "<tensorflow.python.keras.callbacks.History at 0x7f005c249310>"
      ]
     },
     "metadata": {},
     "execution_count": 124
    }
   ],
   "source": [
    "clear_session()\n",
    "CNN_model.fit(x_train_index[:35000], y_train_categorical[:35000], epochs=8, batch_size=64, verbose=1, validation_data=(x_train_index[35000:], y_train_categorical[35000:]))"
   ]
  },
  {
   "cell_type": "code",
   "execution_count": 83,
   "metadata": {},
   "outputs": [],
   "source": [
    "x_test_index = tokenizer.texts_to_sequences(x_test)\n",
    "x_test_index = pad_sequences(x_test_index, maxlen=200)"
   ]
  },
  {
   "cell_type": "code",
   "execution_count": 125,
   "metadata": {},
   "outputs": [],
   "source": [
    "y_pred = CNN_model.predict(x_test_index)"
   ]
  },
  {
   "cell_type": "code",
   "execution_count": 126,
   "metadata": {},
   "outputs": [
    {
     "output_type": "stream",
     "name": "stdout",
     "text": [
      "              precision    recall  f1-score   support\n\n           0       0.62      0.37      0.46      2519\n           1       0.55      0.77      0.64      2481\n\n    accuracy                           0.57      5000\n   macro avg       0.58      0.57      0.55      5000\nweighted avg       0.58      0.57      0.55      5000\n\n"
     ]
    }
   ],
   "source": [
    "print(classification_report(y_test, np.argmax(y_pred, axis=1).astype(\"float32\")))"
   ]
  },
  {
   "cell_type": "code",
   "execution_count": 127,
   "metadata": {},
   "outputs": [
    {
     "output_type": "stream",
     "name": "stdout",
     "text": [
      "INFO:tensorflow:Assets written to: IMDB_CNN/assets\n"
     ]
    }
   ],
   "source": [
    "CNN_model.save(\"IMDB_CNN\")"
   ]
  }
 ]
}