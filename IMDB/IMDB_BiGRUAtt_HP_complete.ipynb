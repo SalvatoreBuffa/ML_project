{
  "nbformat": 4,
  "nbformat_minor": 0,
  "metadata": {
    "language_info": {
      "codemirror_mode": {
        "name": "ipython",
        "version": 3
      },
      "file_extension": ".py",
      "mimetype": "text/x-python",
      "name": "python",
      "nbconvert_exporter": "python",
      "pygments_lexer": "ipython3",
      "version": "3.8.5"
    },
    "orig_nbformat": 2,
    "kernelspec": {
      "name": "pythonjvsc74a57bd0799eb0fd45bbf32cd22b7eb12315f66a6945dddec75ab4ee4de6611b037c6c79",
      "display_name": "Python 3.8.5 64-bit ('venv': venv)"
    },
    "metadata": {
      "interpreter": {
        "hash": "799eb0fd45bbf32cd22b7eb12315f66a6945dddec75ab4ee4de6611b037c6c79"
      }
    },
    "colab": {
      "name": "IMDB_BiGRUAtt_HP_complete.ipynb",
      "provenance": [],
      "collapsed_sections": []
    },
    "accelerator": "GPU"
  },
  "cells": [
    {
      "cell_type": "code",
      "metadata": {
        "colab": {
          "base_uri": "https://localhost:8080/"
        },
        "id": "RaPLqPB7g1sD",
        "outputId": "5f2c74ba-381c-4f4f-bb85-448f56f40cdb"
      },
      "source": [
        "from google.colab import drive\n",
        "drive.mount('/content/drive')"
      ],
      "execution_count": 1,
      "outputs": [
        {
          "output_type": "stream",
          "text": [
            "Mounted at /content/drive\n"
          ],
          "name": "stdout"
        }
      ]
    },
    {
      "cell_type": "code",
      "metadata": {
        "id": "yIO1JCbKiVe6"
      },
      "source": [
        "%load_ext tensorboard"
      ],
      "execution_count": 2,
      "outputs": []
    },
    {
      "cell_type": "code",
      "metadata": {
        "id": "DVEpputFgT_l"
      },
      "source": [
        "import pandas as pd\n",
        "import numpy as np\n",
        "import tensorflow\n",
        "from tensorflow.keras.layers import Embedding\n",
        "from tensorflow.keras.layers import GRU, Activation, Dropout, Dense, Input, Bidirectional, Layer\n",
        "from tensorflow.keras.models import Model, Sequential\n",
        "from tensorflow.keras.optimizers import RMSprop\n",
        "\n",
        "from keras.preprocessing.text import Tokenizer\n",
        "from sklearn.preprocessing import LabelBinarizer\n",
        "from keras.preprocessing.sequence import pad_sequences\n",
        "import keras\n",
        "from sklearn.model_selection import train_test_split\n",
        "from sklearn.metrics import classification_report, precision_score, recall_score, accuracy_score\n",
        "import pickle\n",
        "from tensorflow import keras\n",
        "import keras.backend as kb\n",
        "\n",
        "from tensorboard.plugins.hparams import api as hp\n"
      ],
      "execution_count": 23,
      "outputs": []
    },
    {
      "cell_type": "code",
      "metadata": {
        "id": "swl6BxaZhuO-"
      },
      "source": [
        "def creazione_modello_GloVe(filename):\n",
        "    f = open(filename, encoding=\"utf8\")\n",
        "    embeding_index = {}\n",
        "    for line in f:\n",
        "        values = line.split()\n",
        "        word = values[0]\n",
        "        coefs = np.asarray(values[1:], dtype=\"float32\")\n",
        "        embeding_index[word] = coefs\n",
        "    f.close()\n",
        "    return embeding_index"
      ],
      "execution_count": 4,
      "outputs": []
    },
    {
      "cell_type": "code",
      "metadata": {
        "id": "Zb6DJWHZgT_o"
      },
      "source": [
        "dataset = pickle.load(open(\"drive/MyDrive/ml_project/dataset_IMDB.pickle\", \"rb\"))"
      ],
      "execution_count": 5,
      "outputs": []
    },
    {
      "cell_type": "code",
      "metadata": {
        "id": "t6dANDpJgT_p"
      },
      "source": [
        "Y = np.array(list(map(lambda x: 1 if x==\"positive\" else 0, dataset[\"sentiment\"])))"
      ],
      "execution_count": 6,
      "outputs": []
    },
    {
      "cell_type": "code",
      "metadata": {
        "id": "dLOIwoRvgT_p"
      },
      "source": [
        "x_train,x_test,y_train,y_test = train_test_split(dataset[\"processed_review\"],Y, test_size=0.1, shuffle=True)"
      ],
      "execution_count": 17,
      "outputs": []
    },
    {
      "cell_type": "code",
      "metadata": {
        "id": "U5b081bakikL"
      },
      "source": [
        "files = open(\"drive/MyDrive/ml_project/IMDB/x_train.pickle\", \"wb\")\n",
        "pickle.dump(x_train, files)\n",
        "files.close()"
      ],
      "execution_count": 35,
      "outputs": []
    },
    {
      "cell_type": "code",
      "metadata": {
        "id": "FVsQWuUBlMC2"
      },
      "source": [
        "files = open(\"drive/MyDrive/ml_project/IMDB/x_test.pickle\", \"wb\")\n",
        "pickle.dump(x_test, files)\n",
        "files.close()"
      ],
      "execution_count": 37,
      "outputs": []
    },
    {
      "cell_type": "code",
      "metadata": {
        "id": "ZDtTYBrElU6T"
      },
      "source": [
        "files = open(\"drive/MyDrive/ml_project/IMDB/y_train.pickle\", \"wb\")\n",
        "pickle.dump(y_train, files)\n",
        "files.close()"
      ],
      "execution_count": 39,
      "outputs": []
    },
    {
      "cell_type": "code",
      "metadata": {
        "id": "7CXrabZImh9w"
      },
      "source": [
        "files = open(\"drive/MyDrive/ml_project/IMDB/y_test.pickle\", \"wb\")\n",
        "pickle.dump(y_test, files)\n",
        "files.close()"
      ],
      "execution_count": 40,
      "outputs": []
    },
    {
      "cell_type": "code",
      "metadata": {
        "id": "ZICsWSiYFu3b"
      },
      "source": [
        "x_train = pickle.load(open(\"drive/MyDrive/ml_project/IMDB/x_train.pickle\", \"rb\"))\n",
        "x_test = pickle.load(open(\"drive/MyDrive/ml_project/IMDB/x_test.pickle\", \"rb\"))\n",
        "y_train = pickle.load(open(\"drive/MyDrive/ml_project/IMDB/y_train.pickle\", \"rb\"))\n",
        "y_test = pickle.load(open(\"drive/MyDrive/ml_project/IMDB/y_test.pickle\", \"rb\"))"
      ],
      "execution_count": 7,
      "outputs": []
    },
    {
      "cell_type": "code",
      "metadata": {
        "id": "yk55U1MbgT_p",
        "colab": {
          "base_uri": "https://localhost:8080/"
        },
        "outputId": "4b9b1b7b-2ed3-4f4d-d38f-119d30378188"
      },
      "source": [
        "print(x_train.shape, y_train.shape)\n",
        "print(x_test.shape, y_test.shape)"
      ],
      "execution_count": 8,
      "outputs": [
        {
          "output_type": "stream",
          "text": [
            "(45000,) (45000,)\n",
            "(5000,) (5000,)\n"
          ],
          "name": "stdout"
        }
      ]
    },
    {
      "cell_type": "code",
      "metadata": {
        "id": "1PSsHN8ngT_r",
        "colab": {
          "base_uri": "https://localhost:8080/"
        },
        "outputId": "d6e5769e-8b18-4f8a-ca13-f527c81e3ff8"
      },
      "source": [
        "print(\"numero di positivi nel train: \", list(y_train).count(1))\n",
        "print(\"numero di negativi nel train: \", list(y_train).count(0))\n",
        "\n",
        "print(\"numero di positivi nel test: \", list(y_test).count(1))\n",
        "print(\"numero di negativi nel test: \", list(y_test).count(0))"
      ],
      "execution_count": 9,
      "outputs": [
        {
          "output_type": "stream",
          "text": [
            "numero di positivi nel train:  22463\n",
            "numero di negativi nel train:  22537\n",
            "numero di positivi nel test:  2537\n",
            "numero di negativi nel test:  2463\n"
          ],
          "name": "stdout"
        }
      ]
    },
    {
      "cell_type": "code",
      "metadata": {
        "id": "2o3FeHyzgT_r"
      },
      "source": [
        "embedding = creazione_modello_GloVe(\"drive/MyDrive/ml_project/glove.6B.50d.txt\")"
      ],
      "execution_count": 10,
      "outputs": []
    },
    {
      "cell_type": "code",
      "metadata": {
        "id": "RbFirmDCgT_r"
      },
      "source": [
        "tokenizer = Tokenizer(num_words=142092)\n",
        "tokenizer.fit_on_texts(x_train)\n",
        "\n",
        "word_index = tokenizer.word_index"
      ],
      "execution_count": 11,
      "outputs": []
    },
    {
      "cell_type": "code",
      "metadata": {
        "id": "bkfAEA6agT_s"
      },
      "source": [
        "vocab_len = len(word_index)+1\n",
        "embedding_vector_len = embedding[\"banana\"].shape[0]\n",
        "embedding_matrix = np.zeros((vocab_len, embedding_vector_len))\n",
        "\n",
        "for word, index in word_index.items():\n",
        "    vector = embedding.get(word)\n",
        "    if vector is not None:\n",
        "        embedding_matrix[index, :] = vector\n",
        "\n",
        "embedding_layer = Embedding(input_dim=vocab_len, output_dim=embedding_vector_len, input_length=200, weights=[embedding_matrix])"
      ],
      "execution_count": 12,
      "outputs": []
    },
    {
      "cell_type": "code",
      "metadata": {
        "id": "5ReCX4ZsgT_s"
      },
      "source": [
        "class attention(Layer):\n",
        "    def __init__(self,**kwargs):\n",
        "        super(attention,self).__init__(**kwargs)\n",
        "\n",
        "    def build(self,input_shape):\n",
        "        self.W=self.add_weight(name=\"att_weight\",shape=(input_shape[-1],1),initializer=\"normal\")\n",
        "        self.b=self.add_weight(name=\"att_bias\",shape=(input_shape[1],1),initializer=\"zeros\")        \n",
        "        super(attention, self).build(input_shape)\n",
        "\n",
        "    def call(self,x):\n",
        "        et=kb.squeeze(kb.tanh(kb.dot(x,self.W)+self.b),axis=-1)\n",
        "        at=kb.softmax(et)\n",
        "        at=kb.expand_dims(at,axis=-1)\n",
        "        output=x*at\n",
        "        return kb.sum(output,axis=1)\n",
        "\n",
        "    def compute_output_shape(self,input_shape):\n",
        "        return (input_shape[0],input_shape[-1])\n",
        "\n",
        "    def get_config(self):\n",
        "        return super(attention,self).get_config()"
      ],
      "execution_count": 14,
      "outputs": []
    },
    {
      "cell_type": "code",
      "metadata": {
        "id": "dhq-SrRQgT_t"
      },
      "source": [
        "x_train_index = tokenizer.texts_to_sequences(x_train)\n",
        "x_train_index = pad_sequences(x_train_index, maxlen=200)"
      ],
      "execution_count": 15,
      "outputs": []
    },
    {
      "cell_type": "code",
      "metadata": {
        "id": "qUciT7LdgT_u"
      },
      "source": [
        "y_train_categorical = keras.utils.to_categorical(y_train, 2)\n",
        "y_test_categorical = keras.utils.to_categorical(y_test, 2)"
      ],
      "execution_count": 16,
      "outputs": []
    },
    {
      "cell_type": "code",
      "metadata": {
        "id": "4vuIaBtogT_u"
      },
      "source": [
        "x_test_index = tokenizer.texts_to_sequences(x_test)\n",
        "x_test_index = pad_sequences(x_test_index, maxlen=200)"
      ],
      "execution_count": 17,
      "outputs": []
    },
    {
      "cell_type": "code",
      "metadata": {
        "id": "GGnExjoUjGff"
      },
      "source": [
        "def train_test_model(hparams):\n",
        "    model = Sequential([\n",
        "        embedding_layer,\n",
        "        Bidirectional(GRU(units=hparams[HP_NUM_UNITS], return_sequences=True, dropout=hparams[HP_DROPOUT])),\n",
        "        Dense(hparams[HP_NUM_UNITS]),\n",
        "        Dense(hparams[HP_NUM_UNITS]),\n",
        "        attention(),\n",
        "        Dense(2, activation=\"sigmoid\"),\n",
        "    ])\n",
        "    model.compile(optimizer=hparams[HP_OPTIMIZER], loss=\"binary_crossentropy\", metrics=[\"accuracy\"])\n",
        "    model.fit(x_train_index[:35000], y_train_categorical[:35000], epochs=8, batch_size=128, verbose=1, validation_data=(x_train_index[35000:], y_train_categorical[35000:]), callbacks=[tensorflow.keras.callbacks.TensorBoard(log_dir), hp.KerasCallback(log_dir, hparams)])\n",
        "    _, accuracy = model.evaluate(x_test_index, y_test_categorical)\n",
        "    y_pred = np.argmax(model.predict(x_test_index), axis=1).astype(\"float32\")\n",
        "    print(classification_report(y_test, y_pred))\n",
        "    model.save(\"drive/MyDrive/ml_project/IMDB/models/IMDB_BiGRUAtt_HP_complete/{}_{}_{}\".format(hparams[HP_NUM_UNITS], hparams[HP_DROPOUT], hparams[HP_OPTIMIZER]))\n",
        "    return accuracy, precision_score(y_test, y_pred), recall_score(y_test, y_pred)"
      ],
      "execution_count": 18,
      "outputs": []
    },
    {
      "cell_type": "code",
      "metadata": {
        "id": "fznmfNtTtxn8"
      },
      "source": [
        "def run(run_dir, hparams):\n",
        "    with tensorflow.summary.create_file_writer(run_dir).as_default():\n",
        "        hp.hparams(hparams)\n",
        "        accuracy, precision, recall = train_test_model(hparams)\n",
        "        tensorflow.summary.scalar(METRIC_ACCURACY, accuracy, step=1)\n",
        "        tensorflow.summary.scalar(METRIC_PRECISION, precision, step=1)\n",
        "        tensorflow.summary.scalar(METRIC_RECALL, recall, step=1)"
      ],
      "execution_count": 19,
      "outputs": []
    },
    {
      "cell_type": "code",
      "metadata": {
        "id": "3_zS9tktkTQx"
      },
      "source": [
        "n_esecuzione = 0"
      ],
      "execution_count": 20,
      "outputs": []
    },
    {
      "cell_type": "code",
      "metadata": {
        "id": "K1ZeNy6Tifnp"
      },
      "source": [
        "HP_OPTIMIZER = hp.HParam('optimizer', hp.Discrete([\"adam\", \"rmsprop\"]))\n",
        "HP_DROPOUT = hp.HParam('dropout', hp.Discrete([0.1,0.2, 0.3, 0.4, 0.5, 0.6, 0.7, 0.8, 0.9]))\n",
        "HP_NUM_UNITS = hp.HParam('num_units', hp.Discrete([16, 32, 64]))\n",
        "\n",
        "log_dir = 'drive/MyDrive/ml_project/IMDB/logs/IMDB_BiGRUAtt_HP_complete'\n",
        "METRIC_ACCURACY = 'accuracy'\n",
        "METRIC_PRECISION = \"precision\"\n",
        "METRIC_RECALL = \"recall\"\n",
        "\n",
        "with tensorflow.summary.create_file_writer(log_dir).as_default():\n",
        "    hp.hparams_config(\n",
        "        hparams=[HP_NUM_UNITS, HP_DROPOUT, HP_OPTIMIZER],\n",
        "        metrics=[hp.Metric(METRIC_ACCURACY, display_name=\"Accuracy\"), hp.Metric(METRIC_PRECISION, display_name=\"Precision\"), hp.Metric(METRIC_RECALL, display_name=\"Recall\")],\n",
        "    )"
      ],
      "execution_count": 21,
      "outputs": []
    },
    {
      "cell_type": "code",
      "metadata": {
        "colab": {
          "base_uri": "https://localhost:8080/"
        },
        "id": "BNeIaMiQtYEP",
        "outputId": "cded933c-f22a-4767-a6bd-c2874a063248"
      },
      "source": [
        "#3 ore 59 min\n",
        "for num_units in HP_NUM_UNITS.domain.values:\n",
        "        for dropout in HP_DROPOUT.domain.values:\n",
        "            for opt in HP_OPTIMIZER.domain.values:\n",
        "                hparams = {\n",
        "                    HP_DROPOUT: dropout,\n",
        "                    HP_NUM_UNITS: num_units,\n",
        "                    HP_OPTIMIZER: opt,\n",
        "                    }\n",
        "                print(\"esecuzione: \", n_esecuzione)\n",
        "                print({h.name: hparams[h] for h in hparams})\n",
        "                run(log_dir + \"/esecuzione_{}\".format(n_esecuzione), hparams)\n",
        "                n_esecuzione += 1 "
      ],
      "execution_count": 47,
      "outputs": [
        {
          "output_type": "stream",
          "text": [
            "esecuzione:  0\n",
            "{'dropout': 0.1, 'num_units': 16, 'optimizer': 'adam'}\n",
            "Epoch 1/10\n",
            "274/274 [==============================] - 83s 288ms/step - loss: 0.4806 - accuracy: 0.7608 - val_loss: 0.3343 - val_accuracy: 0.8569\n",
            "Epoch 2/10\n",
            "274/274 [==============================] - 76s 277ms/step - loss: 0.2664 - accuracy: 0.8897 - val_loss: 0.2804 - val_accuracy: 0.8862\n",
            "Epoch 3/10\n",
            "274/274 [==============================] - 77s 282ms/step - loss: 0.1936 - accuracy: 0.9237 - val_loss: 0.2892 - val_accuracy: 0.8869\n",
            "Epoch 4/10\n",
            "274/274 [==============================] - 77s 283ms/step - loss: 0.1313 - accuracy: 0.9519 - val_loss: 0.3124 - val_accuracy: 0.8931\n",
            "Epoch 5/10\n",
            "274/274 [==============================] - 78s 285ms/step - loss: 0.0751 - accuracy: 0.9742 - val_loss: 0.3838 - val_accuracy: 0.8883\n",
            "Epoch 6/10\n",
            "274/274 [==============================] - 78s 284ms/step - loss: 0.0406 - accuracy: 0.9871 - val_loss: 0.4867 - val_accuracy: 0.8810\n",
            "Epoch 7/10\n",
            "274/274 [==============================] - 77s 281ms/step - loss: 0.0246 - accuracy: 0.9920 - val_loss: 0.6159 - val_accuracy: 0.8818\n",
            "Epoch 8/10\n",
            "274/274 [==============================] - 76s 276ms/step - loss: 0.0152 - accuracy: 0.9949 - val_loss: 0.7773 - val_accuracy: 0.8719\n",
            "Epoch 9/10\n",
            "274/274 [==============================] - 77s 281ms/step - loss: 0.0115 - accuracy: 0.9960 - val_loss: 0.8193 - val_accuracy: 0.8785\n",
            "Epoch 10/10\n",
            "274/274 [==============================] - 82s 300ms/step - loss: 0.0077 - accuracy: 0.9973 - val_loss: 0.8821 - val_accuracy: 0.8774\n",
            "157/157 [==============================] - 4s 24ms/step - loss: 0.8700 - accuracy: 0.8774\n",
            "              precision    recall  f1-score   support\n",
            "\n",
            "           0       0.86      0.89      0.88      2463\n",
            "           1       0.89      0.86      0.88      2537\n",
            "\n",
            "    accuracy                           0.88      5000\n",
            "   macro avg       0.88      0.88      0.88      5000\n",
            "weighted avg       0.88      0.88      0.88      5000\n",
            "\n"
          ],
          "name": "stdout"
        },
        {
          "output_type": "stream",
          "text": [
            "WARNING:absl:Found untraced functions such as gru_cell_4_layer_call_fn, gru_cell_4_layer_call_and_return_conditional_losses, gru_cell_5_layer_call_fn, gru_cell_5_layer_call_and_return_conditional_losses, gru_cell_4_layer_call_fn while saving (showing 5 of 10). These functions will not be directly callable after loading.\n"
          ],
          "name": "stderr"
        },
        {
          "output_type": "stream",
          "text": [
            "INFO:tensorflow:Assets written to: drive/MyDrive/ml_project/IMDB/models/IMDB_BiGRUAtt_HP_complete/16_0.1_adam/assets\n"
          ],
          "name": "stdout"
        },
        {
          "output_type": "stream",
          "text": [
            "INFO:tensorflow:Assets written to: drive/MyDrive/ml_project/IMDB/models/IMDB_BiGRUAtt_HP_complete/16_0.1_adam/assets\n"
          ],
          "name": "stderr"
        },
        {
          "output_type": "stream",
          "text": [
            "esecuzione:  1\n",
            "{'dropout': 0.1, 'num_units': 16, 'optimizer': 'rmsprop'}\n",
            "Epoch 1/10\n",
            "274/274 [==============================] - 77s 266ms/step - loss: 0.2331 - accuracy: 0.9187 - val_loss: 0.4661 - val_accuracy: 0.8712\n",
            "Epoch 2/10\n",
            "274/274 [==============================] - 71s 257ms/step - loss: 0.0437 - accuracy: 0.9844 - val_loss: 0.6291 - val_accuracy: 0.8746\n",
            "Epoch 3/10\n",
            "274/274 [==============================] - 71s 259ms/step - loss: 0.0216 - accuracy: 0.9927 - val_loss: 0.7453 - val_accuracy: 0.8741\n",
            "Epoch 4/10\n",
            "274/274 [==============================] - 76s 277ms/step - loss: 0.0138 - accuracy: 0.9950 - val_loss: 0.8192 - val_accuracy: 0.8760\n",
            "Epoch 5/10\n",
            "274/274 [==============================] - 76s 277ms/step - loss: 0.0101 - accuracy: 0.9962 - val_loss: 0.9145 - val_accuracy: 0.8726\n",
            "Epoch 6/10\n",
            "274/274 [==============================] - 77s 281ms/step - loss: 0.0071 - accuracy: 0.9976 - val_loss: 1.0534 - val_accuracy: 0.8748\n",
            "Epoch 7/10\n",
            "274/274 [==============================] - 68s 250ms/step - loss: 0.0058 - accuracy: 0.9979 - val_loss: 1.0914 - val_accuracy: 0.8711\n",
            "Epoch 8/10\n",
            "274/274 [==============================] - 71s 259ms/step - loss: 0.0040 - accuracy: 0.9986 - val_loss: 1.2081 - val_accuracy: 0.8725\n",
            "Epoch 9/10\n",
            "274/274 [==============================] - 71s 258ms/step - loss: 0.0041 - accuracy: 0.9985 - val_loss: 1.3211 - val_accuracy: 0.8709\n",
            "Epoch 10/10\n",
            "274/274 [==============================] - 69s 252ms/step - loss: 0.0029 - accuracy: 0.9990 - val_loss: 1.4396 - val_accuracy: 0.8703\n",
            "157/157 [==============================] - 4s 24ms/step - loss: 1.3586 - accuracy: 0.8776\n",
            "              precision    recall  f1-score   support\n",
            "\n",
            "           0       0.87      0.88      0.88      2463\n",
            "           1       0.89      0.87      0.88      2537\n",
            "\n",
            "    accuracy                           0.88      5000\n",
            "   macro avg       0.88      0.88      0.88      5000\n",
            "weighted avg       0.88      0.88      0.88      5000\n",
            "\n"
          ],
          "name": "stdout"
        },
        {
          "output_type": "stream",
          "text": [
            "WARNING:absl:Found untraced functions such as gru_cell_7_layer_call_fn, gru_cell_7_layer_call_and_return_conditional_losses, gru_cell_8_layer_call_fn, gru_cell_8_layer_call_and_return_conditional_losses, gru_cell_7_layer_call_fn while saving (showing 5 of 10). These functions will not be directly callable after loading.\n"
          ],
          "name": "stderr"
        },
        {
          "output_type": "stream",
          "text": [
            "INFO:tensorflow:Assets written to: drive/MyDrive/ml_project/IMDB/models/IMDB_BiGRUAtt_HP_complete/16_0.1_rmsprop/assets\n"
          ],
          "name": "stdout"
        },
        {
          "output_type": "stream",
          "text": [
            "INFO:tensorflow:Assets written to: drive/MyDrive/ml_project/IMDB/models/IMDB_BiGRUAtt_HP_complete/16_0.1_rmsprop/assets\n"
          ],
          "name": "stderr"
        },
        {
          "output_type": "stream",
          "text": [
            "esecuzione:  2\n",
            "{'dropout': 0.2, 'num_units': 16, 'optimizer': 'adam'}\n",
            "Epoch 1/10\n",
            "274/274 [==============================] - 87s 300ms/step - loss: 0.2195 - accuracy: 0.9259 - val_loss: 0.5330 - val_accuracy: 0.8803\n",
            "Epoch 2/10\n",
            "274/274 [==============================] - 79s 289ms/step - loss: 0.0208 - accuracy: 0.9931 - val_loss: 0.6667 - val_accuracy: 0.8750\n",
            "Epoch 3/10\n",
            "274/274 [==============================] - 78s 285ms/step - loss: 0.0108 - accuracy: 0.9964 - val_loss: 0.7829 - val_accuracy: 0.8741\n",
            "Epoch 4/10\n",
            "274/274 [==============================] - 79s 287ms/step - loss: 0.0075 - accuracy: 0.9973 - val_loss: 0.9587 - val_accuracy: 0.8728\n",
            "Epoch 5/10\n",
            "274/274 [==============================] - 78s 286ms/step - loss: 0.0051 - accuracy: 0.9983 - val_loss: 1.0355 - val_accuracy: 0.8707\n",
            "Epoch 6/10\n",
            "274/274 [==============================] - 79s 287ms/step - loss: 0.0046 - accuracy: 0.9983 - val_loss: 1.0595 - val_accuracy: 0.8715\n",
            "Epoch 7/10\n",
            "274/274 [==============================] - 77s 282ms/step - loss: 0.0038 - accuracy: 0.9988 - val_loss: 1.1259 - val_accuracy: 0.8696\n",
            "Epoch 8/10\n",
            "274/274 [==============================] - 78s 284ms/step - loss: 0.0033 - accuracy: 0.9989 - val_loss: 1.2002 - val_accuracy: 0.8692\n",
            "Epoch 9/10\n",
            "274/274 [==============================] - 79s 287ms/step - loss: 0.0033 - accuracy: 0.9989 - val_loss: 1.1213 - val_accuracy: 0.8702\n",
            "Epoch 10/10\n",
            "274/274 [==============================] - 77s 279ms/step - loss: 0.0032 - accuracy: 0.9989 - val_loss: 1.2134 - val_accuracy: 0.8683\n",
            "157/157 [==============================] - 4s 25ms/step - loss: 1.1575 - accuracy: 0.8698\n",
            "              precision    recall  f1-score   support\n",
            "\n",
            "           0       0.85      0.89      0.87      2463\n",
            "           1       0.89      0.85      0.87      2537\n",
            "\n",
            "    accuracy                           0.87      5000\n",
            "   macro avg       0.87      0.87      0.87      5000\n",
            "weighted avg       0.87      0.87      0.87      5000\n",
            "\n"
          ],
          "name": "stdout"
        },
        {
          "output_type": "stream",
          "text": [
            "WARNING:absl:Found untraced functions such as gru_cell_10_layer_call_fn, gru_cell_10_layer_call_and_return_conditional_losses, gru_cell_11_layer_call_fn, gru_cell_11_layer_call_and_return_conditional_losses, gru_cell_10_layer_call_fn while saving (showing 5 of 10). These functions will not be directly callable after loading.\n"
          ],
          "name": "stderr"
        },
        {
          "output_type": "stream",
          "text": [
            "INFO:tensorflow:Assets written to: drive/MyDrive/ml_project/IMDB/models/IMDB_BiGRUAtt_HP_complete/16_0.2_adam/assets\n"
          ],
          "name": "stdout"
        },
        {
          "output_type": "stream",
          "text": [
            "INFO:tensorflow:Assets written to: drive/MyDrive/ml_project/IMDB/models/IMDB_BiGRUAtt_HP_complete/16_0.2_adam/assets\n"
          ],
          "name": "stderr"
        },
        {
          "output_type": "stream",
          "text": [
            "esecuzione:  3\n",
            "{'dropout': 0.2, 'num_units': 16, 'optimizer': 'rmsprop'}\n",
            "Epoch 1/10\n",
            "274/274 [==============================] - 75s 259ms/step - loss: 0.1873 - accuracy: 0.9313 - val_loss: 0.5998 - val_accuracy: 0.8690\n",
            "Epoch 2/10\n",
            "274/274 [==============================] - 70s 256ms/step - loss: 0.0168 - accuracy: 0.9941 - val_loss: 0.8612 - val_accuracy: 0.8734\n",
            "Epoch 3/10\n",
            "274/274 [==============================] - 70s 257ms/step - loss: 0.0067 - accuracy: 0.9977 - val_loss: 1.1394 - val_accuracy: 0.8733\n",
            "Epoch 4/10\n",
            "274/274 [==============================] - 69s 251ms/step - loss: 0.0048 - accuracy: 0.9984 - val_loss: 1.2179 - val_accuracy: 0.8745\n",
            "Epoch 5/10\n",
            "274/274 [==============================] - 71s 258ms/step - loss: 0.0034 - accuracy: 0.9989 - val_loss: 1.3739 - val_accuracy: 0.8713\n",
            "Epoch 6/10\n",
            "274/274 [==============================] - 69s 252ms/step - loss: 0.0029 - accuracy: 0.9990 - val_loss: 1.4440 - val_accuracy: 0.8743\n",
            "Epoch 7/10\n",
            "274/274 [==============================] - 71s 261ms/step - loss: 0.0028 - accuracy: 0.9990 - val_loss: 1.4885 - val_accuracy: 0.8712\n",
            "Epoch 8/10\n",
            "274/274 [==============================] - 70s 256ms/step - loss: 0.0028 - accuracy: 0.9992 - val_loss: 1.5629 - val_accuracy: 0.8712\n",
            "Epoch 9/10\n",
            "274/274 [==============================] - 69s 250ms/step - loss: 0.0021 - accuracy: 0.9993 - val_loss: 1.6710 - val_accuracy: 0.8708\n",
            "Epoch 10/10\n",
            "274/274 [==============================] - 70s 255ms/step - loss: 0.0020 - accuracy: 0.9992 - val_loss: 1.9347 - val_accuracy: 0.8631\n",
            "157/157 [==============================] - 4s 24ms/step - loss: 1.7935 - accuracy: 0.8644\n",
            "              precision    recall  f1-score   support\n",
            "\n",
            "           0       0.91      0.81      0.85      2463\n",
            "           1       0.83      0.92      0.87      2537\n",
            "\n",
            "    accuracy                           0.86      5000\n",
            "   macro avg       0.87      0.86      0.86      5000\n",
            "weighted avg       0.87      0.86      0.86      5000\n",
            "\n"
          ],
          "name": "stdout"
        },
        {
          "output_type": "stream",
          "text": [
            "WARNING:absl:Found untraced functions such as gru_cell_13_layer_call_fn, gru_cell_13_layer_call_and_return_conditional_losses, gru_cell_14_layer_call_fn, gru_cell_14_layer_call_and_return_conditional_losses, gru_cell_13_layer_call_fn while saving (showing 5 of 10). These functions will not be directly callable after loading.\n"
          ],
          "name": "stderr"
        },
        {
          "output_type": "stream",
          "text": [
            "INFO:tensorflow:Assets written to: drive/MyDrive/ml_project/IMDB/models/IMDB_BiGRUAtt_HP_complete/16_0.2_rmsprop/assets\n"
          ],
          "name": "stdout"
        },
        {
          "output_type": "stream",
          "text": [
            "INFO:tensorflow:Assets written to: drive/MyDrive/ml_project/IMDB/models/IMDB_BiGRUAtt_HP_complete/16_0.2_rmsprop/assets\n"
          ],
          "name": "stderr"
        },
        {
          "output_type": "stream",
          "text": [
            "esecuzione:  4\n",
            "{'dropout': 0.3, 'num_units': 16, 'optimizer': 'adam'}\n",
            "Epoch 1/10\n",
            "274/274 [==============================] - 83s 288ms/step - loss: 0.2113 - accuracy: 0.9207 - val_loss: 0.6017 - val_accuracy: 0.8792\n",
            "Epoch 2/10\n",
            "274/274 [==============================] - 76s 278ms/step - loss: 0.0118 - accuracy: 0.9961 - val_loss: 0.7855 - val_accuracy: 0.8766\n",
            "Epoch 3/10\n",
            "274/274 [==============================] - 78s 286ms/step - loss: 0.0066 - accuracy: 0.9974 - val_loss: 0.9767 - val_accuracy: 0.8704\n",
            "Epoch 4/10\n",
            "274/274 [==============================] - 76s 277ms/step - loss: 0.0054 - accuracy: 0.9978 - val_loss: 1.0428 - val_accuracy: 0.8702\n",
            "Epoch 5/10\n",
            "274/274 [==============================] - 77s 282ms/step - loss: 0.0041 - accuracy: 0.9985 - val_loss: 1.1040 - val_accuracy: 0.8720\n",
            "Epoch 6/10\n",
            "274/274 [==============================] - 78s 285ms/step - loss: 0.0049 - accuracy: 0.9982 - val_loss: 1.1987 - val_accuracy: 0.8684\n",
            "Epoch 7/10\n",
            "274/274 [==============================] - 79s 289ms/step - loss: 0.0033 - accuracy: 0.9989 - val_loss: 1.2455 - val_accuracy: 0.8689\n",
            "Epoch 8/10\n",
            "274/274 [==============================] - 77s 281ms/step - loss: 0.0029 - accuracy: 0.9991 - val_loss: 1.2282 - val_accuracy: 0.8687\n",
            "Epoch 9/10\n",
            "274/274 [==============================] - 79s 288ms/step - loss: 0.0022 - accuracy: 0.9991 - val_loss: 1.3272 - val_accuracy: 0.8706\n",
            "Epoch 10/10\n",
            "274/274 [==============================] - 77s 281ms/step - loss: 0.0027 - accuracy: 0.9989 - val_loss: 1.3214 - val_accuracy: 0.8690\n",
            "157/157 [==============================] - 4s 24ms/step - loss: 1.2656 - accuracy: 0.8746\n",
            "              precision    recall  f1-score   support\n",
            "\n",
            "           0       0.86      0.88      0.87      2463\n",
            "           1       0.89      0.86      0.87      2537\n",
            "\n",
            "    accuracy                           0.87      5000\n",
            "   macro avg       0.87      0.87      0.87      5000\n",
            "weighted avg       0.87      0.87      0.87      5000\n",
            "\n"
          ],
          "name": "stdout"
        },
        {
          "output_type": "stream",
          "text": [
            "WARNING:absl:Found untraced functions such as gru_cell_16_layer_call_fn, gru_cell_16_layer_call_and_return_conditional_losses, gru_cell_17_layer_call_fn, gru_cell_17_layer_call_and_return_conditional_losses, gru_cell_16_layer_call_fn while saving (showing 5 of 10). These functions will not be directly callable after loading.\n"
          ],
          "name": "stderr"
        },
        {
          "output_type": "stream",
          "text": [
            "INFO:tensorflow:Assets written to: drive/MyDrive/ml_project/IMDB/models/IMDB_BiGRUAtt_HP_complete/16_0.3_adam/assets\n"
          ],
          "name": "stdout"
        },
        {
          "output_type": "stream",
          "text": [
            "INFO:tensorflow:Assets written to: drive/MyDrive/ml_project/IMDB/models/IMDB_BiGRUAtt_HP_complete/16_0.3_adam/assets\n"
          ],
          "name": "stderr"
        },
        {
          "output_type": "stream",
          "text": [
            "esecuzione:  5\n",
            "{'dropout': 0.3, 'num_units': 16, 'optimizer': 'rmsprop'}\n",
            "Epoch 1/10\n",
            "274/274 [==============================] - 76s 262ms/step - loss: 0.1609 - accuracy: 0.9471 - val_loss: 0.6619 - val_accuracy: 0.8782\n",
            "Epoch 2/10\n",
            "274/274 [==============================] - 69s 253ms/step - loss: 0.0118 - accuracy: 0.9964 - val_loss: 1.0595 - val_accuracy: 0.8666\n",
            "Epoch 3/10\n",
            "274/274 [==============================] - 69s 251ms/step - loss: 0.0056 - accuracy: 0.9982 - val_loss: 1.1089 - val_accuracy: 0.8745\n",
            "Epoch 4/10\n",
            "274/274 [==============================] - 68s 249ms/step - loss: 0.0036 - accuracy: 0.9986 - val_loss: 1.2734 - val_accuracy: 0.8753\n",
            "Epoch 5/10\n",
            "274/274 [==============================] - 69s 250ms/step - loss: 0.0027 - accuracy: 0.9989 - val_loss: 1.4978 - val_accuracy: 0.8720\n",
            "Epoch 6/10\n",
            "274/274 [==============================] - 69s 250ms/step - loss: 0.0021 - accuracy: 0.9991 - val_loss: 1.7354 - val_accuracy: 0.8731\n",
            "Epoch 7/10\n",
            "274/274 [==============================] - 71s 259ms/step - loss: 0.0029 - accuracy: 0.9990 - val_loss: 1.4969 - val_accuracy: 0.8712\n",
            "Epoch 8/10\n",
            "274/274 [==============================] - 70s 257ms/step - loss: 0.0021 - accuracy: 0.9993 - val_loss: 1.5759 - val_accuracy: 0.8742\n",
            "Epoch 9/10\n",
            "274/274 [==============================] - 71s 260ms/step - loss: 0.0015 - accuracy: 0.9995 - val_loss: 1.8163 - val_accuracy: 0.8720\n",
            "Epoch 10/10\n",
            "274/274 [==============================] - 69s 251ms/step - loss: 0.0013 - accuracy: 0.9995 - val_loss: 2.0372 - val_accuracy: 0.8719\n",
            "157/157 [==============================] - 4s 24ms/step - loss: 1.9272 - accuracy: 0.8772\n",
            "              precision    recall  f1-score   support\n",
            "\n",
            "           0       0.89      0.86      0.87      2463\n",
            "           1       0.87      0.89      0.88      2537\n",
            "\n",
            "    accuracy                           0.88      5000\n",
            "   macro avg       0.88      0.88      0.88      5000\n",
            "weighted avg       0.88      0.88      0.88      5000\n",
            "\n"
          ],
          "name": "stdout"
        },
        {
          "output_type": "stream",
          "text": [
            "WARNING:absl:Found untraced functions such as gru_cell_19_layer_call_fn, gru_cell_19_layer_call_and_return_conditional_losses, gru_cell_20_layer_call_fn, gru_cell_20_layer_call_and_return_conditional_losses, gru_cell_19_layer_call_fn while saving (showing 5 of 10). These functions will not be directly callable after loading.\n"
          ],
          "name": "stderr"
        },
        {
          "output_type": "stream",
          "text": [
            "INFO:tensorflow:Assets written to: drive/MyDrive/ml_project/IMDB/models/IMDB_BiGRUAtt_HP_complete/16_0.3_rmsprop/assets\n"
          ],
          "name": "stdout"
        },
        {
          "output_type": "stream",
          "text": [
            "INFO:tensorflow:Assets written to: drive/MyDrive/ml_project/IMDB/models/IMDB_BiGRUAtt_HP_complete/16_0.3_rmsprop/assets\n"
          ],
          "name": "stderr"
        },
        {
          "output_type": "stream",
          "text": [
            "esecuzione:  6\n",
            "{'dropout': 0.4, 'num_units': 16, 'optimizer': 'adam'}\n",
            "Epoch 1/10\n",
            "274/274 [==============================] - 83s 290ms/step - loss: 0.1691 - accuracy: 0.9516 - val_loss: 0.6729 - val_accuracy: 0.8787\n",
            "Epoch 2/10\n",
            "274/274 [==============================] - 80s 290ms/step - loss: 0.0106 - accuracy: 0.9967 - val_loss: 0.9157 - val_accuracy: 0.8704\n",
            "Epoch 3/10\n",
            "274/274 [==============================] - 79s 289ms/step - loss: 0.0064 - accuracy: 0.9980 - val_loss: 0.9839 - val_accuracy: 0.8732\n",
            "Epoch 4/10\n",
            "274/274 [==============================] - 80s 291ms/step - loss: 0.0054 - accuracy: 0.9983 - val_loss: 1.0879 - val_accuracy: 0.8691\n",
            "Epoch 5/10\n",
            "274/274 [==============================] - 79s 287ms/step - loss: 0.0041 - accuracy: 0.9987 - val_loss: 1.1289 - val_accuracy: 0.8691\n",
            "Epoch 6/10\n",
            "274/274 [==============================] - 79s 288ms/step - loss: 0.0029 - accuracy: 0.9992 - val_loss: 1.2131 - val_accuracy: 0.8678\n",
            "Epoch 7/10\n",
            "274/274 [==============================] - 79s 288ms/step - loss: 0.0037 - accuracy: 0.9988 - val_loss: 1.2182 - val_accuracy: 0.8688\n",
            "Epoch 8/10\n",
            "274/274 [==============================] - 84s 307ms/step - loss: 0.0027 - accuracy: 0.9988 - val_loss: 1.2967 - val_accuracy: 0.8705\n",
            "Epoch 9/10\n",
            "274/274 [==============================] - 87s 319ms/step - loss: 0.0032 - accuracy: 0.9989 - val_loss: 1.3471 - val_accuracy: 0.8659\n",
            "Epoch 10/10\n",
            "274/274 [==============================] - 81s 294ms/step - loss: 0.0036 - accuracy: 0.9988 - val_loss: 1.2661 - val_accuracy: 0.8707\n",
            "157/157 [==============================] - 4s 24ms/step - loss: 1.1942 - accuracy: 0.8742\n",
            "              precision    recall  f1-score   support\n",
            "\n",
            "           0       0.88      0.86      0.87      2463\n",
            "           1       0.87      0.89      0.88      2537\n",
            "\n",
            "    accuracy                           0.87      5000\n",
            "   macro avg       0.87      0.87      0.87      5000\n",
            "weighted avg       0.87      0.87      0.87      5000\n",
            "\n"
          ],
          "name": "stdout"
        },
        {
          "output_type": "stream",
          "text": [
            "WARNING:absl:Found untraced functions such as gru_cell_22_layer_call_fn, gru_cell_22_layer_call_and_return_conditional_losses, gru_cell_23_layer_call_fn, gru_cell_23_layer_call_and_return_conditional_losses, gru_cell_22_layer_call_fn while saving (showing 5 of 10). These functions will not be directly callable after loading.\n"
          ],
          "name": "stderr"
        },
        {
          "output_type": "stream",
          "text": [
            "INFO:tensorflow:Assets written to: drive/MyDrive/ml_project/IMDB/models/IMDB_BiGRUAtt_HP_complete/16_0.4_adam/assets\n"
          ],
          "name": "stdout"
        },
        {
          "output_type": "stream",
          "text": [
            "INFO:tensorflow:Assets written to: drive/MyDrive/ml_project/IMDB/models/IMDB_BiGRUAtt_HP_complete/16_0.4_adam/assets\n"
          ],
          "name": "stderr"
        },
        {
          "output_type": "stream",
          "text": [
            "esecuzione:  7\n",
            "{'dropout': 0.4, 'num_units': 16, 'optimizer': 'rmsprop'}\n",
            "Epoch 1/10\n",
            "274/274 [==============================] - 76s 260ms/step - loss: 0.1524 - accuracy: 0.9582 - val_loss: 0.8951 - val_accuracy: 0.8772\n",
            "Epoch 2/10\n",
            "274/274 [==============================] - 69s 252ms/step - loss: 0.0083 - accuracy: 0.9971 - val_loss: 1.1310 - val_accuracy: 0.8746\n",
            "Epoch 3/10\n",
            "274/274 [==============================] - 71s 259ms/step - loss: 0.0040 - accuracy: 0.9985 - val_loss: 1.4098 - val_accuracy: 0.8712\n",
            "Epoch 4/10\n",
            "274/274 [==============================] - 71s 261ms/step - loss: 0.0043 - accuracy: 0.9984 - val_loss: 1.3878 - val_accuracy: 0.8712\n",
            "Epoch 5/10\n",
            "274/274 [==============================] - 69s 252ms/step - loss: 0.0032 - accuracy: 0.9991 - val_loss: 1.5133 - val_accuracy: 0.8725\n",
            "Epoch 6/10\n",
            "274/274 [==============================] - 71s 258ms/step - loss: 0.0025 - accuracy: 0.9992 - val_loss: 1.6782 - val_accuracy: 0.8705\n",
            "Epoch 7/10\n",
            "274/274 [==============================] - 71s 260ms/step - loss: 0.0034 - accuracy: 0.9987 - val_loss: 1.6018 - val_accuracy: 0.8700\n",
            "Epoch 8/10\n",
            "274/274 [==============================] - 70s 255ms/step - loss: 0.0032 - accuracy: 0.9988 - val_loss: 1.4996 - val_accuracy: 0.8715\n",
            "Epoch 9/10\n",
            "274/274 [==============================] - 70s 254ms/step - loss: 0.0020 - accuracy: 0.9993 - val_loss: 1.7245 - val_accuracy: 0.8726\n",
            "Epoch 10/10\n",
            "274/274 [==============================] - 69s 252ms/step - loss: 0.0020 - accuracy: 0.9993 - val_loss: 1.7234 - val_accuracy: 0.8706\n",
            "157/157 [==============================] - 4s 24ms/step - loss: 1.6415 - accuracy: 0.8794\n",
            "              precision    recall  f1-score   support\n",
            "\n",
            "           0       0.87      0.88      0.88      2463\n",
            "           1       0.89      0.88      0.88      2537\n",
            "\n",
            "    accuracy                           0.88      5000\n",
            "   macro avg       0.88      0.88      0.88      5000\n",
            "weighted avg       0.88      0.88      0.88      5000\n",
            "\n"
          ],
          "name": "stdout"
        },
        {
          "output_type": "stream",
          "text": [
            "WARNING:absl:Found untraced functions such as gru_cell_25_layer_call_fn, gru_cell_25_layer_call_and_return_conditional_losses, gru_cell_26_layer_call_fn, gru_cell_26_layer_call_and_return_conditional_losses, gru_cell_25_layer_call_fn while saving (showing 5 of 10). These functions will not be directly callable after loading.\n"
          ],
          "name": "stderr"
        },
        {
          "output_type": "stream",
          "text": [
            "INFO:tensorflow:Assets written to: drive/MyDrive/ml_project/IMDB/models/IMDB_BiGRUAtt_HP_complete/16_0.4_rmsprop/assets\n"
          ],
          "name": "stdout"
        },
        {
          "output_type": "stream",
          "text": [
            "INFO:tensorflow:Assets written to: drive/MyDrive/ml_project/IMDB/models/IMDB_BiGRUAtt_HP_complete/16_0.4_rmsprop/assets\n"
          ],
          "name": "stderr"
        },
        {
          "output_type": "stream",
          "text": [
            "esecuzione:  8\n",
            "{'dropout': 0.5, 'num_units': 16, 'optimizer': 'adam'}\n",
            "Epoch 1/10\n",
            "274/274 [==============================] - 85s 296ms/step - loss: 0.1754 - accuracy: 0.9410 - val_loss: 0.6977 - val_accuracy: 0.8788\n",
            "Epoch 2/10\n",
            "274/274 [==============================] - 80s 291ms/step - loss: 0.0100 - accuracy: 0.9965 - val_loss: 0.8989 - val_accuracy: 0.8764\n",
            "Epoch 3/10\n",
            "274/274 [==============================] - 76s 278ms/step - loss: 0.0073 - accuracy: 0.9975 - val_loss: 0.9764 - val_accuracy: 0.8713\n",
            "Epoch 4/10\n",
            "274/274 [==============================] - 78s 286ms/step - loss: 0.0059 - accuracy: 0.9978 - val_loss: 1.0276 - val_accuracy: 0.8724\n",
            "Epoch 5/10\n",
            "274/274 [==============================] - 78s 284ms/step - loss: 0.0037 - accuracy: 0.9987 - val_loss: 1.1509 - val_accuracy: 0.8739\n",
            "Epoch 6/10\n",
            "274/274 [==============================] - 80s 291ms/step - loss: 0.0050 - accuracy: 0.9983 - val_loss: 1.1442 - val_accuracy: 0.8711\n",
            "Epoch 7/10\n",
            "274/274 [==============================] - 77s 280ms/step - loss: 0.0029 - accuracy: 0.9989 - val_loss: 1.2937 - val_accuracy: 0.8718\n",
            "Epoch 8/10\n",
            "274/274 [==============================] - 79s 288ms/step - loss: 0.0034 - accuracy: 0.9987 - val_loss: 1.2782 - val_accuracy: 0.8719\n",
            "Epoch 9/10\n",
            "274/274 [==============================] - 86s 312ms/step - loss: 0.0041 - accuracy: 0.9987 - val_loss: 1.2381 - val_accuracy: 0.8740\n",
            "Epoch 10/10\n",
            "274/274 [==============================] - 83s 302ms/step - loss: 0.0023 - accuracy: 0.9992 - val_loss: 1.4057 - val_accuracy: 0.8706\n",
            "157/157 [==============================] - 4s 23ms/step - loss: 1.3371 - accuracy: 0.8750\n",
            "              precision    recall  f1-score   support\n",
            "\n",
            "           0       0.85      0.91      0.88      2463\n",
            "           1       0.90      0.84      0.87      2537\n",
            "\n",
            "    accuracy                           0.88      5000\n",
            "   macro avg       0.88      0.88      0.87      5000\n",
            "weighted avg       0.88      0.88      0.87      5000\n",
            "\n"
          ],
          "name": "stdout"
        },
        {
          "output_type": "stream",
          "text": [
            "WARNING:absl:Found untraced functions such as gru_cell_28_layer_call_fn, gru_cell_28_layer_call_and_return_conditional_losses, gru_cell_29_layer_call_fn, gru_cell_29_layer_call_and_return_conditional_losses, gru_cell_28_layer_call_fn while saving (showing 5 of 10). These functions will not be directly callable after loading.\n"
          ],
          "name": "stderr"
        },
        {
          "output_type": "stream",
          "text": [
            "INFO:tensorflow:Assets written to: drive/MyDrive/ml_project/IMDB/models/IMDB_BiGRUAtt_HP_complete/16_0.5_adam/assets\n"
          ],
          "name": "stdout"
        },
        {
          "output_type": "stream",
          "text": [
            "INFO:tensorflow:Assets written to: drive/MyDrive/ml_project/IMDB/models/IMDB_BiGRUAtt_HP_complete/16_0.5_adam/assets\n"
          ],
          "name": "stderr"
        },
        {
          "output_type": "stream",
          "text": [
            "esecuzione:  9\n",
            "{'dropout': 0.5, 'num_units': 16, 'optimizer': 'rmsprop'}\n",
            "Epoch 1/10\n",
            "274/274 [==============================] - 76s 262ms/step - loss: 0.1601 - accuracy: 0.9466 - val_loss: 0.7269 - val_accuracy: 0.8813\n",
            "Epoch 2/10\n",
            "274/274 [==============================] - 71s 258ms/step - loss: 0.0103 - accuracy: 0.9962 - val_loss: 1.0148 - val_accuracy: 0.8751\n",
            "Epoch 3/10\n",
            "274/274 [==============================] - 72s 264ms/step - loss: 0.0053 - accuracy: 0.9980 - val_loss: 1.3312 - val_accuracy: 0.8707\n",
            "Epoch 4/10\n",
            "274/274 [==============================] - 77s 279ms/step - loss: 0.0043 - accuracy: 0.9987 - val_loss: 1.3532 - val_accuracy: 0.8723\n",
            "Epoch 5/10\n",
            "274/274 [==============================] - 76s 279ms/step - loss: 0.0030 - accuracy: 0.9989 - val_loss: 1.5088 - val_accuracy: 0.8743\n",
            "Epoch 6/10\n",
            "274/274 [==============================] - 77s 281ms/step - loss: 0.0035 - accuracy: 0.9986 - val_loss: 1.4863 - val_accuracy: 0.8754\n",
            "Epoch 7/10\n",
            "274/274 [==============================] - 78s 285ms/step - loss: 0.0026 - accuracy: 0.9991 - val_loss: 1.5885 - val_accuracy: 0.8727\n",
            "Epoch 8/10\n",
            "274/274 [==============================] - 73s 267ms/step - loss: 0.0038 - accuracy: 0.9988 - val_loss: 1.5210 - val_accuracy: 0.8742\n",
            "Epoch 9/10\n",
            "274/274 [==============================] - 71s 260ms/step - loss: 0.0032 - accuracy: 0.9990 - val_loss: 1.5219 - val_accuracy: 0.8721\n",
            "Epoch 10/10\n",
            "274/274 [==============================] - 71s 259ms/step - loss: 0.0035 - accuracy: 0.9990 - val_loss: 1.4754 - val_accuracy: 0.8752\n",
            "157/157 [==============================] - 5s 30ms/step - loss: 1.4048 - accuracy: 0.8760\n",
            "              precision    recall  f1-score   support\n",
            "\n",
            "           0       0.85      0.90      0.88      2463\n",
            "           1       0.90      0.85      0.87      2537\n",
            "\n",
            "    accuracy                           0.88      5000\n",
            "   macro avg       0.88      0.88      0.88      5000\n",
            "weighted avg       0.88      0.88      0.88      5000\n",
            "\n"
          ],
          "name": "stdout"
        },
        {
          "output_type": "stream",
          "text": [
            "WARNING:absl:Found untraced functions such as gru_cell_31_layer_call_fn, gru_cell_31_layer_call_and_return_conditional_losses, gru_cell_32_layer_call_fn, gru_cell_32_layer_call_and_return_conditional_losses, gru_cell_31_layer_call_fn while saving (showing 5 of 10). These functions will not be directly callable after loading.\n"
          ],
          "name": "stderr"
        },
        {
          "output_type": "stream",
          "text": [
            "INFO:tensorflow:Assets written to: drive/MyDrive/ml_project/IMDB/models/IMDB_BiGRUAtt_HP_complete/16_0.5_rmsprop/assets\n"
          ],
          "name": "stdout"
        },
        {
          "output_type": "stream",
          "text": [
            "INFO:tensorflow:Assets written to: drive/MyDrive/ml_project/IMDB/models/IMDB_BiGRUAtt_HP_complete/16_0.5_rmsprop/assets\n"
          ],
          "name": "stderr"
        },
        {
          "output_type": "stream",
          "text": [
            "esecuzione:  10\n",
            "{'dropout': 0.6, 'num_units': 16, 'optimizer': 'adam'}\n",
            "Epoch 1/10\n",
            "274/274 [==============================] - 85s 294ms/step - loss: 0.1804 - accuracy: 0.9471 - val_loss: 0.6332 - val_accuracy: 0.8800\n",
            "Epoch 2/10\n",
            "274/274 [==============================] - 78s 283ms/step - loss: 0.0160 - accuracy: 0.9946 - val_loss: 0.8228 - val_accuracy: 0.8742\n",
            "Epoch 3/10\n",
            "274/274 [==============================] - 80s 293ms/step - loss: 0.0103 - accuracy: 0.9965 - val_loss: 0.9072 - val_accuracy: 0.8715\n",
            "Epoch 4/10\n",
            "274/274 [==============================] - 79s 288ms/step - loss: 0.0072 - accuracy: 0.9975 - val_loss: 1.0059 - val_accuracy: 0.8745\n",
            "Epoch 5/10\n",
            "274/274 [==============================] - 80s 291ms/step - loss: 0.0063 - accuracy: 0.9975 - val_loss: 1.0590 - val_accuracy: 0.8706\n",
            "Epoch 6/10\n",
            "274/274 [==============================] - 83s 305ms/step - loss: 0.0061 - accuracy: 0.9979 - val_loss: 1.0811 - val_accuracy: 0.8701\n",
            "Epoch 7/10\n",
            "274/274 [==============================] - 80s 292ms/step - loss: 0.0045 - accuracy: 0.9987 - val_loss: 1.1386 - val_accuracy: 0.8719\n",
            "Epoch 8/10\n",
            "274/274 [==============================] - 78s 286ms/step - loss: 0.0049 - accuracy: 0.9982 - val_loss: 1.1381 - val_accuracy: 0.8723\n",
            "Epoch 9/10\n",
            "274/274 [==============================] - 78s 285ms/step - loss: 0.0044 - accuracy: 0.9983 - val_loss: 1.1757 - val_accuracy: 0.8710\n",
            "Epoch 10/10\n",
            "274/274 [==============================] - 78s 283ms/step - loss: 0.0039 - accuracy: 0.9988 - val_loss: 1.2366 - val_accuracy: 0.8699\n",
            "157/157 [==============================] - 4s 24ms/step - loss: 1.1374 - accuracy: 0.8794\n",
            "              precision    recall  f1-score   support\n",
            "\n",
            "           0       0.89      0.86      0.88      2463\n",
            "           1       0.87      0.90      0.88      2537\n",
            "\n",
            "    accuracy                           0.88      5000\n",
            "   macro avg       0.88      0.88      0.88      5000\n",
            "weighted avg       0.88      0.88      0.88      5000\n",
            "\n"
          ],
          "name": "stdout"
        },
        {
          "output_type": "stream",
          "text": [
            "WARNING:absl:Found untraced functions such as gru_cell_34_layer_call_fn, gru_cell_34_layer_call_and_return_conditional_losses, gru_cell_35_layer_call_fn, gru_cell_35_layer_call_and_return_conditional_losses, gru_cell_34_layer_call_fn while saving (showing 5 of 10). These functions will not be directly callable after loading.\n"
          ],
          "name": "stderr"
        },
        {
          "output_type": "stream",
          "text": [
            "INFO:tensorflow:Assets written to: drive/MyDrive/ml_project/IMDB/models/IMDB_BiGRUAtt_HP_complete/16_0.6_adam/assets\n"
          ],
          "name": "stdout"
        },
        {
          "output_type": "stream",
          "text": [
            "INFO:tensorflow:Assets written to: drive/MyDrive/ml_project/IMDB/models/IMDB_BiGRUAtt_HP_complete/16_0.6_adam/assets\n"
          ],
          "name": "stderr"
        },
        {
          "output_type": "stream",
          "text": [
            "esecuzione:  11\n",
            "{'dropout': 0.6, 'num_units': 16, 'optimizer': 'rmsprop'}\n",
            "Epoch 1/10\n",
            "274/274 [==============================] - 76s 263ms/step - loss: 0.1880 - accuracy: 0.9379 - val_loss: 0.7416 - val_accuracy: 0.8814\n",
            "Epoch 2/10\n",
            "274/274 [==============================] - 78s 285ms/step - loss: 0.0113 - accuracy: 0.9961 - val_loss: 1.0126 - val_accuracy: 0.8785\n",
            "Epoch 3/10\n",
            "274/274 [==============================] - 79s 289ms/step - loss: 0.0070 - accuracy: 0.9977 - val_loss: 1.4623 - val_accuracy: 0.8550\n",
            "Epoch 4/10\n",
            "274/274 [==============================] - 72s 261ms/step - loss: 0.0085 - accuracy: 0.9972 - val_loss: 1.0484 - val_accuracy: 0.8739\n",
            "Epoch 5/10\n",
            "274/274 [==============================] - 72s 262ms/step - loss: 0.0051 - accuracy: 0.9983 - val_loss: 1.2952 - val_accuracy: 0.8744\n",
            "Epoch 6/10\n",
            "274/274 [==============================] - 70s 257ms/step - loss: 0.0048 - accuracy: 0.9984 - val_loss: 1.4254 - val_accuracy: 0.8752\n",
            "Epoch 7/10\n",
            "274/274 [==============================] - 69s 251ms/step - loss: 0.0060 - accuracy: 0.9980 - val_loss: 1.2994 - val_accuracy: 0.8739\n",
            "Epoch 8/10\n",
            "274/274 [==============================] - 72s 264ms/step - loss: 0.0042 - accuracy: 0.9989 - val_loss: 1.5641 - val_accuracy: 0.8665\n",
            "Epoch 9/10\n",
            "274/274 [==============================] - 73s 267ms/step - loss: 0.0034 - accuracy: 0.9987 - val_loss: 1.5357 - val_accuracy: 0.8740\n",
            "Epoch 10/10\n",
            "274/274 [==============================] - 72s 262ms/step - loss: 0.0040 - accuracy: 0.9986 - val_loss: 1.5536 - val_accuracy: 0.8723\n",
            "157/157 [==============================] - 4s 25ms/step - loss: 1.4962 - accuracy: 0.8810\n",
            "              precision    recall  f1-score   support\n",
            "\n",
            "           0       0.87      0.90      0.88      2463\n",
            "           1       0.90      0.87      0.88      2537\n",
            "\n",
            "    accuracy                           0.88      5000\n",
            "   macro avg       0.88      0.88      0.88      5000\n",
            "weighted avg       0.88      0.88      0.88      5000\n",
            "\n"
          ],
          "name": "stdout"
        },
        {
          "output_type": "stream",
          "text": [
            "WARNING:absl:Found untraced functions such as gru_cell_37_layer_call_fn, gru_cell_37_layer_call_and_return_conditional_losses, gru_cell_38_layer_call_fn, gru_cell_38_layer_call_and_return_conditional_losses, gru_cell_37_layer_call_fn while saving (showing 5 of 10). These functions will not be directly callable after loading.\n"
          ],
          "name": "stderr"
        },
        {
          "output_type": "stream",
          "text": [
            "INFO:tensorflow:Assets written to: drive/MyDrive/ml_project/IMDB/models/IMDB_BiGRUAtt_HP_complete/16_0.6_rmsprop/assets\n"
          ],
          "name": "stdout"
        },
        {
          "output_type": "stream",
          "text": [
            "INFO:tensorflow:Assets written to: drive/MyDrive/ml_project/IMDB/models/IMDB_BiGRUAtt_HP_complete/16_0.6_rmsprop/assets\n"
          ],
          "name": "stderr"
        },
        {
          "output_type": "stream",
          "text": [
            "esecuzione:  12\n",
            "{'dropout': 0.7, 'num_units': 16, 'optimizer': 'adam'}\n",
            "Epoch 1/10\n",
            "274/274 [==============================] - 84s 292ms/step - loss: 0.1863 - accuracy: 0.9378 - val_loss: 0.6909 - val_accuracy: 0.8834\n",
            "Epoch 2/10\n",
            "274/274 [==============================] - 79s 288ms/step - loss: 0.0192 - accuracy: 0.9938 - val_loss: 0.8350 - val_accuracy: 0.8797\n",
            "Epoch 3/10\n",
            "274/274 [==============================] - 77s 280ms/step - loss: 0.0141 - accuracy: 0.9949 - val_loss: 0.8939 - val_accuracy: 0.8755\n",
            "Epoch 4/10\n",
            "274/274 [==============================] - 79s 288ms/step - loss: 0.0119 - accuracy: 0.9957 - val_loss: 0.9560 - val_accuracy: 0.8742\n",
            "Epoch 5/10\n",
            "274/274 [==============================] - 77s 280ms/step - loss: 0.0096 - accuracy: 0.9966 - val_loss: 1.0056 - val_accuracy: 0.8766\n",
            "Epoch 6/10\n",
            "274/274 [==============================] - 79s 287ms/step - loss: 0.0090 - accuracy: 0.9967 - val_loss: 1.0450 - val_accuracy: 0.8752\n",
            "Epoch 7/10\n",
            "274/274 [==============================] - 78s 286ms/step - loss: 0.0095 - accuracy: 0.9966 - val_loss: 1.0318 - val_accuracy: 0.8738\n",
            "Epoch 8/10\n",
            "274/274 [==============================] - 78s 285ms/step - loss: 0.0084 - accuracy: 0.9969 - val_loss: 1.0693 - val_accuracy: 0.8720\n",
            "Epoch 9/10\n",
            "274/274 [==============================] - 80s 292ms/step - loss: 0.0083 - accuracy: 0.9971 - val_loss: 1.0287 - val_accuracy: 0.8745\n",
            "Epoch 10/10\n",
            "274/274 [==============================] - 78s 285ms/step - loss: 0.0076 - accuracy: 0.9970 - val_loss: 1.0734 - val_accuracy: 0.8745\n",
            "157/157 [==============================] - 4s 24ms/step - loss: 1.0080 - accuracy: 0.8810\n",
            "              precision    recall  f1-score   support\n",
            "\n",
            "           0       0.88      0.88      0.88      2463\n",
            "           1       0.89      0.88      0.88      2537\n",
            "\n",
            "    accuracy                           0.88      5000\n",
            "   macro avg       0.88      0.88      0.88      5000\n",
            "weighted avg       0.88      0.88      0.88      5000\n",
            "\n"
          ],
          "name": "stdout"
        },
        {
          "output_type": "stream",
          "text": [
            "WARNING:absl:Found untraced functions such as gru_cell_40_layer_call_fn, gru_cell_40_layer_call_and_return_conditional_losses, gru_cell_41_layer_call_fn, gru_cell_41_layer_call_and_return_conditional_losses, gru_cell_40_layer_call_fn while saving (showing 5 of 10). These functions will not be directly callable after loading.\n"
          ],
          "name": "stderr"
        },
        {
          "output_type": "stream",
          "text": [
            "INFO:tensorflow:Assets written to: drive/MyDrive/ml_project/IMDB/models/IMDB_BiGRUAtt_HP_complete/16_0.7_adam/assets\n"
          ],
          "name": "stdout"
        },
        {
          "output_type": "stream",
          "text": [
            "INFO:tensorflow:Assets written to: drive/MyDrive/ml_project/IMDB/models/IMDB_BiGRUAtt_HP_complete/16_0.7_adam/assets\n"
          ],
          "name": "stderr"
        },
        {
          "output_type": "stream",
          "text": [
            "esecuzione:  13\n",
            "{'dropout': 0.7, 'num_units': 16, 'optimizer': 'rmsprop'}\n",
            "Epoch 1/10\n",
            "274/274 [==============================] - 85s 292ms/step - loss: 0.1872 - accuracy: 0.9383 - val_loss: 0.8018 - val_accuracy: 0.8771\n",
            "Epoch 2/10\n",
            "274/274 [==============================] - 69s 252ms/step - loss: 0.0200 - accuracy: 0.9926 - val_loss: 1.0010 - val_accuracy: 0.8778\n",
            "Epoch 3/10\n",
            "274/274 [==============================] - 69s 252ms/step - loss: 0.0140 - accuracy: 0.9951 - val_loss: 1.0162 - val_accuracy: 0.8755\n",
            "Epoch 4/10\n",
            "274/274 [==============================] - 70s 254ms/step - loss: 0.0124 - accuracy: 0.9963 - val_loss: 1.0457 - val_accuracy: 0.8746\n",
            "Epoch 5/10\n",
            "274/274 [==============================] - 70s 256ms/step - loss: 0.0092 - accuracy: 0.9967 - val_loss: 1.1629 - val_accuracy: 0.8775\n",
            "Epoch 6/10\n",
            "274/274 [==============================] - 70s 255ms/step - loss: 0.0093 - accuracy: 0.9966 - val_loss: 1.1127 - val_accuracy: 0.8764\n",
            "Epoch 7/10\n",
            "274/274 [==============================] - 70s 254ms/step - loss: 0.0091 - accuracy: 0.9970 - val_loss: 1.1506 - val_accuracy: 0.8735\n",
            "Epoch 8/10\n",
            "274/274 [==============================] - 70s 255ms/step - loss: 0.0092 - accuracy: 0.9969 - val_loss: 1.2236 - val_accuracy: 0.8714\n",
            "Epoch 9/10\n",
            "274/274 [==============================] - 70s 254ms/step - loss: 0.0068 - accuracy: 0.9976 - val_loss: 1.2332 - val_accuracy: 0.8710\n",
            "Epoch 10/10\n",
            "274/274 [==============================] - 72s 261ms/step - loss: 0.0070 - accuracy: 0.9974 - val_loss: 1.1785 - val_accuracy: 0.8755\n",
            "157/157 [==============================] - 4s 24ms/step - loss: 1.1209 - accuracy: 0.8786\n",
            "              precision    recall  f1-score   support\n",
            "\n",
            "           0       0.87      0.89      0.88      2463\n",
            "           1       0.89      0.87      0.88      2537\n",
            "\n",
            "    accuracy                           0.88      5000\n",
            "   macro avg       0.88      0.88      0.88      5000\n",
            "weighted avg       0.88      0.88      0.88      5000\n",
            "\n"
          ],
          "name": "stdout"
        },
        {
          "output_type": "stream",
          "text": [
            "WARNING:absl:Found untraced functions such as gru_cell_43_layer_call_fn, gru_cell_43_layer_call_and_return_conditional_losses, gru_cell_44_layer_call_fn, gru_cell_44_layer_call_and_return_conditional_losses, gru_cell_43_layer_call_fn while saving (showing 5 of 10). These functions will not be directly callable after loading.\n"
          ],
          "name": "stderr"
        },
        {
          "output_type": "stream",
          "text": [
            "INFO:tensorflow:Assets written to: drive/MyDrive/ml_project/IMDB/models/IMDB_BiGRUAtt_HP_complete/16_0.7_rmsprop/assets\n"
          ],
          "name": "stdout"
        },
        {
          "output_type": "stream",
          "text": [
            "INFO:tensorflow:Assets written to: drive/MyDrive/ml_project/IMDB/models/IMDB_BiGRUAtt_HP_complete/16_0.7_rmsprop/assets\n"
          ],
          "name": "stderr"
        },
        {
          "output_type": "stream",
          "text": [
            "esecuzione:  14\n",
            "{'dropout': 0.8, 'num_units': 16, 'optimizer': 'adam'}\n",
            "Epoch 1/10\n",
            "274/274 [==============================] - 84s 293ms/step - loss: 0.2144 - accuracy: 0.9307 - val_loss: 0.7032 - val_accuracy: 0.8843\n",
            "Epoch 2/10\n",
            "274/274 [==============================] - 77s 281ms/step - loss: 0.0350 - accuracy: 0.9867 - val_loss: 0.8142 - val_accuracy: 0.8803\n",
            "Epoch 3/10\n",
            "274/274 [==============================] - 79s 288ms/step - loss: 0.0305 - accuracy: 0.9893 - val_loss: 0.7968 - val_accuracy: 0.8787\n",
            "Epoch 4/10\n",
            "274/274 [==============================] - 85s 309ms/step - loss: 0.0250 - accuracy: 0.9913 - val_loss: 0.8352 - val_accuracy: 0.8754\n",
            "Epoch 5/10\n",
            "274/274 [==============================] - 86s 314ms/step - loss: 0.0233 - accuracy: 0.9912 - val_loss: 0.8542 - val_accuracy: 0.8794\n",
            "Epoch 6/10\n",
            "274/274 [==============================] - 78s 283ms/step - loss: 0.0208 - accuracy: 0.9921 - val_loss: 0.8400 - val_accuracy: 0.8770\n",
            "Epoch 7/10\n",
            "274/274 [==============================] - 80s 292ms/step - loss: 0.0188 - accuracy: 0.9930 - val_loss: 0.8950 - val_accuracy: 0.8790\n",
            "Epoch 8/10\n",
            "274/274 [==============================] - 79s 290ms/step - loss: 0.0198 - accuracy: 0.9932 - val_loss: 0.8559 - val_accuracy: 0.8790\n",
            "Epoch 9/10\n",
            "274/274 [==============================] - 86s 313ms/step - loss: 0.0166 - accuracy: 0.9942 - val_loss: 0.9476 - val_accuracy: 0.8745\n",
            "Epoch 10/10\n",
            "274/274 [==============================] - 78s 286ms/step - loss: 0.0182 - accuracy: 0.9937 - val_loss: 0.8630 - val_accuracy: 0.8786\n",
            "157/157 [==============================] - 4s 24ms/step - loss: 0.8273 - accuracy: 0.8798\n",
            "              precision    recall  f1-score   support\n",
            "\n",
            "           0       0.87      0.90      0.88      2463\n",
            "           1       0.89      0.86      0.88      2537\n",
            "\n",
            "    accuracy                           0.88      5000\n",
            "   macro avg       0.88      0.88      0.88      5000\n",
            "weighted avg       0.88      0.88      0.88      5000\n",
            "\n"
          ],
          "name": "stdout"
        },
        {
          "output_type": "stream",
          "text": [
            "WARNING:absl:Found untraced functions such as gru_cell_46_layer_call_fn, gru_cell_46_layer_call_and_return_conditional_losses, gru_cell_47_layer_call_fn, gru_cell_47_layer_call_and_return_conditional_losses, gru_cell_46_layer_call_fn while saving (showing 5 of 10). These functions will not be directly callable after loading.\n"
          ],
          "name": "stderr"
        },
        {
          "output_type": "stream",
          "text": [
            "INFO:tensorflow:Assets written to: drive/MyDrive/ml_project/IMDB/models/IMDB_BiGRUAtt_HP_complete/16_0.8_adam/assets\n"
          ],
          "name": "stdout"
        },
        {
          "output_type": "stream",
          "text": [
            "INFO:tensorflow:Assets written to: drive/MyDrive/ml_project/IMDB/models/IMDB_BiGRUAtt_HP_complete/16_0.8_adam/assets\n"
          ],
          "name": "stderr"
        },
        {
          "output_type": "stream",
          "text": [
            "esecuzione:  15\n",
            "{'dropout': 0.8, 'num_units': 16, 'optimizer': 'rmsprop'}\n",
            "Epoch 1/10\n",
            "274/274 [==============================] - 77s 267ms/step - loss: 0.1875 - accuracy: 0.9472 - val_loss: 0.7548 - val_accuracy: 0.8845\n",
            "Epoch 2/10\n",
            "274/274 [==============================] - 72s 263ms/step - loss: 0.0293 - accuracy: 0.9889 - val_loss: 0.8693 - val_accuracy: 0.8808\n",
            "Epoch 3/10\n",
            "274/274 [==============================] - 70s 257ms/step - loss: 0.0248 - accuracy: 0.9910 - val_loss: 0.8926 - val_accuracy: 0.8787\n",
            "Epoch 4/10\n",
            "274/274 [==============================] - 70s 255ms/step - loss: 0.0227 - accuracy: 0.9919 - val_loss: 0.8713 - val_accuracy: 0.8782\n",
            "Epoch 5/10\n",
            "274/274 [==============================] - 72s 263ms/step - loss: 0.0200 - accuracy: 0.9927 - val_loss: 0.8952 - val_accuracy: 0.8785\n",
            "Epoch 6/10\n",
            "274/274 [==============================] - 77s 280ms/step - loss: 0.0181 - accuracy: 0.9937 - val_loss: 0.9294 - val_accuracy: 0.8800\n",
            "Epoch 7/10\n",
            "274/274 [==============================] - 76s 278ms/step - loss: 0.0182 - accuracy: 0.9937 - val_loss: 0.8939 - val_accuracy: 0.8800\n",
            "Epoch 8/10\n",
            "274/274 [==============================] - 71s 261ms/step - loss: 0.0168 - accuracy: 0.9939 - val_loss: 0.9572 - val_accuracy: 0.8755\n",
            "Epoch 9/10\n",
            "274/274 [==============================] - 70s 254ms/step - loss: 0.0166 - accuracy: 0.9939 - val_loss: 0.9216 - val_accuracy: 0.8769\n",
            "Epoch 10/10\n",
            "274/274 [==============================] - 71s 259ms/step - loss: 0.0151 - accuracy: 0.9946 - val_loss: 0.9413 - val_accuracy: 0.8770\n",
            "157/157 [==============================] - 5s 30ms/step - loss: 0.8893 - accuracy: 0.8828\n",
            "              precision    recall  f1-score   support\n",
            "\n",
            "           0       0.90      0.86      0.88      2463\n",
            "           1       0.87      0.91      0.89      2537\n",
            "\n",
            "    accuracy                           0.88      5000\n",
            "   macro avg       0.88      0.88      0.88      5000\n",
            "weighted avg       0.88      0.88      0.88      5000\n",
            "\n"
          ],
          "name": "stdout"
        },
        {
          "output_type": "stream",
          "text": [
            "WARNING:absl:Found untraced functions such as gru_cell_49_layer_call_fn, gru_cell_49_layer_call_and_return_conditional_losses, gru_cell_50_layer_call_fn, gru_cell_50_layer_call_and_return_conditional_losses, gru_cell_49_layer_call_fn while saving (showing 5 of 10). These functions will not be directly callable after loading.\n"
          ],
          "name": "stderr"
        },
        {
          "output_type": "stream",
          "text": [
            "INFO:tensorflow:Assets written to: drive/MyDrive/ml_project/IMDB/models/IMDB_BiGRUAtt_HP_complete/16_0.8_rmsprop/assets\n"
          ],
          "name": "stdout"
        },
        {
          "output_type": "stream",
          "text": [
            "INFO:tensorflow:Assets written to: drive/MyDrive/ml_project/IMDB/models/IMDB_BiGRUAtt_HP_complete/16_0.8_rmsprop/assets\n"
          ],
          "name": "stderr"
        },
        {
          "output_type": "stream",
          "text": [
            "esecuzione:  16\n",
            "{'dropout': 0.9, 'num_units': 16, 'optimizer': 'adam'}\n",
            "Epoch 1/10\n",
            "274/274 [==============================] - 91s 315ms/step - loss: 0.2727 - accuracy: 0.8933 - val_loss: 0.5999 - val_accuracy: 0.8847\n",
            "Epoch 2/10\n",
            "274/274 [==============================] - 86s 314ms/step - loss: 0.0963 - accuracy: 0.9623 - val_loss: 0.6743 - val_accuracy: 0.8846\n",
            "Epoch 3/10\n",
            "274/274 [==============================] - 86s 313ms/step - loss: 0.0818 - accuracy: 0.9689 - val_loss: 0.6439 - val_accuracy: 0.8831\n",
            "Epoch 4/10\n",
            "274/274 [==============================] - 86s 314ms/step - loss: 0.0764 - accuracy: 0.9716 - val_loss: 0.6552 - val_accuracy: 0.8834\n",
            "Epoch 5/10\n",
            "274/274 [==============================] - 79s 287ms/step - loss: 0.0693 - accuracy: 0.9738 - val_loss: 0.6628 - val_accuracy: 0.8844\n",
            "Epoch 6/10\n",
            "274/274 [==============================] - 79s 287ms/step - loss: 0.0683 - accuracy: 0.9751 - val_loss: 0.6515 - val_accuracy: 0.8838\n",
            "Epoch 7/10\n",
            "274/274 [==============================] - 79s 289ms/step - loss: 0.0636 - accuracy: 0.9756 - val_loss: 0.6715 - val_accuracy: 0.8831\n",
            "Epoch 8/10\n",
            "274/274 [==============================] - 78s 286ms/step - loss: 0.0614 - accuracy: 0.9765 - val_loss: 0.6589 - val_accuracy: 0.8849\n",
            "Epoch 9/10\n",
            "274/274 [==============================] - 78s 285ms/step - loss: 0.0580 - accuracy: 0.9785 - val_loss: 0.6410 - val_accuracy: 0.8854\n",
            "Epoch 10/10\n",
            "274/274 [==============================] - 81s 294ms/step - loss: 0.0596 - accuracy: 0.9774 - val_loss: 0.6252 - val_accuracy: 0.8856\n",
            "157/157 [==============================] - 5s 29ms/step - loss: 0.6019 - accuracy: 0.8904\n",
            "              precision    recall  f1-score   support\n",
            "\n",
            "           0       0.89      0.89      0.89      2463\n",
            "           1       0.89      0.89      0.89      2537\n",
            "\n",
            "    accuracy                           0.89      5000\n",
            "   macro avg       0.89      0.89      0.89      5000\n",
            "weighted avg       0.89      0.89      0.89      5000\n",
            "\n"
          ],
          "name": "stdout"
        },
        {
          "output_type": "stream",
          "text": [
            "WARNING:absl:Found untraced functions such as gru_cell_52_layer_call_fn, gru_cell_52_layer_call_and_return_conditional_losses, gru_cell_53_layer_call_fn, gru_cell_53_layer_call_and_return_conditional_losses, gru_cell_52_layer_call_fn while saving (showing 5 of 10). These functions will not be directly callable after loading.\n"
          ],
          "name": "stderr"
        },
        {
          "output_type": "stream",
          "text": [
            "INFO:tensorflow:Assets written to: drive/MyDrive/ml_project/IMDB/models/IMDB_BiGRUAtt_HP_complete/16_0.9_adam/assets\n"
          ],
          "name": "stdout"
        },
        {
          "output_type": "stream",
          "text": [
            "INFO:tensorflow:Assets written to: drive/MyDrive/ml_project/IMDB/models/IMDB_BiGRUAtt_HP_complete/16_0.9_adam/assets\n"
          ],
          "name": "stderr"
        },
        {
          "output_type": "stream",
          "text": [
            "esecuzione:  17\n",
            "{'dropout': 0.9, 'num_units': 16, 'optimizer': 'rmsprop'}\n",
            "Epoch 1/10\n",
            "274/274 [==============================] - 79s 268ms/step - loss: 0.2985 - accuracy: 0.8876 - val_loss: 0.5326 - val_accuracy: 0.8837\n",
            "Epoch 2/10\n",
            "274/274 [==============================] - 73s 266ms/step - loss: 0.1060 - accuracy: 0.9591 - val_loss: 0.6267 - val_accuracy: 0.8830\n",
            "Epoch 3/10\n",
            "274/274 [==============================] - 72s 263ms/step - loss: 0.0797 - accuracy: 0.9691 - val_loss: 0.6739 - val_accuracy: 0.8835\n",
            "Epoch 4/10\n",
            "274/274 [==============================] - 71s 260ms/step - loss: 0.0719 - accuracy: 0.9714 - val_loss: 0.6459 - val_accuracy: 0.8827\n",
            "Epoch 5/10\n",
            "274/274 [==============================] - 70s 255ms/step - loss: 0.0643 - accuracy: 0.9760 - val_loss: 0.6466 - val_accuracy: 0.8857\n",
            "Epoch 6/10\n",
            "274/274 [==============================] - 71s 260ms/step - loss: 0.0617 - accuracy: 0.9769 - val_loss: 0.6492 - val_accuracy: 0.8861\n",
            "Epoch 7/10\n",
            "274/274 [==============================] - 70s 257ms/step - loss: 0.0583 - accuracy: 0.9781 - val_loss: 0.6337 - val_accuracy: 0.8851\n",
            "Epoch 8/10\n",
            "274/274 [==============================] - 71s 259ms/step - loss: 0.0550 - accuracy: 0.9800 - val_loss: 0.6361 - val_accuracy: 0.8850\n",
            "Epoch 9/10\n",
            "274/274 [==============================] - 72s 263ms/step - loss: 0.0541 - accuracy: 0.9793 - val_loss: 0.6528 - val_accuracy: 0.8844\n",
            "Epoch 10/10\n",
            "274/274 [==============================] - 78s 286ms/step - loss: 0.0536 - accuracy: 0.9805 - val_loss: 0.6485 - val_accuracy: 0.8853\n",
            "157/157 [==============================] - 4s 25ms/step - loss: 0.6103 - accuracy: 0.8922\n",
            "              precision    recall  f1-score   support\n",
            "\n",
            "           0       0.90      0.88      0.89      2463\n",
            "           1       0.88      0.91      0.90      2537\n",
            "\n",
            "    accuracy                           0.89      5000\n",
            "   macro avg       0.89      0.89      0.89      5000\n",
            "weighted avg       0.89      0.89      0.89      5000\n",
            "\n"
          ],
          "name": "stdout"
        },
        {
          "output_type": "stream",
          "text": [
            "WARNING:absl:Found untraced functions such as gru_cell_55_layer_call_fn, gru_cell_55_layer_call_and_return_conditional_losses, gru_cell_56_layer_call_fn, gru_cell_56_layer_call_and_return_conditional_losses, gru_cell_55_layer_call_fn while saving (showing 5 of 10). These functions will not be directly callable after loading.\n"
          ],
          "name": "stderr"
        },
        {
          "output_type": "stream",
          "text": [
            "INFO:tensorflow:Assets written to: drive/MyDrive/ml_project/IMDB/models/IMDB_BiGRUAtt_HP_complete/16_0.9_rmsprop/assets\n"
          ],
          "name": "stdout"
        },
        {
          "output_type": "stream",
          "text": [
            "INFO:tensorflow:Assets written to: drive/MyDrive/ml_project/IMDB/models/IMDB_BiGRUAtt_HP_complete/16_0.9_rmsprop/assets\n"
          ],
          "name": "stderr"
        }
      ]
    },
    {
      "cell_type": "code",
      "metadata": {
        "colab": {
          "base_uri": "https://localhost:8080/"
        },
        "id": "HNyOPUcqkZIN",
        "outputId": "6c0b3e5c-f1f6-43eb-981c-75ff66af36ed"
      },
      "source": [
        "n_esecuzione = 18\n",
        "for num_units in HP_NUM_UNITS.domain.values:\n",
        "        for dropout in HP_DROPOUT.domain.values:\n",
        "            for opt in HP_OPTIMIZER.domain.values:\n",
        "                hparams = {\n",
        "                    HP_DROPOUT: dropout,\n",
        "                    HP_NUM_UNITS: num_units,\n",
        "                    HP_OPTIMIZER: opt,\n",
        "                    }\n",
        "                print(\"esecuzione: \", n_esecuzione)\n",
        "                print({h.name: hparams[h] for h in hparams})\n",
        "                run(log_dir + \"/esecuzione_{}\".format(n_esecuzione), hparams)\n",
        "                n_esecuzione += 1 "
      ],
      "execution_count": 20,
      "outputs": [
        {
          "output_type": "stream",
          "text": [
            "esecuzione:  18\n",
            "{'dropout': 0.1, 'num_units': 32, 'optimizer': 'adam'}\n",
            "Epoch 1/8\n",
            "274/274 [==============================] - 34s 89ms/step - loss: 0.4329 - accuracy: 0.7911 - val_loss: 0.3099 - val_accuracy: 0.8680\n",
            "Epoch 2/8\n",
            "274/274 [==============================] - 22s 80ms/step - loss: 0.2467 - accuracy: 0.9006 - val_loss: 0.2550 - val_accuracy: 0.8950\n",
            "Epoch 3/8\n",
            "274/274 [==============================] - 22s 79ms/step - loss: 0.1704 - accuracy: 0.9352 - val_loss: 0.2665 - val_accuracy: 0.8948\n",
            "Epoch 4/8\n",
            "274/274 [==============================] - 22s 79ms/step - loss: 0.1033 - accuracy: 0.9623 - val_loss: 0.3564 - val_accuracy: 0.8818\n",
            "Epoch 5/8\n",
            "274/274 [==============================] - 21s 78ms/step - loss: 0.0542 - accuracy: 0.9810 - val_loss: 0.3975 - val_accuracy: 0.8884\n",
            "Epoch 6/8\n",
            "274/274 [==============================] - 21s 78ms/step - loss: 0.0292 - accuracy: 0.9907 - val_loss: 0.5015 - val_accuracy: 0.8826\n",
            "Epoch 7/8\n",
            "274/274 [==============================] - 22s 79ms/step - loss: 0.0178 - accuracy: 0.9937 - val_loss: 0.6299 - val_accuracy: 0.8819\n",
            "Epoch 8/8\n",
            "274/274 [==============================] - 22s 79ms/step - loss: 0.0126 - accuracy: 0.9954 - val_loss: 0.7559 - val_accuracy: 0.8804\n",
            "157/157 [==============================] - 1s 8ms/step - loss: 0.7221 - accuracy: 0.8866\n",
            "              precision    recall  f1-score   support\n",
            "\n",
            "           0       0.90      0.87      0.88      2463\n",
            "           1       0.88      0.90      0.89      2537\n",
            "\n",
            "    accuracy                           0.89      5000\n",
            "   macro avg       0.89      0.89      0.89      5000\n",
            "weighted avg       0.89      0.89      0.89      5000\n",
            "\n"
          ],
          "name": "stdout"
        },
        {
          "output_type": "stream",
          "text": [
            "WARNING:absl:Found untraced functions such as gru_cell_1_layer_call_fn, gru_cell_1_layer_call_and_return_conditional_losses, gru_cell_2_layer_call_fn, gru_cell_2_layer_call_and_return_conditional_losses, gru_cell_1_layer_call_fn while saving (showing 5 of 10). These functions will not be directly callable after loading.\n"
          ],
          "name": "stderr"
        },
        {
          "output_type": "stream",
          "text": [
            "INFO:tensorflow:Assets written to: drive/MyDrive/ml_project/IMDB/models/IMDB_BiGRUAtt_HP_complete/32_0.1_adam/assets\n"
          ],
          "name": "stdout"
        },
        {
          "output_type": "stream",
          "text": [
            "INFO:tensorflow:Assets written to: drive/MyDrive/ml_project/IMDB/models/IMDB_BiGRUAtt_HP_complete/32_0.1_adam/assets\n"
          ],
          "name": "stderr"
        },
        {
          "output_type": "stream",
          "text": [
            "esecuzione:  19\n",
            "{'dropout': 0.1, 'num_units': 32, 'optimizer': 'rmsprop'}\n",
            "Epoch 1/8\n",
            "274/274 [==============================] - 17s 52ms/step - loss: 0.2105 - accuracy: 0.9128 - val_loss: 0.3610 - val_accuracy: 0.8892\n",
            "Epoch 2/8\n",
            "274/274 [==============================] - 11s 42ms/step - loss: 0.0517 - accuracy: 0.9810 - val_loss: 0.5138 - val_accuracy: 0.8845\n",
            "Epoch 3/8\n",
            "274/274 [==============================] - 12s 43ms/step - loss: 0.0283 - accuracy: 0.9896 - val_loss: 0.6044 - val_accuracy: 0.8814\n",
            "Epoch 4/8\n",
            "274/274 [==============================] - 12s 43ms/step - loss: 0.0187 - accuracy: 0.9934 - val_loss: 0.7149 - val_accuracy: 0.8790\n",
            "Epoch 5/8\n",
            "274/274 [==============================] - 11s 41ms/step - loss: 0.0117 - accuracy: 0.9958 - val_loss: 0.8791 - val_accuracy: 0.8618\n",
            "Epoch 6/8\n",
            "274/274 [==============================] - 11s 41ms/step - loss: 0.0104 - accuracy: 0.9963 - val_loss: 0.7784 - val_accuracy: 0.8799\n",
            "Epoch 7/8\n",
            "274/274 [==============================] - 11s 42ms/step - loss: 0.0086 - accuracy: 0.9973 - val_loss: 0.9393 - val_accuracy: 0.8784\n",
            "Epoch 8/8\n",
            "274/274 [==============================] - 11s 41ms/step - loss: 0.0062 - accuracy: 0.9979 - val_loss: 1.0248 - val_accuracy: 0.8814\n",
            "157/157 [==============================] - 1s 8ms/step - loss: 1.0025 - accuracy: 0.8858\n",
            "              precision    recall  f1-score   support\n",
            "\n",
            "           0       0.88      0.89      0.89      2463\n",
            "           1       0.89      0.88      0.89      2537\n",
            "\n",
            "    accuracy                           0.89      5000\n",
            "   macro avg       0.89      0.89      0.89      5000\n",
            "weighted avg       0.89      0.89      0.89      5000\n",
            "\n"
          ],
          "name": "stdout"
        },
        {
          "output_type": "stream",
          "text": [
            "WARNING:absl:Found untraced functions such as gru_cell_4_layer_call_fn, gru_cell_4_layer_call_and_return_conditional_losses, gru_cell_5_layer_call_fn, gru_cell_5_layer_call_and_return_conditional_losses, gru_cell_4_layer_call_fn while saving (showing 5 of 10). These functions will not be directly callable after loading.\n"
          ],
          "name": "stderr"
        },
        {
          "output_type": "stream",
          "text": [
            "INFO:tensorflow:Assets written to: drive/MyDrive/ml_project/IMDB/models/IMDB_BiGRUAtt_HP_complete/32_0.1_rmsprop/assets\n"
          ],
          "name": "stdout"
        },
        {
          "output_type": "stream",
          "text": [
            "INFO:tensorflow:Assets written to: drive/MyDrive/ml_project/IMDB/models/IMDB_BiGRUAtt_HP_complete/32_0.1_rmsprop/assets\n"
          ],
          "name": "stderr"
        },
        {
          "output_type": "stream",
          "text": [
            "esecuzione:  20\n",
            "{'dropout': 0.2, 'num_units': 32, 'optimizer': 'adam'}\n",
            "Epoch 1/8\n",
            "274/274 [==============================] - 26s 85ms/step - loss: 0.1646 - accuracy: 0.9393 - val_loss: 0.5739 - val_accuracy: 0.8620\n",
            "Epoch 2/8\n",
            "274/274 [==============================] - 21s 78ms/step - loss: 0.0233 - accuracy: 0.9919 - val_loss: 0.6021 - val_accuracy: 0.8813\n",
            "Epoch 3/8\n",
            "274/274 [==============================] - 21s 77ms/step - loss: 0.0126 - accuracy: 0.9960 - val_loss: 0.8509 - val_accuracy: 0.8767\n",
            "Epoch 4/8\n",
            "274/274 [==============================] - 22s 79ms/step - loss: 0.0091 - accuracy: 0.9972 - val_loss: 0.9053 - val_accuracy: 0.8792\n",
            "Epoch 5/8\n",
            "274/274 [==============================] - 21s 77ms/step - loss: 0.0077 - accuracy: 0.9974 - val_loss: 0.8865 - val_accuracy: 0.8767\n",
            "Epoch 6/8\n",
            "274/274 [==============================] - 21s 77ms/step - loss: 0.0072 - accuracy: 0.9973 - val_loss: 0.9969 - val_accuracy: 0.8701\n",
            "Epoch 7/8\n",
            "274/274 [==============================] - 21s 77ms/step - loss: 0.0067 - accuracy: 0.9974 - val_loss: 0.9884 - val_accuracy: 0.8742\n",
            "Epoch 8/8\n",
            "274/274 [==============================] - 21s 77ms/step - loss: 0.0045 - accuracy: 0.9982 - val_loss: 1.1081 - val_accuracy: 0.8759\n",
            "157/157 [==============================] - 1s 8ms/step - loss: 1.0411 - accuracy: 0.8814\n",
            "              precision    recall  f1-score   support\n",
            "\n",
            "           0       0.88      0.88      0.88      2463\n",
            "           1       0.88      0.88      0.88      2537\n",
            "\n",
            "    accuracy                           0.88      5000\n",
            "   macro avg       0.88      0.88      0.88      5000\n",
            "weighted avg       0.88      0.88      0.88      5000\n",
            "\n"
          ],
          "name": "stdout"
        },
        {
          "output_type": "stream",
          "text": [
            "WARNING:absl:Found untraced functions such as gru_cell_7_layer_call_fn, gru_cell_7_layer_call_and_return_conditional_losses, gru_cell_8_layer_call_fn, gru_cell_8_layer_call_and_return_conditional_losses, gru_cell_7_layer_call_fn while saving (showing 5 of 10). These functions will not be directly callable after loading.\n"
          ],
          "name": "stderr"
        },
        {
          "output_type": "stream",
          "text": [
            "INFO:tensorflow:Assets written to: drive/MyDrive/ml_project/IMDB/models/IMDB_BiGRUAtt_HP_complete/32_0.2_adam/assets\n"
          ],
          "name": "stdout"
        },
        {
          "output_type": "stream",
          "text": [
            "INFO:tensorflow:Assets written to: drive/MyDrive/ml_project/IMDB/models/IMDB_BiGRUAtt_HP_complete/32_0.2_adam/assets\n"
          ],
          "name": "stderr"
        },
        {
          "output_type": "stream",
          "text": [
            "esecuzione:  21\n",
            "{'dropout': 0.2, 'num_units': 32, 'optimizer': 'rmsprop'}\n",
            "Epoch 1/8\n",
            "274/274 [==============================] - 16s 48ms/step - loss: 0.1295 - accuracy: 0.9512 - val_loss: 0.6467 - val_accuracy: 0.8694\n",
            "Epoch 2/8\n",
            "274/274 [==============================] - 11s 41ms/step - loss: 0.0193 - accuracy: 0.9933 - val_loss: 0.7486 - val_accuracy: 0.8803\n",
            "Epoch 3/8\n",
            "274/274 [==============================] - 11s 40ms/step - loss: 0.0099 - accuracy: 0.9967 - val_loss: 0.9771 - val_accuracy: 0.8774\n",
            "Epoch 4/8\n",
            "274/274 [==============================] - 12s 42ms/step - loss: 0.0069 - accuracy: 0.9972 - val_loss: 1.0087 - val_accuracy: 0.8727\n",
            "Epoch 5/8\n",
            "274/274 [==============================] - 11s 40ms/step - loss: 0.0059 - accuracy: 0.9979 - val_loss: 1.0828 - val_accuracy: 0.8747\n",
            "Epoch 6/8\n",
            "274/274 [==============================] - 12s 45ms/step - loss: 0.0038 - accuracy: 0.9987 - val_loss: 1.6474 - val_accuracy: 0.8585\n",
            "Epoch 7/8\n",
            "274/274 [==============================] - 12s 44ms/step - loss: 0.0050 - accuracy: 0.9985 - val_loss: 1.1403 - val_accuracy: 0.8743\n",
            "Epoch 8/8\n",
            "274/274 [==============================] - 11s 41ms/step - loss: 0.0045 - accuracy: 0.9983 - val_loss: 1.0789 - val_accuracy: 0.8733\n",
            "157/157 [==============================] - 2s 10ms/step - loss: 1.0284 - accuracy: 0.8790\n",
            "              precision    recall  f1-score   support\n",
            "\n",
            "           0       0.88      0.87      0.88      2463\n",
            "           1       0.88      0.88      0.88      2537\n",
            "\n",
            "    accuracy                           0.88      5000\n",
            "   macro avg       0.88      0.88      0.88      5000\n",
            "weighted avg       0.88      0.88      0.88      5000\n",
            "\n"
          ],
          "name": "stdout"
        },
        {
          "output_type": "stream",
          "text": [
            "WARNING:absl:Found untraced functions such as gru_cell_10_layer_call_fn, gru_cell_10_layer_call_and_return_conditional_losses, gru_cell_11_layer_call_fn, gru_cell_11_layer_call_and_return_conditional_losses, gru_cell_10_layer_call_fn while saving (showing 5 of 10). These functions will not be directly callable after loading.\n"
          ],
          "name": "stderr"
        },
        {
          "output_type": "stream",
          "text": [
            "INFO:tensorflow:Assets written to: drive/MyDrive/ml_project/IMDB/models/IMDB_BiGRUAtt_HP_complete/32_0.2_rmsprop/assets\n"
          ],
          "name": "stdout"
        },
        {
          "output_type": "stream",
          "text": [
            "INFO:tensorflow:Assets written to: drive/MyDrive/ml_project/IMDB/models/IMDB_BiGRUAtt_HP_complete/32_0.2_rmsprop/assets\n"
          ],
          "name": "stderr"
        },
        {
          "output_type": "stream",
          "text": [
            "esecuzione:  22\n",
            "{'dropout': 0.3, 'num_units': 32, 'optimizer': 'adam'}\n",
            "Epoch 1/8\n",
            "274/274 [==============================] - 26s 84ms/step - loss: 0.1488 - accuracy: 0.9404 - val_loss: 0.6396 - val_accuracy: 0.8825\n",
            "Epoch 2/8\n",
            "274/274 [==============================] - 21s 77ms/step - loss: 0.0115 - accuracy: 0.9958 - val_loss: 0.8780 - val_accuracy: 0.8824\n",
            "Epoch 3/8\n",
            "274/274 [==============================] - 21s 78ms/step - loss: 0.0101 - accuracy: 0.9964 - val_loss: 0.8765 - val_accuracy: 0.8728\n",
            "Epoch 4/8\n",
            "274/274 [==============================] - 21s 77ms/step - loss: 0.0059 - accuracy: 0.9979 - val_loss: 1.0046 - val_accuracy: 0.8747\n",
            "Epoch 5/8\n",
            "274/274 [==============================] - 21s 76ms/step - loss: 0.0050 - accuracy: 0.9983 - val_loss: 1.0786 - val_accuracy: 0.8735\n",
            "Epoch 6/8\n",
            "274/274 [==============================] - 21s 78ms/step - loss: 0.0043 - accuracy: 0.9986 - val_loss: 1.2446 - val_accuracy: 0.8721\n",
            "Epoch 7/8\n",
            "274/274 [==============================] - 21s 78ms/step - loss: 0.0035 - accuracy: 0.9987 - val_loss: 1.2778 - val_accuracy: 0.8749\n",
            "Epoch 8/8\n",
            "274/274 [==============================] - 21s 76ms/step - loss: 0.0039 - accuracy: 0.9987 - val_loss: 1.1572 - val_accuracy: 0.8735\n",
            "157/157 [==============================] - 2s 10ms/step - loss: 1.0952 - accuracy: 0.8810\n",
            "              precision    recall  f1-score   support\n",
            "\n",
            "           0       0.88      0.88      0.88      2463\n",
            "           1       0.88      0.88      0.88      2537\n",
            "\n",
            "    accuracy                           0.88      5000\n",
            "   macro avg       0.88      0.88      0.88      5000\n",
            "weighted avg       0.88      0.88      0.88      5000\n",
            "\n"
          ],
          "name": "stdout"
        },
        {
          "output_type": "stream",
          "text": [
            "WARNING:absl:Found untraced functions such as gru_cell_13_layer_call_fn, gru_cell_13_layer_call_and_return_conditional_losses, gru_cell_14_layer_call_fn, gru_cell_14_layer_call_and_return_conditional_losses, gru_cell_13_layer_call_fn while saving (showing 5 of 10). These functions will not be directly callable after loading.\n"
          ],
          "name": "stderr"
        },
        {
          "output_type": "stream",
          "text": [
            "INFO:tensorflow:Assets written to: drive/MyDrive/ml_project/IMDB/models/IMDB_BiGRUAtt_HP_complete/32_0.3_adam/assets\n"
          ],
          "name": "stdout"
        },
        {
          "output_type": "stream",
          "text": [
            "INFO:tensorflow:Assets written to: drive/MyDrive/ml_project/IMDB/models/IMDB_BiGRUAtt_HP_complete/32_0.3_adam/assets\n"
          ],
          "name": "stderr"
        },
        {
          "output_type": "stream",
          "text": [
            "esecuzione:  23\n",
            "{'dropout': 0.3, 'num_units': 32, 'optimizer': 'rmsprop'}\n",
            "Epoch 1/8\n",
            "274/274 [==============================] - 17s 50ms/step - loss: 0.1207 - accuracy: 0.9534 - val_loss: 0.6624 - val_accuracy: 0.8808\n",
            "Epoch 2/8\n",
            "274/274 [==============================] - 11s 42ms/step - loss: 0.0144 - accuracy: 0.9944 - val_loss: 0.8851 - val_accuracy: 0.8788\n",
            "Epoch 3/8\n",
            "274/274 [==============================] - 11s 41ms/step - loss: 0.0075 - accuracy: 0.9976 - val_loss: 1.0853 - val_accuracy: 0.8790\n",
            "Epoch 4/8\n",
            "274/274 [==============================] - 11s 41ms/step - loss: 0.0062 - accuracy: 0.9977 - val_loss: 1.0745 - val_accuracy: 0.8778\n",
            "Epoch 5/8\n",
            "274/274 [==============================] - 11s 40ms/step - loss: 0.0041 - accuracy: 0.9985 - val_loss: 1.2726 - val_accuracy: 0.8778\n",
            "Epoch 6/8\n",
            "274/274 [==============================] - 11s 41ms/step - loss: 0.0040 - accuracy: 0.9985 - val_loss: 1.2612 - val_accuracy: 0.8729\n",
            "Epoch 7/8\n",
            "274/274 [==============================] - 11s 41ms/step - loss: 0.0032 - accuracy: 0.9989 - val_loss: 1.4497 - val_accuracy: 0.8745\n",
            "Epoch 8/8\n",
            "274/274 [==============================] - 11s 40ms/step - loss: 0.0034 - accuracy: 0.9988 - val_loss: 1.6192 - val_accuracy: 0.8713\n",
            "157/157 [==============================] - 1s 9ms/step - loss: 1.6017 - accuracy: 0.8702\n",
            "              precision    recall  f1-score   support\n",
            "\n",
            "           0       0.84      0.91      0.87      2463\n",
            "           1       0.91      0.83      0.87      2537\n",
            "\n",
            "    accuracy                           0.87      5000\n",
            "   macro avg       0.87      0.87      0.87      5000\n",
            "weighted avg       0.87      0.87      0.87      5000\n",
            "\n"
          ],
          "name": "stdout"
        },
        {
          "output_type": "stream",
          "text": [
            "WARNING:absl:Found untraced functions such as gru_cell_16_layer_call_fn, gru_cell_16_layer_call_and_return_conditional_losses, gru_cell_17_layer_call_fn, gru_cell_17_layer_call_and_return_conditional_losses, gru_cell_16_layer_call_fn while saving (showing 5 of 10). These functions will not be directly callable after loading.\n"
          ],
          "name": "stderr"
        },
        {
          "output_type": "stream",
          "text": [
            "INFO:tensorflow:Assets written to: drive/MyDrive/ml_project/IMDB/models/IMDB_BiGRUAtt_HP_complete/32_0.3_rmsprop/assets\n"
          ],
          "name": "stdout"
        },
        {
          "output_type": "stream",
          "text": [
            "INFO:tensorflow:Assets written to: drive/MyDrive/ml_project/IMDB/models/IMDB_BiGRUAtt_HP_complete/32_0.3_rmsprop/assets\n"
          ],
          "name": "stderr"
        },
        {
          "output_type": "stream",
          "text": [
            "esecuzione:  24\n",
            "{'dropout': 0.4, 'num_units': 32, 'optimizer': 'adam'}\n",
            "Epoch 1/8\n",
            "274/274 [==============================] - 26s 85ms/step - loss: 0.1207 - accuracy: 0.9617 - val_loss: 0.7506 - val_accuracy: 0.8814\n",
            "Epoch 2/8\n",
            "274/274 [==============================] - 21s 77ms/step - loss: 0.0107 - accuracy: 0.9962 - val_loss: 0.9187 - val_accuracy: 0.8763\n",
            "Epoch 3/8\n",
            "274/274 [==============================] - 21s 77ms/step - loss: 0.0059 - accuracy: 0.9980 - val_loss: 1.0568 - val_accuracy: 0.8746\n",
            "Epoch 4/8\n",
            "274/274 [==============================] - 21s 78ms/step - loss: 0.0051 - accuracy: 0.9982 - val_loss: 1.1423 - val_accuracy: 0.8757\n",
            "Epoch 5/8\n",
            "274/274 [==============================] - 22s 79ms/step - loss: 0.0050 - accuracy: 0.9980 - val_loss: 1.1577 - val_accuracy: 0.8750\n",
            "Epoch 6/8\n",
            "274/274 [==============================] - 21s 77ms/step - loss: 0.0053 - accuracy: 0.9981 - val_loss: 1.1289 - val_accuracy: 0.8689\n",
            "Epoch 7/8\n",
            "274/274 [==============================] - 21s 78ms/step - loss: 0.0062 - accuracy: 0.9973 - val_loss: 1.1368 - val_accuracy: 0.8730\n",
            "Epoch 8/8\n",
            "274/274 [==============================] - 21s 78ms/step - loss: 0.0041 - accuracy: 0.9987 - val_loss: 1.1170 - val_accuracy: 0.8720\n",
            "157/157 [==============================] - 1s 9ms/step - loss: 1.0615 - accuracy: 0.8782\n",
            "              precision    recall  f1-score   support\n",
            "\n",
            "           0       0.87      0.88      0.88      2463\n",
            "           1       0.88      0.87      0.88      2537\n",
            "\n",
            "    accuracy                           0.88      5000\n",
            "   macro avg       0.88      0.88      0.88      5000\n",
            "weighted avg       0.88      0.88      0.88      5000\n",
            "\n"
          ],
          "name": "stdout"
        },
        {
          "output_type": "stream",
          "text": [
            "WARNING:absl:Found untraced functions such as gru_cell_19_layer_call_fn, gru_cell_19_layer_call_and_return_conditional_losses, gru_cell_20_layer_call_fn, gru_cell_20_layer_call_and_return_conditional_losses, gru_cell_19_layer_call_fn while saving (showing 5 of 10). These functions will not be directly callable after loading.\n"
          ],
          "name": "stderr"
        },
        {
          "output_type": "stream",
          "text": [
            "INFO:tensorflow:Assets written to: drive/MyDrive/ml_project/IMDB/models/IMDB_BiGRUAtt_HP_complete/32_0.4_adam/assets\n"
          ],
          "name": "stdout"
        },
        {
          "output_type": "stream",
          "text": [
            "INFO:tensorflow:Assets written to: drive/MyDrive/ml_project/IMDB/models/IMDB_BiGRUAtt_HP_complete/32_0.4_adam/assets\n"
          ],
          "name": "stderr"
        },
        {
          "output_type": "stream",
          "text": [
            "esecuzione:  25\n",
            "{'dropout': 0.4, 'num_units': 32, 'optimizer': 'rmsprop'}\n",
            "Epoch 1/8\n",
            "274/274 [==============================] - 16s 48ms/step - loss: 0.0966 - accuracy: 0.9669 - val_loss: 0.9234 - val_accuracy: 0.8673\n",
            "Epoch 2/8\n",
            "274/274 [==============================] - 11s 40ms/step - loss: 0.0107 - accuracy: 0.9964 - val_loss: 1.1311 - val_accuracy: 0.8758\n",
            "Epoch 3/8\n",
            "274/274 [==============================] - 12s 44ms/step - loss: 0.0073 - accuracy: 0.9973 - val_loss: 1.0445 - val_accuracy: 0.8778\n",
            "Epoch 4/8\n",
            "274/274 [==============================] - 11s 40ms/step - loss: 0.0061 - accuracy: 0.9979 - val_loss: 1.1304 - val_accuracy: 0.8771\n",
            "Epoch 5/8\n",
            "274/274 [==============================] - 11s 40ms/step - loss: 0.0052 - accuracy: 0.9979 - val_loss: 1.1864 - val_accuracy: 0.8790\n",
            "Epoch 6/8\n",
            "274/274 [==============================] - 11s 40ms/step - loss: 0.0035 - accuracy: 0.9986 - val_loss: 1.5433 - val_accuracy: 0.8763\n",
            "Epoch 7/8\n",
            "274/274 [==============================] - 11s 40ms/step - loss: 0.0043 - accuracy: 0.9987 - val_loss: 1.2201 - val_accuracy: 0.8748\n",
            "Epoch 8/8\n",
            "274/274 [==============================] - 11s 40ms/step - loss: 0.0030 - accuracy: 0.9989 - val_loss: 1.5472 - val_accuracy: 0.8684\n",
            "157/157 [==============================] - 2s 10ms/step - loss: 1.5142 - accuracy: 0.8682\n",
            "              precision    recall  f1-score   support\n",
            "\n",
            "           0       0.84      0.91      0.87      2463\n",
            "           1       0.91      0.83      0.86      2537\n",
            "\n",
            "    accuracy                           0.87      5000\n",
            "   macro avg       0.87      0.87      0.87      5000\n",
            "weighted avg       0.87      0.87      0.87      5000\n",
            "\n"
          ],
          "name": "stdout"
        },
        {
          "output_type": "stream",
          "text": [
            "WARNING:absl:Found untraced functions such as gru_cell_22_layer_call_fn, gru_cell_22_layer_call_and_return_conditional_losses, gru_cell_23_layer_call_fn, gru_cell_23_layer_call_and_return_conditional_losses, gru_cell_22_layer_call_fn while saving (showing 5 of 10). These functions will not be directly callable after loading.\n"
          ],
          "name": "stderr"
        },
        {
          "output_type": "stream",
          "text": [
            "INFO:tensorflow:Assets written to: drive/MyDrive/ml_project/IMDB/models/IMDB_BiGRUAtt_HP_complete/32_0.4_rmsprop/assets\n"
          ],
          "name": "stdout"
        },
        {
          "output_type": "stream",
          "text": [
            "INFO:tensorflow:Assets written to: drive/MyDrive/ml_project/IMDB/models/IMDB_BiGRUAtt_HP_complete/32_0.4_rmsprop/assets\n"
          ],
          "name": "stderr"
        },
        {
          "output_type": "stream",
          "text": [
            "esecuzione:  26\n",
            "{'dropout': 0.5, 'num_units': 32, 'optimizer': 'adam'}\n",
            "Epoch 1/8\n",
            "274/274 [==============================] - 27s 84ms/step - loss: 0.1189 - accuracy: 0.9572 - val_loss: 0.7993 - val_accuracy: 0.8791\n",
            "Epoch 2/8\n",
            "274/274 [==============================] - 21s 75ms/step - loss: 0.0109 - accuracy: 0.9966 - val_loss: 0.9834 - val_accuracy: 0.8778\n",
            "Epoch 3/8\n",
            "274/274 [==============================] - 21s 75ms/step - loss: 0.0087 - accuracy: 0.9971 - val_loss: 0.9853 - val_accuracy: 0.8722\n",
            "Epoch 4/8\n",
            "274/274 [==============================] - 21s 75ms/step - loss: 0.0070 - accuracy: 0.9975 - val_loss: 1.0061 - val_accuracy: 0.8761\n",
            "Epoch 5/8\n",
            "274/274 [==============================] - 21s 75ms/step - loss: 0.0055 - accuracy: 0.9979 - val_loss: 1.2264 - val_accuracy: 0.8716\n",
            "Epoch 6/8\n",
            "274/274 [==============================] - 21s 75ms/step - loss: 0.0052 - accuracy: 0.9980 - val_loss: 1.1311 - val_accuracy: 0.8721\n",
            "Epoch 7/8\n",
            "274/274 [==============================] - 21s 75ms/step - loss: 0.0070 - accuracy: 0.9974 - val_loss: 1.1362 - val_accuracy: 0.8710\n",
            "Epoch 8/8\n",
            "274/274 [==============================] - 20s 75ms/step - loss: 0.0050 - accuracy: 0.9981 - val_loss: 1.1863 - val_accuracy: 0.8680\n",
            "157/157 [==============================] - 1s 8ms/step - loss: 1.1382 - accuracy: 0.8716\n",
            "              precision    recall  f1-score   support\n",
            "\n",
            "           0       0.84      0.92      0.88      2463\n",
            "           1       0.91      0.83      0.87      2537\n",
            "\n",
            "    accuracy                           0.87      5000\n",
            "   macro avg       0.87      0.87      0.87      5000\n",
            "weighted avg       0.87      0.87      0.87      5000\n",
            "\n"
          ],
          "name": "stdout"
        },
        {
          "output_type": "stream",
          "text": [
            "WARNING:absl:Found untraced functions such as gru_cell_25_layer_call_fn, gru_cell_25_layer_call_and_return_conditional_losses, gru_cell_26_layer_call_fn, gru_cell_26_layer_call_and_return_conditional_losses, gru_cell_25_layer_call_fn while saving (showing 5 of 10). These functions will not be directly callable after loading.\n"
          ],
          "name": "stderr"
        },
        {
          "output_type": "stream",
          "text": [
            "INFO:tensorflow:Assets written to: drive/MyDrive/ml_project/IMDB/models/IMDB_BiGRUAtt_HP_complete/32_0.5_adam/assets\n"
          ],
          "name": "stdout"
        },
        {
          "output_type": "stream",
          "text": [
            "INFO:tensorflow:Assets written to: drive/MyDrive/ml_project/IMDB/models/IMDB_BiGRUAtt_HP_complete/32_0.5_adam/assets\n"
          ],
          "name": "stderr"
        },
        {
          "output_type": "stream",
          "text": [
            "esecuzione:  27\n",
            "{'dropout': 0.5, 'num_units': 32, 'optimizer': 'rmsprop'}\n",
            "Epoch 1/8\n",
            "274/274 [==============================] - 16s 47ms/step - loss: 0.0984 - accuracy: 0.9655 - val_loss: 0.8894 - val_accuracy: 0.8810\n",
            "Epoch 2/8\n",
            "274/274 [==============================] - 11s 40ms/step - loss: 0.0138 - accuracy: 0.9950 - val_loss: 1.2604 - val_accuracy: 0.8577\n",
            "Epoch 3/8\n",
            "274/274 [==============================] - 12s 42ms/step - loss: 0.0098 - accuracy: 0.9963 - val_loss: 1.0298 - val_accuracy: 0.8749\n",
            "Epoch 4/8\n",
            "274/274 [==============================] - 11s 40ms/step - loss: 0.0075 - accuracy: 0.9973 - val_loss: 1.2238 - val_accuracy: 0.8743\n",
            "Epoch 5/8\n",
            "274/274 [==============================] - 11s 40ms/step - loss: 0.0056 - accuracy: 0.9982 - val_loss: 1.3469 - val_accuracy: 0.8733\n",
            "Epoch 6/8\n",
            "274/274 [==============================] - 11s 40ms/step - loss: 0.0055 - accuracy: 0.9980 - val_loss: 1.1923 - val_accuracy: 0.8760\n",
            "Epoch 7/8\n",
            "274/274 [==============================] - 11s 40ms/step - loss: 0.0047 - accuracy: 0.9983 - val_loss: 1.2746 - val_accuracy: 0.8740\n",
            "Epoch 8/8\n",
            "274/274 [==============================] - 11s 39ms/step - loss: 0.0049 - accuracy: 0.9982 - val_loss: 1.4383 - val_accuracy: 0.8759\n",
            "157/157 [==============================] - 1s 9ms/step - loss: 1.3491 - accuracy: 0.8806\n",
            "              precision    recall  f1-score   support\n",
            "\n",
            "           0       0.89      0.87      0.88      2463\n",
            "           1       0.87      0.89      0.88      2537\n",
            "\n",
            "    accuracy                           0.88      5000\n",
            "   macro avg       0.88      0.88      0.88      5000\n",
            "weighted avg       0.88      0.88      0.88      5000\n",
            "\n"
          ],
          "name": "stdout"
        },
        {
          "output_type": "stream",
          "text": [
            "WARNING:absl:Found untraced functions such as gru_cell_28_layer_call_fn, gru_cell_28_layer_call_and_return_conditional_losses, gru_cell_29_layer_call_fn, gru_cell_29_layer_call_and_return_conditional_losses, gru_cell_28_layer_call_fn while saving (showing 5 of 10). These functions will not be directly callable after loading.\n"
          ],
          "name": "stderr"
        },
        {
          "output_type": "stream",
          "text": [
            "INFO:tensorflow:Assets written to: drive/MyDrive/ml_project/IMDB/models/IMDB_BiGRUAtt_HP_complete/32_0.5_rmsprop/assets\n"
          ],
          "name": "stdout"
        },
        {
          "output_type": "stream",
          "text": [
            "INFO:tensorflow:Assets written to: drive/MyDrive/ml_project/IMDB/models/IMDB_BiGRUAtt_HP_complete/32_0.5_rmsprop/assets\n"
          ],
          "name": "stderr"
        },
        {
          "output_type": "stream",
          "text": [
            "esecuzione:  28\n",
            "{'dropout': 0.6, 'num_units': 32, 'optimizer': 'adam'}\n",
            "Epoch 1/8\n",
            "274/274 [==============================] - 26s 84ms/step - loss: 0.1239 - accuracy: 0.9592 - val_loss: 0.8057 - val_accuracy: 0.8806\n",
            "Epoch 2/8\n",
            "274/274 [==============================] - 21s 77ms/step - loss: 0.0141 - accuracy: 0.9951 - val_loss: 0.8902 - val_accuracy: 0.8772\n",
            "Epoch 3/8\n",
            "274/274 [==============================] - 21s 77ms/step - loss: 0.0118 - accuracy: 0.9959 - val_loss: 1.0455 - val_accuracy: 0.8771\n",
            "Epoch 4/8\n",
            "274/274 [==============================] - 22s 79ms/step - loss: 0.0118 - accuracy: 0.9957 - val_loss: 1.0269 - val_accuracy: 0.8749\n",
            "Epoch 5/8\n",
            "274/274 [==============================] - 21s 77ms/step - loss: 0.0087 - accuracy: 0.9969 - val_loss: 1.0474 - val_accuracy: 0.8754\n",
            "Epoch 6/8\n",
            "274/274 [==============================] - 21s 76ms/step - loss: 0.0072 - accuracy: 0.9974 - val_loss: 1.1849 - val_accuracy: 0.8729\n",
            "Epoch 7/8\n",
            "274/274 [==============================] - 21s 77ms/step - loss: 0.0076 - accuracy: 0.9973 - val_loss: 1.1717 - val_accuracy: 0.8746\n",
            "Epoch 8/8\n",
            "274/274 [==============================] - 21s 77ms/step - loss: 0.0065 - accuracy: 0.9976 - val_loss: 1.1462 - val_accuracy: 0.8741\n",
            "157/157 [==============================] - 1s 8ms/step - loss: 1.0697 - accuracy: 0.8772\n",
            "              precision    recall  f1-score   support\n",
            "\n",
            "           0       0.86      0.90      0.88      2463\n",
            "           1       0.89      0.86      0.88      2537\n",
            "\n",
            "    accuracy                           0.88      5000\n",
            "   macro avg       0.88      0.88      0.88      5000\n",
            "weighted avg       0.88      0.88      0.88      5000\n",
            "\n"
          ],
          "name": "stdout"
        },
        {
          "output_type": "stream",
          "text": [
            "WARNING:absl:Found untraced functions such as gru_cell_31_layer_call_fn, gru_cell_31_layer_call_and_return_conditional_losses, gru_cell_32_layer_call_fn, gru_cell_32_layer_call_and_return_conditional_losses, gru_cell_31_layer_call_fn while saving (showing 5 of 10). These functions will not be directly callable after loading.\n"
          ],
          "name": "stderr"
        },
        {
          "output_type": "stream",
          "text": [
            "INFO:tensorflow:Assets written to: drive/MyDrive/ml_project/IMDB/models/IMDB_BiGRUAtt_HP_complete/32_0.6_adam/assets\n"
          ],
          "name": "stdout"
        },
        {
          "output_type": "stream",
          "text": [
            "INFO:tensorflow:Assets written to: drive/MyDrive/ml_project/IMDB/models/IMDB_BiGRUAtt_HP_complete/32_0.6_adam/assets\n"
          ],
          "name": "stderr"
        },
        {
          "output_type": "stream",
          "text": [
            "esecuzione:  29\n",
            "{'dropout': 0.6, 'num_units': 32, 'optimizer': 'rmsprop'}\n",
            "Epoch 1/8\n",
            "274/274 [==============================] - 17s 47ms/step - loss: 0.1088 - accuracy: 0.9616 - val_loss: 1.0163 - val_accuracy: 0.8768\n",
            "Epoch 2/8\n",
            "274/274 [==============================] - 11s 40ms/step - loss: 0.0143 - accuracy: 0.9950 - val_loss: 1.0728 - val_accuracy: 0.8720\n",
            "Epoch 3/8\n",
            "274/274 [==============================] - 11s 40ms/step - loss: 0.0097 - accuracy: 0.9966 - val_loss: 1.2806 - val_accuracy: 0.8772\n",
            "Epoch 4/8\n",
            "274/274 [==============================] - 11s 40ms/step - loss: 0.0089 - accuracy: 0.9967 - val_loss: 1.1493 - val_accuracy: 0.8764\n",
            "Epoch 5/8\n",
            "274/274 [==============================] - 11s 42ms/step - loss: 0.0084 - accuracy: 0.9971 - val_loss: 1.1417 - val_accuracy: 0.8771\n",
            "Epoch 6/8\n",
            "274/274 [==============================] - 11s 40ms/step - loss: 0.0070 - accuracy: 0.9976 - val_loss: 1.2442 - val_accuracy: 0.8741\n",
            "Epoch 7/8\n",
            "274/274 [==============================] - 11s 40ms/step - loss: 0.0069 - accuracy: 0.9976 - val_loss: 1.2191 - val_accuracy: 0.8712\n",
            "Epoch 8/8\n",
            "274/274 [==============================] - 11s 40ms/step - loss: 0.0060 - accuracy: 0.9979 - val_loss: 1.2987 - val_accuracy: 0.8763\n",
            "157/157 [==============================] - 1s 9ms/step - loss: 1.2192 - accuracy: 0.8832\n",
            "              precision    recall  f1-score   support\n",
            "\n",
            "           0       0.88      0.88      0.88      2463\n",
            "           1       0.88      0.88      0.88      2537\n",
            "\n",
            "    accuracy                           0.88      5000\n",
            "   macro avg       0.88      0.88      0.88      5000\n",
            "weighted avg       0.88      0.88      0.88      5000\n",
            "\n"
          ],
          "name": "stdout"
        },
        {
          "output_type": "stream",
          "text": [
            "WARNING:absl:Found untraced functions such as gru_cell_34_layer_call_fn, gru_cell_34_layer_call_and_return_conditional_losses, gru_cell_35_layer_call_fn, gru_cell_35_layer_call_and_return_conditional_losses, gru_cell_34_layer_call_fn while saving (showing 5 of 10). These functions will not be directly callable after loading.\n"
          ],
          "name": "stderr"
        },
        {
          "output_type": "stream",
          "text": [
            "INFO:tensorflow:Assets written to: drive/MyDrive/ml_project/IMDB/models/IMDB_BiGRUAtt_HP_complete/32_0.6_rmsprop/assets\n"
          ],
          "name": "stdout"
        },
        {
          "output_type": "stream",
          "text": [
            "INFO:tensorflow:Assets written to: drive/MyDrive/ml_project/IMDB/models/IMDB_BiGRUAtt_HP_complete/32_0.6_rmsprop/assets\n"
          ],
          "name": "stderr"
        },
        {
          "output_type": "stream",
          "text": [
            "esecuzione:  30\n",
            "{'dropout': 0.7, 'num_units': 32, 'optimizer': 'adam'}\n",
            "Epoch 1/8\n",
            "274/274 [==============================] - 26s 84ms/step - loss: 0.1295 - accuracy: 0.9533 - val_loss: 0.7017 - val_accuracy: 0.8834\n",
            "Epoch 2/8\n",
            "274/274 [==============================] - 21s 77ms/step - loss: 0.0223 - accuracy: 0.9921 - val_loss: 0.8791 - val_accuracy: 0.8781\n",
            "Epoch 3/8\n",
            "274/274 [==============================] - 22s 79ms/step - loss: 0.0172 - accuracy: 0.9938 - val_loss: 0.8704 - val_accuracy: 0.8799\n",
            "Epoch 4/8\n",
            "274/274 [==============================] - 21s 78ms/step - loss: 0.0152 - accuracy: 0.9950 - val_loss: 0.9496 - val_accuracy: 0.8788\n",
            "Epoch 5/8\n",
            "274/274 [==============================] - 21s 77ms/step - loss: 0.0132 - accuracy: 0.9951 - val_loss: 0.9771 - val_accuracy: 0.8766\n",
            "Epoch 6/8\n",
            "274/274 [==============================] - 21s 77ms/step - loss: 0.0119 - accuracy: 0.9956 - val_loss: 0.9776 - val_accuracy: 0.8744\n",
            "Epoch 7/8\n",
            "274/274 [==============================] - 21s 77ms/step - loss: 0.0134 - accuracy: 0.9949 - val_loss: 0.9499 - val_accuracy: 0.8757\n",
            "Epoch 8/8\n",
            "274/274 [==============================] - 21s 78ms/step - loss: 0.0088 - accuracy: 0.9969 - val_loss: 1.1127 - val_accuracy: 0.8776\n",
            "157/157 [==============================] - 1s 9ms/step - loss: 1.0446 - accuracy: 0.8842\n",
            "              precision    recall  f1-score   support\n",
            "\n",
            "           0       0.88      0.89      0.88      2463\n",
            "           1       0.89      0.88      0.89      2537\n",
            "\n",
            "    accuracy                           0.88      5000\n",
            "   macro avg       0.88      0.88      0.88      5000\n",
            "weighted avg       0.88      0.88      0.88      5000\n",
            "\n"
          ],
          "name": "stdout"
        },
        {
          "output_type": "stream",
          "text": [
            "WARNING:absl:Found untraced functions such as gru_cell_37_layer_call_fn, gru_cell_37_layer_call_and_return_conditional_losses, gru_cell_38_layer_call_fn, gru_cell_38_layer_call_and_return_conditional_losses, gru_cell_37_layer_call_fn while saving (showing 5 of 10). These functions will not be directly callable after loading.\n"
          ],
          "name": "stderr"
        },
        {
          "output_type": "stream",
          "text": [
            "INFO:tensorflow:Assets written to: drive/MyDrive/ml_project/IMDB/models/IMDB_BiGRUAtt_HP_complete/32_0.7_adam/assets\n"
          ],
          "name": "stdout"
        },
        {
          "output_type": "stream",
          "text": [
            "INFO:tensorflow:Assets written to: drive/MyDrive/ml_project/IMDB/models/IMDB_BiGRUAtt_HP_complete/32_0.7_adam/assets\n"
          ],
          "name": "stderr"
        },
        {
          "output_type": "stream",
          "text": [
            "esecuzione:  31\n",
            "{'dropout': 0.7, 'num_units': 32, 'optimizer': 'rmsprop'}\n",
            "Epoch 1/8\n",
            "274/274 [==============================] - 16s 49ms/step - loss: 0.1093 - accuracy: 0.9638 - val_loss: 1.0196 - val_accuracy: 0.8813\n",
            "Epoch 2/8\n",
            "274/274 [==============================] - 11s 41ms/step - loss: 0.0205 - accuracy: 0.9928 - val_loss: 1.1134 - val_accuracy: 0.8793\n",
            "Epoch 3/8\n",
            "274/274 [==============================] - 11s 41ms/step - loss: 0.0173 - accuracy: 0.9941 - val_loss: 1.0018 - val_accuracy: 0.8794\n",
            "Epoch 4/8\n",
            "274/274 [==============================] - 11s 41ms/step - loss: 0.0132 - accuracy: 0.9957 - val_loss: 1.0514 - val_accuracy: 0.8793\n",
            "Epoch 5/8\n",
            "274/274 [==============================] - 11s 41ms/step - loss: 0.0128 - accuracy: 0.9955 - val_loss: 1.3110 - val_accuracy: 0.8592\n",
            "Epoch 6/8\n",
            "274/274 [==============================] - 12s 43ms/step - loss: 0.0125 - accuracy: 0.9957 - val_loss: 1.0998 - val_accuracy: 0.8778\n",
            "Epoch 7/8\n",
            "274/274 [==============================] - 12s 42ms/step - loss: 0.0111 - accuracy: 0.9960 - val_loss: 1.0713 - val_accuracy: 0.8780\n",
            "Epoch 8/8\n",
            "274/274 [==============================] - 11s 40ms/step - loss: 0.0100 - accuracy: 0.9965 - val_loss: 1.0937 - val_accuracy: 0.8743\n",
            "157/157 [==============================] - 1s 9ms/step - loss: 1.0288 - accuracy: 0.8834\n",
            "              precision    recall  f1-score   support\n",
            "\n",
            "           0       0.90      0.86      0.88      2463\n",
            "           1       0.87      0.91      0.89      2537\n",
            "\n",
            "    accuracy                           0.88      5000\n",
            "   macro avg       0.88      0.88      0.88      5000\n",
            "weighted avg       0.88      0.88      0.88      5000\n",
            "\n"
          ],
          "name": "stdout"
        },
        {
          "output_type": "stream",
          "text": [
            "WARNING:absl:Found untraced functions such as gru_cell_40_layer_call_fn, gru_cell_40_layer_call_and_return_conditional_losses, gru_cell_41_layer_call_fn, gru_cell_41_layer_call_and_return_conditional_losses, gru_cell_40_layer_call_fn while saving (showing 5 of 10). These functions will not be directly callable after loading.\n"
          ],
          "name": "stderr"
        },
        {
          "output_type": "stream",
          "text": [
            "INFO:tensorflow:Assets written to: drive/MyDrive/ml_project/IMDB/models/IMDB_BiGRUAtt_HP_complete/32_0.7_rmsprop/assets\n"
          ],
          "name": "stdout"
        },
        {
          "output_type": "stream",
          "text": [
            "INFO:tensorflow:Assets written to: drive/MyDrive/ml_project/IMDB/models/IMDB_BiGRUAtt_HP_complete/32_0.7_rmsprop/assets\n"
          ],
          "name": "stderr"
        },
        {
          "output_type": "stream",
          "text": [
            "esecuzione:  32\n",
            "{'dropout': 0.8, 'num_units': 32, 'optimizer': 'adam'}\n",
            "Epoch 1/8\n",
            "274/274 [==============================] - 25s 82ms/step - loss: 0.1447 - accuracy: 0.9492 - val_loss: 0.7996 - val_accuracy: 0.8824\n",
            "Epoch 2/8\n",
            "274/274 [==============================] - 21s 75ms/step - loss: 0.0370 - accuracy: 0.9858 - val_loss: 0.8930 - val_accuracy: 0.8800\n",
            "Epoch 3/8\n",
            "274/274 [==============================] - 21s 75ms/step - loss: 0.0328 - accuracy: 0.9884 - val_loss: 0.8409 - val_accuracy: 0.8780\n",
            "Epoch 4/8\n",
            "274/274 [==============================] - 21s 75ms/step - loss: 0.0284 - accuracy: 0.9898 - val_loss: 0.9056 - val_accuracy: 0.8788\n",
            "Epoch 5/8\n",
            "274/274 [==============================] - 21s 76ms/step - loss: 0.0249 - accuracy: 0.9912 - val_loss: 0.8907 - val_accuracy: 0.8779\n",
            "Epoch 6/8\n",
            "274/274 [==============================] - 21s 75ms/step - loss: 0.0250 - accuracy: 0.9908 - val_loss: 0.8169 - val_accuracy: 0.8778\n",
            "Epoch 7/8\n",
            "274/274 [==============================] - 20s 75ms/step - loss: 0.0209 - accuracy: 0.9923 - val_loss: 0.9041 - val_accuracy: 0.8785\n",
            "Epoch 8/8\n",
            "274/274 [==============================] - 21s 75ms/step - loss: 0.0211 - accuracy: 0.9920 - val_loss: 0.8927 - val_accuracy: 0.8769\n",
            "157/157 [==============================] - 1s 8ms/step - loss: 0.8319 - accuracy: 0.8872\n",
            "              precision    recall  f1-score   support\n",
            "\n",
            "           0       0.91      0.86      0.88      2463\n",
            "           1       0.87      0.91      0.89      2537\n",
            "\n",
            "    accuracy                           0.89      5000\n",
            "   macro avg       0.89      0.89      0.89      5000\n",
            "weighted avg       0.89      0.89      0.89      5000\n",
            "\n"
          ],
          "name": "stdout"
        },
        {
          "output_type": "stream",
          "text": [
            "WARNING:absl:Found untraced functions such as gru_cell_43_layer_call_fn, gru_cell_43_layer_call_and_return_conditional_losses, gru_cell_44_layer_call_fn, gru_cell_44_layer_call_and_return_conditional_losses, gru_cell_43_layer_call_fn while saving (showing 5 of 10). These functions will not be directly callable after loading.\n"
          ],
          "name": "stderr"
        },
        {
          "output_type": "stream",
          "text": [
            "INFO:tensorflow:Assets written to: drive/MyDrive/ml_project/IMDB/models/IMDB_BiGRUAtt_HP_complete/32_0.8_adam/assets\n"
          ],
          "name": "stdout"
        },
        {
          "output_type": "stream",
          "text": [
            "INFO:tensorflow:Assets written to: drive/MyDrive/ml_project/IMDB/models/IMDB_BiGRUAtt_HP_complete/32_0.8_adam/assets\n"
          ],
          "name": "stderr"
        },
        {
          "output_type": "stream",
          "text": [
            "esecuzione:  33\n",
            "{'dropout': 0.8, 'num_units': 32, 'optimizer': 'rmsprop'}\n",
            "Epoch 1/8\n",
            "274/274 [==============================] - 17s 47ms/step - loss: 0.1230 - accuracy: 0.9533 - val_loss: 0.8621 - val_accuracy: 0.8861\n",
            "Epoch 2/8\n",
            "274/274 [==============================] - 11s 39ms/step - loss: 0.0341 - accuracy: 0.9873 - val_loss: 0.9051 - val_accuracy: 0.8838\n",
            "Epoch 3/8\n",
            "274/274 [==============================] - 11s 40ms/step - loss: 0.0295 - accuracy: 0.9892 - val_loss: 0.8126 - val_accuracy: 0.8809\n",
            "Epoch 4/8\n",
            "274/274 [==============================] - 11s 40ms/step - loss: 0.0263 - accuracy: 0.9904 - val_loss: 0.8795 - val_accuracy: 0.8811\n",
            "Epoch 5/8\n",
            "274/274 [==============================] - 11s 40ms/step - loss: 0.0238 - accuracy: 0.9917 - val_loss: 0.8671 - val_accuracy: 0.8825\n",
            "Epoch 6/8\n",
            "274/274 [==============================] - 11s 41ms/step - loss: 0.0257 - accuracy: 0.9907 - val_loss: 0.9043 - val_accuracy: 0.8762\n",
            "Epoch 7/8\n",
            "274/274 [==============================] - 11s 40ms/step - loss: 0.0225 - accuracy: 0.9915 - val_loss: 0.8659 - val_accuracy: 0.8815\n",
            "Epoch 8/8\n",
            "274/274 [==============================] - 12s 42ms/step - loss: 0.0204 - accuracy: 0.9927 - val_loss: 0.8471 - val_accuracy: 0.8817\n",
            "157/157 [==============================] - 2s 9ms/step - loss: 0.8059 - accuracy: 0.8860\n",
            "              precision    recall  f1-score   support\n",
            "\n",
            "           0       0.88      0.89      0.88      2463\n",
            "           1       0.89      0.88      0.89      2537\n",
            "\n",
            "    accuracy                           0.89      5000\n",
            "   macro avg       0.89      0.89      0.89      5000\n",
            "weighted avg       0.89      0.89      0.89      5000\n",
            "\n"
          ],
          "name": "stdout"
        },
        {
          "output_type": "stream",
          "text": [
            "WARNING:absl:Found untraced functions such as gru_cell_46_layer_call_fn, gru_cell_46_layer_call_and_return_conditional_losses, gru_cell_47_layer_call_fn, gru_cell_47_layer_call_and_return_conditional_losses, gru_cell_46_layer_call_fn while saving (showing 5 of 10). These functions will not be directly callable after loading.\n"
          ],
          "name": "stderr"
        },
        {
          "output_type": "stream",
          "text": [
            "INFO:tensorflow:Assets written to: drive/MyDrive/ml_project/IMDB/models/IMDB_BiGRUAtt_HP_complete/32_0.8_rmsprop/assets\n"
          ],
          "name": "stdout"
        },
        {
          "output_type": "stream",
          "text": [
            "INFO:tensorflow:Assets written to: drive/MyDrive/ml_project/IMDB/models/IMDB_BiGRUAtt_HP_complete/32_0.8_rmsprop/assets\n"
          ],
          "name": "stderr"
        },
        {
          "output_type": "stream",
          "text": [
            "esecuzione:  34\n",
            "{'dropout': 0.9, 'num_units': 32, 'optimizer': 'adam'}\n",
            "Epoch 1/8\n",
            "274/274 [==============================] - 26s 83ms/step - loss: 0.2197 - accuracy: 0.9113 - val_loss: 0.5767 - val_accuracy: 0.8868\n",
            "Epoch 2/8\n",
            "274/274 [==============================] - 21s 75ms/step - loss: 0.0932 - accuracy: 0.9652 - val_loss: 0.6354 - val_accuracy: 0.8864\n",
            "Epoch 3/8\n",
            "274/274 [==============================] - 21s 77ms/step - loss: 0.0819 - accuracy: 0.9688 - val_loss: 0.6056 - val_accuracy: 0.8847\n",
            "Epoch 4/8\n",
            "274/274 [==============================] - 21s 76ms/step - loss: 0.0796 - accuracy: 0.9693 - val_loss: 0.6041 - val_accuracy: 0.8858\n",
            "Epoch 5/8\n",
            "274/274 [==============================] - 21s 75ms/step - loss: 0.0726 - accuracy: 0.9721 - val_loss: 0.6634 - val_accuracy: 0.8851\n",
            "Epoch 6/8\n",
            "274/274 [==============================] - 21s 76ms/step - loss: 0.0713 - accuracy: 0.9739 - val_loss: 0.5663 - val_accuracy: 0.8871\n",
            "Epoch 7/8\n",
            "274/274 [==============================] - 21s 77ms/step - loss: 0.0674 - accuracy: 0.9751 - val_loss: 0.6580 - val_accuracy: 0.8849\n",
            "Epoch 8/8\n",
            "274/274 [==============================] - 21s 78ms/step - loss: 0.0644 - accuracy: 0.9759 - val_loss: 0.6133 - val_accuracy: 0.8854\n",
            "157/157 [==============================] - 1s 9ms/step - loss: 0.5736 - accuracy: 0.8882\n",
            "              precision    recall  f1-score   support\n",
            "\n",
            "           0       0.91      0.86      0.88      2463\n",
            "           1       0.87      0.91      0.89      2537\n",
            "\n",
            "    accuracy                           0.89      5000\n",
            "   macro avg       0.89      0.89      0.89      5000\n",
            "weighted avg       0.89      0.89      0.89      5000\n",
            "\n"
          ],
          "name": "stdout"
        },
        {
          "output_type": "stream",
          "text": [
            "WARNING:absl:Found untraced functions such as gru_cell_49_layer_call_fn, gru_cell_49_layer_call_and_return_conditional_losses, gru_cell_50_layer_call_fn, gru_cell_50_layer_call_and_return_conditional_losses, gru_cell_49_layer_call_fn while saving (showing 5 of 10). These functions will not be directly callable after loading.\n"
          ],
          "name": "stderr"
        },
        {
          "output_type": "stream",
          "text": [
            "INFO:tensorflow:Assets written to: drive/MyDrive/ml_project/IMDB/models/IMDB_BiGRUAtt_HP_complete/32_0.9_adam/assets\n"
          ],
          "name": "stdout"
        },
        {
          "output_type": "stream",
          "text": [
            "INFO:tensorflow:Assets written to: drive/MyDrive/ml_project/IMDB/models/IMDB_BiGRUAtt_HP_complete/32_0.9_adam/assets\n"
          ],
          "name": "stderr"
        },
        {
          "output_type": "stream",
          "text": [
            "esecuzione:  35\n",
            "{'dropout': 0.9, 'num_units': 32, 'optimizer': 'rmsprop'}\n",
            "Epoch 1/8\n",
            "274/274 [==============================] - 16s 48ms/step - loss: 0.1973 - accuracy: 0.9224 - val_loss: 0.7147 - val_accuracy: 0.8880\n",
            "Epoch 2/8\n",
            "274/274 [==============================] - 12s 43ms/step - loss: 0.0904 - accuracy: 0.9665 - val_loss: 0.6991 - val_accuracy: 0.8861\n",
            "Epoch 3/8\n",
            "274/274 [==============================] - 11s 40ms/step - loss: 0.0779 - accuracy: 0.9696 - val_loss: 0.7305 - val_accuracy: 0.8853\n",
            "Epoch 4/8\n",
            "274/274 [==============================] - 11s 41ms/step - loss: 0.0727 - accuracy: 0.9727 - val_loss: 0.6581 - val_accuracy: 0.8877\n",
            "Epoch 5/8\n",
            "274/274 [==============================] - 11s 41ms/step - loss: 0.0676 - accuracy: 0.9745 - val_loss: 0.6559 - val_accuracy: 0.8862\n",
            "Epoch 6/8\n",
            "274/274 [==============================] - 11s 41ms/step - loss: 0.0639 - accuracy: 0.9762 - val_loss: 0.7036 - val_accuracy: 0.8888\n",
            "Epoch 7/8\n",
            "274/274 [==============================] - 11s 40ms/step - loss: 0.0642 - accuracy: 0.9753 - val_loss: 0.6274 - val_accuracy: 0.8880\n",
            "Epoch 8/8\n",
            "274/274 [==============================] - 11s 42ms/step - loss: 0.0600 - accuracy: 0.9775 - val_loss: 0.6609 - val_accuracy: 0.8875\n",
            "157/157 [==============================] - 1s 9ms/step - loss: 0.6197 - accuracy: 0.8912\n",
            "              precision    recall  f1-score   support\n",
            "\n",
            "           0       0.90      0.88      0.89      2463\n",
            "           1       0.88      0.91      0.89      2537\n",
            "\n",
            "    accuracy                           0.89      5000\n",
            "   macro avg       0.89      0.89      0.89      5000\n",
            "weighted avg       0.89      0.89      0.89      5000\n",
            "\n"
          ],
          "name": "stdout"
        },
        {
          "output_type": "stream",
          "text": [
            "WARNING:absl:Found untraced functions such as gru_cell_52_layer_call_fn, gru_cell_52_layer_call_and_return_conditional_losses, gru_cell_53_layer_call_fn, gru_cell_53_layer_call_and_return_conditional_losses, gru_cell_52_layer_call_fn while saving (showing 5 of 10). These functions will not be directly callable after loading.\n"
          ],
          "name": "stderr"
        },
        {
          "output_type": "stream",
          "text": [
            "INFO:tensorflow:Assets written to: drive/MyDrive/ml_project/IMDB/models/IMDB_BiGRUAtt_HP_complete/32_0.9_rmsprop/assets\n"
          ],
          "name": "stdout"
        },
        {
          "output_type": "stream",
          "text": [
            "INFO:tensorflow:Assets written to: drive/MyDrive/ml_project/IMDB/models/IMDB_BiGRUAtt_HP_complete/32_0.9_rmsprop/assets\n"
          ],
          "name": "stderr"
        }
      ]
    },
    {
      "cell_type": "code",
      "metadata": {
        "colab": {
          "base_uri": "https://localhost:8080/"
        },
        "id": "IcIleXvrkb-z",
        "outputId": "e514bd91-e35d-48bb-d692-228d35d94e7e"
      },
      "source": [
        "n_esecuzione = 36\n",
        "for num_units in HP_NUM_UNITS.domain.values:\n",
        "        for dropout in HP_DROPOUT.domain.values:\n",
        "            for opt in HP_OPTIMIZER.domain.values:\n",
        "                hparams = {\n",
        "                    HP_DROPOUT: dropout,\n",
        "                    HP_NUM_UNITS: num_units,\n",
        "                    HP_OPTIMIZER: opt,\n",
        "                    }\n",
        "                print(\"esecuzione: \", n_esecuzione)\n",
        "                print({h.name: hparams[h] for h in hparams})\n",
        "                run(log_dir + \"/esecuzione_{}\".format(n_esecuzione), hparams)\n",
        "                n_esecuzione += 1 "
      ],
      "execution_count": 23,
      "outputs": [
        {
          "output_type": "stream",
          "text": [
            "esecuzione:  36\n",
            "{'dropout': 0.1, 'num_units': 64, 'optimizer': 'adam'}\n",
            "Epoch 1/8\n",
            "274/274 [==============================] - 28s 89ms/step - loss: 0.0490 - accuracy: 0.9877 - val_loss: 0.8588 - val_accuracy: 0.8808\n",
            "Epoch 2/8\n",
            "274/274 [==============================] - 22s 81ms/step - loss: 0.0019 - accuracy: 0.9994 - val_loss: 0.9260 - val_accuracy: 0.8791\n",
            "Epoch 3/8\n",
            "274/274 [==============================] - 23s 83ms/step - loss: 8.5530e-04 - accuracy: 0.9998 - val_loss: 1.1302 - val_accuracy: 0.8744\n",
            "Epoch 4/8\n",
            "274/274 [==============================] - 22s 81ms/step - loss: 0.0013 - accuracy: 0.9995 - val_loss: 1.0771 - val_accuracy: 0.8794\n",
            "Epoch 5/8\n",
            "274/274 [==============================] - 22s 81ms/step - loss: 1.9602e-04 - accuracy: 1.0000 - val_loss: 1.2734 - val_accuracy: 0.8764\n",
            "Epoch 6/8\n",
            "274/274 [==============================] - 22s 80ms/step - loss: 5.1394e-05 - accuracy: 1.0000 - val_loss: 1.4190 - val_accuracy: 0.8750\n",
            "Epoch 7/8\n",
            "274/274 [==============================] - 22s 79ms/step - loss: 5.4516e-04 - accuracy: 0.9997 - val_loss: 1.6964 - val_accuracy: 0.8690\n",
            "Epoch 8/8\n",
            "274/274 [==============================] - 22s 80ms/step - loss: 5.1780e-04 - accuracy: 0.9998 - val_loss: 1.4504 - val_accuracy: 0.8745\n",
            "157/157 [==============================] - 1s 9ms/step - loss: 1.3946 - accuracy: 0.8782\n",
            "              precision    recall  f1-score   support\n",
            "\n",
            "           0       0.87      0.89      0.88      2463\n",
            "           1       0.89      0.87      0.88      2537\n",
            "\n",
            "    accuracy                           0.88      5000\n",
            "   macro avg       0.88      0.88      0.88      5000\n",
            "weighted avg       0.88      0.88      0.88      5000\n",
            "\n"
          ],
          "name": "stdout"
        },
        {
          "output_type": "stream",
          "text": [
            "WARNING:absl:Found untraced functions such as gru_cell_55_layer_call_fn, gru_cell_55_layer_call_and_return_conditional_losses, gru_cell_56_layer_call_fn, gru_cell_56_layer_call_and_return_conditional_losses, gru_cell_55_layer_call_fn while saving (showing 5 of 10). These functions will not be directly callable after loading.\n"
          ],
          "name": "stderr"
        },
        {
          "output_type": "stream",
          "text": [
            "INFO:tensorflow:Assets written to: drive/MyDrive/ml_project/IMDB/models/IMDB_BiGRUAtt_HP_complete/64_0.1_adam/assets\n"
          ],
          "name": "stdout"
        },
        {
          "output_type": "stream",
          "text": [
            "INFO:tensorflow:Assets written to: drive/MyDrive/ml_project/IMDB/models/IMDB_BiGRUAtt_HP_complete/64_0.1_adam/assets\n"
          ],
          "name": "stderr"
        },
        {
          "output_type": "stream",
          "text": [
            "esecuzione:  37\n",
            "{'dropout': 0.1, 'num_units': 64, 'optimizer': 'rmsprop'}\n",
            "Epoch 1/8\n",
            "274/274 [==============================] - 17s 49ms/step - loss: 0.0386 - accuracy: 0.9875 - val_loss: 0.9497 - val_accuracy: 0.8826\n",
            "Epoch 2/8\n",
            "274/274 [==============================] - 12s 44ms/step - loss: 0.0029 - accuracy: 0.9994 - val_loss: 1.5941 - val_accuracy: 0.8782\n",
            "Epoch 3/8\n",
            "274/274 [==============================] - 11s 41ms/step - loss: 5.6394e-04 - accuracy: 0.9998 - val_loss: 1.8310 - val_accuracy: 0.8795\n",
            "Epoch 4/8\n",
            "274/274 [==============================] - 11s 42ms/step - loss: 8.7781e-04 - accuracy: 0.9998 - val_loss: 2.0018 - val_accuracy: 0.8774\n",
            "Epoch 5/8\n",
            "274/274 [==============================] - 11s 41ms/step - loss: 2.9421e-04 - accuracy: 0.9999 - val_loss: 2.9894 - val_accuracy: 0.8782\n",
            "Epoch 6/8\n",
            "274/274 [==============================] - 11s 41ms/step - loss: 1.0698e-04 - accuracy: 0.9999 - val_loss: 3.6775 - val_accuracy: 0.8736\n",
            "Epoch 7/8\n",
            "274/274 [==============================] - 11s 42ms/step - loss: 3.5972e-04 - accuracy: 0.9999 - val_loss: 3.4257 - val_accuracy: 0.8781\n",
            "Epoch 8/8\n",
            "274/274 [==============================] - 11s 42ms/step - loss: 3.1817e-04 - accuracy: 0.9999 - val_loss: 3.7398 - val_accuracy: 0.8775\n",
            "157/157 [==============================] - 2s 10ms/step - loss: 3.5530 - accuracy: 0.8824\n",
            "              precision    recall  f1-score   support\n",
            "\n",
            "           0       0.89      0.87      0.88      2463\n",
            "           1       0.88      0.89      0.89      2537\n",
            "\n",
            "    accuracy                           0.88      5000\n",
            "   macro avg       0.88      0.88      0.88      5000\n",
            "weighted avg       0.88      0.88      0.88      5000\n",
            "\n"
          ],
          "name": "stdout"
        },
        {
          "output_type": "stream",
          "text": [
            "WARNING:absl:Found untraced functions such as gru_cell_58_layer_call_fn, gru_cell_58_layer_call_and_return_conditional_losses, gru_cell_59_layer_call_fn, gru_cell_59_layer_call_and_return_conditional_losses, gru_cell_58_layer_call_fn while saving (showing 5 of 10). These functions will not be directly callable after loading.\n"
          ],
          "name": "stderr"
        },
        {
          "output_type": "stream",
          "text": [
            "INFO:tensorflow:Assets written to: drive/MyDrive/ml_project/IMDB/models/IMDB_BiGRUAtt_HP_complete/64_0.1_rmsprop/assets\n"
          ],
          "name": "stdout"
        },
        {
          "output_type": "stream",
          "text": [
            "INFO:tensorflow:Assets written to: drive/MyDrive/ml_project/IMDB/models/IMDB_BiGRUAtt_HP_complete/64_0.1_rmsprop/assets\n"
          ],
          "name": "stderr"
        },
        {
          "output_type": "stream",
          "text": [
            "esecuzione:  38\n",
            "{'dropout': 0.2, 'num_units': 64, 'optimizer': 'adam'}\n",
            "Epoch 1/8\n",
            "274/274 [==============================] - 27s 87ms/step - loss: 0.0483 - accuracy: 0.9877 - val_loss: 0.9705 - val_accuracy: 0.8801\n",
            "Epoch 2/8\n",
            "274/274 [==============================] - 22s 79ms/step - loss: 3.4674e-04 - accuracy: 0.9999 - val_loss: 1.2242 - val_accuracy: 0.8777\n",
            "Epoch 3/8\n",
            "274/274 [==============================] - 22s 80ms/step - loss: 0.0012 - accuracy: 0.9996 - val_loss: 1.0266 - val_accuracy: 0.8789\n",
            "Epoch 4/8\n",
            "274/274 [==============================] - 22s 80ms/step - loss: 1.7287e-04 - accuracy: 1.0000 - val_loss: 1.1984 - val_accuracy: 0.8778\n",
            "Epoch 5/8\n",
            "274/274 [==============================] - 22s 79ms/step - loss: 4.3412e-05 - accuracy: 1.0000 - val_loss: 1.2969 - val_accuracy: 0.8775\n",
            "Epoch 6/8\n",
            "274/274 [==============================] - 21s 78ms/step - loss: 5.3064e-05 - accuracy: 1.0000 - val_loss: 1.4385 - val_accuracy: 0.8738\n",
            "Epoch 7/8\n",
            "274/274 [==============================] - 22s 80ms/step - loss: 1.1168e-04 - accuracy: 0.9999 - val_loss: 1.4333 - val_accuracy: 0.8791\n",
            "Epoch 8/8\n",
            "274/274 [==============================] - 22s 79ms/step - loss: 1.2350e-05 - accuracy: 1.0000 - val_loss: 1.5093 - val_accuracy: 0.8770\n",
            "157/157 [==============================] - 1s 9ms/step - loss: 1.3980 - accuracy: 0.8830\n",
            "              precision    recall  f1-score   support\n",
            "\n",
            "           0       0.89      0.87      0.88      2463\n",
            "           1       0.88      0.90      0.89      2537\n",
            "\n",
            "    accuracy                           0.88      5000\n",
            "   macro avg       0.88      0.88      0.88      5000\n",
            "weighted avg       0.88      0.88      0.88      5000\n",
            "\n"
          ],
          "name": "stdout"
        },
        {
          "output_type": "stream",
          "text": [
            "WARNING:absl:Found untraced functions such as gru_cell_61_layer_call_fn, gru_cell_61_layer_call_and_return_conditional_losses, gru_cell_62_layer_call_fn, gru_cell_62_layer_call_and_return_conditional_losses, gru_cell_61_layer_call_fn while saving (showing 5 of 10). These functions will not be directly callable after loading.\n"
          ],
          "name": "stderr"
        },
        {
          "output_type": "stream",
          "text": [
            "INFO:tensorflow:Assets written to: drive/MyDrive/ml_project/IMDB/models/IMDB_BiGRUAtt_HP_complete/64_0.2_adam/assets\n"
          ],
          "name": "stdout"
        },
        {
          "output_type": "stream",
          "text": [
            "INFO:tensorflow:Assets written to: drive/MyDrive/ml_project/IMDB/models/IMDB_BiGRUAtt_HP_complete/64_0.2_adam/assets\n"
          ],
          "name": "stderr"
        },
        {
          "output_type": "stream",
          "text": [
            "esecuzione:  39\n",
            "{'dropout': 0.2, 'num_units': 64, 'optimizer': 'rmsprop'}\n",
            "Epoch 1/8\n",
            "274/274 [==============================] - 17s 52ms/step - loss: 0.0365 - accuracy: 0.9858 - val_loss: 1.2513 - val_accuracy: 0.8784\n",
            "Epoch 2/8\n",
            "274/274 [==============================] - 11s 41ms/step - loss: 0.0029 - accuracy: 0.9993 - val_loss: 1.5026 - val_accuracy: 0.8775\n",
            "Epoch 3/8\n",
            "274/274 [==============================] - 12s 42ms/step - loss: 0.0015 - accuracy: 0.9997 - val_loss: 2.2195 - val_accuracy: 0.8772\n",
            "Epoch 4/8\n",
            "274/274 [==============================] - 12s 44ms/step - loss: 0.0011 - accuracy: 0.9998 - val_loss: 2.3997 - val_accuracy: 0.8773\n",
            "Epoch 5/8\n",
            "274/274 [==============================] - 11s 42ms/step - loss: 1.0239e-04 - accuracy: 1.0000 - val_loss: 2.5856 - val_accuracy: 0.8779\n",
            "Epoch 6/8\n",
            "274/274 [==============================] - 11s 42ms/step - loss: 8.6643e-04 - accuracy: 0.9999 - val_loss: 3.3920 - val_accuracy: 0.8728\n",
            "Epoch 7/8\n",
            "274/274 [==============================] - 11s 41ms/step - loss: 1.1266e-06 - accuracy: 1.0000 - val_loss: 4.1379 - val_accuracy: 0.8759\n",
            "Epoch 8/8\n",
            "274/274 [==============================] - 11s 42ms/step - loss: 6.4412e-04 - accuracy: 0.9998 - val_loss: 4.0993 - val_accuracy: 0.8768\n",
            "157/157 [==============================] - 1s 9ms/step - loss: 3.8447 - accuracy: 0.8794\n",
            "              precision    recall  f1-score   support\n",
            "\n",
            "           0       0.87      0.89      0.88      2463\n",
            "           1       0.89      0.87      0.88      2537\n",
            "\n",
            "    accuracy                           0.88      5000\n",
            "   macro avg       0.88      0.88      0.88      5000\n",
            "weighted avg       0.88      0.88      0.88      5000\n",
            "\n"
          ],
          "name": "stdout"
        },
        {
          "output_type": "stream",
          "text": [
            "WARNING:absl:Found untraced functions such as gru_cell_64_layer_call_fn, gru_cell_64_layer_call_and_return_conditional_losses, gru_cell_65_layer_call_fn, gru_cell_65_layer_call_and_return_conditional_losses, gru_cell_64_layer_call_fn while saving (showing 5 of 10). These functions will not be directly callable after loading.\n"
          ],
          "name": "stderr"
        },
        {
          "output_type": "stream",
          "text": [
            "INFO:tensorflow:Assets written to: drive/MyDrive/ml_project/IMDB/models/IMDB_BiGRUAtt_HP_complete/64_0.2_rmsprop/assets\n"
          ],
          "name": "stdout"
        },
        {
          "output_type": "stream",
          "text": [
            "INFO:tensorflow:Assets written to: drive/MyDrive/ml_project/IMDB/models/IMDB_BiGRUAtt_HP_complete/64_0.2_rmsprop/assets\n"
          ],
          "name": "stderr"
        },
        {
          "output_type": "stream",
          "text": [
            "esecuzione:  40\n",
            "{'dropout': 0.3, 'num_units': 64, 'optimizer': 'adam'}\n",
            "Epoch 1/8\n",
            "274/274 [==============================] - 27s 89ms/step - loss: 0.0460 - accuracy: 0.9886 - val_loss: 1.0815 - val_accuracy: 0.8778\n",
            "Epoch 2/8\n",
            "274/274 [==============================] - 23s 82ms/step - loss: 2.4958e-04 - accuracy: 0.9999 - val_loss: 1.3800 - val_accuracy: 0.8787\n",
            "Epoch 3/8\n",
            "274/274 [==============================] - 22s 82ms/step - loss: 7.8576e-05 - accuracy: 1.0000 - val_loss: 1.5641 - val_accuracy: 0.8767\n",
            "Epoch 4/8\n",
            "274/274 [==============================] - 22s 81ms/step - loss: 1.1735e-04 - accuracy: 1.0000 - val_loss: 1.7191 - val_accuracy: 0.8753\n",
            "Epoch 5/8\n",
            "274/274 [==============================] - 22s 82ms/step - loss: 9.2573e-04 - accuracy: 0.9998 - val_loss: 1.2032 - val_accuracy: 0.8765\n",
            "Epoch 6/8\n",
            "274/274 [==============================] - 23s 82ms/step - loss: 1.3649e-04 - accuracy: 0.9999 - val_loss: 1.3800 - val_accuracy: 0.8759\n",
            "Epoch 7/8\n",
            "274/274 [==============================] - 23s 84ms/step - loss: 6.3292e-05 - accuracy: 1.0000 - val_loss: 1.5084 - val_accuracy: 0.8744\n",
            "Epoch 8/8\n",
            "274/274 [==============================] - 23s 84ms/step - loss: 2.9578e-05 - accuracy: 1.0000 - val_loss: 1.6324 - val_accuracy: 0.8763\n",
            "157/157 [==============================] - 1s 9ms/step - loss: 1.5368 - accuracy: 0.8794\n",
            "              precision    recall  f1-score   support\n",
            "\n",
            "           0       0.88      0.87      0.88      2463\n",
            "           1       0.88      0.89      0.88      2537\n",
            "\n",
            "    accuracy                           0.88      5000\n",
            "   macro avg       0.88      0.88      0.88      5000\n",
            "weighted avg       0.88      0.88      0.88      5000\n",
            "\n"
          ],
          "name": "stdout"
        },
        {
          "output_type": "stream",
          "text": [
            "WARNING:absl:Found untraced functions such as gru_cell_67_layer_call_fn, gru_cell_67_layer_call_and_return_conditional_losses, gru_cell_68_layer_call_fn, gru_cell_68_layer_call_and_return_conditional_losses, gru_cell_67_layer_call_fn while saving (showing 5 of 10). These functions will not be directly callable after loading.\n"
          ],
          "name": "stderr"
        },
        {
          "output_type": "stream",
          "text": [
            "INFO:tensorflow:Assets written to: drive/MyDrive/ml_project/IMDB/models/IMDB_BiGRUAtt_HP_complete/64_0.3_adam/assets\n"
          ],
          "name": "stdout"
        },
        {
          "output_type": "stream",
          "text": [
            "INFO:tensorflow:Assets written to: drive/MyDrive/ml_project/IMDB/models/IMDB_BiGRUAtt_HP_complete/64_0.3_adam/assets\n"
          ],
          "name": "stderr"
        },
        {
          "output_type": "stream",
          "text": [
            "esecuzione:  41\n",
            "{'dropout': 0.3, 'num_units': 64, 'optimizer': 'rmsprop'}\n",
            "Epoch 1/8\n",
            "274/274 [==============================] - 16s 49ms/step - loss: 0.0392 - accuracy: 0.9860 - val_loss: 1.1653 - val_accuracy: 0.8788\n",
            "Epoch 2/8\n",
            "274/274 [==============================] - 11s 42ms/step - loss: 0.0030 - accuracy: 0.9992 - val_loss: 1.6368 - val_accuracy: 0.8803\n",
            "Epoch 3/8\n",
            "274/274 [==============================] - 11s 42ms/step - loss: 0.0014 - accuracy: 0.9994 - val_loss: 1.9346 - val_accuracy: 0.8781\n",
            "Epoch 4/8\n",
            "274/274 [==============================] - 11s 41ms/step - loss: 4.1336e-04 - accuracy: 0.9998 - val_loss: 2.4089 - val_accuracy: 0.8760\n",
            "Epoch 5/8\n",
            "274/274 [==============================] - 11s 42ms/step - loss: 9.1376e-04 - accuracy: 0.9998 - val_loss: 3.1824 - val_accuracy: 0.8765\n",
            "Epoch 6/8\n",
            "274/274 [==============================] - 11s 42ms/step - loss: 1.0498e-04 - accuracy: 1.0000 - val_loss: 3.4372 - val_accuracy: 0.8713\n",
            "Epoch 7/8\n",
            "274/274 [==============================] - 11s 42ms/step - loss: 1.8781e-04 - accuracy: 1.0000 - val_loss: 4.1722 - val_accuracy: 0.8726\n",
            "Epoch 8/8\n",
            "274/274 [==============================] - 11s 41ms/step - loss: 0.0013 - accuracy: 0.9997 - val_loss: 3.8233 - val_accuracy: 0.8744\n",
            "157/157 [==============================] - 1s 8ms/step - loss: 3.5437 - accuracy: 0.8808\n",
            "              precision    recall  f1-score   support\n",
            "\n",
            "           0       0.90      0.86      0.88      2463\n",
            "           1       0.87      0.91      0.89      2537\n",
            "\n",
            "    accuracy                           0.88      5000\n",
            "   macro avg       0.88      0.88      0.88      5000\n",
            "weighted avg       0.88      0.88      0.88      5000\n",
            "\n"
          ],
          "name": "stdout"
        },
        {
          "output_type": "stream",
          "text": [
            "WARNING:absl:Found untraced functions such as gru_cell_70_layer_call_fn, gru_cell_70_layer_call_and_return_conditional_losses, gru_cell_71_layer_call_fn, gru_cell_71_layer_call_and_return_conditional_losses, gru_cell_70_layer_call_fn while saving (showing 5 of 10). These functions will not be directly callable after loading.\n"
          ],
          "name": "stderr"
        },
        {
          "output_type": "stream",
          "text": [
            "INFO:tensorflow:Assets written to: drive/MyDrive/ml_project/IMDB/models/IMDB_BiGRUAtt_HP_complete/64_0.3_rmsprop/assets\n"
          ],
          "name": "stdout"
        },
        {
          "output_type": "stream",
          "text": [
            "INFO:tensorflow:Assets written to: drive/MyDrive/ml_project/IMDB/models/IMDB_BiGRUAtt_HP_complete/64_0.3_rmsprop/assets\n"
          ],
          "name": "stderr"
        },
        {
          "output_type": "stream",
          "text": [
            "esecuzione:  42\n",
            "{'dropout': 0.4, 'num_units': 64, 'optimizer': 'adam'}\n",
            "Epoch 1/8\n",
            "274/274 [==============================] - 29s 92ms/step - loss: 0.0438 - accuracy: 0.9903 - val_loss: 1.2169 - val_accuracy: 0.8771\n",
            "Epoch 2/8\n",
            "274/274 [==============================] - 23s 84ms/step - loss: 0.0012 - accuracy: 0.9996 - val_loss: 1.0045 - val_accuracy: 0.8765\n",
            "Epoch 3/8\n",
            "274/274 [==============================] - 23s 82ms/step - loss: 5.1413e-04 - accuracy: 0.9999 - val_loss: 1.2470 - val_accuracy: 0.8766\n",
            "Epoch 4/8\n",
            "274/274 [==============================] - 23s 84ms/step - loss: 8.4005e-04 - accuracy: 0.9998 - val_loss: 1.3277 - val_accuracy: 0.8754\n",
            "Epoch 5/8\n",
            "274/274 [==============================] - 23s 85ms/step - loss: 4.1904e-04 - accuracy: 0.9998 - val_loss: 1.3884 - val_accuracy: 0.8765\n",
            "Epoch 6/8\n",
            "274/274 [==============================] - 23s 83ms/step - loss: 1.5285e-04 - accuracy: 1.0000 - val_loss: 1.6802 - val_accuracy: 0.8758\n",
            "Epoch 7/8\n",
            "274/274 [==============================] - 23s 82ms/step - loss: 2.8112e-05 - accuracy: 1.0000 - val_loss: 1.7638 - val_accuracy: 0.8755\n",
            "Epoch 8/8\n",
            "274/274 [==============================] - 23s 82ms/step - loss: 1.0718e-05 - accuracy: 1.0000 - val_loss: 1.8386 - val_accuracy: 0.8748\n",
            "157/157 [==============================] - 1s 9ms/step - loss: 1.7291 - accuracy: 0.8794\n",
            "              precision    recall  f1-score   support\n",
            "\n",
            "           0       0.88      0.87      0.88      2463\n",
            "           1       0.88      0.88      0.88      2537\n",
            "\n",
            "    accuracy                           0.88      5000\n",
            "   macro avg       0.88      0.88      0.88      5000\n",
            "weighted avg       0.88      0.88      0.88      5000\n",
            "\n"
          ],
          "name": "stdout"
        },
        {
          "output_type": "stream",
          "text": [
            "WARNING:absl:Found untraced functions such as gru_cell_73_layer_call_fn, gru_cell_73_layer_call_and_return_conditional_losses, gru_cell_74_layer_call_fn, gru_cell_74_layer_call_and_return_conditional_losses, gru_cell_73_layer_call_fn while saving (showing 5 of 10). These functions will not be directly callable after loading.\n"
          ],
          "name": "stderr"
        },
        {
          "output_type": "stream",
          "text": [
            "INFO:tensorflow:Assets written to: drive/MyDrive/ml_project/IMDB/models/IMDB_BiGRUAtt_HP_complete/64_0.4_adam/assets\n"
          ],
          "name": "stdout"
        },
        {
          "output_type": "stream",
          "text": [
            "INFO:tensorflow:Assets written to: drive/MyDrive/ml_project/IMDB/models/IMDB_BiGRUAtt_HP_complete/64_0.4_adam/assets\n"
          ],
          "name": "stderr"
        },
        {
          "output_type": "stream",
          "text": [
            "esecuzione:  43\n",
            "{'dropout': 0.4, 'num_units': 64, 'optimizer': 'rmsprop'}\n",
            "Epoch 1/8\n",
            "274/274 [==============================] - 18s 52ms/step - loss: 0.0420 - accuracy: 0.9855 - val_loss: 1.2294 - val_accuracy: 0.8791\n",
            "Epoch 2/8\n",
            "274/274 [==============================] - 12s 43ms/step - loss: 0.0033 - accuracy: 0.9990 - val_loss: 1.6615 - val_accuracy: 0.8760\n",
            "Epoch 3/8\n",
            "274/274 [==============================] - 12s 43ms/step - loss: 0.0021 - accuracy: 0.9995 - val_loss: 1.9688 - val_accuracy: 0.8746\n",
            "Epoch 4/8\n",
            "274/274 [==============================] - 12s 43ms/step - loss: 0.0013 - accuracy: 0.9997 - val_loss: 2.3610 - val_accuracy: 0.8759\n",
            "Epoch 5/8\n",
            "274/274 [==============================] - 12s 43ms/step - loss: 6.2955e-05 - accuracy: 1.0000 - val_loss: 2.9640 - val_accuracy: 0.8751\n",
            "Epoch 6/8\n",
            "274/274 [==============================] - 12s 42ms/step - loss: 0.0024 - accuracy: 0.9995 - val_loss: 2.6397 - val_accuracy: 0.8751\n",
            "Epoch 7/8\n",
            "274/274 [==============================] - 12s 42ms/step - loss: 2.9348e-04 - accuracy: 0.9999 - val_loss: 3.2735 - val_accuracy: 0.8757\n",
            "Epoch 8/8\n",
            "274/274 [==============================] - 12s 42ms/step - loss: 9.0921e-04 - accuracy: 0.9999 - val_loss: 3.6131 - val_accuracy: 0.8751\n",
            "157/157 [==============================] - 1s 9ms/step - loss: 3.3949 - accuracy: 0.8780\n",
            "              precision    recall  f1-score   support\n",
            "\n",
            "           0       0.87      0.88      0.88      2463\n",
            "           1       0.89      0.87      0.88      2537\n",
            "\n",
            "    accuracy                           0.88      5000\n",
            "   macro avg       0.88      0.88      0.88      5000\n",
            "weighted avg       0.88      0.88      0.88      5000\n",
            "\n"
          ],
          "name": "stdout"
        },
        {
          "output_type": "stream",
          "text": [
            "WARNING:absl:Found untraced functions such as gru_cell_76_layer_call_fn, gru_cell_76_layer_call_and_return_conditional_losses, gru_cell_77_layer_call_fn, gru_cell_77_layer_call_and_return_conditional_losses, gru_cell_76_layer_call_fn while saving (showing 5 of 10). These functions will not be directly callable after loading.\n"
          ],
          "name": "stderr"
        },
        {
          "output_type": "stream",
          "text": [
            "INFO:tensorflow:Assets written to: drive/MyDrive/ml_project/IMDB/models/IMDB_BiGRUAtt_HP_complete/64_0.4_rmsprop/assets\n"
          ],
          "name": "stdout"
        },
        {
          "output_type": "stream",
          "text": [
            "INFO:tensorflow:Assets written to: drive/MyDrive/ml_project/IMDB/models/IMDB_BiGRUAtt_HP_complete/64_0.4_rmsprop/assets\n"
          ],
          "name": "stderr"
        },
        {
          "output_type": "stream",
          "text": [
            "esecuzione:  44\n",
            "{'dropout': 0.5, 'num_units': 64, 'optimizer': 'adam'}\n",
            "Epoch 1/8\n",
            "274/274 [==============================] - 28s 91ms/step - loss: 0.0513 - accuracy: 0.9841 - val_loss: 1.2224 - val_accuracy: 0.8788\n",
            "Epoch 2/8\n",
            "274/274 [==============================] - 23s 84ms/step - loss: 0.0014 - accuracy: 0.9996 - val_loss: 1.2688 - val_accuracy: 0.8769\n",
            "Epoch 3/8\n",
            "274/274 [==============================] - 23s 83ms/step - loss: 6.2792e-04 - accuracy: 0.9998 - val_loss: 1.3703 - val_accuracy: 0.8759\n",
            "Epoch 4/8\n",
            "274/274 [==============================] - 23s 83ms/step - loss: 0.0010 - accuracy: 0.9997 - val_loss: 1.4681 - val_accuracy: 0.8757\n",
            "Epoch 5/8\n",
            "274/274 [==============================] - 23s 82ms/step - loss: 5.9280e-04 - accuracy: 0.9998 - val_loss: 1.4646 - val_accuracy: 0.8758\n",
            "Epoch 6/8\n",
            "274/274 [==============================] - 23s 84ms/step - loss: 8.9269e-04 - accuracy: 0.9997 - val_loss: 1.4957 - val_accuracy: 0.8768\n",
            "Epoch 7/8\n",
            "274/274 [==============================] - 23s 84ms/step - loss: 1.7335e-04 - accuracy: 0.9999 - val_loss: 1.7862 - val_accuracy: 0.8748\n",
            "Epoch 8/8\n",
            "274/274 [==============================] - 23s 84ms/step - loss: 0.0025 - accuracy: 0.9990 - val_loss: 1.5689 - val_accuracy: 0.8736\n",
            "157/157 [==============================] - 1s 9ms/step - loss: 1.4605 - accuracy: 0.8772\n",
            "              precision    recall  f1-score   support\n",
            "\n",
            "           0       0.88      0.87      0.87      2463\n",
            "           1       0.88      0.88      0.88      2537\n",
            "\n",
            "    accuracy                           0.88      5000\n",
            "   macro avg       0.88      0.88      0.88      5000\n",
            "weighted avg       0.88      0.88      0.88      5000\n",
            "\n"
          ],
          "name": "stdout"
        },
        {
          "output_type": "stream",
          "text": [
            "WARNING:absl:Found untraced functions such as gru_cell_79_layer_call_fn, gru_cell_79_layer_call_and_return_conditional_losses, gru_cell_80_layer_call_fn, gru_cell_80_layer_call_and_return_conditional_losses, gru_cell_79_layer_call_fn while saving (showing 5 of 10). These functions will not be directly callable after loading.\n"
          ],
          "name": "stderr"
        },
        {
          "output_type": "stream",
          "text": [
            "INFO:tensorflow:Assets written to: drive/MyDrive/ml_project/IMDB/models/IMDB_BiGRUAtt_HP_complete/64_0.5_adam/assets\n"
          ],
          "name": "stdout"
        },
        {
          "output_type": "stream",
          "text": [
            "INFO:tensorflow:Assets written to: drive/MyDrive/ml_project/IMDB/models/IMDB_BiGRUAtt_HP_complete/64_0.5_adam/assets\n"
          ],
          "name": "stderr"
        },
        {
          "output_type": "stream",
          "text": [
            "esecuzione:  45\n",
            "{'dropout': 0.5, 'num_units': 64, 'optimizer': 'rmsprop'}\n",
            "Epoch 1/8\n",
            "274/274 [==============================] - 17s 51ms/step - loss: 0.0410 - accuracy: 0.9859 - val_loss: 1.1898 - val_accuracy: 0.8816\n",
            "Epoch 2/8\n",
            "274/274 [==============================] - 11s 42ms/step - loss: 0.0024 - accuracy: 0.9989 - val_loss: 1.8764 - val_accuracy: 0.8726\n",
            "Epoch 3/8\n",
            "274/274 [==============================] - 11s 42ms/step - loss: 0.0014 - accuracy: 0.9995 - val_loss: 2.0027 - val_accuracy: 0.8746\n",
            "Epoch 4/8\n",
            "274/274 [==============================] - 11s 41ms/step - loss: 9.6486e-04 - accuracy: 0.9997 - val_loss: 2.7273 - val_accuracy: 0.8709\n",
            "Epoch 5/8\n",
            "274/274 [==============================] - 11s 42ms/step - loss: 0.0011 - accuracy: 0.9997 - val_loss: 2.6269 - val_accuracy: 0.8751\n",
            "Epoch 6/8\n",
            "274/274 [==============================] - 11s 42ms/step - loss: 0.0013 - accuracy: 0.9998 - val_loss: 3.1080 - val_accuracy: 0.8772\n",
            "Epoch 7/8\n",
            "274/274 [==============================] - 11s 42ms/step - loss: 0.0013 - accuracy: 0.9997 - val_loss: 3.0025 - val_accuracy: 0.8739\n",
            "Epoch 8/8\n",
            "274/274 [==============================] - 12s 42ms/step - loss: 0.0010 - accuracy: 0.9998 - val_loss: 3.3528 - val_accuracy: 0.8724\n",
            "157/157 [==============================] - 1s 9ms/step - loss: 3.2170 - accuracy: 0.8748\n",
            "              precision    recall  f1-score   support\n",
            "\n",
            "           0       0.85      0.90      0.88      2463\n",
            "           1       0.90      0.85      0.87      2537\n",
            "\n",
            "    accuracy                           0.87      5000\n",
            "   macro avg       0.88      0.88      0.87      5000\n",
            "weighted avg       0.88      0.87      0.87      5000\n",
            "\n"
          ],
          "name": "stdout"
        },
        {
          "output_type": "stream",
          "text": [
            "WARNING:absl:Found untraced functions such as gru_cell_82_layer_call_fn, gru_cell_82_layer_call_and_return_conditional_losses, gru_cell_83_layer_call_fn, gru_cell_83_layer_call_and_return_conditional_losses, gru_cell_82_layer_call_fn while saving (showing 5 of 10). These functions will not be directly callable after loading.\n"
          ],
          "name": "stderr"
        },
        {
          "output_type": "stream",
          "text": [
            "INFO:tensorflow:Assets written to: drive/MyDrive/ml_project/IMDB/models/IMDB_BiGRUAtt_HP_complete/64_0.5_rmsprop/assets\n"
          ],
          "name": "stdout"
        },
        {
          "output_type": "stream",
          "text": [
            "INFO:tensorflow:Assets written to: drive/MyDrive/ml_project/IMDB/models/IMDB_BiGRUAtt_HP_complete/64_0.5_rmsprop/assets\n"
          ],
          "name": "stderr"
        },
        {
          "output_type": "stream",
          "text": [
            "esecuzione:  46\n",
            "{'dropout': 0.6, 'num_units': 64, 'optimizer': 'adam'}\n",
            "Epoch 1/8\n",
            "274/274 [==============================] - 28s 91ms/step - loss: 0.0462 - accuracy: 0.9880 - val_loss: 1.4116 - val_accuracy: 0.8609\n",
            "Epoch 2/8\n",
            "274/274 [==============================] - 22s 80ms/step - loss: 0.0013 - accuracy: 0.9997 - val_loss: 1.5382 - val_accuracy: 0.8775\n",
            "Epoch 3/8\n",
            "274/274 [==============================] - 22s 80ms/step - loss: 0.0015 - accuracy: 0.9995 - val_loss: 1.4030 - val_accuracy: 0.8761\n",
            "Epoch 4/8\n",
            "274/274 [==============================] - 22s 80ms/step - loss: 9.9111e-04 - accuracy: 0.9998 - val_loss: 1.6850 - val_accuracy: 0.8766\n",
            "Epoch 5/8\n",
            "274/274 [==============================] - 22s 80ms/step - loss: 0.0020 - accuracy: 0.9994 - val_loss: 1.4429 - val_accuracy: 0.8661\n",
            "Epoch 6/8\n",
            "274/274 [==============================] - 22s 80ms/step - loss: 0.0011 - accuracy: 0.9997 - val_loss: 1.5173 - val_accuracy: 0.8745\n",
            "Epoch 7/8\n",
            "274/274 [==============================] - 22s 81ms/step - loss: 0.0013 - accuracy: 0.9995 - val_loss: 1.6765 - val_accuracy: 0.8741\n",
            "Epoch 8/8\n",
            "274/274 [==============================] - 22s 82ms/step - loss: 7.2734e-04 - accuracy: 0.9997 - val_loss: 1.6499 - val_accuracy: 0.8756\n",
            "157/157 [==============================] - 1s 8ms/step - loss: 1.5659 - accuracy: 0.8788\n",
            "              precision    recall  f1-score   support\n",
            "\n",
            "           0       0.88      0.87      0.88      2463\n",
            "           1       0.88      0.88      0.88      2537\n",
            "\n",
            "    accuracy                           0.88      5000\n",
            "   macro avg       0.88      0.88      0.88      5000\n",
            "weighted avg       0.88      0.88      0.88      5000\n",
            "\n"
          ],
          "name": "stdout"
        },
        {
          "output_type": "stream",
          "text": [
            "WARNING:absl:Found untraced functions such as gru_cell_85_layer_call_fn, gru_cell_85_layer_call_and_return_conditional_losses, gru_cell_86_layer_call_fn, gru_cell_86_layer_call_and_return_conditional_losses, gru_cell_85_layer_call_fn while saving (showing 5 of 10). These functions will not be directly callable after loading.\n"
          ],
          "name": "stderr"
        },
        {
          "output_type": "stream",
          "text": [
            "INFO:tensorflow:Assets written to: drive/MyDrive/ml_project/IMDB/models/IMDB_BiGRUAtt_HP_complete/64_0.6_adam/assets\n"
          ],
          "name": "stdout"
        },
        {
          "output_type": "stream",
          "text": [
            "INFO:tensorflow:Assets written to: drive/MyDrive/ml_project/IMDB/models/IMDB_BiGRUAtt_HP_complete/64_0.6_adam/assets\n"
          ],
          "name": "stderr"
        },
        {
          "output_type": "stream",
          "text": [
            "esecuzione:  47\n",
            "{'dropout': 0.6, 'num_units': 64, 'optimizer': 'rmsprop'}\n",
            "Epoch 1/8\n",
            "274/274 [==============================] - 16s 49ms/step - loss: 0.0400 - accuracy: 0.9857 - val_loss: 1.5806 - val_accuracy: 0.8800\n",
            "Epoch 2/8\n",
            "274/274 [==============================] - 11s 41ms/step - loss: 0.0048 - accuracy: 0.9983 - val_loss: 1.5516 - val_accuracy: 0.8773\n",
            "Epoch 3/8\n",
            "274/274 [==============================] - 11s 41ms/step - loss: 0.0027 - accuracy: 0.9991 - val_loss: 1.9110 - val_accuracy: 0.8741\n",
            "Epoch 4/8\n",
            "274/274 [==============================] - 11s 42ms/step - loss: 0.0014 - accuracy: 0.9996 - val_loss: 2.3014 - val_accuracy: 0.8765\n",
            "Epoch 5/8\n",
            "274/274 [==============================] - 11s 41ms/step - loss: 0.0020 - accuracy: 0.9995 - val_loss: 2.6811 - val_accuracy: 0.8695\n",
            "Epoch 6/8\n",
            "274/274 [==============================] - 11s 42ms/step - loss: 0.0017 - accuracy: 0.9995 - val_loss: 2.6256 - val_accuracy: 0.8736\n",
            "Epoch 7/8\n",
            "274/274 [==============================] - 11s 41ms/step - loss: 0.0015 - accuracy: 0.9994 - val_loss: 2.7007 - val_accuracy: 0.8720\n",
            "Epoch 8/8\n",
            "274/274 [==============================] - 12s 42ms/step - loss: 0.0020 - accuracy: 0.9995 - val_loss: 2.1395 - val_accuracy: 0.8732\n",
            "157/157 [==============================] - 1s 8ms/step - loss: 2.0352 - accuracy: 0.8782\n",
            "              precision    recall  f1-score   support\n",
            "\n",
            "           0       0.86      0.89      0.88      2463\n",
            "           1       0.89      0.86      0.88      2537\n",
            "\n",
            "    accuracy                           0.88      5000\n",
            "   macro avg       0.88      0.88      0.88      5000\n",
            "weighted avg       0.88      0.88      0.88      5000\n",
            "\n"
          ],
          "name": "stdout"
        },
        {
          "output_type": "stream",
          "text": [
            "WARNING:absl:Found untraced functions such as gru_cell_88_layer_call_fn, gru_cell_88_layer_call_and_return_conditional_losses, gru_cell_89_layer_call_fn, gru_cell_89_layer_call_and_return_conditional_losses, gru_cell_88_layer_call_fn while saving (showing 5 of 10). These functions will not be directly callable after loading.\n"
          ],
          "name": "stderr"
        },
        {
          "output_type": "stream",
          "text": [
            "INFO:tensorflow:Assets written to: drive/MyDrive/ml_project/IMDB/models/IMDB_BiGRUAtt_HP_complete/64_0.6_rmsprop/assets\n"
          ],
          "name": "stdout"
        },
        {
          "output_type": "stream",
          "text": [
            "INFO:tensorflow:Assets written to: drive/MyDrive/ml_project/IMDB/models/IMDB_BiGRUAtt_HP_complete/64_0.6_rmsprop/assets\n"
          ],
          "name": "stderr"
        },
        {
          "output_type": "stream",
          "text": [
            "esecuzione:  48\n",
            "{'dropout': 0.7, 'num_units': 64, 'optimizer': 'adam'}\n",
            "Epoch 1/8\n",
            "274/274 [==============================] - 28s 90ms/step - loss: 0.0619 - accuracy: 0.9804 - val_loss: 1.2366 - val_accuracy: 0.8793\n",
            "Epoch 2/8\n",
            "274/274 [==============================] - 22s 82ms/step - loss: 0.0046 - accuracy: 0.9983 - val_loss: 1.3713 - val_accuracy: 0.8755\n",
            "Epoch 3/8\n",
            "274/274 [==============================] - 22s 81ms/step - loss: 0.0037 - accuracy: 0.9988 - val_loss: 1.4984 - val_accuracy: 0.8758\n",
            "Epoch 4/8\n",
            "274/274 [==============================] - 22s 82ms/step - loss: 0.0036 - accuracy: 0.9987 - val_loss: 1.3802 - val_accuracy: 0.8746\n",
            "Epoch 5/8\n",
            "274/274 [==============================] - 22s 82ms/step - loss: 0.0024 - accuracy: 0.9992 - val_loss: 1.4637 - val_accuracy: 0.8717\n",
            "Epoch 6/8\n",
            "274/274 [==============================] - 22s 82ms/step - loss: 0.0019 - accuracy: 0.9993 - val_loss: 1.4667 - val_accuracy: 0.8738\n",
            "Epoch 7/8\n",
            "274/274 [==============================] - 22s 82ms/step - loss: 0.0028 - accuracy: 0.9990 - val_loss: 1.5624 - val_accuracy: 0.8749\n",
            "Epoch 8/8\n",
            "274/274 [==============================] - 22s 82ms/step - loss: 0.0022 - accuracy: 0.9992 - val_loss: 1.4731 - val_accuracy: 0.8759\n",
            "157/157 [==============================] - 1s 9ms/step - loss: 1.3838 - accuracy: 0.8786\n",
            "              precision    recall  f1-score   support\n",
            "\n",
            "           0       0.89      0.86      0.87      2463\n",
            "           1       0.87      0.90      0.88      2537\n",
            "\n",
            "    accuracy                           0.88      5000\n",
            "   macro avg       0.88      0.88      0.88      5000\n",
            "weighted avg       0.88      0.88      0.88      5000\n",
            "\n"
          ],
          "name": "stdout"
        },
        {
          "output_type": "stream",
          "text": [
            "WARNING:absl:Found untraced functions such as gru_cell_91_layer_call_fn, gru_cell_91_layer_call_and_return_conditional_losses, gru_cell_92_layer_call_fn, gru_cell_92_layer_call_and_return_conditional_losses, gru_cell_91_layer_call_fn while saving (showing 5 of 10). These functions will not be directly callable after loading.\n"
          ],
          "name": "stderr"
        },
        {
          "output_type": "stream",
          "text": [
            "INFO:tensorflow:Assets written to: drive/MyDrive/ml_project/IMDB/models/IMDB_BiGRUAtt_HP_complete/64_0.7_adam/assets\n"
          ],
          "name": "stdout"
        },
        {
          "output_type": "stream",
          "text": [
            "INFO:tensorflow:Assets written to: drive/MyDrive/ml_project/IMDB/models/IMDB_BiGRUAtt_HP_complete/64_0.7_adam/assets\n"
          ],
          "name": "stderr"
        },
        {
          "output_type": "stream",
          "text": [
            "esecuzione:  49\n",
            "{'dropout': 0.7, 'num_units': 64, 'optimizer': 'rmsprop'}\n",
            "Epoch 1/8\n",
            "274/274 [==============================] - 16s 48ms/step - loss: 0.0515 - accuracy: 0.9806 - val_loss: 1.6047 - val_accuracy: 0.8787\n",
            "Epoch 2/8\n",
            "274/274 [==============================] - 11s 42ms/step - loss: 0.0055 - accuracy: 0.9982 - val_loss: 1.6042 - val_accuracy: 0.8745\n",
            "Epoch 3/8\n",
            "274/274 [==============================] - 12s 43ms/step - loss: 0.0047 - accuracy: 0.9983 - val_loss: 1.6106 - val_accuracy: 0.8738\n",
            "Epoch 4/8\n",
            "274/274 [==============================] - 12s 42ms/step - loss: 0.0042 - accuracy: 0.9985 - val_loss: 1.5014 - val_accuracy: 0.8776\n",
            "Epoch 5/8\n",
            "274/274 [==============================] - 12s 43ms/step - loss: 0.0026 - accuracy: 0.9991 - val_loss: 2.1289 - val_accuracy: 0.8705\n",
            "Epoch 6/8\n",
            "274/274 [==============================] - 12s 45ms/step - loss: 0.0033 - accuracy: 0.9989 - val_loss: 1.7406 - val_accuracy: 0.8746\n",
            "Epoch 7/8\n",
            "274/274 [==============================] - 12s 44ms/step - loss: 0.0027 - accuracy: 0.9991 - val_loss: 1.6790 - val_accuracy: 0.8754\n",
            "Epoch 8/8\n",
            "274/274 [==============================] - 12s 43ms/step - loss: 0.0026 - accuracy: 0.9992 - val_loss: 1.6998 - val_accuracy: 0.8750\n",
            "157/157 [==============================] - 1s 9ms/step - loss: 1.5956 - accuracy: 0.8790\n",
            "              precision    recall  f1-score   support\n",
            "\n",
            "           0       0.87      0.89      0.88      2463\n",
            "           1       0.89      0.87      0.88      2537\n",
            "\n",
            "    accuracy                           0.88      5000\n",
            "   macro avg       0.88      0.88      0.88      5000\n",
            "weighted avg       0.88      0.88      0.88      5000\n",
            "\n"
          ],
          "name": "stdout"
        },
        {
          "output_type": "stream",
          "text": [
            "WARNING:absl:Found untraced functions such as gru_cell_94_layer_call_fn, gru_cell_94_layer_call_and_return_conditional_losses, gru_cell_95_layer_call_fn, gru_cell_95_layer_call_and_return_conditional_losses, gru_cell_94_layer_call_fn while saving (showing 5 of 10). These functions will not be directly callable after loading.\n"
          ],
          "name": "stderr"
        },
        {
          "output_type": "stream",
          "text": [
            "INFO:tensorflow:Assets written to: drive/MyDrive/ml_project/IMDB/models/IMDB_BiGRUAtt_HP_complete/64_0.7_rmsprop/assets\n"
          ],
          "name": "stdout"
        },
        {
          "output_type": "stream",
          "text": [
            "INFO:tensorflow:Assets written to: drive/MyDrive/ml_project/IMDB/models/IMDB_BiGRUAtt_HP_complete/64_0.7_rmsprop/assets\n"
          ],
          "name": "stderr"
        },
        {
          "output_type": "stream",
          "text": [
            "esecuzione:  50\n",
            "{'dropout': 0.8, 'num_units': 64, 'optimizer': 'adam'}\n",
            "Epoch 1/8\n",
            "274/274 [==============================] - 27s 90ms/step - loss: 0.0736 - accuracy: 0.9776 - val_loss: 1.2507 - val_accuracy: 0.8785\n",
            "Epoch 2/8\n",
            "274/274 [==============================] - 23s 82ms/step - loss: 0.0112 - accuracy: 0.9964 - val_loss: 1.3158 - val_accuracy: 0.8799\n",
            "Epoch 3/8\n",
            "274/274 [==============================] - 22s 80ms/step - loss: 0.0098 - accuracy: 0.9965 - val_loss: 1.2341 - val_accuracy: 0.8767\n",
            "Epoch 4/8\n",
            "274/274 [==============================] - 22s 79ms/step - loss: 0.0086 - accuracy: 0.9969 - val_loss: 1.2120 - val_accuracy: 0.8771\n",
            "Epoch 5/8\n",
            "274/274 [==============================] - 22s 80ms/step - loss: 0.0098 - accuracy: 0.9963 - val_loss: 1.2645 - val_accuracy: 0.8702\n",
            "Epoch 6/8\n",
            "274/274 [==============================] - 22s 80ms/step - loss: 0.0070 - accuracy: 0.9975 - val_loss: 1.2576 - val_accuracy: 0.8751\n",
            "Epoch 7/8\n",
            "274/274 [==============================] - 22s 79ms/step - loss: 0.0074 - accuracy: 0.9971 - val_loss: 1.2260 - val_accuracy: 0.8765\n",
            "Epoch 8/8\n",
            "274/274 [==============================] - 22s 79ms/step - loss: 0.0058 - accuracy: 0.9980 - val_loss: 1.2580 - val_accuracy: 0.8762\n",
            "157/157 [==============================] - 1s 9ms/step - loss: 1.1800 - accuracy: 0.8832\n",
            "              precision    recall  f1-score   support\n",
            "\n",
            "           0       0.88      0.88      0.88      2463\n",
            "           1       0.89      0.88      0.88      2537\n",
            "\n",
            "    accuracy                           0.88      5000\n",
            "   macro avg       0.88      0.88      0.88      5000\n",
            "weighted avg       0.88      0.88      0.88      5000\n",
            "\n"
          ],
          "name": "stdout"
        },
        {
          "output_type": "stream",
          "text": [
            "WARNING:absl:Found untraced functions such as gru_cell_97_layer_call_fn, gru_cell_97_layer_call_and_return_conditional_losses, gru_cell_98_layer_call_fn, gru_cell_98_layer_call_and_return_conditional_losses, gru_cell_97_layer_call_fn while saving (showing 5 of 10). These functions will not be directly callable after loading.\n"
          ],
          "name": "stderr"
        },
        {
          "output_type": "stream",
          "text": [
            "INFO:tensorflow:Assets written to: drive/MyDrive/ml_project/IMDB/models/IMDB_BiGRUAtt_HP_complete/64_0.8_adam/assets\n"
          ],
          "name": "stdout"
        },
        {
          "output_type": "stream",
          "text": [
            "INFO:tensorflow:Assets written to: drive/MyDrive/ml_project/IMDB/models/IMDB_BiGRUAtt_HP_complete/64_0.8_adam/assets\n"
          ],
          "name": "stderr"
        },
        {
          "output_type": "stream",
          "text": [
            "esecuzione:  51\n",
            "{'dropout': 0.8, 'num_units': 64, 'optimizer': 'rmsprop'}\n",
            "Epoch 1/8\n",
            "274/274 [==============================] - 16s 49ms/step - loss: 0.0629 - accuracy: 0.9783 - val_loss: 1.3424 - val_accuracy: 0.8724\n",
            "Epoch 2/8\n",
            "274/274 [==============================] - 12s 44ms/step - loss: 0.0130 - accuracy: 0.9948 - val_loss: 1.2901 - val_accuracy: 0.8772\n",
            "Epoch 3/8\n",
            "274/274 [==============================] - 11s 42ms/step - loss: 0.0098 - accuracy: 0.9964 - val_loss: 1.4584 - val_accuracy: 0.8788\n",
            "Epoch 4/8\n",
            "274/274 [==============================] - 11s 42ms/step - loss: 0.0087 - accuracy: 0.9970 - val_loss: 1.2035 - val_accuracy: 0.8769\n",
            "Epoch 5/8\n",
            "274/274 [==============================] - 11s 42ms/step - loss: 0.0081 - accuracy: 0.9973 - val_loss: 1.2773 - val_accuracy: 0.8736\n",
            "Epoch 6/8\n",
            "274/274 [==============================] - 12s 43ms/step - loss: 0.0076 - accuracy: 0.9975 - val_loss: 1.2073 - val_accuracy: 0.8770\n",
            "Epoch 7/8\n",
            "274/274 [==============================] - 12s 42ms/step - loss: 0.0077 - accuracy: 0.9973 - val_loss: 1.4690 - val_accuracy: 0.8769\n",
            "Epoch 8/8\n",
            "274/274 [==============================] - 12s 43ms/step - loss: 0.0077 - accuracy: 0.9976 - val_loss: 1.3595 - val_accuracy: 0.8768\n",
            "157/157 [==============================] - 2s 10ms/step - loss: 1.2792 - accuracy: 0.8812\n",
            "              precision    recall  f1-score   support\n",
            "\n",
            "           0       0.88      0.87      0.88      2463\n",
            "           1       0.88      0.89      0.88      2537\n",
            "\n",
            "    accuracy                           0.88      5000\n",
            "   macro avg       0.88      0.88      0.88      5000\n",
            "weighted avg       0.88      0.88      0.88      5000\n",
            "\n"
          ],
          "name": "stdout"
        },
        {
          "output_type": "stream",
          "text": [
            "WARNING:absl:Found untraced functions such as gru_cell_100_layer_call_fn, gru_cell_100_layer_call_and_return_conditional_losses, gru_cell_101_layer_call_fn, gru_cell_101_layer_call_and_return_conditional_losses, gru_cell_100_layer_call_fn while saving (showing 5 of 10). These functions will not be directly callable after loading.\n"
          ],
          "name": "stderr"
        },
        {
          "output_type": "stream",
          "text": [
            "INFO:tensorflow:Assets written to: drive/MyDrive/ml_project/IMDB/models/IMDB_BiGRUAtt_HP_complete/64_0.8_rmsprop/assets\n"
          ],
          "name": "stdout"
        },
        {
          "output_type": "stream",
          "text": [
            "INFO:tensorflow:Assets written to: drive/MyDrive/ml_project/IMDB/models/IMDB_BiGRUAtt_HP_complete/64_0.8_rmsprop/assets\n"
          ],
          "name": "stderr"
        },
        {
          "output_type": "stream",
          "text": [
            "esecuzione:  52\n",
            "{'dropout': 0.9, 'num_units': 64, 'optimizer': 'adam'}\n",
            "Epoch 1/8\n",
            "274/274 [==============================] - 28s 91ms/step - loss: 0.1224 - accuracy: 0.9548 - val_loss: 0.9733 - val_accuracy: 0.8821\n",
            "Epoch 2/8\n",
            "274/274 [==============================] - 23s 83ms/step - loss: 0.0455 - accuracy: 0.9833 - val_loss: 0.8525 - val_accuracy: 0.8828\n",
            "Epoch 3/8\n",
            "274/274 [==============================] - 22s 82ms/step - loss: 0.0427 - accuracy: 0.9844 - val_loss: 0.9426 - val_accuracy: 0.8797\n",
            "Epoch 4/8\n",
            "274/274 [==============================] - 22s 82ms/step - loss: 0.0354 - accuracy: 0.9863 - val_loss: 0.9209 - val_accuracy: 0.8814\n",
            "Epoch 5/8\n",
            "274/274 [==============================] - 22s 82ms/step - loss: 0.0334 - accuracy: 0.9879 - val_loss: 0.8454 - val_accuracy: 0.8822\n",
            "Epoch 6/8\n",
            "274/274 [==============================] - 22s 81ms/step - loss: 0.0371 - accuracy: 0.9861 - val_loss: 0.8269 - val_accuracy: 0.8830\n",
            "Epoch 7/8\n",
            "274/274 [==============================] - 22s 81ms/step - loss: 0.0315 - accuracy: 0.9884 - val_loss: 0.8594 - val_accuracy: 0.8828\n",
            "Epoch 8/8\n",
            "274/274 [==============================] - 23s 83ms/step - loss: 0.0307 - accuracy: 0.9882 - val_loss: 0.8428 - val_accuracy: 0.8808\n",
            "157/157 [==============================] - 1s 9ms/step - loss: 0.7944 - accuracy: 0.8828\n",
            "              precision    recall  f1-score   support\n",
            "\n",
            "           0       0.89      0.87      0.88      2463\n",
            "           1       0.88      0.89      0.89      2537\n",
            "\n",
            "    accuracy                           0.88      5000\n",
            "   macro avg       0.88      0.88      0.88      5000\n",
            "weighted avg       0.88      0.88      0.88      5000\n",
            "\n"
          ],
          "name": "stdout"
        },
        {
          "output_type": "stream",
          "text": [
            "WARNING:absl:Found untraced functions such as gru_cell_103_layer_call_fn, gru_cell_103_layer_call_and_return_conditional_losses, gru_cell_104_layer_call_fn, gru_cell_104_layer_call_and_return_conditional_losses, gru_cell_103_layer_call_fn while saving (showing 5 of 10). These functions will not be directly callable after loading.\n"
          ],
          "name": "stderr"
        },
        {
          "output_type": "stream",
          "text": [
            "INFO:tensorflow:Assets written to: drive/MyDrive/ml_project/IMDB/models/IMDB_BiGRUAtt_HP_complete/64_0.9_adam/assets\n"
          ],
          "name": "stdout"
        },
        {
          "output_type": "stream",
          "text": [
            "INFO:tensorflow:Assets written to: drive/MyDrive/ml_project/IMDB/models/IMDB_BiGRUAtt_HP_complete/64_0.9_adam/assets\n"
          ],
          "name": "stderr"
        },
        {
          "output_type": "stream",
          "text": [
            "esecuzione:  53\n",
            "{'dropout': 0.9, 'num_units': 64, 'optimizer': 'rmsprop'}\n",
            "Epoch 1/8\n",
            "274/274 [==============================] - 17s 52ms/step - loss: 0.1062 - accuracy: 0.9593 - val_loss: 0.9932 - val_accuracy: 0.8844\n",
            "Epoch 2/8\n",
            "274/274 [==============================] - 12s 44ms/step - loss: 0.0433 - accuracy: 0.9834 - val_loss: 0.9930 - val_accuracy: 0.8829\n",
            "Epoch 3/8\n",
            "274/274 [==============================] - 12s 42ms/step - loss: 0.0381 - accuracy: 0.9857 - val_loss: 0.8897 - val_accuracy: 0.8787\n",
            "Epoch 4/8\n",
            "274/274 [==============================] - 11s 42ms/step - loss: 0.0361 - accuracy: 0.9860 - val_loss: 0.9649 - val_accuracy: 0.8777\n",
            "Epoch 5/8\n",
            "274/274 [==============================] - 12s 42ms/step - loss: 0.0367 - accuracy: 0.9866 - val_loss: 0.8911 - val_accuracy: 0.8836\n",
            "Epoch 6/8\n",
            "274/274 [==============================] - 11s 42ms/step - loss: 0.0325 - accuracy: 0.9878 - val_loss: 0.8667 - val_accuracy: 0.8832\n",
            "Epoch 7/8\n",
            "274/274 [==============================] - 12s 42ms/step - loss: 0.0337 - accuracy: 0.9869 - val_loss: 0.9295 - val_accuracy: 0.8796\n",
            "Epoch 8/8\n",
            "274/274 [==============================] - 12s 42ms/step - loss: 0.0305 - accuracy: 0.9890 - val_loss: 0.9688 - val_accuracy: 0.8795\n",
            "157/157 [==============================] - 1s 8ms/step - loss: 0.9032 - accuracy: 0.8852\n",
            "              precision    recall  f1-score   support\n",
            "\n",
            "           0       0.91      0.86      0.88      2463\n",
            "           1       0.87      0.91      0.89      2537\n",
            "\n",
            "    accuracy                           0.89      5000\n",
            "   macro avg       0.89      0.88      0.89      5000\n",
            "weighted avg       0.89      0.89      0.89      5000\n",
            "\n"
          ],
          "name": "stdout"
        },
        {
          "output_type": "stream",
          "text": [
            "WARNING:absl:Found untraced functions such as gru_cell_106_layer_call_fn, gru_cell_106_layer_call_and_return_conditional_losses, gru_cell_107_layer_call_fn, gru_cell_107_layer_call_and_return_conditional_losses, gru_cell_106_layer_call_fn while saving (showing 5 of 10). These functions will not be directly callable after loading.\n"
          ],
          "name": "stderr"
        },
        {
          "output_type": "stream",
          "text": [
            "INFO:tensorflow:Assets written to: drive/MyDrive/ml_project/IMDB/models/IMDB_BiGRUAtt_HP_complete/64_0.9_rmsprop/assets\n"
          ],
          "name": "stdout"
        },
        {
          "output_type": "stream",
          "text": [
            "INFO:tensorflow:Assets written to: drive/MyDrive/ml_project/IMDB/models/IMDB_BiGRUAtt_HP_complete/64_0.9_rmsprop/assets\n"
          ],
          "name": "stderr"
        }
      ]
    },
    {
      "cell_type": "markdown",
      "metadata": {
        "id": "WGv0WR4jrHjG"
      },
      "source": [
        "RMSProp, 16, 0.9"
      ]
    },
    {
      "cell_type": "code",
      "metadata": {
        "id": "9iHIT02IqcIa"
      },
      "source": [
        "HP_LR = hp.HParam('learning_rate', hp.Discrete([0.0001, 0.001, 0.005, 0.009, 0.1, 0.2, 0.25, 0.3]))\n",
        "\n",
        "\n",
        "log_dir = 'drive/MyDrive/ml_project/IMDB/logs/IMDB_BiGRUAtt_HP_complete_LR'\n",
        "METRIC_ACCURACY = 'accuracy'\n",
        "METRIC_PRECISION = \"precision\"\n",
        "METRIC_RECALL = \"recall\"\n",
        "\n",
        "with tensorflow.summary.create_file_writer(log_dir).as_default():\n",
        "    hp.hparams_config(\n",
        "        hparams=[HP_LR],\n",
        "        metrics=[hp.Metric(METRIC_ACCURACY, display_name=\"Accuracy\"), hp.Metric(METRIC_PRECISION, display_name=\"Precision\"), hp.Metric(METRIC_RECALL, display_name=\"Recall\")],\n",
        "    )"
      ],
      "execution_count": 24,
      "outputs": []
    },
    {
      "cell_type": "code",
      "metadata": {
        "id": "Ctgbs1Drq1mf"
      },
      "source": [
        "def run(run_dir, hparams):\n",
        "    with tensorflow.summary.create_file_writer(run_dir).as_default():\n",
        "        hp.hparams(hparams)\n",
        "        accuracy, precision, recall = train_test_model(hparams)\n",
        "        tensorflow.summary.scalar(METRIC_ACCURACY, accuracy, step=1)\n",
        "        tensorflow.summary.scalar(METRIC_PRECISION, precision, step=1)\n",
        "        tensorflow.summary.scalar(METRIC_RECALL, recall, step=1)"
      ],
      "execution_count": 25,
      "outputs": []
    },
    {
      "cell_type": "code",
      "metadata": {
        "id": "5qW0-sj5q4K4"
      },
      "source": [
        "def train_test_model(hparams):\n",
        "    model = Sequential([\n",
        "        embedding_layer,\n",
        "        Bidirectional(GRU(units=16, return_sequences=True, dropout=0.9)),\n",
        "        Dense(16),\n",
        "        Dense(16),\n",
        "        attention(),\n",
        "        Dense(2, activation=\"sigmoid\"),\n",
        "    ])\n",
        "    opt = RMSprop(learning_rate=hparams[HP_LR])\n",
        "    model.compile(optimizer=opt, loss=\"binary_crossentropy\", metrics=[\"accuracy\"])\n",
        "    model.fit(x_train_index[:35000], y_train_categorical[:35000], epochs=8, batch_size=128, verbose=1, validation_data=(x_train_index[35000:], y_train_categorical[35000:]), callbacks=[tensorflow.keras.callbacks.TensorBoard(log_dir), hp.KerasCallback(log_dir, hparams)])\n",
        "    _, accuracy = model.evaluate(x_test_index, y_test_categorical)\n",
        "    y_pred = np.argmax(model.predict(x_test_index), axis=1).astype(\"float32\")\n",
        "    print(classification_report(y_test, y_pred))\n",
        "    model.save(\"drive/MyDrive/ml_project/IMDB/models/IMDB_BiGRUAtt_HP_complete_LR/{}_{}_{}\".format(16, 0.9, hparams[HP_LR]))\n",
        "    return accuracy, precision_score(y_test, y_pred), recall_score(y_test, y_pred)"
      ],
      "execution_count": 26,
      "outputs": []
    },
    {
      "cell_type": "code",
      "metadata": {
        "colab": {
          "base_uri": "https://localhost:8080/"
        },
        "id": "QmfNsHiSrzSc",
        "outputId": "da9adf3b-cbe8-4536-b1af-90e5e8a3f0ca"
      },
      "source": [
        "n_esecuzione = 0\n",
        "for lr in HP_LR.domain.values:\n",
        "    hparams = {\n",
        "        HP_LR: lr,\n",
        "        }\n",
        "    print(\"esecuzione: \", n_esecuzione)\n",
        "    print({h.name: hparams[h] for h in hparams})\n",
        "    run(log_dir + \"/esecuzione_{}\".format(n_esecuzione), hparams)\n",
        "    n_esecuzione += 1"
      ],
      "execution_count": 27,
      "outputs": [
        {
          "output_type": "stream",
          "text": [
            "esecuzione:  0\n",
            "{'learning_rate': 0.0001}\n",
            "Epoch 1/8\n",
            "274/274 [==============================] - 17s 51ms/step - loss: 0.6863 - accuracy: 0.5882 - val_loss: 0.6644 - val_accuracy: 0.7582\n",
            "Epoch 2/8\n",
            "274/274 [==============================] - 11s 42ms/step - loss: 0.6696 - accuracy: 0.6595 - val_loss: 0.6188 - val_accuracy: 0.7480\n",
            "Epoch 3/8\n",
            "274/274 [==============================] - 12s 43ms/step - loss: 0.6378 - accuracy: 0.7052 - val_loss: 0.5579 - val_accuracy: 0.7362\n",
            "Epoch 4/8\n",
            "274/274 [==============================] - 11s 41ms/step - loss: 0.5922 - accuracy: 0.7248 - val_loss: 0.5250 - val_accuracy: 0.7414\n",
            "Epoch 5/8\n",
            "274/274 [==============================] - 11s 41ms/step - loss: 0.5463 - accuracy: 0.7422 - val_loss: 0.5229 - val_accuracy: 0.7645\n",
            "Epoch 6/8\n",
            "274/274 [==============================] - 12s 42ms/step - loss: 0.5128 - accuracy: 0.7566 - val_loss: 0.4987 - val_accuracy: 0.7943\n",
            "Epoch 7/8\n",
            "274/274 [==============================] - 11s 42ms/step - loss: 0.4977 - accuracy: 0.7643 - val_loss: 0.4918 - val_accuracy: 0.8065\n",
            "Epoch 8/8\n",
            "274/274 [==============================] - 12s 44ms/step - loss: 0.4834 - accuracy: 0.7727 - val_loss: 0.4668 - val_accuracy: 0.8201\n",
            "157/157 [==============================] - 1s 9ms/step - loss: 0.4819 - accuracy: 0.8212\n",
            "              precision    recall  f1-score   support\n",
            "\n",
            "           0       0.79      0.86      0.83      2463\n",
            "           1       0.85      0.78      0.82      2537\n",
            "\n",
            "    accuracy                           0.82      5000\n",
            "   macro avg       0.82      0.82      0.82      5000\n",
            "weighted avg       0.82      0.82      0.82      5000\n",
            "\n"
          ],
          "name": "stdout"
        },
        {
          "output_type": "stream",
          "text": [
            "WARNING:absl:Found untraced functions such as gru_cell_4_layer_call_fn, gru_cell_4_layer_call_and_return_conditional_losses, gru_cell_5_layer_call_fn, gru_cell_5_layer_call_and_return_conditional_losses, gru_cell_4_layer_call_fn while saving (showing 5 of 10). These functions will not be directly callable after loading.\n"
          ],
          "name": "stderr"
        },
        {
          "output_type": "stream",
          "text": [
            "INFO:tensorflow:Assets written to: drive/MyDrive/ml_project/IMDB/models/IMDB_BiGRUAtt_HP_complete_LR/16_0.9_0.0001/assets\n"
          ],
          "name": "stdout"
        },
        {
          "output_type": "stream",
          "text": [
            "INFO:tensorflow:Assets written to: drive/MyDrive/ml_project/IMDB/models/IMDB_BiGRUAtt_HP_complete_LR/16_0.9_0.0001/assets\n"
          ],
          "name": "stderr"
        },
        {
          "output_type": "stream",
          "text": [
            "esecuzione:  1\n",
            "{'learning_rate': 0.001}\n",
            "Epoch 1/8\n",
            "274/274 [==============================] - 17s 50ms/step - loss: 0.5345 - accuracy: 0.7389 - val_loss: 0.4522 - val_accuracy: 0.8297\n",
            "Epoch 2/8\n",
            "274/274 [==============================] - 11s 42ms/step - loss: 0.4280 - accuracy: 0.8068 - val_loss: 0.3637 - val_accuracy: 0.8579\n",
            "Epoch 3/8\n",
            "274/274 [==============================] - 11s 41ms/step - loss: 0.3957 - accuracy: 0.8226 - val_loss: 0.3765 - val_accuracy: 0.8608\n",
            "Epoch 4/8\n",
            "274/274 [==============================] - 11s 41ms/step - loss: 0.3750 - accuracy: 0.8313 - val_loss: 0.3497 - val_accuracy: 0.8706\n",
            "Epoch 5/8\n",
            "274/274 [==============================] - 11s 42ms/step - loss: 0.3545 - accuracy: 0.8431 - val_loss: 0.3382 - val_accuracy: 0.8725\n",
            "Epoch 6/8\n",
            "274/274 [==============================] - 11s 41ms/step - loss: 0.3433 - accuracy: 0.8495 - val_loss: 0.3162 - val_accuracy: 0.8801\n",
            "Epoch 7/8\n",
            "274/274 [==============================] - 11s 41ms/step - loss: 0.3305 - accuracy: 0.8558 - val_loss: 0.3142 - val_accuracy: 0.8836\n",
            "Epoch 8/8\n",
            "274/274 [==============================] - 11s 41ms/step - loss: 0.3247 - accuracy: 0.8608 - val_loss: 0.3141 - val_accuracy: 0.8825\n",
            "157/157 [==============================] - 1s 9ms/step - loss: 0.3137 - accuracy: 0.8800\n",
            "              precision    recall  f1-score   support\n",
            "\n",
            "           0       0.86      0.90      0.88      2463\n",
            "           1       0.90      0.86      0.88      2537\n",
            "\n",
            "    accuracy                           0.88      5000\n",
            "   macro avg       0.88      0.88      0.88      5000\n",
            "weighted avg       0.88      0.88      0.88      5000\n",
            "\n"
          ],
          "name": "stdout"
        },
        {
          "output_type": "stream",
          "text": [
            "WARNING:absl:Found untraced functions such as gru_cell_7_layer_call_fn, gru_cell_7_layer_call_and_return_conditional_losses, gru_cell_8_layer_call_fn, gru_cell_8_layer_call_and_return_conditional_losses, gru_cell_7_layer_call_fn while saving (showing 5 of 10). These functions will not be directly callable after loading.\n"
          ],
          "name": "stderr"
        },
        {
          "output_type": "stream",
          "text": [
            "INFO:tensorflow:Assets written to: drive/MyDrive/ml_project/IMDB/models/IMDB_BiGRUAtt_HP_complete_LR/16_0.9_0.001/assets\n"
          ],
          "name": "stdout"
        },
        {
          "output_type": "stream",
          "text": [
            "INFO:tensorflow:Assets written to: drive/MyDrive/ml_project/IMDB/models/IMDB_BiGRUAtt_HP_complete_LR/16_0.9_0.001/assets\n"
          ],
          "name": "stderr"
        },
        {
          "output_type": "stream",
          "text": [
            "esecuzione:  2\n",
            "{'learning_rate': 0.005}\n",
            "Epoch 1/8\n",
            "274/274 [==============================] - 17s 51ms/step - loss: 0.3926 - accuracy: 0.8198 - val_loss: 0.3345 - val_accuracy: 0.8761\n",
            "Epoch 2/8\n",
            "274/274 [==============================] - 11s 41ms/step - loss: 0.3096 - accuracy: 0.8693 - val_loss: 0.4015 - val_accuracy: 0.8534\n",
            "Epoch 3/8\n",
            "274/274 [==============================] - 11s 41ms/step - loss: 0.2892 - accuracy: 0.8788 - val_loss: 0.2945 - val_accuracy: 0.8899\n",
            "Epoch 4/8\n",
            "274/274 [==============================] - 11s 41ms/step - loss: 0.2665 - accuracy: 0.8897 - val_loss: 0.3571 - val_accuracy: 0.8802\n",
            "Epoch 5/8\n",
            "274/274 [==============================] - 11s 41ms/step - loss: 0.2499 - accuracy: 0.8988 - val_loss: 0.2997 - val_accuracy: 0.8940\n",
            "Epoch 6/8\n",
            "274/274 [==============================] - 11s 41ms/step - loss: 0.2381 - accuracy: 0.9042 - val_loss: 0.2863 - val_accuracy: 0.8975\n",
            "Epoch 7/8\n",
            "274/274 [==============================] - 11s 42ms/step - loss: 0.2294 - accuracy: 0.9065 - val_loss: 0.2870 - val_accuracy: 0.8986\n",
            "Epoch 8/8\n",
            "274/274 [==============================] - 11s 41ms/step - loss: 0.2188 - accuracy: 0.9121 - val_loss: 0.2699 - val_accuracy: 0.8982\n",
            "157/157 [==============================] - 1s 9ms/step - loss: 0.2769 - accuracy: 0.8968\n",
            "              precision    recall  f1-score   support\n",
            "\n",
            "           0       0.88      0.91      0.90      2463\n",
            "           1       0.91      0.88      0.90      2537\n",
            "\n",
            "    accuracy                           0.90      5000\n",
            "   macro avg       0.90      0.90      0.90      5000\n",
            "weighted avg       0.90      0.90      0.90      5000\n",
            "\n"
          ],
          "name": "stdout"
        },
        {
          "output_type": "stream",
          "text": [
            "WARNING:absl:Found untraced functions such as gru_cell_10_layer_call_fn, gru_cell_10_layer_call_and_return_conditional_losses, gru_cell_11_layer_call_fn, gru_cell_11_layer_call_and_return_conditional_losses, gru_cell_10_layer_call_fn while saving (showing 5 of 10). These functions will not be directly callable after loading.\n"
          ],
          "name": "stderr"
        },
        {
          "output_type": "stream",
          "text": [
            "INFO:tensorflow:Assets written to: drive/MyDrive/ml_project/IMDB/models/IMDB_BiGRUAtt_HP_complete_LR/16_0.9_0.005/assets\n"
          ],
          "name": "stdout"
        },
        {
          "output_type": "stream",
          "text": [
            "INFO:tensorflow:Assets written to: drive/MyDrive/ml_project/IMDB/models/IMDB_BiGRUAtt_HP_complete_LR/16_0.9_0.005/assets\n"
          ],
          "name": "stderr"
        },
        {
          "output_type": "stream",
          "text": [
            "esecuzione:  3\n",
            "{'learning_rate': 0.009}\n",
            "Epoch 1/8\n",
            "274/274 [==============================] - 18s 51ms/step - loss: 0.2915 - accuracy: 0.8717 - val_loss: 0.3163 - val_accuracy: 0.8852\n",
            "Epoch 2/8\n",
            "274/274 [==============================] - 12s 43ms/step - loss: 0.2304 - accuracy: 0.9070 - val_loss: 0.3578 - val_accuracy: 0.8815\n",
            "Epoch 3/8\n",
            "274/274 [==============================] - 11s 41ms/step - loss: 0.2150 - accuracy: 0.9139 - val_loss: 0.2836 - val_accuracy: 0.8997\n",
            "Epoch 4/8\n",
            "274/274 [==============================] - 11s 41ms/step - loss: 0.2057 - accuracy: 0.9184 - val_loss: 0.2884 - val_accuracy: 0.8983\n",
            "Epoch 5/8\n",
            "274/274 [==============================] - 11s 41ms/step - loss: 0.1969 - accuracy: 0.9232 - val_loss: 0.3206 - val_accuracy: 0.8986\n",
            "Epoch 6/8\n",
            "274/274 [==============================] - 12s 43ms/step - loss: 0.1918 - accuracy: 0.9256 - val_loss: 0.2849 - val_accuracy: 0.8955\n",
            "Epoch 7/8\n",
            "274/274 [==============================] - 12s 43ms/step - loss: 0.1836 - accuracy: 0.9289 - val_loss: 0.3539 - val_accuracy: 0.8710\n",
            "Epoch 8/8\n",
            "274/274 [==============================] - 11s 42ms/step - loss: 0.1802 - accuracy: 0.9302 - val_loss: 0.3181 - val_accuracy: 0.8992\n",
            "157/157 [==============================] - 1s 9ms/step - loss: 0.3298 - accuracy: 0.8974\n",
            "              precision    recall  f1-score   support\n",
            "\n",
            "           0       0.90      0.89      0.89      2463\n",
            "           1       0.89      0.91      0.90      2537\n",
            "\n",
            "    accuracy                           0.90      5000\n",
            "   macro avg       0.90      0.90      0.90      5000\n",
            "weighted avg       0.90      0.90      0.90      5000\n",
            "\n"
          ],
          "name": "stdout"
        },
        {
          "output_type": "stream",
          "text": [
            "WARNING:absl:Found untraced functions such as gru_cell_13_layer_call_fn, gru_cell_13_layer_call_and_return_conditional_losses, gru_cell_14_layer_call_fn, gru_cell_14_layer_call_and_return_conditional_losses, gru_cell_13_layer_call_fn while saving (showing 5 of 10). These functions will not be directly callable after loading.\n"
          ],
          "name": "stderr"
        },
        {
          "output_type": "stream",
          "text": [
            "INFO:tensorflow:Assets written to: drive/MyDrive/ml_project/IMDB/models/IMDB_BiGRUAtt_HP_complete_LR/16_0.9_0.009/assets\n"
          ],
          "name": "stdout"
        },
        {
          "output_type": "stream",
          "text": [
            "INFO:tensorflow:Assets written to: drive/MyDrive/ml_project/IMDB/models/IMDB_BiGRUAtt_HP_complete_LR/16_0.9_0.009/assets\n"
          ],
          "name": "stderr"
        },
        {
          "output_type": "stream",
          "text": [
            "esecuzione:  4\n",
            "{'learning_rate': 0.1}\n",
            "Epoch 1/8\n",
            "274/274 [==============================] - 17s 50ms/step - loss: 1.1440 - accuracy: 0.5951 - val_loss: 0.6218 - val_accuracy: 0.6686\n",
            "Epoch 2/8\n",
            "274/274 [==============================] - 12s 43ms/step - loss: 0.6972 - accuracy: 0.6494 - val_loss: 1.5090 - val_accuracy: 0.6290\n",
            "Epoch 3/8\n",
            "274/274 [==============================] - 12s 43ms/step - loss: 0.6850 - accuracy: 0.7253 - val_loss: 0.3586 - val_accuracy: 0.8467\n",
            "Epoch 4/8\n",
            "274/274 [==============================] - 12s 43ms/step - loss: 0.6657 - accuracy: 0.7163 - val_loss: 1.1117 - val_accuracy: 0.6594\n",
            "Epoch 5/8\n",
            "274/274 [==============================] - 11s 42ms/step - loss: 0.6145 - accuracy: 0.7360 - val_loss: 1.3779 - val_accuracy: 0.7366\n",
            "Epoch 6/8\n",
            "274/274 [==============================] - 12s 43ms/step - loss: 0.5943 - accuracy: 0.7547 - val_loss: 5.5825 - val_accuracy: 0.6797\n",
            "Epoch 7/8\n",
            "274/274 [==============================] - 11s 41ms/step - loss: 0.5932 - accuracy: 0.7699 - val_loss: 0.9217 - val_accuracy: 0.7512\n",
            "Epoch 8/8\n",
            "274/274 [==============================] - 11s 41ms/step - loss: 0.5767 - accuracy: 0.7771 - val_loss: 1.1444 - val_accuracy: 0.7981\n",
            "157/157 [==============================] - 1s 8ms/step - loss: 1.1591 - accuracy: 0.7948\n",
            "              precision    recall  f1-score   support\n",
            "\n",
            "           0       0.75      0.88      0.81      2463\n",
            "           1       0.86      0.72      0.78      2537\n",
            "\n",
            "    accuracy                           0.79      5000\n",
            "   macro avg       0.80      0.80      0.79      5000\n",
            "weighted avg       0.80      0.79      0.79      5000\n",
            "\n"
          ],
          "name": "stdout"
        },
        {
          "output_type": "stream",
          "text": [
            "WARNING:absl:Found untraced functions such as gru_cell_16_layer_call_fn, gru_cell_16_layer_call_and_return_conditional_losses, gru_cell_17_layer_call_fn, gru_cell_17_layer_call_and_return_conditional_losses, gru_cell_16_layer_call_fn while saving (showing 5 of 10). These functions will not be directly callable after loading.\n"
          ],
          "name": "stderr"
        },
        {
          "output_type": "stream",
          "text": [
            "INFO:tensorflow:Assets written to: drive/MyDrive/ml_project/IMDB/models/IMDB_BiGRUAtt_HP_complete_LR/16_0.9_0.1/assets\n"
          ],
          "name": "stdout"
        },
        {
          "output_type": "stream",
          "text": [
            "INFO:tensorflow:Assets written to: drive/MyDrive/ml_project/IMDB/models/IMDB_BiGRUAtt_HP_complete_LR/16_0.9_0.1/assets\n"
          ],
          "name": "stderr"
        },
        {
          "output_type": "stream",
          "text": [
            "esecuzione:  5\n",
            "{'learning_rate': 0.2}\n",
            "Epoch 1/8\n",
            "274/274 [==============================] - 17s 51ms/step - loss: 5.4776 - accuracy: 0.5324 - val_loss: 0.7582 - val_accuracy: 0.5695\n",
            "Epoch 2/8\n",
            "274/274 [==============================] - 11s 42ms/step - loss: 3.6152 - accuracy: 0.5364 - val_loss: 8.9705 - val_accuracy: 0.6010\n",
            "Epoch 3/8\n",
            "274/274 [==============================] - 11s 41ms/step - loss: 3.1344 - accuracy: 0.5235 - val_loss: 0.5996 - val_accuracy: 0.6873\n",
            "Epoch 4/8\n",
            "274/274 [==============================] - 11s 41ms/step - loss: 3.0560 - accuracy: 0.5303 - val_loss: 2.3259 - val_accuracy: 0.5145\n",
            "Epoch 5/8\n",
            "274/274 [==============================] - 11s 41ms/step - loss: 2.6042 - accuracy: 0.5283 - val_loss: 0.9391 - val_accuracy: 0.5545\n",
            "Epoch 6/8\n",
            "274/274 [==============================] - 12s 43ms/step - loss: 2.2579 - accuracy: 0.5468 - val_loss: 2.6942 - val_accuracy: 0.5369\n",
            "Epoch 7/8\n",
            "274/274 [==============================] - 12s 44ms/step - loss: 2.5869 - accuracy: 0.5331 - val_loss: 1.2403 - val_accuracy: 0.6219\n",
            "Epoch 8/8\n",
            "274/274 [==============================] - 12s 43ms/step - loss: 3.2028 - accuracy: 0.5319 - val_loss: 1.2660 - val_accuracy: 0.6260\n",
            "157/157 [==============================] - 1s 9ms/step - loss: 1.2437 - accuracy: 0.6290\n",
            "              precision    recall  f1-score   support\n",
            "\n",
            "           0       0.72      0.41      0.52      2463\n",
            "           1       0.59      0.84      0.70      2537\n",
            "\n",
            "    accuracy                           0.63      5000\n",
            "   macro avg       0.66      0.63      0.61      5000\n",
            "weighted avg       0.66      0.63      0.61      5000\n",
            "\n"
          ],
          "name": "stdout"
        },
        {
          "output_type": "stream",
          "text": [
            "WARNING:absl:Found untraced functions such as gru_cell_19_layer_call_fn, gru_cell_19_layer_call_and_return_conditional_losses, gru_cell_20_layer_call_fn, gru_cell_20_layer_call_and_return_conditional_losses, gru_cell_19_layer_call_fn while saving (showing 5 of 10). These functions will not be directly callable after loading.\n"
          ],
          "name": "stderr"
        },
        {
          "output_type": "stream",
          "text": [
            "INFO:tensorflow:Assets written to: drive/MyDrive/ml_project/IMDB/models/IMDB_BiGRUAtt_HP_complete_LR/16_0.9_0.2/assets\n"
          ],
          "name": "stdout"
        },
        {
          "output_type": "stream",
          "text": [
            "INFO:tensorflow:Assets written to: drive/MyDrive/ml_project/IMDB/models/IMDB_BiGRUAtt_HP_complete_LR/16_0.9_0.2/assets\n"
          ],
          "name": "stderr"
        },
        {
          "output_type": "stream",
          "text": [
            "esecuzione:  6\n",
            "{'learning_rate': 0.25}\n",
            "Epoch 1/8\n",
            "274/274 [==============================] - 17s 51ms/step - loss: 10.8810 - accuracy: 0.5129 - val_loss: 1.0489 - val_accuracy: 0.5451\n",
            "Epoch 2/8\n",
            "274/274 [==============================] - 12s 43ms/step - loss: 6.8958 - accuracy: 0.5197 - val_loss: 6.8323 - val_accuracy: 0.5120\n",
            "Epoch 3/8\n",
            "274/274 [==============================] - 11s 41ms/step - loss: 6.3004 - accuracy: 0.5051 - val_loss: 6.1964 - val_accuracy: 0.4874\n",
            "Epoch 4/8\n",
            "274/274 [==============================] - 11s 41ms/step - loss: 6.4447 - accuracy: 0.5105 - val_loss: 1.3767 - val_accuracy: 0.5548\n",
            "Epoch 5/8\n",
            "274/274 [==============================] - 11s 41ms/step - loss: 4.9320 - accuracy: 0.5129 - val_loss: 7.1904 - val_accuracy: 0.4559\n",
            "Epoch 6/8\n",
            "274/274 [==============================] - 11s 41ms/step - loss: 5.7312 - accuracy: 0.5146 - val_loss: 1.1040 - val_accuracy: 0.4904\n",
            "Epoch 7/8\n",
            "274/274 [==============================] - 11s 41ms/step - loss: 5.9869 - accuracy: 0.5109 - val_loss: 19.1795 - val_accuracy: 0.5097\n",
            "Epoch 8/8\n",
            "274/274 [==============================] - 11s 41ms/step - loss: 5.1889 - accuracy: 0.5023 - val_loss: 26.9753 - val_accuracy: 0.5342\n",
            "157/157 [==============================] - 1s 8ms/step - loss: 26.6553 - accuracy: 0.5510\n",
            "              precision    recall  f1-score   support\n",
            "\n",
            "           0       0.62      0.22      0.33      2463\n",
            "           1       0.54      0.87      0.66      2537\n",
            "\n",
            "    accuracy                           0.55      5000\n",
            "   macro avg       0.58      0.55      0.50      5000\n",
            "weighted avg       0.58      0.55      0.50      5000\n",
            "\n"
          ],
          "name": "stdout"
        },
        {
          "output_type": "stream",
          "text": [
            "WARNING:absl:Found untraced functions such as gru_cell_22_layer_call_fn, gru_cell_22_layer_call_and_return_conditional_losses, gru_cell_23_layer_call_fn, gru_cell_23_layer_call_and_return_conditional_losses, gru_cell_22_layer_call_fn while saving (showing 5 of 10). These functions will not be directly callable after loading.\n"
          ],
          "name": "stderr"
        },
        {
          "output_type": "stream",
          "text": [
            "INFO:tensorflow:Assets written to: drive/MyDrive/ml_project/IMDB/models/IMDB_BiGRUAtt_HP_complete_LR/16_0.9_0.25/assets\n"
          ],
          "name": "stdout"
        },
        {
          "output_type": "stream",
          "text": [
            "INFO:tensorflow:Assets written to: drive/MyDrive/ml_project/IMDB/models/IMDB_BiGRUAtt_HP_complete_LR/16_0.9_0.25/assets\n"
          ],
          "name": "stderr"
        },
        {
          "output_type": "stream",
          "text": [
            "esecuzione:  7\n",
            "{'learning_rate': 0.3}\n",
            "Epoch 1/8\n",
            "274/274 [==============================] - 16s 47ms/step - loss: 20.9703 - accuracy: 0.5036 - val_loss: 1.3741 - val_accuracy: 0.5067\n",
            "Epoch 2/8\n",
            "274/274 [==============================] - 11s 41ms/step - loss: 10.4207 - accuracy: 0.5017 - val_loss: 5.3152 - val_accuracy: 0.4850\n",
            "Epoch 3/8\n",
            "274/274 [==============================] - 11s 41ms/step - loss: 12.5881 - accuracy: 0.5049 - val_loss: 11.0555 - val_accuracy: 0.4986\n",
            "Epoch 4/8\n",
            "274/274 [==============================] - 11s 41ms/step - loss: 9.0562 - accuracy: 0.5031 - val_loss: 6.8200 - val_accuracy: 0.4834\n",
            "Epoch 5/8\n",
            "274/274 [==============================] - 11s 41ms/step - loss: 11.2121 - accuracy: 0.5012 - val_loss: 5.4638 - val_accuracy: 0.4679\n",
            "Epoch 6/8\n",
            "274/274 [==============================] - 11s 41ms/step - loss: 11.1479 - accuracy: 0.5055 - val_loss: 2.3848 - val_accuracy: 0.5188\n",
            "Epoch 7/8\n",
            "274/274 [==============================] - 11s 41ms/step - loss: 8.7530 - accuracy: 0.5045 - val_loss: 4.7726 - val_accuracy: 0.5121\n",
            "Epoch 8/8\n",
            "274/274 [==============================] - 11s 40ms/step - loss: 9.9821 - accuracy: 0.5005 - val_loss: 11.1350 - val_accuracy: 0.5016\n",
            "157/157 [==============================] - 1s 9ms/step - loss: 11.0189 - accuracy: 0.5036\n",
            "              precision    recall  f1-score   support\n",
            "\n",
            "           0       0.48      0.12      0.19      2463\n",
            "           1       0.51      0.88      0.64      2537\n",
            "\n",
            "    accuracy                           0.50      5000\n",
            "   macro avg       0.50      0.50      0.42      5000\n",
            "weighted avg       0.50      0.50      0.42      5000\n",
            "\n"
          ],
          "name": "stdout"
        },
        {
          "output_type": "stream",
          "text": [
            "WARNING:absl:Found untraced functions such as gru_cell_25_layer_call_fn, gru_cell_25_layer_call_and_return_conditional_losses, gru_cell_26_layer_call_fn, gru_cell_26_layer_call_and_return_conditional_losses, gru_cell_25_layer_call_fn while saving (showing 5 of 10). These functions will not be directly callable after loading.\n"
          ],
          "name": "stderr"
        },
        {
          "output_type": "stream",
          "text": [
            "INFO:tensorflow:Assets written to: drive/MyDrive/ml_project/IMDB/models/IMDB_BiGRUAtt_HP_complete_LR/16_0.9_0.3/assets\n"
          ],
          "name": "stdout"
        },
        {
          "output_type": "stream",
          "text": [
            "INFO:tensorflow:Assets written to: drive/MyDrive/ml_project/IMDB/models/IMDB_BiGRUAtt_HP_complete_LR/16_0.9_0.3/assets\n"
          ],
          "name": "stderr"
        }
      ]
    }
  ]
}