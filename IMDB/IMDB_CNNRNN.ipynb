{
 "metadata": {
  "language_info": {
   "codemirror_mode": {
    "name": "ipython",
    "version": 3
   },
   "file_extension": ".py",
   "mimetype": "text/x-python",
   "name": "python",
   "nbconvert_exporter": "python",
   "pygments_lexer": "ipython3",
   "version": "3.8.5"
  },
  "orig_nbformat": 2,
  "kernelspec": {
   "name": "pythonjvsc74a57bd0799eb0fd45bbf32cd22b7eb12315f66a6945dddec75ab4ee4de6611b037c6c79",
   "display_name": "Python 3.8.5 64-bit ('venv': venv)"
  },
  "metadata": {
   "interpreter": {
    "hash": "799eb0fd45bbf32cd22b7eb12315f66a6945dddec75ab4ee4de6611b037c6c79"
   }
  }
 },
 "nbformat": 4,
 "nbformat_minor": 2,
 "cells": [
  {
   "cell_type": "code",
   "execution_count": 100,
   "metadata": {},
   "outputs": [],
   "source": [
    "import pandas as pd\n",
    "import numpy as np\n",
    "from tensorflow.keras.layers import Embedding\n",
    "from tensorflow.keras.layers import Activation, Dropout, Dense, Conv1D, GlobalMaxPool1D, MaxPool1D, Input, MaxPooling1D, Flatten, SimpleRNN\n",
    "from tensorflow.keras.models import Model, Sequential\n",
    "from keras.backend import clear_session\n",
    "from tensorflow.keras.optimizers import Adagrad\n",
    "from tensorflow.keras.activations import tanh\n",
    "from keras.preprocessing.text import Tokenizer\n",
    "from keras.preprocessing.sequence import pad_sequences\n",
    "import keras\n",
    "from sklearn.model_selection import train_test_split\n",
    "from sklearn.metrics import classification_report\n",
    "import pickle\n",
    "from tensorflow import keras"
   ]
  },
  {
   "cell_type": "code",
   "execution_count": 101,
   "metadata": {},
   "outputs": [],
   "source": [
    "dataset = pickle.load(open(\"dataset/IMDB/dataset_IMDB.pickle\", \"rb\"))"
   ]
  },
  {
   "cell_type": "code",
   "execution_count": 102,
   "metadata": {},
   "outputs": [],
   "source": [
    "Y = np.array(list(map(lambda x: 1 if x==\"positive\" else 0, dataset[\"sentiment\"])))"
   ]
  },
  {
   "cell_type": "code",
   "execution_count": 103,
   "metadata": {},
   "outputs": [],
   "source": [
    "x_train,x_test,y_train,y_test = train_test_split(dataset[\"processed_review\"],Y, test_size=0.1, shuffle=True)"
   ]
  },
  {
   "cell_type": "code",
   "execution_count": 104,
   "metadata": {},
   "outputs": [],
   "source": [
    "def creazione_modello_GloVe(filename):\n",
    "    f = open(filename, encoding=\"utf8\")\n",
    "    embeding_index = {}\n",
    "    for line in f:\n",
    "        values = line.split()\n",
    "        word = values[0]\n",
    "        coefs = np.asarray(values[1:], dtype=\"float32\")\n",
    "        embeding_index[word] = coefs\n",
    "    f.close()\n",
    "    return embeding_index"
   ]
  },
  {
   "cell_type": "code",
   "execution_count": 105,
   "metadata": {},
   "outputs": [],
   "source": [
    "embedding = creazione_modello_GloVe(\"dataset/glove.6B.50d.txt\")"
   ]
  },
  {
   "cell_type": "code",
   "execution_count": 106,
   "metadata": {},
   "outputs": [],
   "source": [
    "tokenizer = Tokenizer(num_words=142092)\n",
    "tokenizer.fit_on_texts(x_train)\n",
    "\n",
    "word_index = tokenizer.word_index"
   ]
  },
  {
   "cell_type": "code",
   "execution_count": 107,
   "metadata": {},
   "outputs": [],
   "source": [
    "vocab_len = len(word_index)+1\n",
    "embedding_vector_len = embedding[\"banan\"].shape[0]\n",
    "embedding_matrix = np.zeros((vocab_len, embedding_vector_len))\n",
    "\n",
    "for word, index in word_index.items():\n",
    "    vector = embedding.get(word)\n",
    "    if vector is not None:\n",
    "        embedding_matrix[index, :] = vector\n",
    "\n",
    "embedding_layer = Embedding(input_dim=vocab_len, output_dim=embedding_vector_len, input_length=200, weights=[embedding_matrix])"
   ]
  },
  {
   "cell_type": "code",
   "execution_count": 115,
   "metadata": {},
   "outputs": [
    {
     "output_type": "stream",
     "name": "stdout",
     "text": [
      "Model: \"sequential\"\n_________________________________________________________________\nLayer (type)                 Output Shape              Param #   \n=================================================================\nembedding (Embedding)        (None, 200, 50)           5019900   \n_________________________________________________________________\nconv1d (Conv1D)              (None, 200, 4)            1604      \n_________________________________________________________________\nmax_pooling1d (MaxPooling1D) (None, 50, 4)             0         \n_________________________________________________________________\nsimple_rnn (SimpleRNN)       (None, 64)                4416      \n_________________________________________________________________\ndense (Dense)                (None, 64)                4160      \n_________________________________________________________________\ndense_1 (Dense)              (None, 64)                4160      \n_________________________________________________________________\ndense_2 (Dense)              (None, 2)                 130       \n=================================================================\nTotal params: 5,034,370\nTrainable params: 5,034,370\nNon-trainable params: 0\n_________________________________________________________________\n"
     ]
    }
   ],
   "source": [
    "CNNRNN_model = Sequential()\n",
    "CNNRNN_model.add(embedding_layer)\n",
    "#CNN\n",
    "CNNRNN_model.add(Conv1D(filters=4, kernel_size=8, padding=\"same\"))\n",
    "CNNRNN_model.add(MaxPooling1D(5, padding=\"same\"))\n",
    "#CNNRNN_model.add(Flatten())\n",
    "#RNN\n",
    "CNNRNN_model.add(SimpleRNN(64))\n",
    "CNNRNN_model.add(Dense(64))\n",
    "CNNRNN_model.add(Dense(64))\n",
    "#CNN_model.add(Dropout(0.2))\n",
    "#CNN_model.add(Dense(20))\n",
    "CNNRNN_model.add(Dense(2, activation=tanh))\n",
    "#RMSprop(learning_rate=0.20)\n",
    "CNNRNN_model.compile(loss=\"binary_crossentropy\", optimizer=Adagrad(), metrics=[\"accuracy\"])\n",
    "CNNRNN_model.summary()"
   ]
  },
  {
   "cell_type": "code",
   "execution_count": 109,
   "metadata": {},
   "outputs": [],
   "source": [
    "x_train_index = tokenizer.texts_to_sequences(x_train)\n",
    "x_train_index = pad_sequences(x_train_index, maxlen=200)"
   ]
  },
  {
   "cell_type": "code",
   "execution_count": 110,
   "metadata": {},
   "outputs": [],
   "source": [
    "y_train_categorical = keras.utils.to_categorical(y_train, 2)"
   ]
  },
  {
   "cell_type": "code",
   "execution_count": 116,
   "metadata": {},
   "outputs": [
    {
     "output_type": "stream",
     "name": "stdout",
     "text": [
      "Epoch 1/10\n",
      "547/547 [==============================] - 14s 25ms/step - loss: 0.9951 - accuracy: 0.4922 - val_loss: 0.8235 - val_accuracy: 0.4929\n",
      "Epoch 2/10\n",
      "547/547 [==============================] - 14s 25ms/step - loss: 0.7793 - accuracy: 0.4958 - val_loss: 0.7526 - val_accuracy: 0.4916\n",
      "Epoch 3/10\n",
      "547/547 [==============================] - 14s 25ms/step - loss: 0.7440 - accuracy: 0.5011 - val_loss: 0.7273 - val_accuracy: 0.4984\n",
      "Epoch 4/10\n",
      "547/547 [==============================] - 14s 25ms/step - loss: 0.7225 - accuracy: 0.5004 - val_loss: 0.7185 - val_accuracy: 0.4969\n",
      "Epoch 5/10\n",
      "547/547 [==============================] - 14s 26ms/step - loss: 0.7162 - accuracy: 0.5000 - val_loss: 0.7143 - val_accuracy: 0.5002\n",
      "Epoch 6/10\n",
      "547/547 [==============================] - 15s 27ms/step - loss: 0.7120 - accuracy: 0.5023 - val_loss: 0.7111 - val_accuracy: 0.5041\n",
      "Epoch 7/10\n",
      "547/547 [==============================] - 15s 27ms/step - loss: 0.7086 - accuracy: 0.5045 - val_loss: 0.7086 - val_accuracy: 0.5074\n",
      "Epoch 8/10\n",
      "547/547 [==============================] - 15s 27ms/step - loss: 0.7060 - accuracy: 0.5082 - val_loss: 0.7066 - val_accuracy: 0.5080\n",
      "Epoch 9/10\n",
      "547/547 [==============================] - 15s 27ms/step - loss: 0.7040 - accuracy: 0.5111 - val_loss: 0.7048 - val_accuracy: 0.5108\n",
      "Epoch 10/10\n",
      "547/547 [==============================] - 15s 28ms/step - loss: 0.7023 - accuracy: 0.5150 - val_loss: 0.7035 - val_accuracy: 0.5136\n"
     ]
    },
    {
     "output_type": "execute_result",
     "data": {
      "text/plain": [
       "<tensorflow.python.keras.callbacks.History at 0x7eff28c86700>"
      ]
     },
     "metadata": {},
     "execution_count": 116
    }
   ],
   "source": [
    "clear_session()\n",
    "CNNRNN_model.fit(x_train_index[:35000], y_train_categorical[:35000], epochs=10, batch_size=64, verbose=1, validation_data=(x_train_index[35000:], y_train_categorical[35000:]))"
   ]
  },
  {
   "cell_type": "code",
   "execution_count": 112,
   "metadata": {},
   "outputs": [],
   "source": [
    "x_test_index = tokenizer.texts_to_sequences(x_test)\n",
    "x_test_index = pad_sequences(x_test_index, maxlen=200)"
   ]
  },
  {
   "cell_type": "code",
   "execution_count": 113,
   "metadata": {},
   "outputs": [],
   "source": [
    "y_pred = CNNRNN_model.predict(x_test_index)"
   ]
  },
  {
   "cell_type": "code",
   "execution_count": 114,
   "metadata": {},
   "outputs": [
    {
     "output_type": "stream",
     "name": "stdout",
     "text": [
      "              precision    recall  f1-score   support\n\n           0       0.53      0.46      0.49      2474\n           1       0.53      0.60      0.56      2526\n\n    accuracy                           0.53      5000\n   macro avg       0.53      0.53      0.53      5000\nweighted avg       0.53      0.53      0.53      5000\n\n"
     ]
    }
   ],
   "source": [
    "print(classification_report(y_test, np.argmax(y_pred, axis=1).astype(\"float32\")))"
   ]
  }
 ]
}