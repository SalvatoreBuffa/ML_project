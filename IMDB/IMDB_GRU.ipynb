{
 "metadata": {
  "language_info": {
   "codemirror_mode": {
    "name": "ipython",
    "version": 3
   },
   "file_extension": ".py",
   "mimetype": "text/x-python",
   "name": "python",
   "nbconvert_exporter": "python",
   "pygments_lexer": "ipython3",
   "version": "3.8.5"
  },
  "orig_nbformat": 2,
  "kernelspec": {
   "name": "pythonjvsc74a57bd0799eb0fd45bbf32cd22b7eb12315f66a6945dddec75ab4ee4de6611b037c6c79",
   "display_name": "Python 3.8.5 64-bit ('venv': venv)"
  },
  "metadata": {
   "interpreter": {
    "hash": "799eb0fd45bbf32cd22b7eb12315f66a6945dddec75ab4ee4de6611b037c6c79"
   }
  }
 },
 "nbformat": 4,
 "nbformat_minor": 2,
 "cells": [
  {
   "cell_type": "code",
   "execution_count": 11,
   "metadata": {},
   "outputs": [],
   "source": [
    "import pandas as pd\n",
    "import numpy as np\n",
    "from tensorflow.keras.layers import Embedding\n",
    "from tensorflow.keras.layers import GRU, Dense\n",
    "from tensorflow.keras.models import Model, Sequential\n",
    "from keras.backend import clear_session\n",
    "from tensorflow.keras.optimizers import RMSprop\n",
    "from tensorflow.keras.activations import sigmoid\n",
    "import string\n",
    "import re\n",
    "from keras.preprocessing.text import Tokenizer\n",
    "from sklearn.preprocessing import LabelBinarizer\n",
    "from keras.preprocessing.sequence import pad_sequences\n",
    "import keras\n",
    "from sklearn.model_selection import train_test_split\n",
    "from sklearn.metrics import classification_report\n",
    "import pickle\n",
    "from tensorflow import keras"
   ]
  },
  {
   "cell_type": "code",
   "execution_count": 2,
   "metadata": {},
   "outputs": [],
   "source": [
    "dataset = pickle.load(open(\"dataset/IMDB/dataset_IMDB.pickle\", \"rb\"))"
   ]
  },
  {
   "cell_type": "code",
   "execution_count": 3,
   "metadata": {},
   "outputs": [],
   "source": [
    "Y = np.array(list(map(lambda x: 1 if x==\"positive\" else 0, dataset[\"sentiment\"])))"
   ]
  },
  {
   "cell_type": "code",
   "execution_count": 4,
   "metadata": {},
   "outputs": [],
   "source": [
    "x_train,x_test,y_train,y_test = train_test_split(dataset[\"processed_review\"],Y, test_size=0.1, shuffle=True)"
   ]
  },
  {
   "cell_type": "code",
   "execution_count": 5,
   "metadata": {},
   "outputs": [],
   "source": [
    "def creazione_modello_GloVe(filename):\n",
    "    f = open(filename, encoding=\"utf8\")\n",
    "    embeding_index = {}\n",
    "    for line in f:\n",
    "        values = line.split()\n",
    "        word = values[0]\n",
    "        coefs = np.asarray(values[1:], dtype=\"float32\")\n",
    "        embeding_index[word] = coefs\n",
    "    f.close()\n",
    "    return embeding_index"
   ]
  },
  {
   "cell_type": "code",
   "execution_count": 6,
   "metadata": {},
   "outputs": [],
   "source": [
    "embedding = creazione_modello_GloVe(\"dataset/glove.6B.50d.txt\")"
   ]
  },
  {
   "cell_type": "code",
   "execution_count": 7,
   "metadata": {},
   "outputs": [],
   "source": [
    "tokenizer = Tokenizer(num_words=142092)\n",
    "tokenizer.fit_on_texts(x_train)\n",
    "\n",
    "word_index = tokenizer.word_index"
   ]
  },
  {
   "cell_type": "code",
   "execution_count": 8,
   "metadata": {},
   "outputs": [],
   "source": [
    "vocab_len = len(word_index)+1\n",
    "embedding_vector_len = embedding[\"banan\"].shape[0]\n",
    "embedding_matrix = np.zeros((vocab_len, embedding_vector_len))\n",
    "\n",
    "for word, index in word_index.items():\n",
    "    vector = embedding.get(word)\n",
    "    if vector is not None:\n",
    "        embedding_matrix[index, :] = vector\n",
    "\n",
    "embedding_layer = Embedding(input_dim=vocab_len, output_dim=embedding_vector_len, input_length=200, weights=[embedding_matrix])"
   ]
  },
  {
   "cell_type": "code",
   "execution_count": 24,
   "metadata": {},
   "outputs": [
    {
     "output_type": "stream",
     "name": "stdout",
     "text": [
      "Model: \"sequential_2\"\n_________________________________________________________________\nLayer (type)                 Output Shape              Param #   \n=================================================================\nembedding (Embedding)        (None, 200, 50)           5019250   \n_________________________________________________________________\ngru_2 (GRU)                  (None, 32)                8064      \n_________________________________________________________________\ndense_8 (Dense)              (None, 32)                1056      \n_________________________________________________________________\ndense_9 (Dense)              (None, 32)                1056      \n_________________________________________________________________\ndense_10 (Dense)             (None, 32)                1056      \n_________________________________________________________________\ndense_11 (Dense)             (None, 2)                 66        \n=================================================================\nTotal params: 5,030,548\nTrainable params: 5,030,548\nNon-trainable params: 0\n_________________________________________________________________\n"
     ]
    }
   ],
   "source": [
    "GRU_model = Sequential()\n",
    "GRU_model.add(embedding_layer)\n",
    "GRU_model.add(GRU(units=32))\n",
    "GRU_model.add(Dense(32))\n",
    "GRU_model.add(Dense(32))\n",
    "GRU_model.add(Dense(32))\n",
    "GRU_model.add(Dense(2, activation=sigmoid))\n",
    "\n",
    "GRU_model.compile(loss=\"binary_crossentropy\", optimizer=RMSprop(), metrics=[\"accuracy\"])\n",
    "\n",
    "GRU_model.summary()"
   ]
  },
  {
   "cell_type": "code",
   "execution_count": 14,
   "metadata": {},
   "outputs": [
    {
     "output_type": "stream",
     "name": "stdout",
     "text": [
      "(45000,) (45000,)\n(5000,) (5000,)\n"
     ]
    }
   ],
   "source": [
    "print(x_train.shape, y_train.shape)\n",
    "print(x_test.shape, y_test.shape)"
   ]
  },
  {
   "cell_type": "code",
   "execution_count": 15,
   "metadata": {},
   "outputs": [],
   "source": [
    "x_train_index = tokenizer.texts_to_sequences(x_train)\n",
    "x_train_index = pad_sequences(x_train_index, maxlen=200)"
   ]
  },
  {
   "cell_type": "code",
   "execution_count": 16,
   "metadata": {},
   "outputs": [],
   "source": [
    "y_train_categorical = keras.utils.to_categorical(y_train, 2)"
   ]
  },
  {
   "cell_type": "code",
   "execution_count": 25,
   "metadata": {},
   "outputs": [
    {
     "output_type": "stream",
     "name": "stdout",
     "text": [
      "Epoch 1/20\n",
      "1094/1094 [==============================] - 81s 72ms/step - loss: 0.6421 - accuracy: 0.6144 - val_loss: 0.5869 - val_accuracy: 0.6883\n",
      "Epoch 2/20\n",
      "1094/1094 [==============================] - 79s 72ms/step - loss: 0.5038 - accuracy: 0.7616 - val_loss: 0.4918 - val_accuracy: 0.7777\n",
      "Epoch 3/20\n",
      "1094/1094 [==============================] - 78s 72ms/step - loss: 0.4301 - accuracy: 0.8149 - val_loss: 0.4443 - val_accuracy: 0.8050\n",
      "Epoch 4/20\n",
      "1094/1094 [==============================] - 78s 72ms/step - loss: 0.3845 - accuracy: 0.8397 - val_loss: 0.4207 - val_accuracy: 0.8227\n",
      "Epoch 5/20\n",
      "1094/1094 [==============================] - 79s 72ms/step - loss: 0.3496 - accuracy: 0.8575 - val_loss: 0.4153 - val_accuracy: 0.8254\n",
      "Epoch 6/20\n",
      "1094/1094 [==============================] - 79s 72ms/step - loss: 0.3168 - accuracy: 0.8731 - val_loss: 0.3957 - val_accuracy: 0.8381\n",
      "Epoch 7/20\n",
      "1094/1094 [==============================] - 79s 72ms/step - loss: 0.2899 - accuracy: 0.8852 - val_loss: 0.3996 - val_accuracy: 0.8427\n",
      "Epoch 8/20\n",
      "1094/1094 [==============================] - 79s 72ms/step - loss: 0.2646 - accuracy: 0.8980 - val_loss: 0.3743 - val_accuracy: 0.8456\n",
      "Epoch 9/20\n",
      "1094/1094 [==============================] - 78s 72ms/step - loss: 0.2404 - accuracy: 0.9073 - val_loss: 0.3837 - val_accuracy: 0.8463\n",
      "Epoch 10/20\n",
      "1094/1094 [==============================] - 77s 70ms/step - loss: 0.2208 - accuracy: 0.9174 - val_loss: 0.3714 - val_accuracy: 0.8565\n",
      "Epoch 11/20\n",
      "1094/1094 [==============================] - 77s 70ms/step - loss: 0.2009 - accuracy: 0.9261 - val_loss: 0.3762 - val_accuracy: 0.8599\n",
      "Epoch 12/20\n",
      "1094/1094 [==============================] - 77s 71ms/step - loss: 0.1828 - accuracy: 0.9337 - val_loss: 0.3768 - val_accuracy: 0.8599\n",
      "Epoch 13/20\n",
      "1094/1094 [==============================] - 77s 70ms/step - loss: 0.1687 - accuracy: 0.9389 - val_loss: 0.3677 - val_accuracy: 0.8565\n",
      "Epoch 14/20\n",
      "1094/1094 [==============================] - 77s 70ms/step - loss: 0.1517 - accuracy: 0.9462 - val_loss: 0.4132 - val_accuracy: 0.8573\n",
      "Epoch 15/20\n",
      "1094/1094 [==============================] - 77s 70ms/step - loss: 0.1391 - accuracy: 0.9514 - val_loss: 0.4084 - val_accuracy: 0.8633\n",
      "Epoch 16/20\n",
      "1094/1094 [==============================] - 77s 71ms/step - loss: 0.1238 - accuracy: 0.9565 - val_loss: 0.4196 - val_accuracy: 0.8565\n",
      "Epoch 17/20\n",
      "1094/1094 [==============================] - 77s 71ms/step - loss: 0.1141 - accuracy: 0.9611 - val_loss: 0.4782 - val_accuracy: 0.8505\n",
      "Epoch 18/20\n",
      "1094/1094 [==============================] - 77s 70ms/step - loss: 0.1016 - accuracy: 0.9645 - val_loss: 0.4814 - val_accuracy: 0.8587\n",
      "Epoch 19/20\n",
      "1094/1094 [==============================] - 77s 71ms/step - loss: 0.0930 - accuracy: 0.9681 - val_loss: 0.5438 - val_accuracy: 0.8545\n",
      "Epoch 20/20\n",
      "1094/1094 [==============================] - 77s 70ms/step - loss: 0.0838 - accuracy: 0.9723 - val_loss: 0.5007 - val_accuracy: 0.8553\n"
     ]
    },
    {
     "output_type": "execute_result",
     "data": {
      "text/plain": [
       "<tensorflow.python.keras.callbacks.History at 0x7f9f9ea16dc0>"
      ]
     },
     "metadata": {},
     "execution_count": 25
    }
   ],
   "source": [
    "clear_session()\n",
    "GRU_model.fit(x_train_index[:35000], y_train_categorical[:35000], epochs=20, batch_size=32, verbose=1, validation_data=(x_train_index[35000:], y_train_categorical[35000:]))"
   ]
  },
  {
   "cell_type": "code",
   "execution_count": 26,
   "metadata": {},
   "outputs": [],
   "source": [
    "x_test_index = tokenizer.texts_to_sequences(x_test)\n",
    "x_test_index = pad_sequences(x_test_index, maxlen=200)"
   ]
  },
  {
   "cell_type": "code",
   "execution_count": 27,
   "metadata": {},
   "outputs": [],
   "source": [
    "y_pred = GRU_model.predict(x_test_index)"
   ]
  },
  {
   "cell_type": "code",
   "execution_count": 28,
   "metadata": {},
   "outputs": [
    {
     "output_type": "stream",
     "name": "stdout",
     "text": [
      "              precision    recall  f1-score   support\n\n           0       0.84      0.89      0.87      2503\n           1       0.89      0.83      0.86      2497\n\n    accuracy                           0.86      5000\n   macro avg       0.86      0.86      0.86      5000\nweighted avg       0.86      0.86      0.86      5000\n\n"
     ]
    }
   ],
   "source": [
    "print(classification_report(y_test, np.argmax(y_pred, axis=1).astype(\"float32\")))"
   ]
  },
  {
   "cell_type": "code",
   "execution_count": 29,
   "metadata": {},
   "outputs": [
    {
     "output_type": "stream",
     "name": "stderr",
     "text": [
      "WARNING:absl:Found untraced functions such as gru_cell_2_layer_call_and_return_conditional_losses, gru_cell_2_layer_call_fn, gru_cell_2_layer_call_fn, gru_cell_2_layer_call_and_return_conditional_losses, gru_cell_2_layer_call_and_return_conditional_losses while saving (showing 5 of 5). These functions will not be directly callable after loading.\n",
      "INFO:tensorflow:Assets written to: IMDB_GRU/assets\n",
      "INFO:tensorflow:Assets written to: IMDB_GRU/assets\n"
     ]
    }
   ],
   "source": [
    "GRU_model.save(\"IMDB_GRU\")"
   ]
  }
 ]
}