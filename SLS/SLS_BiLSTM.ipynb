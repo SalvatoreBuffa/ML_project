{
 "metadata": {
  "language_info": {
   "codemirror_mode": {
    "name": "ipython",
    "version": 3
   },
   "file_extension": ".py",
   "mimetype": "text/x-python",
   "name": "python",
   "nbconvert_exporter": "python",
   "pygments_lexer": "ipython3",
   "version": "3.8.5"
  },
  "orig_nbformat": 2,
  "kernelspec": {
   "name": "pythonjvsc74a57bd0799eb0fd45bbf32cd22b7eb12315f66a6945dddec75ab4ee4de6611b037c6c79",
   "display_name": "Python 3.8.5 64-bit ('venv': venv)"
  },
  "metadata": {
   "interpreter": {
    "hash": "799eb0fd45bbf32cd22b7eb12315f66a6945dddec75ab4ee4de6611b037c6c79"
   }
  }
 },
 "nbformat": 4,
 "nbformat_minor": 2,
 "cells": [
  {
   "cell_type": "code",
   "execution_count": 2,
   "metadata": {},
   "outputs": [],
   "source": [
    "import pandas as pd\n",
    "import numpy as np\n",
    "\n",
    "from tensorflow.keras.layers import LSTM, Activation, Dropout, Dense, Input, Embedding, Bidirectional\n",
    "from tensorflow.keras.optimizers import Adagrad\n",
    "from tensorflow.keras.models import Model, Sequential\n",
    "import string\n",
    "import re\n",
    "from keras.preprocessing.text import Tokenizer\n",
    "from sklearn.preprocessing import LabelBinarizer\n",
    "from keras.preprocessing.sequence import pad_sequences\n",
    "from sklearn.model_selection import train_test_split\n",
    "from sklearn.metrics import classification_report\n",
    "import pickle\n",
    "from tensorflow import keras\n",
    "\n",
    "import sys\n",
    "sys.path.append(\"../\")\n",
    "\n",
    "from pre_processing import creazione_modello_GloVe"
   ]
  },
  {
   "cell_type": "code",
   "execution_count": 3,
   "metadata": {},
   "outputs": [],
   "source": [
    "dataset = pickle.load(open(\"dataset/dataset_SLS.pickle\", \"rb\"))"
   ]
  },
  {
   "cell_type": "code",
   "execution_count": 4,
   "metadata": {},
   "outputs": [],
   "source": [
    "Y = np.array(dataset[\"sentiment\"])"
   ]
  },
  {
   "cell_type": "code",
   "execution_count": 5,
   "metadata": {},
   "outputs": [],
   "source": [
    "x_train,x_test,y_train,y_test = train_test_split(dataset[\"sentence\"],Y, test_size=0.1, shuffle=True)"
   ]
  },
  {
   "cell_type": "code",
   "execution_count": 6,
   "metadata": {},
   "outputs": [
    {
     "output_type": "stream",
     "name": "stdout",
     "text": [
      "(2700,) (2700,)\n(300,) (300,)\n"
     ]
    }
   ],
   "source": [
    "print(x_train.shape, y_train.shape)\n",
    "print(x_test.shape, y_test.shape)"
   ]
  },
  {
   "cell_type": "code",
   "execution_count": 7,
   "metadata": {},
   "outputs": [
    {
     "output_type": "stream",
     "name": "stdout",
     "text": [
      "numero di positivi nel train:  1343\nnumero di negativi nel train:  1357\nnumero di positivi nel test:  157\nnumero di negativi nel test:  143\n"
     ]
    }
   ],
   "source": [
    "print(\"numero di positivi nel train: \", list(y_train).count(1))\n",
    "print(\"numero di negativi nel train: \", list(y_train).count(0))\n",
    "\n",
    "print(\"numero di positivi nel test: \", list(y_test).count(1))\n",
    "print(\"numero di negativi nel test: \", list(y_test).count(0))"
   ]
  },
  {
   "cell_type": "code",
   "execution_count": 8,
   "metadata": {},
   "outputs": [],
   "source": [
    "embedding = creazione_modello_GloVe(\"dataset/glove.6B.50d.txt\")"
   ]
  },
  {
   "cell_type": "code",
   "execution_count": 9,
   "metadata": {},
   "outputs": [],
   "source": [
    "tokenizer = Tokenizer(num_words=140000)\n",
    "tokenizer.fit_on_texts(x_train)\n",
    "\n",
    "word_index = tokenizer.word_index"
   ]
  },
  {
   "cell_type": "code",
   "execution_count": 10,
   "metadata": {},
   "outputs": [],
   "source": [
    "vocab_len = len(word_index)+1\n",
    "embedding_vector_len = embedding[\"banana\"].shape[0]\n",
    "embedding_matrix = np.zeros((vocab_len, embedding_vector_len))\n",
    "\n",
    "for word, index in word_index.items():\n",
    "    vector = embedding.get(word)\n",
    "    if vector is not None:\n",
    "        embedding_matrix[index, :] = vector\n",
    "\n",
    "embedding_layer = Embedding(input_dim=vocab_len, output_dim=embedding_vector_len, input_length=300, weights=[embedding_matrix])"
   ]
  },
  {
   "cell_type": "code",
   "execution_count": 12,
   "metadata": {},
   "outputs": [
    {
     "output_type": "stream",
     "name": "stdout",
     "text": [
      "Model: \"sequential_1\"\n_________________________________________________________________\nLayer (type)                 Output Shape              Param #   \n=================================================================\nembedding (Embedding)        (None, 300, 50)           247900    \n_________________________________________________________________\nbidirectional_1 (Bidirection (None, 64)                21248     \n_________________________________________________________________\ndense_3 (Dense)              (None, 32)                2080      \n_________________________________________________________________\ndense_4 (Dense)              (None, 32)                1056      \n_________________________________________________________________\ndense_5 (Dense)              (None, 2)                 66        \n=================================================================\nTotal params: 272,350\nTrainable params: 272,350\nNon-trainable params: 0\n_________________________________________________________________\n"
     ]
    }
   ],
   "source": [
    "Bi_LSTM_model = Sequential()\n",
    "Bi_LSTM_model.add(embedding_layer)\n",
    "Bi_LSTM_model.add(Bidirectional(LSTM(units=32)))\n",
    "Bi_LSTM_model.add(Dense(32))\n",
    "Bi_LSTM_model.add(Dense(32))\n",
    "Bi_LSTM_model.add(Dense(2, activation=\"softmax\"))\n",
    "\n",
    "#non è necessario modificare l'ottimizzatore di default, poichè già lr=0.001\n",
    "Bi_LSTM_model.compile(loss=\"categorical_crossentropy\", optimizer=Adagrad(learning_rate=0.05), metrics=[\"accuracy\"])\n",
    "Bi_LSTM_model.summary()"
   ]
  },
  {
   "cell_type": "code",
   "execution_count": 13,
   "metadata": {},
   "outputs": [],
   "source": [
    "x_train_index = tokenizer.texts_to_sequences(x_train)\n",
    "x_train_index = pad_sequences(x_train_index, maxlen=300)"
   ]
  },
  {
   "cell_type": "code",
   "execution_count": 14,
   "metadata": {},
   "outputs": [],
   "source": [
    "y_train_categorical = keras.utils.to_categorical(y_train, 2)"
   ]
  },
  {
   "cell_type": "code",
   "execution_count": 15,
   "metadata": {},
   "outputs": [
    {
     "output_type": "stream",
     "name": "stdout",
     "text": [
      "Epoch 1/24\n",
      "33/33 [==============================] - 8s 165ms/step - loss: 0.6710 - accuracy: 0.5819 - val_loss: 0.6603 - val_accuracy: 0.5817\n",
      "Epoch 2/24\n",
      "33/33 [==============================] - 5s 146ms/step - loss: 0.6146 - accuracy: 0.6776 - val_loss: 0.5649 - val_accuracy: 0.7067\n",
      "Epoch 3/24\n",
      "33/33 [==============================] - 5s 146ms/step - loss: 0.5852 - accuracy: 0.7014 - val_loss: 0.5425 - val_accuracy: 0.7283\n",
      "Epoch 4/24\n",
      "33/33 [==============================] - 5s 150ms/step - loss: 0.5277 - accuracy: 0.7429 - val_loss: 0.5580 - val_accuracy: 0.7100\n",
      "Epoch 5/24\n",
      "33/33 [==============================] - 5s 142ms/step - loss: 0.5381 - accuracy: 0.7314 - val_loss: 0.5363 - val_accuracy: 0.7400\n",
      "Epoch 6/24\n",
      "33/33 [==============================] - 5s 143ms/step - loss: 0.5078 - accuracy: 0.7514 - val_loss: 0.4924 - val_accuracy: 0.7683\n",
      "Epoch 7/24\n",
      "33/33 [==============================] - 5s 142ms/step - loss: 0.4746 - accuracy: 0.7767 - val_loss: 0.4726 - val_accuracy: 0.7833\n",
      "Epoch 8/24\n",
      "33/33 [==============================] - 5s 141ms/step - loss: 0.4534 - accuracy: 0.7843 - val_loss: 0.4712 - val_accuracy: 0.7800\n",
      "Epoch 9/24\n",
      "33/33 [==============================] - 5s 143ms/step - loss: 0.4462 - accuracy: 0.7971 - val_loss: 0.4651 - val_accuracy: 0.7833\n",
      "Epoch 10/24\n",
      "33/33 [==============================] - 5s 143ms/step - loss: 0.4254 - accuracy: 0.8086 - val_loss: 0.4606 - val_accuracy: 0.7900\n",
      "Epoch 11/24\n",
      "33/33 [==============================] - 5s 145ms/step - loss: 0.4163 - accuracy: 0.8095 - val_loss: 0.4504 - val_accuracy: 0.7900\n",
      "Epoch 12/24\n",
      "33/33 [==============================] - 5s 143ms/step - loss: 0.4105 - accuracy: 0.8171 - val_loss: 0.4522 - val_accuracy: 0.7967\n",
      "Epoch 13/24\n",
      "33/33 [==============================] - 5s 144ms/step - loss: 0.3881 - accuracy: 0.8348 - val_loss: 0.4466 - val_accuracy: 0.7967\n",
      "Epoch 14/24\n",
      "33/33 [==============================] - 5s 140ms/step - loss: 0.3652 - accuracy: 0.8395 - val_loss: 0.4585 - val_accuracy: 0.7883\n",
      "Epoch 15/24\n",
      "33/33 [==============================] - 9s 283ms/step - loss: 0.3809 - accuracy: 0.8271 - val_loss: 0.4380 - val_accuracy: 0.8067\n",
      "Epoch 16/24\n",
      "33/33 [==============================] - 7s 217ms/step - loss: 0.3430 - accuracy: 0.8538 - val_loss: 0.4350 - val_accuracy: 0.8150\n",
      "Epoch 17/24\n",
      "33/33 [==============================] - 7s 198ms/step - loss: 0.3486 - accuracy: 0.8524 - val_loss: 0.4515 - val_accuracy: 0.7983\n",
      "Epoch 18/24\n",
      "33/33 [==============================] - 9s 255ms/step - loss: 0.3478 - accuracy: 0.8433 - val_loss: 0.4280 - val_accuracy: 0.8283\n",
      "Epoch 19/24\n",
      "33/33 [==============================] - 9s 287ms/step - loss: 0.3249 - accuracy: 0.8624 - val_loss: 0.4315 - val_accuracy: 0.8283\n",
      "Epoch 20/24\n",
      "33/33 [==============================] - 5s 167ms/step - loss: 0.3155 - accuracy: 0.8695 - val_loss: 0.4726 - val_accuracy: 0.7933\n",
      "Epoch 21/24\n",
      "33/33 [==============================] - 8s 227ms/step - loss: 0.3033 - accuracy: 0.8729 - val_loss: 0.4366 - val_accuracy: 0.8233\n",
      "Epoch 22/24\n",
      "33/33 [==============================] - 6s 183ms/step - loss: 0.2842 - accuracy: 0.8814 - val_loss: 0.4272 - val_accuracy: 0.8233\n",
      "Epoch 23/24\n",
      "33/33 [==============================] - 7s 212ms/step - loss: 0.2827 - accuracy: 0.8814 - val_loss: 0.4485 - val_accuracy: 0.8067\n",
      "Epoch 24/24\n",
      "33/33 [==============================] - 6s 198ms/step - loss: 0.2823 - accuracy: 0.8810 - val_loss: 0.4879 - val_accuracy: 0.8033\n"
     ]
    },
    {
     "output_type": "execute_result",
     "data": {
      "text/plain": [
       "<tensorflow.python.keras.callbacks.History at 0x7f08806d9940>"
      ]
     },
     "metadata": {},
     "execution_count": 15
    }
   ],
   "source": [
    "Bi_LSTM_model.fit(x_train_index[:2100], y_train_categorical[:2100], epochs=24, batch_size=64, verbose=1, validation_data=(x_train_index[2100:], y_train_categorical[2100:]))"
   ]
  },
  {
   "cell_type": "code",
   "execution_count": 16,
   "metadata": {},
   "outputs": [],
   "source": [
    "x_test_index = tokenizer.texts_to_sequences(x_test)\n",
    "x_test_index = pad_sequences(x_test_index, maxlen=300)"
   ]
  },
  {
   "cell_type": "code",
   "execution_count": 17,
   "metadata": {},
   "outputs": [],
   "source": [
    "y_pred = Bi_LSTM_model.predict(x_test_index)"
   ]
  },
  {
   "cell_type": "code",
   "execution_count": 18,
   "metadata": {},
   "outputs": [
    {
     "output_type": "stream",
     "name": "stdout",
     "text": [
      "              precision    recall  f1-score   support\n\n           0       0.72      0.94      0.81       143\n           1       0.92      0.67      0.77       157\n\n    accuracy                           0.80       300\n   macro avg       0.82      0.80      0.79       300\nweighted avg       0.83      0.80      0.79       300\n\n"
     ]
    }
   ],
   "source": [
    "print(classification_report(y_test, np.argmax(y_pred, axis=1).astype(\"float32\")))"
   ]
  },
  {
   "cell_type": "code",
   "execution_count": null,
   "metadata": {},
   "outputs": [],
   "source": [
    "Bi_LSTM_model.save(\"models/SLS_BiLSTM\")"
   ]
  }
 ]
}