{
 "metadata": {
  "language_info": {
   "codemirror_mode": {
    "name": "ipython",
    "version": 3
   },
   "file_extension": ".py",
   "mimetype": "text/x-python",
   "name": "python",
   "nbconvert_exporter": "python",
   "pygments_lexer": "ipython3",
   "version": "3.8.5"
  },
  "orig_nbformat": 2,
  "kernelspec": {
   "name": "pythonjvsc74a57bd0799eb0fd45bbf32cd22b7eb12315f66a6945dddec75ab4ee4de6611b037c6c79",
   "display_name": "Python 3.8.5 64-bit ('venv': venv)"
  },
  "metadata": {
   "interpreter": {
    "hash": "799eb0fd45bbf32cd22b7eb12315f66a6945dddec75ab4ee4de6611b037c6c79"
   }
  }
 },
 "nbformat": 4,
 "nbformat_minor": 2,
 "cells": [
  {
   "cell_type": "code",
   "execution_count": 1,
   "metadata": {},
   "outputs": [],
   "source": [
    "import pandas as pd\n",
    "import numpy as np\n",
    "\n",
    "from tensorflow.keras.layers import LSTM, Activation, Dropout, Dense, Input, Embedding, Bidirectional\n",
    "from tensorflow.keras.optimizers import Adagrad\n",
    "from tensorflow.keras.models import Model, Sequential\n",
    "import string\n",
    "import re\n",
    "from keras.preprocessing.text import Tokenizer\n",
    "from sklearn.preprocessing import LabelBinarizer\n",
    "from keras.preprocessing.sequence import pad_sequences\n",
    "from sklearn.model_selection import train_test_split\n",
    "from sklearn.metrics import classification_report\n",
    "import pickle\n",
    "from tensorflow import keras\n",
    "\n",
    "import sys\n",
    "sys.path.append(\"../\")\n",
    "\n",
    "from pre_processing import creazione_modello_GloVe"
   ]
  },
  {
   "cell_type": "code",
   "execution_count": 2,
   "metadata": {},
   "outputs": [],
   "source": [
    "dataset = pickle.load(open(\"dataset/dataset_SLS.pickle\", \"rb\"))"
   ]
  },
  {
   "cell_type": "code",
   "execution_count": 3,
   "metadata": {},
   "outputs": [],
   "source": [
    "Y = np.array(dataset[\"sentiment\"])"
   ]
  },
  {
   "cell_type": "code",
   "execution_count": 4,
   "metadata": {},
   "outputs": [],
   "source": [
    "x_train,x_test,y_train,y_test = train_test_split(dataset[\"sentence\"],Y, test_size=0.1, shuffle=True)"
   ]
  },
  {
   "cell_type": "code",
   "execution_count": 5,
   "metadata": {},
   "outputs": [
    {
     "output_type": "stream",
     "name": "stdout",
     "text": [
      "(2700,) (2700,)\n(300,) (300,)\n"
     ]
    }
   ],
   "source": [
    "print(x_train.shape, y_train.shape)\n",
    "print(x_test.shape, y_test.shape)"
   ]
  },
  {
   "cell_type": "code",
   "execution_count": 6,
   "metadata": {},
   "outputs": [
    {
     "output_type": "stream",
     "name": "stdout",
     "text": [
      "numero di positivi nel train:  1348\nnumero di negativi nel train:  1352\nnumero di positivi nel test:  152\nnumero di negativi nel test:  148\n"
     ]
    }
   ],
   "source": [
    "print(\"numero di positivi nel train: \", list(y_train).count(1))\n",
    "print(\"numero di negativi nel train: \", list(y_train).count(0))\n",
    "\n",
    "print(\"numero di positivi nel test: \", list(y_test).count(1))\n",
    "print(\"numero di negativi nel test: \", list(y_test).count(0))"
   ]
  },
  {
   "cell_type": "code",
   "execution_count": 7,
   "metadata": {},
   "outputs": [],
   "source": [
    "embedding = creazione_modello_GloVe(\"dataset/glove.6B.50d.txt\")"
   ]
  },
  {
   "cell_type": "code",
   "execution_count": 8,
   "metadata": {},
   "outputs": [],
   "source": [
    "tokenizer = Tokenizer(num_words=140000)\n",
    "tokenizer.fit_on_texts(x_train)\n",
    "\n",
    "word_index = tokenizer.word_index"
   ]
  },
  {
   "cell_type": "code",
   "execution_count": 9,
   "metadata": {},
   "outputs": [],
   "source": [
    "vocab_len = len(word_index)+1\n",
    "embedding_vector_len = embedding[\"banana\"].shape[0]\n",
    "embedding_matrix = np.zeros((vocab_len, embedding_vector_len))\n",
    "\n",
    "for word, index in word_index.items():\n",
    "    vector = embedding.get(word)\n",
    "    if vector is not None:\n",
    "        embedding_matrix[index, :] = vector\n",
    "\n",
    "embedding_layer = Embedding(input_dim=vocab_len, output_dim=embedding_vector_len, input_length=300, weights=[embedding_matrix])"
   ]
  },
  {
   "cell_type": "code",
   "execution_count": 10,
   "metadata": {},
   "outputs": [
    {
     "output_type": "stream",
     "name": "stdout",
     "text": [
      "Model: \"sequential\"\n_________________________________________________________________\nLayer (type)                 Output Shape              Param #   \n=================================================================\nembedding (Embedding)        (None, 300, 50)           249200    \n_________________________________________________________________\nbidirectional (Bidirectional (None, 64)                21248     \n_________________________________________________________________\ndense (Dense)                (None, 32)                2080      \n_________________________________________________________________\ndense_1 (Dense)              (None, 32)                1056      \n_________________________________________________________________\ndense_2 (Dense)              (None, 2)                 66        \n=================================================================\nTotal params: 273,650\nTrainable params: 273,650\nNon-trainable params: 0\n_________________________________________________________________\n"
     ]
    }
   ],
   "source": [
    "Bi_LSTM_model = Sequential()\n",
    "Bi_LSTM_model.add(embedding_layer)\n",
    "Bi_LSTM_model.add(Bidirectional(LSTM(units=32)))\n",
    "Bi_LSTM_model.add(Dense(32))\n",
    "Bi_LSTM_model.add(Dense(32))\n",
    "Bi_LSTM_model.add(Dense(2, activation=\"softmax\"))\n",
    "\n",
    "#non è necessario modificare l'ottimizzatore di default, poichè già lr=0.001\n",
    "Bi_LSTM_model.compile(loss=\"categorical_crossentropy\", optimizer=Adagrad(learning_rate=0.05), metrics=[\"accuracy\"])\n",
    "Bi_LSTM_model.summary()"
   ]
  },
  {
   "cell_type": "code",
   "execution_count": 11,
   "metadata": {},
   "outputs": [],
   "source": [
    "x_train_index = tokenizer.texts_to_sequences(x_train)\n",
    "x_train_index = pad_sequences(x_train_index, maxlen=300)"
   ]
  },
  {
   "cell_type": "code",
   "execution_count": 12,
   "metadata": {},
   "outputs": [],
   "source": [
    "y_train_categorical = keras.utils.to_categorical(y_train, 2)"
   ]
  },
  {
   "cell_type": "code",
   "execution_count": 13,
   "metadata": {},
   "outputs": [
    {
     "output_type": "stream",
     "name": "stdout",
     "text": [
      "Epoch 1/24\n",
      "33/33 [==============================] - 9s 196ms/step - loss: 0.6655 - accuracy: 0.6057 - val_loss: 0.7093 - val_accuracy: 0.5650\n",
      "Epoch 2/24\n",
      "33/33 [==============================] - 7s 203ms/step - loss: 0.6024 - accuracy: 0.6881 - val_loss: 0.5908 - val_accuracy: 0.6867\n",
      "Epoch 3/24\n",
      "33/33 [==============================] - 6s 195ms/step - loss: 0.5556 - accuracy: 0.7171 - val_loss: 0.5399 - val_accuracy: 0.7450\n",
      "Epoch 4/24\n",
      "33/33 [==============================] - 6s 183ms/step - loss: 0.5319 - accuracy: 0.7410 - val_loss: 0.5344 - val_accuracy: 0.7350\n",
      "Epoch 5/24\n",
      "33/33 [==============================] - 6s 189ms/step - loss: 0.5096 - accuracy: 0.7581 - val_loss: 0.5296 - val_accuracy: 0.7433\n",
      "Epoch 6/24\n",
      "33/33 [==============================] - 6s 182ms/step - loss: 0.4821 - accuracy: 0.7800 - val_loss: 0.5428 - val_accuracy: 0.7300\n",
      "Epoch 7/24\n",
      "33/33 [==============================] - 6s 175ms/step - loss: 0.4645 - accuracy: 0.7829 - val_loss: 0.4897 - val_accuracy: 0.7650\n",
      "Epoch 8/24\n",
      "33/33 [==============================] - 6s 187ms/step - loss: 0.4505 - accuracy: 0.7881 - val_loss: 0.4871 - val_accuracy: 0.7717\n",
      "Epoch 9/24\n",
      "33/33 [==============================] - 6s 177ms/step - loss: 0.4272 - accuracy: 0.8010 - val_loss: 0.4811 - val_accuracy: 0.7783\n",
      "Epoch 10/24\n",
      "33/33 [==============================] - 6s 177ms/step - loss: 0.4428 - accuracy: 0.7948 - val_loss: 0.5043 - val_accuracy: 0.7633\n",
      "Epoch 11/24\n",
      "33/33 [==============================] - 6s 178ms/step - loss: 0.3991 - accuracy: 0.8186 - val_loss: 0.5010 - val_accuracy: 0.7767\n",
      "Epoch 12/24\n",
      "33/33 [==============================] - 6s 179ms/step - loss: 0.3831 - accuracy: 0.8305 - val_loss: 0.4721 - val_accuracy: 0.7650\n",
      "Epoch 13/24\n",
      "33/33 [==============================] - 6s 183ms/step - loss: 0.3672 - accuracy: 0.8352 - val_loss: 0.4748 - val_accuracy: 0.7817\n",
      "Epoch 14/24\n",
      "33/33 [==============================] - 6s 192ms/step - loss: 0.3856 - accuracy: 0.8267 - val_loss: 0.4562 - val_accuracy: 0.8100\n",
      "Epoch 15/24\n",
      "33/33 [==============================] - 6s 188ms/step - loss: 0.3538 - accuracy: 0.8500 - val_loss: 0.4735 - val_accuracy: 0.7900\n",
      "Epoch 16/24\n",
      "33/33 [==============================] - 6s 183ms/step - loss: 0.3463 - accuracy: 0.8495 - val_loss: 0.4765 - val_accuracy: 0.7883\n",
      "Epoch 17/24\n",
      "33/33 [==============================] - 6s 184ms/step - loss: 0.3271 - accuracy: 0.8624 - val_loss: 0.4501 - val_accuracy: 0.7983\n",
      "Epoch 18/24\n",
      "33/33 [==============================] - 6s 180ms/step - loss: 0.3126 - accuracy: 0.8795 - val_loss: 0.4569 - val_accuracy: 0.8100\n",
      "Epoch 19/24\n",
      "33/33 [==============================] - 6s 187ms/step - loss: 0.2927 - accuracy: 0.8848 - val_loss: 0.5013 - val_accuracy: 0.7900\n",
      "Epoch 20/24\n",
      "33/33 [==============================] - 6s 184ms/step - loss: 0.3037 - accuracy: 0.8738 - val_loss: 0.4896 - val_accuracy: 0.7950\n",
      "Epoch 21/24\n",
      "33/33 [==============================] - 6s 184ms/step - loss: 0.2735 - accuracy: 0.8871 - val_loss: 0.4511 - val_accuracy: 0.8083\n",
      "Epoch 22/24\n",
      "33/33 [==============================] - 6s 184ms/step - loss: 0.2595 - accuracy: 0.8986 - val_loss: 0.4558 - val_accuracy: 0.8100\n",
      "Epoch 23/24\n",
      "33/33 [==============================] - 6s 185ms/step - loss: 0.2524 - accuracy: 0.8957 - val_loss: 0.5652 - val_accuracy: 0.7600\n",
      "Epoch 24/24\n",
      "33/33 [==============================] - 6s 182ms/step - loss: 0.2411 - accuracy: 0.9090 - val_loss: 0.5506 - val_accuracy: 0.7883\n"
     ]
    },
    {
     "output_type": "execute_result",
     "data": {
      "text/plain": [
       "<tensorflow.python.keras.callbacks.History at 0x7fa0b00ff850>"
      ]
     },
     "metadata": {},
     "execution_count": 13
    }
   ],
   "source": [
    "Bi_LSTM_model.fit(x_train_index[:2100], y_train_categorical[:2100], epochs=24, batch_size=64, verbose=1, validation_data=(x_train_index[2100:], y_train_categorical[2100:]))"
   ]
  },
  {
   "cell_type": "code",
   "execution_count": 14,
   "metadata": {},
   "outputs": [],
   "source": [
    "x_test_index = tokenizer.texts_to_sequences(x_test)\n",
    "x_test_index = pad_sequences(x_test_index, maxlen=300)"
   ]
  },
  {
   "cell_type": "code",
   "execution_count": 15,
   "metadata": {},
   "outputs": [],
   "source": [
    "y_pred = Bi_LSTM_model.predict(x_test_index)"
   ]
  },
  {
   "cell_type": "code",
   "execution_count": 16,
   "metadata": {},
   "outputs": [
    {
     "output_type": "stream",
     "name": "stdout",
     "text": [
      "              precision    recall  f1-score   support\n\n           0       0.70      0.89      0.78       148\n           1       0.85      0.63      0.72       152\n\n    accuracy                           0.76       300\n   macro avg       0.78      0.76      0.75       300\nweighted avg       0.78      0.76      0.75       300\n\n"
     ]
    }
   ],
   "source": [
    "print(classification_report(y_test, np.argmax(y_pred, axis=1).astype(\"float32\")))"
   ]
  },
  {
   "cell_type": "code",
   "execution_count": 17,
   "metadata": {},
   "outputs": [
    {
     "output_type": "stream",
     "name": "stderr",
     "text": [
      "WARNING:absl:Found untraced functions such as lstm_cell_1_layer_call_fn, lstm_cell_1_layer_call_and_return_conditional_losses, lstm_cell_2_layer_call_fn, lstm_cell_2_layer_call_and_return_conditional_losses, lstm_cell_1_layer_call_fn while saving (showing 5 of 10). These functions will not be directly callable after loading.\n",
      "INFO:tensorflow:Assets written to: models/SLS_BiLSTM/assets\n",
      "INFO:tensorflow:Assets written to: models/SLS_BiLSTM/assets\n"
     ]
    }
   ],
   "source": [
    "Bi_LSTM_model.save(\"models/SLS_BiLSTM\")"
   ]
  }
 ]
}