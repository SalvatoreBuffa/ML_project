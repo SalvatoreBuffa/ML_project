{
 "metadata": {
  "language_info": {
   "codemirror_mode": {
    "name": "ipython",
    "version": 3
   },
   "file_extension": ".py",
   "mimetype": "text/x-python",
   "name": "python",
   "nbconvert_exporter": "python",
   "pygments_lexer": "ipython3",
   "version": "3.8.5"
  },
  "orig_nbformat": 2,
  "kernelspec": {
   "name": "pythonjvsc74a57bd0799eb0fd45bbf32cd22b7eb12315f66a6945dddec75ab4ee4de6611b037c6c79",
   "display_name": "Python 3.8.5 64-bit ('venv': venv)"
  },
  "metadata": {
   "interpreter": {
    "hash": "799eb0fd45bbf32cd22b7eb12315f66a6945dddec75ab4ee4de6611b037c6c79"
   }
  }
 },
 "nbformat": 4,
 "nbformat_minor": 2,
 "cells": [
  {
   "cell_type": "code",
   "execution_count": 27,
   "metadata": {},
   "outputs": [],
   "source": [
    "import pandas as pd\n",
    "import numpy as np\n",
    "\n",
    "from tensorflow.keras.layers import LSTM, Activation, Dropout, Dense, Input, Embedding\n",
    "from tensorflow.keras.optimizers import Adagrad\n",
    "from tensorflow.keras.models import Model, Sequential\n",
    "from tensorflow.keras.activations import sigmoid\n",
    "\n",
    "from keras.backend import clear_session\n",
    "from keras.preprocessing.text import Tokenizer\n",
    "from sklearn.preprocessing import LabelBinarizer\n",
    "from keras.preprocessing.sequence import pad_sequences\n",
    "from sklearn.model_selection import train_test_split\n",
    "from sklearn.metrics import classification_report\n",
    "import pickle\n",
    "from tensorflow import keras\n",
    "\n",
    "import sys\n",
    "sys.path.append(\"../\")\n",
    "\n",
    "from pre_processing import creazione_modello_GloVe"
   ]
  },
  {
   "cell_type": "code",
   "execution_count": 15,
   "metadata": {},
   "outputs": [],
   "source": [
    "dataset = pickle.load(open(\"dataset/dataset_SLS.pickle\", \"rb\"))"
   ]
  },
  {
   "cell_type": "code",
   "execution_count": 16,
   "metadata": {},
   "outputs": [],
   "source": [
    "Y = np.array(dataset[\"sentiment\"])"
   ]
  },
  {
   "cell_type": "code",
   "execution_count": 17,
   "metadata": {},
   "outputs": [],
   "source": [
    "x_train,x_test,y_train,y_test = train_test_split(dataset[\"sentence\"],Y, test_size=0.1, shuffle=True)"
   ]
  },
  {
   "cell_type": "code",
   "execution_count": 18,
   "metadata": {},
   "outputs": [
    {
     "output_type": "stream",
     "name": "stdout",
     "text": [
      "(2700,) (2700,)\n(300,) (300,)\n"
     ]
    }
   ],
   "source": [
    "print(x_train.shape, y_train.shape)\n",
    "print(x_test.shape, y_test.shape)"
   ]
  },
  {
   "cell_type": "code",
   "execution_count": 19,
   "metadata": {},
   "outputs": [
    {
     "output_type": "stream",
     "name": "stdout",
     "text": [
      "numero di positivi nel train:  1351\nnumero di negativi nel train:  1349\nnumero di positivi nel test:  149\nnumero di negativi nel test:  151\n"
     ]
    }
   ],
   "source": [
    "print(\"numero di positivi nel train: \", list(y_train).count(1))\n",
    "print(\"numero di negativi nel train: \", list(y_train).count(0))\n",
    "\n",
    "print(\"numero di positivi nel test: \", list(y_test).count(1))\n",
    "print(\"numero di negativi nel test: \", list(y_test).count(0))"
   ]
  },
  {
   "cell_type": "code",
   "execution_count": 20,
   "metadata": {},
   "outputs": [],
   "source": [
    "embedding = creazione_modello_GloVe(\"dataset/glove.6B.50d.txt\")"
   ]
  },
  {
   "cell_type": "code",
   "execution_count": 21,
   "metadata": {},
   "outputs": [],
   "source": [
    "tokenizer = Tokenizer(num_words=140000)\n",
    "tokenizer.fit_on_texts(x_train)\n",
    "\n",
    "word_index = tokenizer.word_index"
   ]
  },
  {
   "cell_type": "code",
   "execution_count": 22,
   "metadata": {},
   "outputs": [],
   "source": [
    "vocab_len = len(word_index)+1\n",
    "embedding_vector_len = embedding[\"banana\"].shape[0]\n",
    "embedding_matrix = np.zeros((vocab_len, embedding_vector_len))\n",
    "\n",
    "for word, index in word_index.items():\n",
    "    vector = embedding.get(word)\n",
    "    if vector is not None:\n",
    "        embedding_matrix[index, :] = vector\n",
    "\n",
    "embedding_layer = Embedding(input_dim=vocab_len, output_dim=embedding_vector_len, input_length=300, weights=[embedding_matrix])"
   ]
  },
  {
   "cell_type": "code",
   "execution_count": 23,
   "metadata": {},
   "outputs": [
    {
     "output_type": "stream",
     "name": "stdout",
     "text": [
      "Model: \"sequential_1\"\n_________________________________________________________________\nLayer (type)                 Output Shape              Param #   \n=================================================================\nembedding (Embedding)        (None, 300, 50)           248350    \n_________________________________________________________________\nmodule_wrapper_2 (ModuleWrap (None, 32)                8064      \n_________________________________________________________________\ndense_4 (Dense)              (None, 32)                1056      \n_________________________________________________________________\ndense_5 (Dense)              (None, 32)                1056      \n_________________________________________________________________\ndense_6 (Dense)              (None, 32)                1056      \n_________________________________________________________________\ndense_7 (Dense)              (None, 2)                 66        \n=================================================================\nTotal params: 259,648\nTrainable params: 259,648\nNon-trainable params: 0\n_________________________________________________________________\n"
     ]
    }
   ],
   "source": [
    "GRU_model = Sequential()\n",
    "GRU_model.add(embedding_layer)\n",
    "GRU_model.add(GRU(units=32))\n",
    "GRU_model.add(Dense(32))\n",
    "GRU_model.add(Dense(32))\n",
    "GRU_model.add(Dense(32))\n",
    "GRU_model.add(Dense(2, activation=sigmoid))\n",
    "\n",
    "GRU_model.compile(loss=\"binary_crossentropy\", optimizer=Adagrad(learning_rate=0.01), metrics=[\"accuracy\"])\n",
    "\n",
    "GRU_model.summary()"
   ]
  },
  {
   "cell_type": "code",
   "execution_count": 29,
   "metadata": {},
   "outputs": [],
   "source": [
    "x_train_index = tokenizer.texts_to_sequences(x_train)\n",
    "x_train_index = pad_sequences(x_train_index, maxlen=300)"
   ]
  },
  {
   "cell_type": "code",
   "execution_count": 25,
   "metadata": {},
   "outputs": [],
   "source": [
    "y_train_categorical = keras.utils.to_categorical(y_train, 2)"
   ]
  },
  {
   "cell_type": "code",
   "execution_count": 30,
   "metadata": {},
   "outputs": [
    {
     "output_type": "stream",
     "name": "stdout",
     "text": [
      "Epoch 1/10\n",
      "33/33 [==============================] - 5s 125ms/step - loss: 0.6365 - accuracy: 0.6371 - val_loss: 0.6501 - val_accuracy: 0.6350\n",
      "Epoch 2/10\n",
      "33/33 [==============================] - 4s 125ms/step - loss: 0.6255 - accuracy: 0.6557 - val_loss: 0.6445 - val_accuracy: 0.6350\n",
      "Epoch 3/10\n",
      "33/33 [==============================] - 4s 125ms/step - loss: 0.6143 - accuracy: 0.6643 - val_loss: 0.6388 - val_accuracy: 0.6333\n",
      "Epoch 4/10\n",
      "33/33 [==============================] - 4s 124ms/step - loss: 0.6052 - accuracy: 0.6690 - val_loss: 0.6296 - val_accuracy: 0.6467\n",
      "Epoch 5/10\n",
      "33/33 [==============================] - 4s 120ms/step - loss: 0.5942 - accuracy: 0.6824 - val_loss: 0.6238 - val_accuracy: 0.6617\n",
      "Epoch 6/10\n",
      "33/33 [==============================] - 4s 119ms/step - loss: 0.5860 - accuracy: 0.6852 - val_loss: 0.6212 - val_accuracy: 0.6600\n",
      "Epoch 7/10\n",
      "33/33 [==============================] - 4s 118ms/step - loss: 0.5769 - accuracy: 0.6857 - val_loss: 0.6123 - val_accuracy: 0.6617\n",
      "Epoch 8/10\n",
      "33/33 [==============================] - 4s 119ms/step - loss: 0.5709 - accuracy: 0.6914 - val_loss: 0.6057 - val_accuracy: 0.6717\n",
      "Epoch 9/10\n",
      "33/33 [==============================] - 4s 119ms/step - loss: 0.5626 - accuracy: 0.7067 - val_loss: 0.6016 - val_accuracy: 0.6833\n",
      "Epoch 10/10\n",
      "33/33 [==============================] - 4s 119ms/step - loss: 0.5558 - accuracy: 0.7067 - val_loss: 0.6009 - val_accuracy: 0.6817\n"
     ]
    },
    {
     "output_type": "execute_result",
     "data": {
      "text/plain": [
       "<tensorflow.python.keras.callbacks.History at 0x7f0957891250>"
      ]
     },
     "metadata": {},
     "execution_count": 30
    }
   ],
   "source": [
    "clear_session()\n",
    "GRU_model.fit(x_train_index[:2100], y_train_categorical[:2100], epochs=10, batch_size=64, verbose=1, validation_data=(x_train_index[2100:], y_train_categorical[2100:]))"
   ]
  },
  {
   "cell_type": "code",
   "execution_count": 31,
   "metadata": {},
   "outputs": [],
   "source": [
    "x_train_index = tokenizer.texts_to_sequences(x_train)\n",
    "x_train_index = pad_sequences(x_train_index, maxlen=300)"
   ]
  },
  {
   "cell_type": "code",
   "execution_count": null,
   "metadata": {},
   "outputs": [],
   "source": [
    "y_train_categorical = keras.utils.to_categorical(y_train, 2)"
   ]
  },
  {
   "cell_type": "code",
   "execution_count": 32,
   "metadata": {},
   "outputs": [
    {
     "output_type": "stream",
     "name": "stdout",
     "text": [
      "Epoch 1/10\n",
      "33/33 [==============================] - 5s 139ms/step - loss: 0.5471 - accuracy: 0.7176 - val_loss: 0.5901 - val_accuracy: 0.7017\n",
      "Epoch 2/10\n",
      "33/33 [==============================] - 4s 130ms/step - loss: 0.5388 - accuracy: 0.7252 - val_loss: 0.5898 - val_accuracy: 0.6933\n",
      "Epoch 3/10\n",
      "33/33 [==============================] - 4s 128ms/step - loss: 0.5330 - accuracy: 0.7290 - val_loss: 0.5821 - val_accuracy: 0.7083\n",
      "Epoch 4/10\n",
      "33/33 [==============================] - 4s 129ms/step - loss: 0.5249 - accuracy: 0.7386 - val_loss: 0.6040 - val_accuracy: 0.6750\n",
      "Epoch 5/10\n",
      "33/33 [==============================] - 4s 129ms/step - loss: 0.5178 - accuracy: 0.7462 - val_loss: 0.5675 - val_accuracy: 0.7283\n",
      "Epoch 6/10\n",
      "33/33 [==============================] - 4s 129ms/step - loss: 0.5140 - accuracy: 0.7443 - val_loss: 0.5643 - val_accuracy: 0.7300\n",
      "Epoch 7/10\n",
      "33/33 [==============================] - 4s 130ms/step - loss: 0.5055 - accuracy: 0.7586 - val_loss: 0.5597 - val_accuracy: 0.7250\n",
      "Epoch 8/10\n",
      "33/33 [==============================] - 4s 130ms/step - loss: 0.4980 - accuracy: 0.7657 - val_loss: 0.5521 - val_accuracy: 0.7350\n",
      "Epoch 9/10\n",
      "33/33 [==============================] - 4s 131ms/step - loss: 0.4920 - accuracy: 0.7648 - val_loss: 0.5698 - val_accuracy: 0.7183\n",
      "Epoch 10/10\n",
      "33/33 [==============================] - 4s 126ms/step - loss: 0.4855 - accuracy: 0.7733 - val_loss: 0.5513 - val_accuracy: 0.7283\n"
     ]
    },
    {
     "output_type": "execute_result",
     "data": {
      "text/plain": [
       "<tensorflow.python.keras.callbacks.History at 0x7f0957cd13d0>"
      ]
     },
     "metadata": {},
     "execution_count": 32
    }
   ],
   "source": [
    "clear_session()\n",
    "GRU_model.fit(x_train_index[:2100], y_train_categorical[:2100], epochs=10, batch_size=64, verbose=1, validation_data=(x_train_index[2100:], y_train_categorical[2100:]))"
   ]
  },
  {
   "cell_type": "code",
   "execution_count": 33,
   "metadata": {},
   "outputs": [],
   "source": [
    "x_test_index = tokenizer.texts_to_sequences(x_test)\n",
    "x_test_index = pad_sequences(x_test_index, maxlen=300)"
   ]
  },
  {
   "cell_type": "code",
   "execution_count": 34,
   "metadata": {},
   "outputs": [],
   "source": [
    "y_pred = GRU_model.predict(x_test_index)"
   ]
  },
  {
   "cell_type": "code",
   "execution_count": 35,
   "metadata": {},
   "outputs": [
    {
     "output_type": "stream",
     "name": "stdout",
     "text": [
      "              precision    recall  f1-score   support\n\n           0       0.82      0.70      0.75       151\n           1       0.73      0.85      0.79       149\n\n    accuracy                           0.77       300\n   macro avg       0.78      0.77      0.77       300\nweighted avg       0.78      0.77      0.77       300\n\n"
     ]
    }
   ],
   "source": [
    "print(classification_report(y_test, np.argmax(y_pred, axis=1).astype(\"float32\")))"
   ]
  },
  {
   "cell_type": "code",
   "execution_count": 36,
   "metadata": {},
   "outputs": [
    {
     "output_type": "stream",
     "name": "stderr",
     "text": [
      "WARNING:absl:Found untraced functions such as gru_cell_1_layer_call_and_return_conditional_losses, gru_cell_1_layer_call_fn, gru_cell_1_layer_call_fn, gru_cell_1_layer_call_and_return_conditional_losses, gru_cell_1_layer_call_and_return_conditional_losses while saving (showing 5 of 5). These functions will not be directly callable after loading.\n",
      "INFO:tensorflow:Assets written to: models/SLS_GRU/assets\n",
      "INFO:tensorflow:Assets written to: models/SLS_GRU/assets\n"
     ]
    }
   ],
   "source": [
    "GRU_model.save(\"models/SLS_GRU\")"
   ]
  }
 ]
}