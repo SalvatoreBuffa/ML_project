{
 "metadata": {
  "language_info": {
   "codemirror_mode": {
    "name": "ipython",
    "version": 3
   },
   "file_extension": ".py",
   "mimetype": "text/x-python",
   "name": "python",
   "nbconvert_exporter": "python",
   "pygments_lexer": "ipython3",
   "version": "3.8.5"
  },
  "orig_nbformat": 2,
  "kernelspec": {
   "name": "pythonjvsc74a57bd0799eb0fd45bbf32cd22b7eb12315f66a6945dddec75ab4ee4de6611b037c6c79",
   "display_name": "Python 3.8.5 64-bit ('venv': venv)"
  },
  "metadata": {
   "interpreter": {
    "hash": "799eb0fd45bbf32cd22b7eb12315f66a6945dddec75ab4ee4de6611b037c6c79"
   }
  }
 },
 "nbformat": 4,
 "nbformat_minor": 2,
 "cells": [
  {
   "cell_type": "code",
   "execution_count": 21,
   "metadata": {},
   "outputs": [],
   "source": [
    "import pandas as pd\n",
    "import numpy as np\n",
    "from tensorflow.keras.layers import Embedding\n",
    "from tensorflow.keras.layers import Activation, Dropout, Dense, Conv1D, GlobalMaxPool1D, MaxPool1D, Input, MaxPooling1D, Flatten, SimpleRNN\n",
    "from tensorflow.keras.models import Model, Sequential\n",
    "from keras.backend import clear_session\n",
    "from tensorflow.keras.optimizers import RMSprop\n",
    "from tensorflow.keras.activations import tanh\n",
    "\n",
    "\n",
    "from tensorflow.keras.optimizers import Adadelta\n",
    "\n",
    "from keras.preprocessing.text import Tokenizer\n",
    "from sklearn.preprocessing import LabelBinarizer\n",
    "from keras.preprocessing.sequence import pad_sequences\n",
    "\n",
    "from sklearn.model_selection import train_test_split\n",
    "from sklearn.metrics import classification_report\n",
    "import pickle\n",
    "from tensorflow import keras\n",
    "\n",
    "import sys\n",
    "sys.path.append(\"../\")\n",
    "\n",
    "from pre_processing import creazione_modello_GloVe"
   ]
  },
  {
   "cell_type": "code",
   "execution_count": 2,
   "metadata": {},
   "outputs": [],
   "source": [
    "dataset = pickle.load(open(\"dataset/dataset_SLS.pickle\", \"rb\"))"
   ]
  },
  {
   "cell_type": "code",
   "execution_count": 3,
   "metadata": {},
   "outputs": [],
   "source": [
    "Y = np.array(dataset[\"sentiment\"])"
   ]
  },
  {
   "cell_type": "code",
   "execution_count": 4,
   "metadata": {},
   "outputs": [],
   "source": [
    "x_train,x_test,y_train,y_test = train_test_split(dataset[\"sentence\"],Y, test_size=0.1, shuffle=True)"
   ]
  },
  {
   "cell_type": "code",
   "execution_count": 5,
   "metadata": {},
   "outputs": [
    {
     "output_type": "stream",
     "name": "stdout",
     "text": [
      "(2700,) (2700,)\n(300,) (300,)\n"
     ]
    }
   ],
   "source": [
    "print(x_train.shape, y_train.shape)\n",
    "print(x_test.shape, y_test.shape)"
   ]
  },
  {
   "cell_type": "code",
   "execution_count": 6,
   "metadata": {},
   "outputs": [
    {
     "output_type": "stream",
     "name": "stdout",
     "text": [
      "numero di positivi nel train:  1352\nnumero di negativi nel train:  1348\nnumero di positivi nel test:  148\nnumero di negativi nel test:  152\n"
     ]
    }
   ],
   "source": [
    "print(\"numero di positivi nel train: \", list(y_train).count(1))\n",
    "print(\"numero di negativi nel train: \", list(y_train).count(0))\n",
    "\n",
    "print(\"numero di positivi nel test: \", list(y_test).count(1))\n",
    "print(\"numero di negativi nel test: \", list(y_test).count(0))"
   ]
  },
  {
   "cell_type": "code",
   "execution_count": 7,
   "metadata": {},
   "outputs": [],
   "source": [
    "embedding = creazione_modello_GloVe(\"dataset/glove.6B.50d.txt\")"
   ]
  },
  {
   "cell_type": "code",
   "execution_count": 8,
   "metadata": {},
   "outputs": [],
   "source": [
    "tokenizer = Tokenizer(num_words=140000)\n",
    "tokenizer.fit_on_texts(x_train)\n",
    "\n",
    "word_index = tokenizer.word_index"
   ]
  },
  {
   "cell_type": "code",
   "execution_count": 9,
   "metadata": {},
   "outputs": [],
   "source": [
    "vocab_len = len(word_index)+1\n",
    "embedding_vector_len = embedding[\"banana\"].shape[0]\n",
    "embedding_matrix = np.zeros((vocab_len, embedding_vector_len))\n",
    "\n",
    "for word, index in word_index.items():\n",
    "    vector = embedding.get(word)\n",
    "    if vector is not None:\n",
    "        embedding_matrix[index, :] = vector\n",
    "\n",
    "embedding_layer = Embedding(input_dim=vocab_len, output_dim=embedding_vector_len, input_length=300, weights=[embedding_matrix])"
   ]
  },
  {
   "cell_type": "code",
   "execution_count": 30,
   "metadata": {},
   "outputs": [
    {
     "output_type": "stream",
     "name": "stdout",
     "text": [
      "Model: \"sequential_1\"\n_________________________________________________________________\nLayer (type)                 Output Shape              Param #   \n=================================================================\nembedding (Embedding)        (None, 300, 50)           248750    \n_________________________________________________________________\nconv1d_1 (Conv1D)            (None, 300, 4)            1604      \n_________________________________________________________________\nmax_pooling1d_1 (MaxPooling1 (None, 60, 4)             0         \n_________________________________________________________________\nsimple_rnn_1 (SimpleRNN)     (None, 32)                1184      \n_________________________________________________________________\ndense_3 (Dense)              (None, 32)                1056      \n_________________________________________________________________\ndense_4 (Dense)              (None, 32)                1056      \n_________________________________________________________________\ndense_5 (Dense)              (None, 2)                 66        \n=================================================================\nTotal params: 253,716\nTrainable params: 253,716\nNon-trainable params: 0\n_________________________________________________________________\n"
     ]
    }
   ],
   "source": [
    "CNNRNN_model = Sequential()\n",
    "CNNRNN_model.add(embedding_layer)\n",
    "#CNN\n",
    "CNNRNN_model.add(Conv1D(filters=4, kernel_size=8, padding=\"same\"))\n",
    "CNNRNN_model.add(MaxPooling1D(5, padding=\"same\"))\n",
    "#CNNRNN_model.add(Flatten())\n",
    "#RNN\n",
    "CNNRNN_model.add(SimpleRNN(32))\n",
    "CNNRNN_model.add(Dense(32))\n",
    "CNNRNN_model.add(Dense(32))\n",
    "#CNN_model.add(Dropout(0.2))\n",
    "#CNN_model.add(Dense(20))\n",
    "CNNRNN_model.add(Dense(2, activation=tanh))\n",
    "#RMSprop(learning_rate=0.20)\n",
    "CNNRNN_model.compile(loss=\"binary_crossentropy\", optimizer=Adadelta(), metrics=[\"accuracy\"])\n",
    "CNNRNN_model.summary()"
   ]
  },
  {
   "cell_type": "code",
   "execution_count": 11,
   "metadata": {},
   "outputs": [],
   "source": [
    "x_train_index = tokenizer.texts_to_sequences(x_train)\n",
    "x_train_index = pad_sequences(x_train_index, maxlen=300)"
   ]
  },
  {
   "cell_type": "code",
   "execution_count": 12,
   "metadata": {},
   "outputs": [],
   "source": [
    "y_train_categorical = keras.utils.to_categorical(y_train, 2)"
   ]
  },
  {
   "cell_type": "code",
   "execution_count": 32,
   "metadata": {},
   "outputs": [
    {
     "output_type": "stream",
     "name": "stdout",
     "text": [
      "Epoch 1/25\n",
      "33/33 [==============================] - 1s 22ms/step - loss: 5.0151e-05 - accuracy: 1.0000 - val_loss: 1.4448 - val_accuracy: 0.7800\n",
      "Epoch 2/25\n",
      "33/33 [==============================] - 1s 21ms/step - loss: 5.4247e-05 - accuracy: 1.0000 - val_loss: 1.3597 - val_accuracy: 0.8133\n",
      "Epoch 3/25\n",
      "33/33 [==============================] - 1s 21ms/step - loss: 7.9701e-05 - accuracy: 1.0000 - val_loss: 1.4095 - val_accuracy: 0.7950\n",
      "Epoch 4/25\n",
      "33/33 [==============================] - 1s 21ms/step - loss: 2.1988e-05 - accuracy: 1.0000 - val_loss: 1.4233 - val_accuracy: 0.8033\n",
      "Epoch 5/25\n",
      "33/33 [==============================] - 1s 21ms/step - loss: 2.9137e-04 - accuracy: 1.0000 - val_loss: 1.4285 - val_accuracy: 0.8033\n",
      "Epoch 6/25\n",
      "33/33 [==============================] - 1s 26ms/step - loss: 3.0272e-05 - accuracy: 1.0000 - val_loss: 1.4304 - val_accuracy: 0.8050\n",
      "Epoch 7/25\n",
      "33/33 [==============================] - 1s 25ms/step - loss: 1.1924e-04 - accuracy: 1.0000 - val_loss: 1.4698 - val_accuracy: 0.7817\n",
      "Epoch 8/25\n",
      "33/33 [==============================] - 1s 26ms/step - loss: 4.6447e-05 - accuracy: 1.0000 - val_loss: 1.4194 - val_accuracy: 0.8083\n",
      "Epoch 9/25\n",
      "33/33 [==============================] - 1s 34ms/step - loss: 2.0433e-05 - accuracy: 1.0000 - val_loss: 1.4130 - val_accuracy: 0.8100\n",
      "Epoch 10/25\n",
      "33/33 [==============================] - 1s 24ms/step - loss: 1.1201e-04 - accuracy: 1.0000 - val_loss: 1.4016 - val_accuracy: 0.8150\n",
      "Epoch 11/25\n",
      "33/33 [==============================] - 1s 25ms/step - loss: 1.6123e-05 - accuracy: 1.0000 - val_loss: 1.3961 - val_accuracy: 0.8150\n",
      "Epoch 12/25\n",
      "33/33 [==============================] - 1s 25ms/step - loss: 9.6819e-06 - accuracy: 1.0000 - val_loss: 1.4272 - val_accuracy: 0.8167\n",
      "Epoch 13/25\n",
      "33/33 [==============================] - 1s 25ms/step - loss: 1.0998e-04 - accuracy: 1.0000 - val_loss: 1.4374 - val_accuracy: 0.8133\n",
      "Epoch 14/25\n",
      "33/33 [==============================] - 1s 24ms/step - loss: 1.2906e-05 - accuracy: 1.0000 - val_loss: 1.4153 - val_accuracy: 0.8133\n",
      "Epoch 15/25\n",
      "33/33 [==============================] - 1s 22ms/step - loss: 7.3892e-05 - accuracy: 1.0000 - val_loss: 1.4803 - val_accuracy: 0.7783\n",
      "Epoch 16/25\n",
      "33/33 [==============================] - 1s 22ms/step - loss: 1.8311e-04 - accuracy: 1.0000 - val_loss: 1.4350 - val_accuracy: 0.8117\n",
      "Epoch 17/25\n",
      "33/33 [==============================] - 1s 22ms/step - loss: 1.1835e-05 - accuracy: 1.0000 - val_loss: 1.4272 - val_accuracy: 0.8133\n",
      "Epoch 18/25\n",
      "33/33 [==============================] - 1s 23ms/step - loss: 1.2035e-05 - accuracy: 1.0000 - val_loss: 1.4886 - val_accuracy: 0.7817\n",
      "Epoch 19/25\n",
      "33/33 [==============================] - 1s 22ms/step - loss: 3.4436e-05 - accuracy: 1.0000 - val_loss: 1.4252 - val_accuracy: 0.8083\n",
      "Epoch 20/25\n",
      "33/33 [==============================] - 1s 23ms/step - loss: 8.8249e-06 - accuracy: 1.0000 - val_loss: 1.4526 - val_accuracy: 0.8100\n",
      "Epoch 21/25\n",
      "33/33 [==============================] - 1s 24ms/step - loss: 2.1641e-05 - accuracy: 1.0000 - val_loss: 1.4918 - val_accuracy: 0.8017\n",
      "Epoch 22/25\n",
      "33/33 [==============================] - 1s 24ms/step - loss: 6.1570e-05 - accuracy: 1.0000 - val_loss: 1.5550 - val_accuracy: 0.7667\n",
      "Epoch 23/25\n",
      "33/33 [==============================] - 1s 22ms/step - loss: 6.0896e-05 - accuracy: 1.0000 - val_loss: 1.4936 - val_accuracy: 0.8083\n",
      "Epoch 24/25\n",
      "33/33 [==============================] - 1s 21ms/step - loss: 8.6222e-06 - accuracy: 1.0000 - val_loss: 1.4930 - val_accuracy: 0.8050\n",
      "Epoch 25/25\n",
      "33/33 [==============================] - 1s 22ms/step - loss: 4.6119e-06 - accuracy: 1.0000 - val_loss: 1.4988 - val_accuracy: 0.8117\n"
     ]
    },
    {
     "output_type": "execute_result",
     "data": {
      "text/plain": [
       "<tensorflow.python.keras.callbacks.History at 0x7fd774656310>"
      ]
     },
     "metadata": {},
     "execution_count": 32
    }
   ],
   "source": [
    "clear_session()\n",
    "CNNRNN_model.fit(x_train_index[:2100], y_train_categorical[:2100], epochs=25, batch_size=64, verbose=1, validation_data=(x_train_index[2100:], y_train_categorical[2100:]))"
   ]
  },
  {
   "cell_type": "code",
   "execution_count": 33,
   "metadata": {},
   "outputs": [],
   "source": [
    "x_test_index = tokenizer.texts_to_sequences(x_test)\n",
    "x_test_index = pad_sequences(x_test_index, maxlen=300)"
   ]
  },
  {
   "cell_type": "code",
   "execution_count": 34,
   "metadata": {},
   "outputs": [],
   "source": [
    "y_pred = CNNRNN_model.predict(x_test_index)"
   ]
  },
  {
   "cell_type": "code",
   "execution_count": 35,
   "metadata": {},
   "outputs": [
    {
     "output_type": "stream",
     "name": "stdout",
     "text": [
      "              precision    recall  f1-score   support\n\n           0       0.81      0.80      0.81       152\n           1       0.80      0.80      0.80       148\n\n    accuracy                           0.80       300\n   macro avg       0.80      0.80      0.80       300\nweighted avg       0.80      0.80      0.80       300\n\n"
     ]
    }
   ],
   "source": [
    "print(classification_report(y_test, np.argmax(y_pred, axis=1).astype(\"float32\")))"
   ]
  },
  {
   "cell_type": "code",
   "execution_count": 36,
   "metadata": {},
   "outputs": [
    {
     "output_type": "stream",
     "name": "stdout",
     "text": [
      "INFO:tensorflow:Assets written to: models/SLS_CNNRNN/assets\n"
     ]
    }
   ],
   "source": [
    "CNNRNN_model.save(\"models/SLS_CNNRNN\")"
   ]
  }
 ]
}