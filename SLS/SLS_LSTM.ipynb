{
 "metadata": {
  "language_info": {
   "codemirror_mode": {
    "name": "ipython",
    "version": 3
   },
   "file_extension": ".py",
   "mimetype": "text/x-python",
   "name": "python",
   "nbconvert_exporter": "python",
   "pygments_lexer": "ipython3",
   "version": "3.8.5"
  },
  "orig_nbformat": 2,
  "kernelspec": {
   "name": "pythonjvsc74a57bd0799eb0fd45bbf32cd22b7eb12315f66a6945dddec75ab4ee4de6611b037c6c79",
   "display_name": "Python 3.8.5 64-bit ('venv': venv)"
  },
  "metadata": {
   "interpreter": {
    "hash": "799eb0fd45bbf32cd22b7eb12315f66a6945dddec75ab4ee4de6611b037c6c79"
   }
  }
 },
 "nbformat": 4,
 "nbformat_minor": 2,
 "cells": [
  {
   "cell_type": "code",
   "execution_count": 11,
   "metadata": {},
   "outputs": [],
   "source": [
    "import pandas as pd\n",
    "import numpy as np\n",
    "\n",
    "from tensorflow.keras.layers import LSTM, Activation, Dropout, Dense, Input, Embedding\n",
    "from tensorflow.keras.optimizers import Adagrad\n",
    "from tensorflow.keras.models import Model, Sequential\n",
    "import string\n",
    "import re\n",
    "from keras.preprocessing.text import Tokenizer\n",
    "from sklearn.preprocessing import LabelBinarizer\n",
    "from keras.preprocessing.sequence import pad_sequences\n",
    "from sklearn.model_selection import train_test_split\n",
    "from sklearn.metrics import classification_report\n",
    "import pickle\n",
    "from tensorflow import keras\n",
    "\n",
    "import sys\n",
    "sys.path.append(\"../\")\n",
    "\n",
    "from pre_processing import creazione_modello_GloVe"
   ]
  },
  {
   "cell_type": "code",
   "execution_count": 2,
   "metadata": {},
   "outputs": [],
   "source": [
    "dataset = pickle.load(open(\"dataset/dataset_SLS.pickle\", \"rb\"))"
   ]
  },
  {
   "cell_type": "code",
   "execution_count": 3,
   "metadata": {},
   "outputs": [],
   "source": [
    "Y = np.array(dataset[\"sentiment\"])"
   ]
  },
  {
   "cell_type": "code",
   "execution_count": 4,
   "metadata": {},
   "outputs": [],
   "source": [
    "x_train,x_test,y_train,y_test = train_test_split(dataset[\"sentence\"],Y, test_size=0.1, shuffle=True)"
   ]
  },
  {
   "cell_type": "code",
   "execution_count": 5,
   "metadata": {},
   "outputs": [
    {
     "output_type": "stream",
     "name": "stdout",
     "text": [
      "(2700,) (2700,)\n(300,) (300,)\n"
     ]
    }
   ],
   "source": [
    "print(x_train.shape, y_train.shape)\n",
    "print(x_test.shape, y_test.shape)"
   ]
  },
  {
   "cell_type": "code",
   "execution_count": 8,
   "metadata": {},
   "outputs": [
    {
     "output_type": "stream",
     "name": "stdout",
     "text": [
      "numero di positivi nel train:  1338\nnumero di negativi nel train:  1362\nnumero di positivi nel test:  162\nnumero di negativi nel test:  138\n"
     ]
    }
   ],
   "source": [
    "print(\"numero di positivi nel train: \", list(y_train).count(1))\n",
    "print(\"numero di negativi nel train: \", list(y_train).count(0))\n",
    "\n",
    "print(\"numero di positivi nel test: \", list(y_test).count(1))\n",
    "print(\"numero di negativi nel test: \", list(y_test).count(0))"
   ]
  },
  {
   "cell_type": "code",
   "execution_count": 6,
   "metadata": {},
   "outputs": [],
   "source": [
    "embedding = creazione_modello_GloVe(\"dataset/glove.6B.50d.txt\")"
   ]
  },
  {
   "cell_type": "code",
   "execution_count": 7,
   "metadata": {},
   "outputs": [],
   "source": [
    "tokenizer = Tokenizer(num_words=140000)\n",
    "tokenizer.fit_on_texts(x_train)\n",
    "\n",
    "word_index = tokenizer.word_index"
   ]
  },
  {
   "cell_type": "code",
   "execution_count": 13,
   "metadata": {},
   "outputs": [],
   "source": [
    "vocab_len = len(word_index)+1\n",
    "embedding_vector_len = embedding[\"banana\"].shape[0]\n",
    "embedding_matrix = np.zeros((vocab_len, embedding_vector_len))\n",
    "\n",
    "for word, index in word_index.items():\n",
    "    vector = embedding.get(word)\n",
    "    if vector is not None:\n",
    "        embedding_matrix[index, :] = vector\n",
    "\n",
    "embedding_layer = Embedding(input_dim=vocab_len, output_dim=embedding_vector_len, input_length=300, weights=[embedding_matrix])"
   ]
  },
  {
   "cell_type": "code",
   "execution_count": 14,
   "metadata": {},
   "outputs": [
    {
     "output_type": "stream",
     "name": "stdout",
     "text": [
      "Model: \"sequential_1\"\n_________________________________________________________________\nLayer (type)                 Output Shape              Param #   \n=================================================================\nembedding (Embedding)        (None, 300, 50)           250100    \n_________________________________________________________________\nlstm_1 (LSTM)                (None, 16)                4288      \n_________________________________________________________________\ndense_2 (Dense)              (None, 16)                272       \n_________________________________________________________________\ndense_3 (Dense)              (None, 2)                 34        \n=================================================================\nTotal params: 254,694\nTrainable params: 254,694\nNon-trainable params: 0\n_________________________________________________________________\n"
     ]
    }
   ],
   "source": [
    "LSTM_model = Sequential()\n",
    "LSTM_model.add(embedding_layer)\n",
    "LSTM_model.add(LSTM(units=16))\n",
    "LSTM_model.add(Dense(16))\n",
    "LSTM_model.add(Dense(2, activation=\"sigmoid\"))\n",
    "\n",
    "#non è necessario modificare l'ottimizzatore di default, poichè già lr=0.001\n",
    "LSTM_model.compile(loss=\"binary_crossentropy\", optimizer=Adagrad(learning_rate=0.01), metrics=[\"accuracy\"])\n",
    "LSTM_model.summary()"
   ]
  },
  {
   "cell_type": "code",
   "execution_count": 16,
   "metadata": {},
   "outputs": [],
   "source": [
    "x_train_index = tokenizer.texts_to_sequences(x_train)\n",
    "x_train_index = pad_sequences(x_train_index, maxlen=300)"
   ]
  },
  {
   "cell_type": "code",
   "execution_count": 17,
   "metadata": {},
   "outputs": [],
   "source": [
    "y_train_categorical = keras.utils.to_categorical(y_train, 2)"
   ]
  },
  {
   "cell_type": "code",
   "execution_count": 18,
   "metadata": {},
   "outputs": [
    {
     "output_type": "stream",
     "name": "stdout",
     "text": [
      "Epoch 1/12\n",
      "66/66 [==============================] - 7s 90ms/step - loss: 0.6962 - accuracy: 0.4995 - val_loss: 0.6905 - val_accuracy: 0.5617\n",
      "Epoch 2/12\n",
      "66/66 [==============================] - 6s 84ms/step - loss: 0.6843 - accuracy: 0.5581 - val_loss: 0.6817 - val_accuracy: 0.6000\n",
      "Epoch 3/12\n",
      "66/66 [==============================] - 6s 84ms/step - loss: 0.6721 - accuracy: 0.6052 - val_loss: 0.6699 - val_accuracy: 0.6183\n",
      "Epoch 4/12\n",
      "66/66 [==============================] - 6s 85ms/step - loss: 0.6573 - accuracy: 0.6462 - val_loss: 0.6561 - val_accuracy: 0.6350\n",
      "Epoch 5/12\n",
      "66/66 [==============================] - 6s 86ms/step - loss: 0.6377 - accuracy: 0.6686 - val_loss: 0.6377 - val_accuracy: 0.6550\n",
      "Epoch 6/12\n",
      "66/66 [==============================] - 6s 86ms/step - loss: 0.6126 - accuracy: 0.6957 - val_loss: 0.6160 - val_accuracy: 0.6650\n",
      "Epoch 7/12\n",
      "66/66 [==============================] - 6s 85ms/step - loss: 0.5852 - accuracy: 0.7081 - val_loss: 0.5949 - val_accuracy: 0.6900\n",
      "Epoch 8/12\n",
      "66/66 [==============================] - 6s 85ms/step - loss: 0.5570 - accuracy: 0.7443 - val_loss: 0.5730 - val_accuracy: 0.7333\n",
      "Epoch 9/12\n",
      "66/66 [==============================] - 6s 86ms/step - loss: 0.5341 - accuracy: 0.7529 - val_loss: 0.5578 - val_accuracy: 0.7400\n",
      "Epoch 10/12\n",
      "66/66 [==============================] - 6s 85ms/step - loss: 0.5174 - accuracy: 0.7633 - val_loss: 0.5500 - val_accuracy: 0.7367\n",
      "Epoch 11/12\n",
      "66/66 [==============================] - 6s 85ms/step - loss: 0.5007 - accuracy: 0.7762 - val_loss: 0.5397 - val_accuracy: 0.7383\n",
      "Epoch 12/12\n",
      "66/66 [==============================] - 6s 86ms/step - loss: 0.4896 - accuracy: 0.7771 - val_loss: 0.5336 - val_accuracy: 0.7450\n"
     ]
    },
    {
     "output_type": "execute_result",
     "data": {
      "text/plain": [
       "<tensorflow.python.keras.callbacks.History at 0x7fcd3811cd90>"
      ]
     },
     "metadata": {},
     "execution_count": 18
    }
   ],
   "source": [
    "LSTM_model.fit(x_train_index[:2100], y_train_categorical[:2100], epochs=12, batch_size=32, verbose=1, validation_data=(x_train_index[2100:], y_train_categorical[2100:]))"
   ]
  },
  {
   "cell_type": "code",
   "execution_count": 19,
   "metadata": {},
   "outputs": [],
   "source": [
    "x_test_index = tokenizer.texts_to_sequences(x_test)\n",
    "x_test_index = pad_sequences(x_test_index, maxlen=300)"
   ]
  },
  {
   "cell_type": "code",
   "execution_count": 22,
   "metadata": {},
   "outputs": [],
   "source": [
    "y_pred = LSTM_model.predict(x_test_index)"
   ]
  },
  {
   "cell_type": "code",
   "execution_count": 23,
   "metadata": {},
   "outputs": [
    {
     "output_type": "stream",
     "name": "stdout",
     "text": [
      "              precision    recall  f1-score   support\n\n           0       0.79      0.75      0.77       153\n           1       0.75      0.80      0.77       147\n\n    accuracy                           0.77       300\n   macro avg       0.77      0.77      0.77       300\nweighted avg       0.77      0.77      0.77       300\n\n"
     ]
    }
   ],
   "source": [
    "print(classification_report(y_test, np.argmax(y_pred, axis=1).astype(\"float32\")))"
   ]
  },
  {
   "cell_type": "code",
   "execution_count": 24,
   "metadata": {},
   "outputs": [
    {
     "output_type": "stream",
     "name": "stderr",
     "text": [
      "WARNING:absl:Found untraced functions such as lstm_cell_1_layer_call_and_return_conditional_losses, lstm_cell_1_layer_call_fn, lstm_cell_1_layer_call_fn, lstm_cell_1_layer_call_and_return_conditional_losses, lstm_cell_1_layer_call_and_return_conditional_losses while saving (showing 5 of 5). These functions will not be directly callable after loading.\n",
      "INFO:tensorflow:Assets written to: models/SLS_LSTM/assets\n",
      "INFO:tensorflow:Assets written to: models/SLS_LSTM/assets\n"
     ]
    }
   ],
   "source": [
    "LSTM_model.save(\"models/SLS_LSTM\")"
   ]
  }
 ]
}