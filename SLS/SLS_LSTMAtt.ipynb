{
 "metadata": {
  "language_info": {
   "codemirror_mode": {
    "name": "ipython",
    "version": 3
   },
   "file_extension": ".py",
   "mimetype": "text/x-python",
   "name": "python",
   "nbconvert_exporter": "python",
   "pygments_lexer": "ipython3",
   "version": "3.8.5"
  },
  "orig_nbformat": 2,
  "kernelspec": {
   "name": "pythonjvsc74a57bd0799eb0fd45bbf32cd22b7eb12315f66a6945dddec75ab4ee4de6611b037c6c79",
   "display_name": "Python 3.8.5 64-bit ('venv': venv)"
  },
  "metadata": {
   "interpreter": {
    "hash": "799eb0fd45bbf32cd22b7eb12315f66a6945dddec75ab4ee4de6611b037c6c79"
   }
  }
 },
 "nbformat": 4,
 "nbformat_minor": 2,
 "cells": [
  {
   "cell_type": "code",
   "execution_count": 1,
   "metadata": {},
   "outputs": [],
   "source": [
    "import pandas as pd\n",
    "import numpy as np\n",
    "\n",
    "from tensorflow.keras.layers import LSTM, Activation, Dropout, Dense, Input, Embedding, Layer, Attention\n",
    "from tensorflow.keras.optimizers import Adagrad\n",
    "from tensorflow.keras.models import Model, Sequential\n",
    "from tensorflow.keras.optimizers import Adadelta\n",
    "\n",
    "\n",
    "import keras.backend as kb\n",
    "from keras.backend import clear_session\n",
    "from keras.preprocessing.text import Tokenizer\n",
    "from sklearn.preprocessing import LabelBinarizer\n",
    "from keras.preprocessing.sequence import pad_sequences\n",
    "from sklearn.model_selection import train_test_split\n",
    "from sklearn.metrics import classification_report\n",
    "import pickle\n",
    "from tensorflow import keras\n",
    "\n",
    "import sys\n",
    "sys.path.append(\"../\")\n",
    "\n",
    "from pre_processing import creazione_modello_GloVe"
   ]
  },
  {
   "cell_type": "code",
   "execution_count": 2,
   "metadata": {},
   "outputs": [],
   "source": [
    "dataset = pickle.load(open(\"dataset/dataset_SLS.pickle\", \"rb\"))"
   ]
  },
  {
   "cell_type": "code",
   "execution_count": 3,
   "metadata": {},
   "outputs": [],
   "source": [
    "Y = np.array(dataset[\"sentiment\"])"
   ]
  },
  {
   "cell_type": "code",
   "execution_count": 4,
   "metadata": {},
   "outputs": [],
   "source": [
    "x_train,x_test,y_train,y_test = train_test_split(dataset[\"sentence\"],Y, test_size=0.1, shuffle=True)"
   ]
  },
  {
   "cell_type": "code",
   "execution_count": 5,
   "metadata": {},
   "outputs": [
    {
     "output_type": "stream",
     "name": "stdout",
     "text": [
      "(2700,) (2700,)\n(300,) (300,)\n"
     ]
    }
   ],
   "source": [
    "print(x_train.shape, y_train.shape)\n",
    "print(x_test.shape, y_test.shape)"
   ]
  },
  {
   "cell_type": "code",
   "execution_count": 6,
   "metadata": {},
   "outputs": [
    {
     "output_type": "stream",
     "name": "stdout",
     "text": [
      "numero di positivi nel train:  1344\nnumero di negativi nel train:  1356\nnumero di positivi nel test:  156\nnumero di negativi nel test:  144\n"
     ]
    }
   ],
   "source": [
    "print(\"numero di positivi nel train: \", list(y_train).count(1))\n",
    "print(\"numero di negativi nel train: \", list(y_train).count(0))\n",
    "\n",
    "print(\"numero di positivi nel test: \", list(y_test).count(1))\n",
    "print(\"numero di negativi nel test: \", list(y_test).count(0))"
   ]
  },
  {
   "cell_type": "code",
   "execution_count": 7,
   "metadata": {},
   "outputs": [],
   "source": [
    "embedding = creazione_modello_GloVe(\"dataset/glove.6B.50d.txt\")"
   ]
  },
  {
   "cell_type": "code",
   "execution_count": 8,
   "metadata": {},
   "outputs": [],
   "source": [
    "tokenizer = Tokenizer(num_words=140000)\n",
    "tokenizer.fit_on_texts(x_train)\n",
    "\n",
    "word_index = tokenizer.word_index"
   ]
  },
  {
   "cell_type": "code",
   "execution_count": 9,
   "metadata": {},
   "outputs": [],
   "source": [
    "vocab_len = len(word_index)+1\n",
    "embedding_vector_len = embedding[\"banana\"].shape[0]\n",
    "embedding_matrix = np.zeros((vocab_len, embedding_vector_len))\n",
    "\n",
    "for word, index in word_index.items():\n",
    "    vector = embedding.get(word)\n",
    "    if vector is not None:\n",
    "        embedding_matrix[index, :] = vector\n",
    "\n",
    "embedding_layer = Embedding(input_dim=vocab_len, output_dim=embedding_vector_len, input_length=300, weights=[embedding_matrix])"
   ]
  },
  {
   "cell_type": "code",
   "execution_count": 10,
   "metadata": {},
   "outputs": [],
   "source": [
    "class attention(Layer):\n",
    "    def __init__(self,**kwargs):\n",
    "        super(attention,self).__init__(**kwargs)\n",
    "\n",
    "    def build(self,input_shape):\n",
    "        self.W=self.add_weight(name=\"att_weight\",shape=(input_shape[-1],1),initializer=\"normal\")\n",
    "        self.b=self.add_weight(name=\"att_bias\",shape=(input_shape[1],1),initializer=\"zeros\")        \n",
    "        super(attention, self).build(input_shape)\n",
    "\n",
    "    def call(self,x):\n",
    "        et=kb.squeeze(kb.tanh(kb.dot(x,self.W)+self.b),axis=-1)\n",
    "        at=kb.softmax(et)\n",
    "        at=kb.expand_dims(at,axis=-1)\n",
    "        output=x*at\n",
    "        return kb.sum(output,axis=1)\n",
    "\n",
    "    def compute_output_shape(self,input_shape):\n",
    "        return (input_shape[0],input_shape[-1])\n",
    "\n",
    "    def get_config(self):\n",
    "        return super(attention,self).get_config()"
   ]
  },
  {
   "cell_type": "code",
   "execution_count": 11,
   "metadata": {},
   "outputs": [
    {
     "output_type": "stream",
     "name": "stdout",
     "text": [
      "Model: \"sequential\"\n_________________________________________________________________\nLayer (type)                 Output Shape              Param #   \n=================================================================\nembedding (Embedding)        (None, 300, 50)           249600    \n_________________________________________________________________\nlstm (LSTM)                  (None, 300, 32)           10624     \n_________________________________________________________________\nattention (attention)        (None, 32)                332       \n_________________________________________________________________\ndense (Dense)                (None, 2)                 66        \n=================================================================\nTotal params: 260,622\nTrainable params: 260,622\nNon-trainable params: 0\n_________________________________________________________________\n"
     ]
    }
   ],
   "source": [
    "lstmAtt_model = Sequential()\n",
    "lstmAtt_model.add(embedding_layer)\n",
    "lstmAtt_model.add(LSTM(32, return_sequences=True))\n",
    "lstmAtt_model.add(attention())\n",
    "lstmAtt_model.add(Dense(2, activation=\"softmax\"))\n",
    "\n",
    "lstmAtt_model.compile(loss=\"categorical_crossentropy\", optimizer=\"adam\", metrics=[\"accuracy\"])\n",
    "lstmAtt_model.summary()"
   ]
  },
  {
   "cell_type": "code",
   "execution_count": 12,
   "metadata": {},
   "outputs": [],
   "source": [
    "x_train_index = tokenizer.texts_to_sequences(x_train)\n",
    "x_train_index = pad_sequences(x_train_index, maxlen=300)"
   ]
  },
  {
   "cell_type": "code",
   "execution_count": 13,
   "metadata": {},
   "outputs": [],
   "source": [
    "y_train_categorical = keras.utils.to_categorical(y_train, 2)"
   ]
  },
  {
   "cell_type": "code",
   "execution_count": 17,
   "metadata": {},
   "outputs": [
    {
     "output_type": "stream",
     "name": "stdout",
     "text": [
      "Epoch 1/15\n",
      "66/66 [==============================] - 8s 120ms/step - loss: 0.6319 - accuracy: 0.6529 - val_loss: 0.6466 - val_accuracy: 0.6367\n",
      "Epoch 2/15\n",
      "66/66 [==============================] - 9s 138ms/step - loss: 0.5942 - accuracy: 0.7100 - val_loss: 0.6397 - val_accuracy: 0.7083\n",
      "Epoch 3/15\n",
      "66/66 [==============================] - 9s 143ms/step - loss: 0.5373 - accuracy: 0.7752 - val_loss: 0.6175 - val_accuracy: 0.7033\n",
      "Epoch 4/15\n",
      "66/66 [==============================] - 8s 125ms/step - loss: 0.4629 - accuracy: 0.8205 - val_loss: 0.6123 - val_accuracy: 0.7417\n",
      "Epoch 5/15\n",
      "66/66 [==============================] - 8s 121ms/step - loss: 0.4027 - accuracy: 0.8605 - val_loss: 0.6508 - val_accuracy: 0.7083\n",
      "Epoch 6/15\n",
      "66/66 [==============================] - 7s 103ms/step - loss: 0.3554 - accuracy: 0.8829 - val_loss: 0.6644 - val_accuracy: 0.7400\n",
      "Epoch 7/15\n",
      "66/66 [==============================] - 6s 96ms/step - loss: 0.3076 - accuracy: 0.9148 - val_loss: 0.7226 - val_accuracy: 0.7483\n",
      "Epoch 8/15\n",
      "66/66 [==============================] - 6s 96ms/step - loss: 0.2763 - accuracy: 0.9295 - val_loss: 0.6976 - val_accuracy: 0.7633\n",
      "Epoch 9/15\n",
      "66/66 [==============================] - 6s 96ms/step - loss: 0.2416 - accuracy: 0.9400 - val_loss: 0.7222 - val_accuracy: 0.7633\n",
      "Epoch 10/15\n",
      "66/66 [==============================] - 6s 96ms/step - loss: 0.2226 - accuracy: 0.9486 - val_loss: 0.7299 - val_accuracy: 0.7567\n",
      "Epoch 11/15\n",
      "66/66 [==============================] - 6s 95ms/step - loss: 0.1942 - accuracy: 0.9571 - val_loss: 0.8156 - val_accuracy: 0.7200\n",
      "Epoch 12/15\n",
      "66/66 [==============================] - 6s 97ms/step - loss: 0.1807 - accuracy: 0.9624 - val_loss: 0.8580 - val_accuracy: 0.7417\n",
      "Epoch 13/15\n",
      "66/66 [==============================] - 7s 113ms/step - loss: 0.1613 - accuracy: 0.9686 - val_loss: 0.9132 - val_accuracy: 0.7400\n",
      "Epoch 14/15\n",
      "66/66 [==============================] - 7s 100ms/step - loss: 0.1621 - accuracy: 0.9667 - val_loss: 0.8964 - val_accuracy: 0.7517\n",
      "Epoch 15/15\n",
      "66/66 [==============================] - 6s 97ms/step - loss: 0.1412 - accuracy: 0.9771 - val_loss: 0.9784 - val_accuracy: 0.7450\n"
     ]
    },
    {
     "output_type": "execute_result",
     "data": {
      "text/plain": [
       "<tensorflow.python.keras.callbacks.History at 0x7fc9527714c0>"
      ]
     },
     "metadata": {},
     "execution_count": 17
    }
   ],
   "source": [
    "lstmAtt_model.fit(x_train_index[:2100], y_train_categorical[:2100], epochs=15, verbose=1, batch_size=192, validation_data=(x_train_index[2100:], y_train_categorical[2100:]))"
   ]
  },
  {
   "cell_type": "code",
   "execution_count": 18,
   "metadata": {},
   "outputs": [],
   "source": [
    "x_test_index = tokenizer.texts_to_sequences(x_test)\n",
    "x_test_index = pad_sequences(x_test_index, maxlen=300)"
   ]
  },
  {
   "cell_type": "code",
   "execution_count": 19,
   "metadata": {},
   "outputs": [],
   "source": [
    "y_pred = lstmAtt_model.predict(x_test_index)"
   ]
  },
  {
   "cell_type": "code",
   "execution_count": 20,
   "metadata": {},
   "outputs": [
    {
     "output_type": "stream",
     "name": "stdout",
     "text": [
      "              precision    recall  f1-score   support\n\n           0       0.74      0.74      0.74       144\n           1       0.76      0.76      0.76       156\n\n    accuracy                           0.75       300\n   macro avg       0.75      0.75      0.75       300\nweighted avg       0.75      0.75      0.75       300\n\n"
     ]
    }
   ],
   "source": [
    "print(classification_report(y_test, np.argmax(y_pred, axis=1).astype(\"float32\")))"
   ]
  },
  {
   "cell_type": "code",
   "execution_count": 21,
   "metadata": {},
   "outputs": [
    {
     "output_type": "stream",
     "name": "stderr",
     "text": [
      "WARNING:absl:Found untraced functions such as lstm_cell_layer_call_and_return_conditional_losses, lstm_cell_layer_call_fn, lstm_cell_layer_call_fn, lstm_cell_layer_call_and_return_conditional_losses, lstm_cell_layer_call_and_return_conditional_losses while saving (showing 5 of 5). These functions will not be directly callable after loading.\n",
      "INFO:tensorflow:Assets written to: models/SLS_LSTMAtt/assets\n",
      "INFO:tensorflow:Assets written to: models/SLS_LSTMAtt/assets\n"
     ]
    }
   ],
   "source": [
    "lstmAtt_model.save(\"models/SLS_LSTMAtt\")"
   ]
  }
 ]
}