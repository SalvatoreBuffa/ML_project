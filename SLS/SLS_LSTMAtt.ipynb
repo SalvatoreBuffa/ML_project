{
 "metadata": {
  "language_info": {
   "codemirror_mode": {
    "name": "ipython",
    "version": 3
   },
   "file_extension": ".py",
   "mimetype": "text/x-python",
   "name": "python",
   "nbconvert_exporter": "python",
   "pygments_lexer": "ipython3",
   "version": "3.8.5"
  },
  "orig_nbformat": 2,
  "kernelspec": {
   "name": "pythonjvsc74a57bd0799eb0fd45bbf32cd22b7eb12315f66a6945dddec75ab4ee4de6611b037c6c79",
   "display_name": "Python 3.8.5 64-bit ('venv': venv)"
  },
  "metadata": {
   "interpreter": {
    "hash": "799eb0fd45bbf32cd22b7eb12315f66a6945dddec75ab4ee4de6611b037c6c79"
   }
  }
 },
 "nbformat": 4,
 "nbformat_minor": 2,
 "cells": [
  {
   "cell_type": "code",
   "execution_count": 1,
   "metadata": {},
   "outputs": [],
   "source": [
    "import pandas as pd\n",
    "import numpy as np\n",
    "\n",
    "from tensorflow.keras.layers import LSTM, Activation, Dropout, Dense, Input, Embedding, Layer, Attention\n",
    "from tensorflow.keras.optimizers import Adagrad\n",
    "from tensorflow.keras.models import Model, Sequential\n",
    "from tensorflow.keras.optimizers import Adadelta\n",
    "\n",
    "\n",
    "import keras.backend as kb\n",
    "from keras.backend import clear_session\n",
    "from keras.preprocessing.text import Tokenizer\n",
    "from sklearn.preprocessing import LabelBinarizer\n",
    "from keras.preprocessing.sequence import pad_sequences\n",
    "from sklearn.model_selection import train_test_split\n",
    "from sklearn.metrics import classification_report\n",
    "import pickle\n",
    "from tensorflow import keras\n",
    "\n",
    "import sys\n",
    "sys.path.append(\"../\")\n",
    "\n",
    "from pre_processing import creazione_modello_GloVe"
   ]
  },
  {
   "cell_type": "code",
   "execution_count": 2,
   "metadata": {},
   "outputs": [],
   "source": [
    "dataset = pickle.load(open(\"dataset/dataset_SLS.pickle\", \"rb\"))"
   ]
  },
  {
   "cell_type": "code",
   "execution_count": 4,
   "metadata": {},
   "outputs": [],
   "source": [
    "Y = np.array(dataset[\"sentiment\"])"
   ]
  },
  {
   "cell_type": "code",
   "execution_count": 5,
   "metadata": {},
   "outputs": [],
   "source": [
    "x_train,x_test,y_train,y_test = train_test_split(dataset[\"sentence\"],Y, test_size=0.1, shuffle=True)"
   ]
  },
  {
   "cell_type": "code",
   "execution_count": 5,
   "metadata": {},
   "outputs": [
    {
     "output_type": "stream",
     "name": "stdout",
     "text": [
      "(2700,) (2700,)\n(300,) (300,)\n"
     ]
    }
   ],
   "source": [
    "print(x_train.shape, y_train.shape)\n",
    "print(x_test.shape, y_test.shape)"
   ]
  },
  {
   "cell_type": "code",
   "execution_count": 6,
   "metadata": {},
   "outputs": [
    {
     "output_type": "stream",
     "name": "stdout",
     "text": [
      "numero di positivi nel train:  1354\nnumero di negativi nel train:  1346\nnumero di positivi nel test:  146\nnumero di negativi nel test:  154\n"
     ]
    }
   ],
   "source": [
    "print(\"numero di positivi nel train: \", list(y_train).count(1))\n",
    "print(\"numero di negativi nel train: \", list(y_train).count(0))\n",
    "\n",
    "print(\"numero di positivi nel test: \", list(y_test).count(1))\n",
    "print(\"numero di negativi nel test: \", list(y_test).count(0))"
   ]
  },
  {
   "cell_type": "code",
   "execution_count": 6,
   "metadata": {},
   "outputs": [],
   "source": [
    "embedding = creazione_modello_GloVe(\"dataset/glove.6B.50d.txt\")"
   ]
  },
  {
   "cell_type": "code",
   "execution_count": 7,
   "metadata": {},
   "outputs": [],
   "source": [
    "tokenizer = Tokenizer(num_words=140000)\n",
    "tokenizer.fit_on_texts(x_train)\n",
    "\n",
    "word_index = tokenizer.word_index"
   ]
  },
  {
   "cell_type": "code",
   "execution_count": 8,
   "metadata": {},
   "outputs": [],
   "source": [
    "vocab_len = len(word_index)+1\n",
    "embedding_vector_len = embedding[\"banana\"].shape[0]\n",
    "embedding_matrix = np.zeros((vocab_len, embedding_vector_len))\n",
    "\n",
    "for word, index in word_index.items():\n",
    "    vector = embedding.get(word)\n",
    "    if vector is not None:\n",
    "        embedding_matrix[index, :] = vector\n",
    "\n",
    "embedding_layer = Embedding(input_dim=vocab_len, output_dim=embedding_vector_len, input_length=300, weights=[embedding_matrix])"
   ]
  },
  {
   "cell_type": "code",
   "execution_count": 9,
   "metadata": {},
   "outputs": [],
   "source": [
    "class attention(Layer):\n",
    "    def __init__(self,**kwargs):\n",
    "        super(attention,self).__init__(**kwargs)\n",
    "\n",
    "    def build(self,input_shape):\n",
    "        self.W=self.add_weight(name=\"att_weight\",shape=(input_shape[-1],1),initializer=\"normal\")\n",
    "        self.b=self.add_weight(name=\"att_bias\",shape=(input_shape[1],1),initializer=\"zeros\")        \n",
    "        super(attention, self).build(input_shape)\n",
    "\n",
    "    def call(self,x):\n",
    "        et=kb.squeeze(kb.tanh(kb.dot(x,self.W)+self.b),axis=-1)\n",
    "        at=kb.softmax(et)\n",
    "        at=kb.expand_dims(at,axis=-1)\n",
    "        output=x*at\n",
    "        return kb.sum(output,axis=1)\n",
    "\n",
    "    def compute_output_shape(self,input_shape):\n",
    "        return (input_shape[0],input_shape[-1])\n",
    "\n",
    "    def get_config(self):\n",
    "        return super(attention,self).get_config()"
   ]
  },
  {
   "cell_type": "code",
   "execution_count": 10,
   "metadata": {},
   "outputs": [
    {
     "output_type": "stream",
     "name": "stdout",
     "text": [
      "Model: \"sequential\"\n_________________________________________________________________\nLayer (type)                 Output Shape              Param #   \n=================================================================\nembedding (Embedding)        (None, 300, 50)           250750    \n_________________________________________________________________\nlstm (LSTM)                  (None, 300, 32)           10624     \n_________________________________________________________________\nattention (attention)        (None, 32)                332       \n_________________________________________________________________\ndense (Dense)                (None, 2)                 66        \n=================================================================\nTotal params: 261,772\nTrainable params: 261,772\nNon-trainable params: 0\n_________________________________________________________________\n"
     ]
    }
   ],
   "source": [
    "lstmAtt_model = Sequential()\n",
    "lstmAtt_model.add(embedding_layer)\n",
    "lstmAtt_model.add(LSTM(32, return_sequences=True))\n",
    "lstmAtt_model.add(attention())\n",
    "lstmAtt_model.add(Dense(2, activation=\"softmax\"))\n",
    "\n",
    "lstmAtt_model.compile(loss=\"categorical_crossentropy\", optimizer=\"adam\", metrics=[\"accuracy\"])\n",
    "lstmAtt_model.summary()"
   ]
  },
  {
   "cell_type": "code",
   "execution_count": 13,
   "metadata": {},
   "outputs": [],
   "source": [
    "x_train_index = tokenizer.texts_to_sequences(x_train)\n",
    "x_train_index = pad_sequences(x_train_index, maxlen=300)"
   ]
  },
  {
   "cell_type": "code",
   "execution_count": 14,
   "metadata": {},
   "outputs": [],
   "source": [
    "y_train_categorical = keras.utils.to_categorical(y_train, 2)"
   ]
  },
  {
   "cell_type": "code",
   "execution_count": 15,
   "metadata": {},
   "outputs": [
    {
     "output_type": "stream",
     "name": "stdout",
     "text": [
      "Epoch 1/15\n",
      "11/11 [==============================] - 4s 216ms/step - loss: 0.6935 - accuracy: 0.5024 - val_loss: 0.6925 - val_accuracy: 0.5100\n",
      "Epoch 2/15\n",
      "11/11 [==============================] - 2s 178ms/step - loss: 0.6919 - accuracy: 0.5419 - val_loss: 0.6907 - val_accuracy: 0.5933\n",
      "Epoch 3/15\n",
      "11/11 [==============================] - 2s 179ms/step - loss: 0.6900 - accuracy: 0.5686 - val_loss: 0.6878 - val_accuracy: 0.6100\n",
      "Epoch 4/15\n",
      "11/11 [==============================] - 2s 176ms/step - loss: 0.6864 - accuracy: 0.5805 - val_loss: 0.6826 - val_accuracy: 0.5617\n",
      "Epoch 5/15\n",
      "11/11 [==============================] - 2s 175ms/step - loss: 0.6769 - accuracy: 0.6262 - val_loss: 0.6703 - val_accuracy: 0.6267\n",
      "Epoch 6/15\n",
      "11/11 [==============================] - 2s 179ms/step - loss: 0.6597 - accuracy: 0.6676 - val_loss: 0.6551 - val_accuracy: 0.6600\n",
      "Epoch 7/15\n",
      "11/11 [==============================] - 2s 178ms/step - loss: 0.6370 - accuracy: 0.6824 - val_loss: 0.6438 - val_accuracy: 0.6400\n",
      "Epoch 8/15\n",
      "11/11 [==============================] - 2s 176ms/step - loss: 0.6153 - accuracy: 0.6762 - val_loss: 0.6386 - val_accuracy: 0.6600\n",
      "Epoch 9/15\n",
      "11/11 [==============================] - 2s 177ms/step - loss: 0.5899 - accuracy: 0.7195 - val_loss: 0.6204 - val_accuracy: 0.7017\n",
      "Epoch 10/15\n",
      "11/11 [==============================] - 2s 177ms/step - loss: 0.5606 - accuracy: 0.7557 - val_loss: 0.6151 - val_accuracy: 0.7117\n",
      "Epoch 11/15\n",
      "11/11 [==============================] - 2s 178ms/step - loss: 0.5273 - accuracy: 0.7681 - val_loss: 0.6052 - val_accuracy: 0.7167\n",
      "Epoch 12/15\n",
      "11/11 [==============================] - 2s 178ms/step - loss: 0.5014 - accuracy: 0.8090 - val_loss: 0.6097 - val_accuracy: 0.7150\n",
      "Epoch 13/15\n",
      "11/11 [==============================] - 2s 176ms/step - loss: 0.4712 - accuracy: 0.8200 - val_loss: 0.6081 - val_accuracy: 0.7350\n",
      "Epoch 14/15\n",
      "11/11 [==============================] - 2s 177ms/step - loss: 0.4458 - accuracy: 0.8286 - val_loss: 0.6029 - val_accuracy: 0.7383\n",
      "Epoch 15/15\n",
      "11/11 [==============================] - 2s 180ms/step - loss: 0.4224 - accuracy: 0.8686 - val_loss: 0.5975 - val_accuracy: 0.7550\n"
     ]
    },
    {
     "output_type": "execute_result",
     "data": {
      "text/plain": [
       "<tensorflow.python.keras.callbacks.History at 0x7efd2d2882b0>"
      ]
     },
     "metadata": {},
     "execution_count": 15
    }
   ],
   "source": [
    "lstmAtt_model.fit(x_train_index[:2100], y_train_categorical[:2100], epochs=15, verbose=1, batch_size=192, validation_data=(x_train_index[2100:], y_train_categorical[2100:]))"
   ]
  },
  {
   "cell_type": "code",
   "execution_count": 16,
   "metadata": {},
   "outputs": [],
   "source": [
    "x_test_index = tokenizer.texts_to_sequences(x_test)\n",
    "x_test_index = pad_sequences(x_test_index, maxlen=300)"
   ]
  },
  {
   "cell_type": "code",
   "execution_count": 17,
   "metadata": {},
   "outputs": [],
   "source": [
    "y_pred = lstmAtt_model.predict(x_test_index)"
   ]
  },
  {
   "cell_type": "code",
   "execution_count": 18,
   "metadata": {},
   "outputs": [
    {
     "output_type": "stream",
     "name": "stdout",
     "text": [
      "              precision    recall  f1-score   support\n\n           0       0.79      0.71      0.75       150\n           1       0.74      0.81      0.77       150\n\n    accuracy                           0.76       300\n   macro avg       0.77      0.76      0.76       300\nweighted avg       0.77      0.76      0.76       300\n\n"
     ]
    }
   ],
   "source": [
    "print(classification_report(y_test, np.argmax(y_pred, axis=1).astype(\"float32\")))"
   ]
  }
 ]
}