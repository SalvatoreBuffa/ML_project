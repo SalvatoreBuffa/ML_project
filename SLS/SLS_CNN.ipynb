{
 "metadata": {
  "language_info": {
   "codemirror_mode": {
    "name": "ipython",
    "version": 3
   },
   "file_extension": ".py",
   "mimetype": "text/x-python",
   "name": "python",
   "nbconvert_exporter": "python",
   "pygments_lexer": "ipython3",
   "version": "3.8.5"
  },
  "orig_nbformat": 2,
  "kernelspec": {
   "name": "pythonjvsc74a57bd0799eb0fd45bbf32cd22b7eb12315f66a6945dddec75ab4ee4de6611b037c6c79",
   "display_name": "Python 3.8.5 64-bit ('venv': venv)"
  },
  "metadata": {
   "interpreter": {
    "hash": "799eb0fd45bbf32cd22b7eb12315f66a6945dddec75ab4ee4de6611b037c6c79"
   }
  }
 },
 "nbformat": 4,
 "nbformat_minor": 2,
 "cells": [
  {
   "cell_type": "code",
   "execution_count": 1,
   "metadata": {},
   "outputs": [],
   "source": [
    "import pandas as pd\n",
    "import numpy as np\n",
    "from tensorflow.keras.layers import Embedding\n",
    "from tensorflow.keras.layers import Activation, Dropout, Dense, Conv1D, GlobalMaxPool1D, MaxPool1D, Input, MaxPooling1D, Flatten\n",
    "from tensorflow.keras.models import Model, Sequential\n",
    "from keras.backend import clear_session\n",
    "from tensorflow.keras.optimizers import RMSprop\n",
    "from tensorflow.keras.activations import tanh\n",
    "\n",
    "from keras.preprocessing.text import Tokenizer\n",
    "from sklearn.preprocessing import LabelBinarizer\n",
    "from keras.preprocessing.sequence import pad_sequences\n",
    "\n",
    "from sklearn.model_selection import train_test_split\n",
    "from sklearn.metrics import classification_report\n",
    "import pickle\n",
    "from tensorflow import keras\n",
    "\n",
    "import sys\n",
    "sys.path.append(\"../\")\n",
    "\n",
    "from pre_processing import creazione_modello_GloVe"
   ]
  },
  {
   "cell_type": "code",
   "execution_count": 2,
   "metadata": {},
   "outputs": [],
   "source": [
    "dataset = pickle.load(open(\"dataset/dataset_SLS.pickle\", \"rb\"))"
   ]
  },
  {
   "cell_type": "code",
   "execution_count": 3,
   "metadata": {},
   "outputs": [],
   "source": [
    "Y = np.array(dataset[\"sentiment\"])"
   ]
  },
  {
   "cell_type": "code",
   "execution_count": 4,
   "metadata": {},
   "outputs": [],
   "source": [
    "x_train,x_test,y_train,y_test = train_test_split(dataset[\"sentence\"],Y, test_size=0.1, shuffle=True)"
   ]
  },
  {
   "cell_type": "code",
   "execution_count": 5,
   "metadata": {},
   "outputs": [
    {
     "output_type": "stream",
     "name": "stdout",
     "text": [
      "(2700,) (2700,)\n(300,) (300,)\n"
     ]
    }
   ],
   "source": [
    "print(x_train.shape, y_train.shape)\n",
    "print(x_test.shape, y_test.shape)"
   ]
  },
  {
   "cell_type": "code",
   "execution_count": 6,
   "metadata": {},
   "outputs": [
    {
     "output_type": "stream",
     "name": "stdout",
     "text": [
      "numero di positivi nel train:  1360\nnumero di negativi nel train:  1340\nnumero di positivi nel test:  140\nnumero di negativi nel test:  160\n"
     ]
    }
   ],
   "source": [
    "print(\"numero di positivi nel train: \", list(y_train).count(1))\n",
    "print(\"numero di negativi nel train: \", list(y_train).count(0))\n",
    "\n",
    "print(\"numero di positivi nel test: \", list(y_test).count(1))\n",
    "print(\"numero di negativi nel test: \", list(y_test).count(0))"
   ]
  },
  {
   "cell_type": "code",
   "execution_count": 7,
   "metadata": {},
   "outputs": [],
   "source": [
    "embedding = creazione_modello_GloVe(\"dataset/glove.6B.50d.txt\")"
   ]
  },
  {
   "cell_type": "code",
   "execution_count": 8,
   "metadata": {},
   "outputs": [],
   "source": [
    "tokenizer = Tokenizer(num_words=140000)\n",
    "tokenizer.fit_on_texts(x_train)\n",
    "\n",
    "word_index = tokenizer.word_index"
   ]
  },
  {
   "cell_type": "code",
   "execution_count": 9,
   "metadata": {},
   "outputs": [],
   "source": [
    "vocab_len = len(word_index)+1\n",
    "embedding_vector_len = embedding[\"banana\"].shape[0]\n",
    "embedding_matrix = np.zeros((vocab_len, embedding_vector_len))\n",
    "\n",
    "for word, index in word_index.items():\n",
    "    vector = embedding.get(word)\n",
    "    if vector is not None:\n",
    "        embedding_matrix[index, :] = vector\n",
    "\n",
    "embedding_layer = Embedding(input_dim=vocab_len, output_dim=embedding_vector_len, input_length=300, weights=[embedding_matrix])"
   ]
  },
  {
   "cell_type": "code",
   "execution_count": 53,
   "metadata": {},
   "outputs": [
    {
     "output_type": "stream",
     "name": "stdout",
     "text": [
      "Model: \"sequential\"\n_________________________________________________________________\nLayer (type)                 Output Shape              Param #   \n=================================================================\nembedding (Embedding)        (None, 300, 50)           247550    \n_________________________________________________________________\nconv1d (Conv1D)              (None, 300, 3)            903       \n_________________________________________________________________\nmax_pooling1d (MaxPooling1D) (None, 60, 3)             0         \n_________________________________________________________________\nflatten (Flatten)            (None, 180)               0         \n_________________________________________________________________\ndense (Dense)                (None, 2)                 362       \n=================================================================\nTotal params: 248,815\nTrainable params: 248,815\nNon-trainable params: 0\n_________________________________________________________________\n"
     ]
    }
   ],
   "source": [
    "CNN_model = Sequential()\n",
    "#CNN_model.add(Input(shape=(200,)))\n",
    "CNN_model.add(embedding_layer)\n",
    "CNN_model.add(Conv1D(filters=3, kernel_size=6, padding=\"same\"))\n",
    "CNN_model.add(MaxPooling1D(5, padding=\"same\"))\n",
    "CNN_model.add(Flatten())\n",
    "#CNN_model.add(Dropout(0.2))\n",
    "#CNN_model.add(Dense(32))\n",
    "CNN_model.add(Dense(2, activation=tanh))\n",
    "#RMSprop(learning_rate=0.20)\n",
    "CNN_model.compile(loss=\"binary_crossentropy\", optimizer=RMSprop(), metrics=[\"accuracy\"])\n",
    "CNN_model.summary()"
   ]
  },
  {
   "cell_type": "code",
   "execution_count": 11,
   "metadata": {},
   "outputs": [],
   "source": [
    "x_train_index = tokenizer.texts_to_sequences(x_train)\n",
    "x_train_index = pad_sequences(x_train_index, maxlen=300)"
   ]
  },
  {
   "cell_type": "code",
   "execution_count": 12,
   "metadata": {},
   "outputs": [],
   "source": [
    "y_train_categorical = keras.utils.to_categorical(y_train, 2)"
   ]
  },
  {
   "cell_type": "code",
   "execution_count": 54,
   "metadata": {},
   "outputs": [
    {
     "output_type": "stream",
     "name": "stdout",
     "text": [
      "Epoch 1/15\n",
      "66/66 [==============================] - 1s 14ms/step - loss: 1.0986 - accuracy: 0.4995 - val_loss: 0.7930 - val_accuracy: 0.5117\n",
      "Epoch 2/15\n",
      "66/66 [==============================] - 1s 13ms/step - loss: 0.7615 - accuracy: 0.5281 - val_loss: 0.8023 - val_accuracy: 0.5217\n",
      "Epoch 3/15\n",
      "66/66 [==============================] - 1s 13ms/step - loss: 0.6927 - accuracy: 0.6162 - val_loss: 0.6959 - val_accuracy: 0.6050\n",
      "Epoch 4/15\n",
      "66/66 [==============================] - 1s 13ms/step - loss: 0.5669 - accuracy: 0.7524 - val_loss: 0.6821 - val_accuracy: 0.7133\n",
      "Epoch 5/15\n",
      "66/66 [==============================] - 1s 13ms/step - loss: 0.4127 - accuracy: 0.8705 - val_loss: 0.6589 - val_accuracy: 0.7883\n",
      "Epoch 6/15\n",
      "66/66 [==============================] - 1s 13ms/step - loss: 0.3074 - accuracy: 0.9148 - val_loss: 0.6932 - val_accuracy: 0.7683\n",
      "Epoch 7/15\n",
      "66/66 [==============================] - 1s 13ms/step - loss: 0.2452 - accuracy: 0.9390 - val_loss: 0.6870 - val_accuracy: 0.8067\n",
      "Epoch 8/15\n",
      "66/66 [==============================] - 1s 14ms/step - loss: 0.2036 - accuracy: 0.9533 - val_loss: 0.8613 - val_accuracy: 0.8017\n",
      "Epoch 9/15\n",
      "66/66 [==============================] - 1s 13ms/step - loss: 0.1687 - accuracy: 0.9600 - val_loss: 1.2357 - val_accuracy: 0.7917\n",
      "Epoch 10/15\n",
      "66/66 [==============================] - 1s 13ms/step - loss: 0.1470 - accuracy: 0.9671 - val_loss: 0.8485 - val_accuracy: 0.8017\n",
      "Epoch 11/15\n",
      "66/66 [==============================] - 1s 13ms/step - loss: 0.1216 - accuracy: 0.9738 - val_loss: 0.8981 - val_accuracy: 0.8150\n",
      "Epoch 12/15\n",
      "66/66 [==============================] - 1s 14ms/step - loss: 0.1103 - accuracy: 0.9757 - val_loss: 1.0015 - val_accuracy: 0.8000\n",
      "Epoch 13/15\n",
      "66/66 [==============================] - 1s 14ms/step - loss: 0.0965 - accuracy: 0.9781 - val_loss: 0.9643 - val_accuracy: 0.8200\n",
      "Epoch 14/15\n",
      "66/66 [==============================] - 1s 13ms/step - loss: 0.0871 - accuracy: 0.9833 - val_loss: 0.9023 - val_accuracy: 0.8150\n",
      "Epoch 15/15\n",
      "66/66 [==============================] - 1s 13ms/step - loss: 0.0814 - accuracy: 0.9852 - val_loss: 1.1203 - val_accuracy: 0.8167\n"
     ]
    },
    {
     "output_type": "execute_result",
     "data": {
      "text/plain": [
       "<tensorflow.python.keras.callbacks.History at 0x7fbddc0c5040>"
      ]
     },
     "metadata": {},
     "execution_count": 54
    }
   ],
   "source": [
    "clear_session()\n",
    "CNN_model.fit(x_train_index[:2100], y_train_categorical[:2100], epochs=15, batch_size=32, verbose=1, validation_data=(x_train_index[2100:], y_train_categorical[2100:]))"
   ]
  },
  {
   "cell_type": "code",
   "execution_count": 14,
   "metadata": {},
   "outputs": [],
   "source": [
    "x_test_index = tokenizer.texts_to_sequences(x_test)\n",
    "x_test_index = pad_sequences(x_test_index, maxlen=300)"
   ]
  },
  {
   "cell_type": "code",
   "execution_count": 55,
   "metadata": {},
   "outputs": [],
   "source": [
    "y_pred = CNN_model.predict(x_test_index)"
   ]
  },
  {
   "cell_type": "code",
   "execution_count": 56,
   "metadata": {},
   "outputs": [
    {
     "output_type": "stream",
     "name": "stdout",
     "text": [
      "              precision    recall  f1-score   support\n\n           0       0.87      0.85      0.86       160\n           1       0.83      0.86      0.85       140\n\n    accuracy                           0.85       300\n   macro avg       0.85      0.85      0.85       300\nweighted avg       0.85      0.85      0.85       300\n\n"
     ]
    }
   ],
   "source": [
    "print(classification_report(y_test, np.argmax(y_pred, axis=1).astype(\"float32\")))"
   ]
  },
  {
   "cell_type": "code",
   "execution_count": null,
   "metadata": {},
   "outputs": [],
   "source": [
    "CNN_model.save(\"SLS_CNN\")"
   ]
  }
 ]
}