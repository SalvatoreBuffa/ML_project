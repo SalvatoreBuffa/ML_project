{
  "nbformat": 4,
  "nbformat_minor": 0,
  "metadata": {
    "language_info": {
      "codemirror_mode": {
        "name": "ipython",
        "version": 3
      },
      "file_extension": ".py",
      "mimetype": "text/x-python",
      "name": "python",
      "nbconvert_exporter": "python",
      "pygments_lexer": "ipython3",
      "version": "3.8.5"
    },
    "orig_nbformat": 2,
    "kernelspec": {
      "name": "pythonjvsc74a57bd0799eb0fd45bbf32cd22b7eb12315f66a6945dddec75ab4ee4de6611b037c6c79",
      "display_name": "Python 3.8.5  ('venv': venv)"
    },
    "metadata": {
      "interpreter": {
        "hash": "799eb0fd45bbf32cd22b7eb12315f66a6945dddec75ab4ee4de6611b037c6c79"
      }
    },
    "colab": {
      "name": "Copia di SLS_BiGRUAtt.ipynb",
      "provenance": []
    }
  },
  "cells": [
    {
      "cell_type": "code",
      "metadata": {
        "colab": {
          "base_uri": "https://localhost:8080/"
        },
        "id": "RaPLqPB7g1sD",
        "outputId": "a2fea02a-957b-46c4-ed02-09c72df3be79"
      },
      "source": [
        "from google.colab import drive\n",
        "drive.mount('/content/drive')"
      ],
      "execution_count": 24,
      "outputs": [
        {
          "output_type": "stream",
          "text": [
            "Drive already mounted at /content/drive; to attempt to forcibly remount, call drive.mount(\"/content/drive\", force_remount=True).\n"
          ],
          "name": "stdout"
        }
      ]
    },
    {
      "cell_type": "code",
      "metadata": {
        "colab": {
          "base_uri": "https://localhost:8080/"
        },
        "id": "yIO1JCbKiVe6",
        "outputId": "8f4a548f-07cf-42e3-d91c-5b33753e261b"
      },
      "source": [
        "%load_ext tensorboard"
      ],
      "execution_count": 25,
      "outputs": [
        {
          "output_type": "stream",
          "text": [
            "The tensorboard extension is already loaded. To reload it, use:\n",
            "  %reload_ext tensorboard\n"
          ],
          "name": "stdout"
        }
      ]
    },
    {
      "cell_type": "code",
      "metadata": {
        "id": "DVEpputFgT_l"
      },
      "source": [
        "import pandas as pd\n",
        "import numpy as np\n",
        "import tensorflow\n",
        "from tensorflow.keras.layers import Embedding\n",
        "from tensorflow.keras.layers import GRU, Activation, Dropout, Dense, Input, Bidirectional, Layer\n",
        "from tensorflow.keras.models import Model, Sequential\n",
        "from tensorflow.keras.optimizers import RMSprop\n",
        "\n",
        "from keras.preprocessing.text import Tokenizer\n",
        "from sklearn.preprocessing import LabelBinarizer\n",
        "from keras.preprocessing.sequence import pad_sequences\n",
        "import keras\n",
        "from sklearn.model_selection import train_test_split\n",
        "from sklearn.metrics import classification_report, precision_score, recall_score\n",
        "import pickle\n",
        "from tensorflow import keras\n",
        "import keras.backend as kb\n",
        "\n",
        "from tensorboard.plugins.hparams import api as hp\n"
      ],
      "execution_count": 1,
      "outputs": []
    },
    {
      "cell_type": "code",
      "metadata": {
        "id": "swl6BxaZhuO-"
      },
      "source": [
        "def creazione_modello_GloVe(filename):\n",
        "    f = open(filename, encoding=\"utf8\")\n",
        "    embeding_index = {}\n",
        "    for line in f:\n",
        "        values = line.split()\n",
        "        word = values[0]\n",
        "        coefs = np.asarray(values[1:], dtype=\"float32\")\n",
        "        embeding_index[word] = coefs\n",
        "    f.close()\n",
        "    return embeding_index"
      ],
      "execution_count": 2,
      "outputs": []
    },
    {
      "cell_type": "code",
      "metadata": {
        "id": "Zb6DJWHZgT_o"
      },
      "source": [
        "#dataset = pickle.load(open(\"drive/MyDrive/ml_project/dataset_SLS.pickle\", \"rb\"))\n",
        "dataset = pickle.load(open(\"dataset/dataset_SLS.pickle\", \"rb\"))"
      ],
      "execution_count": 3,
      "outputs": []
    },
    {
      "cell_type": "code",
      "metadata": {
        "id": "t6dANDpJgT_p"
      },
      "source": [
        "Y = np.array(dataset[\"sentiment\"])"
      ],
      "execution_count": 4,
      "outputs": []
    },
    {
      "cell_type": "code",
      "metadata": {
        "id": "dLOIwoRvgT_p"
      },
      "source": [
        "x_train,x_test,y_train,y_test = train_test_split(dataset[\"sentence\"],Y, test_size=0.1, shuffle=True)"
      ],
      "execution_count": 5,
      "outputs": []
    },
    {
      "cell_type": "code",
      "metadata": {
        "id": "yk55U1MbgT_p",
        "colab": {
          "base_uri": "https://localhost:8080/"
        },
        "outputId": "3ad8e8b8-1dd6-4ee3-d416-10accb2ca683"
      },
      "source": [
        "print(x_train.shape, y_train.shape)\n",
        "print(x_test.shape, y_test.shape)"
      ],
      "execution_count": 6,
      "outputs": [
        {
          "output_type": "stream",
          "name": "stdout",
          "text": [
            "(2700,) (2700,)\n(300,) (300,)\n"
          ]
        }
      ]
    },
    {
      "cell_type": "code",
      "metadata": {
        "id": "1PSsHN8ngT_r",
        "colab": {
          "base_uri": "https://localhost:8080/"
        },
        "outputId": "f7b1761d-cca5-4fd0-fb63-521b7a69a58d"
      },
      "source": [
        "print(\"numero di positivi nel train: \", list(y_train).count(1))\n",
        "print(\"numero di negativi nel train: \", list(y_train).count(0))\n",
        "\n",
        "print(\"numero di positivi nel test: \", list(y_test).count(1))\n",
        "print(\"numero di negativi nel test: \", list(y_test).count(0))"
      ],
      "execution_count": 32,
      "outputs": [
        {
          "output_type": "stream",
          "text": [
            "numero di positivi nel train:  1351\n",
            "numero di negativi nel train:  1349\n",
            "numero di positivi nel test:  149\n",
            "numero di negativi nel test:  151\n"
          ],
          "name": "stdout"
        }
      ]
    },
    {
      "cell_type": "code",
      "metadata": {
        "id": "2o3FeHyzgT_r"
      },
      "source": [
        "embedding = creazione_modello_GloVe(\"dataset/glove.6B.50d.txt\")"
      ],
      "execution_count": 7,
      "outputs": []
    },
    {
      "cell_type": "code",
      "metadata": {
        "id": "RbFirmDCgT_r"
      },
      "source": [
        "tokenizer = Tokenizer(num_words=140000)\n",
        "tokenizer.fit_on_texts(x_train)\n",
        "\n",
        "word_index = tokenizer.word_index"
      ],
      "execution_count": 8,
      "outputs": []
    },
    {
      "cell_type": "code",
      "metadata": {
        "id": "bkfAEA6agT_s"
      },
      "source": [
        "vocab_len = len(word_index)+1\n",
        "embedding_vector_len = embedding[\"banana\"].shape[0]\n",
        "embedding_matrix = np.zeros((vocab_len, embedding_vector_len))\n",
        "\n",
        "for word, index in word_index.items():\n",
        "    vector = embedding.get(word)\n",
        "    if vector is not None:\n",
        "        embedding_matrix[index, :] = vector\n",
        "\n",
        "embedding_layer = Embedding(input_dim=vocab_len, output_dim=embedding_vector_len, input_length=300, weights=[embedding_matrix])"
      ],
      "execution_count": 9,
      "outputs": []
    },
    {
      "cell_type": "code",
      "metadata": {
        "id": "5ReCX4ZsgT_s"
      },
      "source": [
        "class attention(Layer):\n",
        "    def __init__(self,**kwargs):\n",
        "        super(attention,self).__init__(**kwargs)\n",
        "\n",
        "    def build(self,input_shape):\n",
        "        self.W=self.add_weight(name=\"att_weight\",shape=(input_shape[-1],1),initializer=\"normal\")\n",
        "        self.b=self.add_weight(name=\"att_bias\",shape=(input_shape[1],1),initializer=\"zeros\")        \n",
        "        super(attention, self).build(input_shape)\n",
        "\n",
        "    def call(self,x):\n",
        "        et=kb.squeeze(kb.tanh(kb.dot(x,self.W)+self.b),axis=-1)\n",
        "        at=kb.softmax(et)\n",
        "        at=kb.expand_dims(at,axis=-1)\n",
        "        output=x*at\n",
        "        return kb.sum(output,axis=1)\n",
        "\n",
        "    def compute_output_shape(self,input_shape):\n",
        "        return (input_shape[0],input_shape[-1])\n",
        "\n",
        "    def get_config(self):\n",
        "        return super(attention,self).get_config()"
      ],
      "execution_count": 10,
      "outputs": []
    },
    {
      "cell_type": "code",
      "metadata": {
        "id": "dhq-SrRQgT_t"
      },
      "source": [
        "x_train_index = tokenizer.texts_to_sequences(x_train)\n",
        "x_train_index = pad_sequences(x_train_index, maxlen=300)"
      ],
      "execution_count": 11,
      "outputs": []
    },
    {
      "cell_type": "code",
      "metadata": {
        "id": "qUciT7LdgT_u"
      },
      "source": [
        "y_train_categorical = keras.utils.to_categorical(y_train, 2)\n",
        "y_test_categorical = keras.utils.to_categorical(y_test, 2)"
      ],
      "execution_count": 12,
      "outputs": []
    },
    {
      "cell_type": "code",
      "metadata": {
        "id": "4vuIaBtogT_u"
      },
      "source": [
        "x_test_index = tokenizer.texts_to_sequences(x_test)\n",
        "x_test_index = pad_sequences(x_test_index, maxlen=300)"
      ],
      "execution_count": 13,
      "outputs": []
    },
    {
      "cell_type": "code",
      "metadata": {
        "id": "K1ZeNy6Tifnp"
      },
      "source": [
        "HP_OPTIMIZER = hp.HParam('optimizer', hp.Discrete([\"adam\", \"rmsprop\"]))\n",
        "HP_DROPOUT = hp.HParam('dropout', hp.Discrete([0.1,0.2, 0.3, 0.4, 0.5, 0.6, 0.7, 0.8, 0.9]))\n",
        "HP_NUM_UNITS = hp.HParam('num_units', hp.Discrete([16, 32, 64]))\n",
        "\n",
        "log_dir = 'drive/MyDrive/ml_project/SLS/logs/SLS_BiGRUAtt_HP_complete'\n",
        "METRIC_ACCURACY = 'accuracy'\n",
        "METRIC_PRECISION = \"precision\"\n",
        "METRIC_RECALL = \"recall\"\n",
        "\n",
        "with tensorflow.summary.create_file_writer(log_dir).as_default():\n",
        "    hp.hparams_config(\n",
        "        hparams=[HP_NUM_UNITS, HP_DROPOUT, HP_OPTIMIZER],\n",
        "        metrics=[hp.Metric(METRIC_ACCURACY, display_name=\"Accuracy\"), hp.Metric(METRIC_PRECISION, display_name=\"Precision\"), hp.Metric(METRIC_RECALL, display_name=\"Recall\")],\n",
        "    )"
      ],
      "execution_count": 37,
      "outputs": []
    },
    {
      "cell_type": "code",
      "metadata": {
        "id": "GGnExjoUjGff"
      },
      "source": [
        "def train_test_model(hparams):\n",
        "    model = Sequential([\n",
        "        embedding_layer,\n",
        "        Bidirectional(GRU(units=hparams[HP_NUM_UNITS], return_sequences=True, dropout=hparams[HP_DROPOUT])),\n",
        "        Dense(hparams[HP_NUM_UNITS]),\n",
        "        Dense(hparams[HP_NUM_UNITS]),\n",
        "        attention(),\n",
        "        Dense(2, activation=\"sigmoid\"),\n",
        "    ])\n",
        "    model.compile(optimizer=hparams[HP_OPTIMIZER], loss=\"binary_crossentropy\", metrics=[\"accuracy\"])\n",
        "    model.fit(x_train_index[:2100], y_train_categorical[:2100], epochs=10, batch_size=128, verbose=1, validation_data=(x_train_index[2100:], y_train_categorical[2100:]), callbacks=[tensorflow.keras.callbacks.TensorBoard(log_dir), hp.KerasCallback(log_dir, hparams)])\n",
        "    _, accuracy = model.evaluate(x_test_index, y_test_categorical)\n",
        "    y_pred = np.argmax(model.predict(x_test_index), axis=1).astype(\"float32\")\n",
        "    print(classification_report(y_test, y_pred))\n",
        "    model.save(\"drive/MyDrive/ml_project/SLS/models/SLS_BiGRUAtt_HP_complete/{}_{}_{}\".format(hparams[HP_NUM_UNITS], hparams[HP_DROPOUT], hparams[HP_OPTIMIZER]))\n",
        "    return accuracy, precision_score(y_test, y_pred), recall_score(y_test, y_pred)"
      ],
      "execution_count": 44,
      "outputs": []
    },
    {
      "cell_type": "code",
      "metadata": {
        "id": "fznmfNtTtxn8"
      },
      "source": [
        "def run(run_dir, hparams):\n",
        "    with tensorflow.summary.create_file_writer(run_dir).as_default():\n",
        "        hp.hparams(hparams)\n",
        "        accuracy, precision, recall = train_test_model(hparams)\n",
        "        tensorflow.summary.scalar(METRIC_ACCURACY, accuracy, step=1)\n",
        "        tensorflow.summary.scalar(METRIC_PRECISION, precision, step=1)\n",
        "        tensorflow.summary.scalar(METRIC_RECALL, recall, step=1)"
      ],
      "execution_count": 42,
      "outputs": []
    },
    {
      "cell_type": "code",
      "metadata": {
        "colab": {
          "base_uri": "https://localhost:8080/"
        },
        "id": "BNeIaMiQtYEP",
        "outputId": "f93ba6e4-2b91-4b1c-c956-0b27849bc382"
      },
      "source": [
        "n_esecuzione = 0\n",
        "for num_units in HP_NUM_UNITS.domain.values:\n",
        "        for dropout in HP_DROPOUT.domain.values:\n",
        "            for opt in HP_OPTIMIZER.domain.values:\n",
        "                hparams = {\n",
        "                    HP_DROPOUT: dropout,\n",
        "                    HP_NUM_UNITS: num_units,\n",
        "                    HP_OPTIMIZER: opt,\n",
        "                    }\n",
        "                print(\"esecuzione: \", n_esecuzione)\n",
        "                print({h.name: hparams[h] for h in hparams})\n",
        "                run(log_dir + \"/esecuzione_{}\".format(n_esecuzione), hparams)\n",
        "                n_esecuzione += 1 "
      ],
      "execution_count": 45,
      "outputs": [
        {
          "output_type": "stream",
          "text": [
            "esecuzione:  0\n",
            "{'dropout': 0.1, 'num_units': 16, 'optimizer': 'adam'}\n",
            "Epoch 1/10\n",
            "17/17 [==============================] - 11s 426ms/step - loss: 0.6938 - accuracy: 0.4848 - val_loss: 0.6924 - val_accuracy: 0.5183\n",
            "Epoch 2/10\n",
            "17/17 [==============================] - 6s 345ms/step - loss: 0.6908 - accuracy: 0.5790 - val_loss: 0.6897 - val_accuracy: 0.6083\n",
            "Epoch 3/10\n",
            "17/17 [==============================] - 6s 361ms/step - loss: 0.6829 - accuracy: 0.6271 - val_loss: 0.6791 - val_accuracy: 0.6233\n",
            "Epoch 4/10\n",
            "17/17 [==============================] - 6s 341ms/step - loss: 0.6480 - accuracy: 0.6881 - val_loss: 0.6379 - val_accuracy: 0.6300\n",
            "Epoch 5/10\n",
            "17/17 [==============================] - 6s 338ms/step - loss: 0.5515 - accuracy: 0.7438 - val_loss: 0.5485 - val_accuracy: 0.7267\n",
            "Epoch 6/10\n",
            "17/17 [==============================] - 6s 362ms/step - loss: 0.3637 - accuracy: 0.8624 - val_loss: 0.5251 - val_accuracy: 0.8117\n",
            "Epoch 7/10\n",
            "17/17 [==============================] - 6s 365ms/step - loss: 0.2373 - accuracy: 0.9162 - val_loss: 0.4619 - val_accuracy: 0.8283\n",
            "Epoch 8/10\n",
            "17/17 [==============================] - 6s 354ms/step - loss: 0.1772 - accuracy: 0.9348 - val_loss: 0.5105 - val_accuracy: 0.8250\n",
            "Epoch 9/10\n",
            "17/17 [==============================] - 6s 367ms/step - loss: 0.1488 - accuracy: 0.9490 - val_loss: 0.5078 - val_accuracy: 0.8350\n",
            "Epoch 10/10\n",
            "17/17 [==============================] - 6s 365ms/step - loss: 0.1315 - accuracy: 0.9552 - val_loss: 0.5284 - val_accuracy: 0.8467\n",
            "10/10 [==============================] - 0s 33ms/step - loss: 0.5768 - accuracy: 0.8200\n",
            "              precision    recall  f1-score   support\n",
            "\n",
            "           0       0.77      0.91      0.84       151\n",
            "           1       0.89      0.73      0.80       149\n",
            "\n",
            "    accuracy                           0.82       300\n",
            "   macro avg       0.83      0.82      0.82       300\n",
            "weighted avg       0.83      0.82      0.82       300\n",
            "\n"
          ],
          "name": "stdout"
        },
        {
          "output_type": "stream",
          "text": [
            "WARNING:absl:Found untraced functions such as gru_cell_4_layer_call_and_return_conditional_losses, gru_cell_4_layer_call_fn, gru_cell_5_layer_call_and_return_conditional_losses, gru_cell_5_layer_call_fn, gru_cell_4_layer_call_fn while saving (showing 5 of 10). These functions will not be directly callable after loading.\n"
          ],
          "name": "stderr"
        },
        {
          "output_type": "stream",
          "text": [
            "INFO:tensorflow:Assets written to: drive/MyDrive/ml_project/SLS/models/SLS_BiGRUAtt_HP_complete/16_0.1_adam/assets\n"
          ],
          "name": "stdout"
        },
        {
          "output_type": "stream",
          "text": [
            "INFO:tensorflow:Assets written to: drive/MyDrive/ml_project/SLS/models/SLS_BiGRUAtt_HP_complete/16_0.1_adam/assets\n"
          ],
          "name": "stderr"
        },
        {
          "output_type": "stream",
          "text": [
            "esecuzione:  1\n",
            "{'dropout': 0.1, 'num_units': 16, 'optimizer': 'rmsprop'}\n",
            "Epoch 1/10\n",
            "17/17 [==============================] - 13s 468ms/step - loss: 0.6878 - accuracy: 0.5600 - val_loss: 0.6841 - val_accuracy: 0.6650\n",
            "Epoch 2/10\n",
            "17/17 [==============================] - 6s 370ms/step - loss: 0.6654 - accuracy: 0.6790 - val_loss: 0.6591 - val_accuracy: 0.6433\n",
            "Epoch 3/10\n",
            "17/17 [==============================] - 6s 367ms/step - loss: 0.5973 - accuracy: 0.7410 - val_loss: 0.6059 - val_accuracy: 0.6817\n",
            "Epoch 4/10\n",
            "17/17 [==============================] - 6s 343ms/step - loss: 0.4687 - accuracy: 0.8543 - val_loss: 0.5440 - val_accuracy: 0.7017\n",
            "Epoch 5/10\n",
            "17/17 [==============================] - 6s 344ms/step - loss: 0.3241 - accuracy: 0.9152 - val_loss: 0.4459 - val_accuracy: 0.8117\n",
            "Epoch 6/10\n",
            "17/17 [==============================] - 6s 347ms/step - loss: 0.2109 - accuracy: 0.9443 - val_loss: 0.4393 - val_accuracy: 0.8317\n",
            "Epoch 7/10\n",
            "17/17 [==============================] - 6s 340ms/step - loss: 0.1364 - accuracy: 0.9557 - val_loss: 0.5391 - val_accuracy: 0.8233\n",
            "Epoch 8/10\n",
            "17/17 [==============================] - 6s 354ms/step - loss: 0.1246 - accuracy: 0.9576 - val_loss: 0.4883 - val_accuracy: 0.8267\n",
            "Epoch 9/10\n",
            "17/17 [==============================] - 6s 358ms/step - loss: 0.1132 - accuracy: 0.9610 - val_loss: 0.6151 - val_accuracy: 0.8267\n",
            "Epoch 10/10\n",
            "17/17 [==============================] - 6s 380ms/step - loss: 0.0972 - accuracy: 0.9700 - val_loss: 0.8695 - val_accuracy: 0.8400\n",
            "10/10 [==============================] - 0s 39ms/step - loss: 0.7141 - accuracy: 0.8367\n",
            "              precision    recall  f1-score   support\n",
            "\n",
            "           0       0.85      0.82      0.84       151\n",
            "           1       0.82      0.85      0.84       149\n",
            "\n",
            "    accuracy                           0.84       300\n",
            "   macro avg       0.84      0.84      0.84       300\n",
            "weighted avg       0.84      0.84      0.84       300\n",
            "\n"
          ],
          "name": "stdout"
        },
        {
          "output_type": "stream",
          "text": [
            "WARNING:absl:Found untraced functions such as gru_cell_7_layer_call_and_return_conditional_losses, gru_cell_7_layer_call_fn, gru_cell_8_layer_call_and_return_conditional_losses, gru_cell_8_layer_call_fn, gru_cell_7_layer_call_fn while saving (showing 5 of 10). These functions will not be directly callable after loading.\n"
          ],
          "name": "stderr"
        },
        {
          "output_type": "stream",
          "text": [
            "INFO:tensorflow:Assets written to: drive/MyDrive/ml_project/SLS/models/SLS_BiGRUAtt_HP_complete/16_0.1_rmsprop/assets\n"
          ],
          "name": "stdout"
        },
        {
          "output_type": "stream",
          "text": [
            "INFO:tensorflow:Assets written to: drive/MyDrive/ml_project/SLS/models/SLS_BiGRUAtt_HP_complete/16_0.1_rmsprop/assets\n"
          ],
          "name": "stderr"
        },
        {
          "output_type": "stream",
          "text": [
            "esecuzione:  2\n",
            "{'dropout': 0.2, 'num_units': 16, 'optimizer': 'adam'}\n",
            "Epoch 1/10\n",
            "17/17 [==============================] - 11s 455ms/step - loss: 0.6928 - accuracy: 0.5133 - val_loss: 0.6918 - val_accuracy: 0.6250\n",
            "Epoch 2/10\n",
            "17/17 [==============================] - 6s 366ms/step - loss: 0.6892 - accuracy: 0.5290 - val_loss: 0.6884 - val_accuracy: 0.5483\n",
            "Epoch 3/10\n",
            "17/17 [==============================] - 6s 342ms/step - loss: 0.6780 - accuracy: 0.7043 - val_loss: 0.6729 - val_accuracy: 0.6733\n",
            "Epoch 4/10\n",
            "17/17 [==============================] - 6s 366ms/step - loss: 0.6369 - accuracy: 0.7262 - val_loss: 0.6315 - val_accuracy: 0.6200\n",
            "Epoch 5/10\n",
            "17/17 [==============================] - 6s 362ms/step - loss: 0.5223 - accuracy: 0.7629 - val_loss: 0.5370 - val_accuracy: 0.7150\n",
            "Epoch 6/10\n",
            "17/17 [==============================] - 6s 366ms/step - loss: 0.2733 - accuracy: 0.9048 - val_loss: 0.5512 - val_accuracy: 0.8200\n",
            "Epoch 7/10\n",
            "17/17 [==============================] - 6s 366ms/step - loss: 0.1426 - accuracy: 0.9514 - val_loss: 0.4807 - val_accuracy: 0.8250\n",
            "Epoch 8/10\n",
            "17/17 [==============================] - 6s 365ms/step - loss: 0.1094 - accuracy: 0.9652 - val_loss: 0.4733 - val_accuracy: 0.8267\n",
            "Epoch 9/10\n",
            "17/17 [==============================] - 6s 351ms/step - loss: 0.0903 - accuracy: 0.9719 - val_loss: 0.5085 - val_accuracy: 0.8350\n",
            "Epoch 10/10\n",
            "17/17 [==============================] - 6s 346ms/step - loss: 0.0841 - accuracy: 0.9705 - val_loss: 0.5334 - val_accuracy: 0.8433\n",
            "10/10 [==============================] - 0s 36ms/step - loss: 0.5668 - accuracy: 0.8267\n",
            "              precision    recall  f1-score   support\n",
            "\n",
            "           0       0.79      0.89      0.84       151\n",
            "           1       0.88      0.76      0.81       149\n",
            "\n",
            "    accuracy                           0.83       300\n",
            "   macro avg       0.83      0.83      0.83       300\n",
            "weighted avg       0.83      0.83      0.83       300\n",
            "\n"
          ],
          "name": "stdout"
        },
        {
          "output_type": "stream",
          "text": [
            "WARNING:absl:Found untraced functions such as gru_cell_10_layer_call_and_return_conditional_losses, gru_cell_10_layer_call_fn, gru_cell_11_layer_call_and_return_conditional_losses, gru_cell_11_layer_call_fn, gru_cell_10_layer_call_fn while saving (showing 5 of 10). These functions will not be directly callable after loading.\n"
          ],
          "name": "stderr"
        },
        {
          "output_type": "stream",
          "text": [
            "INFO:tensorflow:Assets written to: drive/MyDrive/ml_project/SLS/models/SLS_BiGRUAtt_HP_complete/16_0.2_adam/assets\n"
          ],
          "name": "stdout"
        },
        {
          "output_type": "stream",
          "text": [
            "INFO:tensorflow:Assets written to: drive/MyDrive/ml_project/SLS/models/SLS_BiGRUAtt_HP_complete/16_0.2_adam/assets\n"
          ],
          "name": "stderr"
        },
        {
          "output_type": "stream",
          "text": [
            "esecuzione:  3\n",
            "{'dropout': 0.2, 'num_units': 16, 'optimizer': 'rmsprop'}\n",
            "Epoch 1/10\n",
            "17/17 [==============================] - 12s 451ms/step - loss: 0.6910 - accuracy: 0.5505 - val_loss: 0.6877 - val_accuracy: 0.6067\n",
            "Epoch 2/10\n",
            "17/17 [==============================] - 6s 368ms/step - loss: 0.6720 - accuracy: 0.6610 - val_loss: 0.6651 - val_accuracy: 0.6100\n",
            "Epoch 3/10\n",
            "17/17 [==============================] - 6s 354ms/step - loss: 0.5948 - accuracy: 0.7467 - val_loss: 0.6039 - val_accuracy: 0.6633\n",
            "Epoch 4/10\n",
            "17/17 [==============================] - 6s 361ms/step - loss: 0.4407 - accuracy: 0.8281 - val_loss: 0.4843 - val_accuracy: 0.7833\n",
            "Epoch 5/10\n",
            "17/17 [==============================] - 6s 367ms/step - loss: 0.1951 - accuracy: 0.9367 - val_loss: 0.6657 - val_accuracy: 0.8317\n",
            "Epoch 6/10\n",
            "17/17 [==============================] - 6s 365ms/step - loss: 0.1235 - accuracy: 0.9614 - val_loss: 0.5155 - val_accuracy: 0.8250\n",
            "Epoch 7/10\n",
            "17/17 [==============================] - 6s 351ms/step - loss: 0.1099 - accuracy: 0.9667 - val_loss: 0.4870 - val_accuracy: 0.8483\n",
            "Epoch 8/10\n",
            "17/17 [==============================] - 6s 349ms/step - loss: 0.1036 - accuracy: 0.9652 - val_loss: 0.5810 - val_accuracy: 0.8300\n",
            "Epoch 9/10\n",
            "17/17 [==============================] - 6s 345ms/step - loss: 0.1013 - accuracy: 0.9686 - val_loss: 0.4737 - val_accuracy: 0.8567\n",
            "Epoch 10/10\n",
            "17/17 [==============================] - 6s 348ms/step - loss: 0.0840 - accuracy: 0.9752 - val_loss: 0.5165 - val_accuracy: 0.8583\n",
            "10/10 [==============================] - 0s 34ms/step - loss: 0.4719 - accuracy: 0.8333\n",
            "              precision    recall  f1-score   support\n",
            "\n",
            "           0       0.82      0.85      0.84       151\n",
            "           1       0.85      0.81      0.83       149\n",
            "\n",
            "    accuracy                           0.83       300\n",
            "   macro avg       0.83      0.83      0.83       300\n",
            "weighted avg       0.83      0.83      0.83       300\n",
            "\n"
          ],
          "name": "stdout"
        },
        {
          "output_type": "stream",
          "text": [
            "WARNING:absl:Found untraced functions such as gru_cell_13_layer_call_and_return_conditional_losses, gru_cell_13_layer_call_fn, gru_cell_14_layer_call_and_return_conditional_losses, gru_cell_14_layer_call_fn, gru_cell_13_layer_call_fn while saving (showing 5 of 10). These functions will not be directly callable after loading.\n"
          ],
          "name": "stderr"
        },
        {
          "output_type": "stream",
          "text": [
            "INFO:tensorflow:Assets written to: drive/MyDrive/ml_project/SLS/models/SLS_BiGRUAtt_HP_complete/16_0.2_rmsprop/assets\n"
          ],
          "name": "stdout"
        },
        {
          "output_type": "stream",
          "text": [
            "INFO:tensorflow:Assets written to: drive/MyDrive/ml_project/SLS/models/SLS_BiGRUAtt_HP_complete/16_0.2_rmsprop/assets\n"
          ],
          "name": "stderr"
        },
        {
          "output_type": "stream",
          "text": [
            "esecuzione:  4\n",
            "{'dropout': 0.3, 'num_units': 16, 'optimizer': 'adam'}\n",
            "Epoch 1/10\n",
            "17/17 [==============================] - 12s 493ms/step - loss: 0.6894 - accuracy: 0.5300 - val_loss: 0.6886 - val_accuracy: 0.6700\n",
            "Epoch 2/10\n",
            "17/17 [==============================] - 6s 350ms/step - loss: 0.6787 - accuracy: 0.7367 - val_loss: 0.6755 - val_accuracy: 0.6983\n",
            "Epoch 3/10\n",
            "17/17 [==============================] - 6s 344ms/step - loss: 0.6407 - accuracy: 0.9024 - val_loss: 0.6298 - val_accuracy: 0.7667\n",
            "Epoch 4/10\n",
            "17/17 [==============================] - 6s 362ms/step - loss: 0.5153 - accuracy: 0.8900 - val_loss: 0.5235 - val_accuracy: 0.7350\n",
            "Epoch 5/10\n",
            "17/17 [==============================] - 6s 369ms/step - loss: 0.2843 - accuracy: 0.9452 - val_loss: 0.4343 - val_accuracy: 0.8383\n",
            "Epoch 6/10\n",
            "17/17 [==============================] - 7s 416ms/step - loss: 0.1312 - accuracy: 0.9767 - val_loss: 0.4759 - val_accuracy: 0.8433\n",
            "Epoch 7/10\n",
            "17/17 [==============================] - 8s 446ms/step - loss: 0.0831 - accuracy: 0.9776 - val_loss: 0.5457 - val_accuracy: 0.8517\n",
            "Epoch 8/10\n",
            "17/17 [==============================] - 6s 351ms/step - loss: 0.0703 - accuracy: 0.9786 - val_loss: 0.5975 - val_accuracy: 0.8533\n",
            "Epoch 9/10\n",
            "17/17 [==============================] - 6s 348ms/step - loss: 0.0570 - accuracy: 0.9838 - val_loss: 0.6228 - val_accuracy: 0.8500\n",
            "Epoch 10/10\n",
            "17/17 [==============================] - 6s 350ms/step - loss: 0.0598 - accuracy: 0.9833 - val_loss: 0.6080 - val_accuracy: 0.8483\n",
            "10/10 [==============================] - 0s 33ms/step - loss: 0.6387 - accuracy: 0.8267\n",
            "              precision    recall  f1-score   support\n",
            "\n",
            "           0       0.80      0.87      0.84       151\n",
            "           1       0.86      0.78      0.82       149\n",
            "\n",
            "    accuracy                           0.83       300\n",
            "   macro avg       0.83      0.83      0.83       300\n",
            "weighted avg       0.83      0.83      0.83       300\n",
            "\n"
          ],
          "name": "stdout"
        },
        {
          "output_type": "stream",
          "text": [
            "WARNING:absl:Found untraced functions such as gru_cell_16_layer_call_and_return_conditional_losses, gru_cell_16_layer_call_fn, gru_cell_17_layer_call_and_return_conditional_losses, gru_cell_17_layer_call_fn, gru_cell_16_layer_call_fn while saving (showing 5 of 10). These functions will not be directly callable after loading.\n"
          ],
          "name": "stderr"
        },
        {
          "output_type": "stream",
          "text": [
            "INFO:tensorflow:Assets written to: drive/MyDrive/ml_project/SLS/models/SLS_BiGRUAtt_HP_complete/16_0.3_adam/assets\n"
          ],
          "name": "stdout"
        },
        {
          "output_type": "stream",
          "text": [
            "INFO:tensorflow:Assets written to: drive/MyDrive/ml_project/SLS/models/SLS_BiGRUAtt_HP_complete/16_0.3_adam/assets\n"
          ],
          "name": "stderr"
        },
        {
          "output_type": "stream",
          "text": [
            "esecuzione:  5\n",
            "{'dropout': 0.3, 'num_units': 16, 'optimizer': 'rmsprop'}\n",
            "Epoch 1/10\n",
            "17/17 [==============================] - 13s 469ms/step - loss: 0.6910 - accuracy: 0.5400 - val_loss: 0.6869 - val_accuracy: 0.5167\n",
            "Epoch 2/10\n",
            "17/17 [==============================] - 6s 373ms/step - loss: 0.6718 - accuracy: 0.6833 - val_loss: 0.6680 - val_accuracy: 0.5167\n",
            "Epoch 3/10\n",
            "17/17 [==============================] - 6s 371ms/step - loss: 0.6057 - accuracy: 0.7629 - val_loss: 0.5964 - val_accuracy: 0.7050\n",
            "Epoch 4/10\n",
            "17/17 [==============================] - 6s 371ms/step - loss: 0.4421 - accuracy: 0.8590 - val_loss: 0.4759 - val_accuracy: 0.7983\n",
            "Epoch 5/10\n",
            "17/17 [==============================] - 6s 352ms/step - loss: 0.2210 - accuracy: 0.9386 - val_loss: 0.4844 - val_accuracy: 0.8233\n",
            "Epoch 6/10\n",
            "17/17 [==============================] - 6s 359ms/step - loss: 0.1390 - accuracy: 0.9510 - val_loss: 0.6755 - val_accuracy: 0.8167\n",
            "Epoch 7/10\n",
            "17/17 [==============================] - 6s 352ms/step - loss: 0.1206 - accuracy: 0.9595 - val_loss: 0.4727 - val_accuracy: 0.8383\n",
            "Epoch 8/10\n",
            "17/17 [==============================] - 6s 354ms/step - loss: 0.1031 - accuracy: 0.9676 - val_loss: 0.4811 - val_accuracy: 0.8450\n",
            "Epoch 9/10\n",
            "17/17 [==============================] - 6s 357ms/step - loss: 0.0862 - accuracy: 0.9710 - val_loss: 0.5878 - val_accuracy: 0.8367\n",
            "Epoch 10/10\n",
            "17/17 [==============================] - 6s 379ms/step - loss: 0.0799 - accuracy: 0.9729 - val_loss: 0.4711 - val_accuracy: 0.8567\n",
            "10/10 [==============================] - 0s 33ms/step - loss: 0.5238 - accuracy: 0.8267\n",
            "              precision    recall  f1-score   support\n",
            "\n",
            "           0       0.80      0.87      0.83       151\n",
            "           1       0.85      0.79      0.82       149\n",
            "\n",
            "    accuracy                           0.83       300\n",
            "   macro avg       0.83      0.83      0.83       300\n",
            "weighted avg       0.83      0.83      0.83       300\n",
            "\n"
          ],
          "name": "stdout"
        },
        {
          "output_type": "stream",
          "text": [
            "WARNING:absl:Found untraced functions such as gru_cell_19_layer_call_and_return_conditional_losses, gru_cell_19_layer_call_fn, gru_cell_20_layer_call_and_return_conditional_losses, gru_cell_20_layer_call_fn, gru_cell_19_layer_call_fn while saving (showing 5 of 10). These functions will not be directly callable after loading.\n"
          ],
          "name": "stderr"
        },
        {
          "output_type": "stream",
          "text": [
            "INFO:tensorflow:Assets written to: drive/MyDrive/ml_project/SLS/models/SLS_BiGRUAtt_HP_complete/16_0.3_rmsprop/assets\n"
          ],
          "name": "stdout"
        },
        {
          "output_type": "stream",
          "text": [
            "INFO:tensorflow:Assets written to: drive/MyDrive/ml_project/SLS/models/SLS_BiGRUAtt_HP_complete/16_0.3_rmsprop/assets\n"
          ],
          "name": "stderr"
        },
        {
          "output_type": "stream",
          "text": [
            "esecuzione:  6\n",
            "{'dropout': 0.4, 'num_units': 16, 'optimizer': 'adam'}\n",
            "Epoch 1/10\n",
            "17/17 [==============================] - 12s 464ms/step - loss: 0.6912 - accuracy: 0.5586 - val_loss: 0.6889 - val_accuracy: 0.6717\n",
            "Epoch 2/10\n",
            "17/17 [==============================] - 6s 371ms/step - loss: 0.6828 - accuracy: 0.6919 - val_loss: 0.6813 - val_accuracy: 0.5667\n",
            "Epoch 3/10\n",
            "17/17 [==============================] - 6s 369ms/step - loss: 0.6572 - accuracy: 0.6929 - val_loss: 0.6455 - val_accuracy: 0.6883\n",
            "Epoch 4/10\n",
            "17/17 [==============================] - 6s 365ms/step - loss: 0.5701 - accuracy: 0.7895 - val_loss: 0.5662 - val_accuracy: 0.7233\n",
            "Epoch 5/10\n",
            "17/17 [==============================] - 6s 371ms/step - loss: 0.3819 - accuracy: 0.8824 - val_loss: 0.4664 - val_accuracy: 0.8100\n",
            "Epoch 6/10\n",
            "17/17 [==============================] - 6s 373ms/step - loss: 0.1785 - accuracy: 0.9571 - val_loss: 0.4659 - val_accuracy: 0.8283\n",
            "Epoch 7/10\n",
            "17/17 [==============================] - 6s 368ms/step - loss: 0.0888 - accuracy: 0.9719 - val_loss: 0.5693 - val_accuracy: 0.8317\n",
            "Epoch 8/10\n",
            "17/17 [==============================] - 6s 372ms/step - loss: 0.0794 - accuracy: 0.9771 - val_loss: 0.5249 - val_accuracy: 0.8433\n",
            "Epoch 9/10\n",
            "17/17 [==============================] - 6s 369ms/step - loss: 0.0710 - accuracy: 0.9814 - val_loss: 0.5855 - val_accuracy: 0.8517\n",
            "Epoch 10/10\n",
            "17/17 [==============================] - 6s 372ms/step - loss: 0.0637 - accuracy: 0.9829 - val_loss: 0.5598 - val_accuracy: 0.8400\n",
            "10/10 [==============================] - 0s 34ms/step - loss: 0.5506 - accuracy: 0.8400\n",
            "              precision    recall  f1-score   support\n",
            "\n",
            "           0       0.84      0.85      0.84       151\n",
            "           1       0.84      0.83      0.84       149\n",
            "\n",
            "    accuracy                           0.84       300\n",
            "   macro avg       0.84      0.84      0.84       300\n",
            "weighted avg       0.84      0.84      0.84       300\n",
            "\n"
          ],
          "name": "stdout"
        },
        {
          "output_type": "stream",
          "text": [
            "WARNING:absl:Found untraced functions such as gru_cell_22_layer_call_and_return_conditional_losses, gru_cell_22_layer_call_fn, gru_cell_23_layer_call_and_return_conditional_losses, gru_cell_23_layer_call_fn, gru_cell_22_layer_call_fn while saving (showing 5 of 10). These functions will not be directly callable after loading.\n"
          ],
          "name": "stderr"
        },
        {
          "output_type": "stream",
          "text": [
            "INFO:tensorflow:Assets written to: drive/MyDrive/ml_project/SLS/models/SLS_BiGRUAtt_HP_complete/16_0.4_adam/assets\n"
          ],
          "name": "stdout"
        },
        {
          "output_type": "stream",
          "text": [
            "INFO:tensorflow:Assets written to: drive/MyDrive/ml_project/SLS/models/SLS_BiGRUAtt_HP_complete/16_0.4_adam/assets\n"
          ],
          "name": "stderr"
        },
        {
          "output_type": "stream",
          "text": [
            "esecuzione:  7\n",
            "{'dropout': 0.4, 'num_units': 16, 'optimizer': 'rmsprop'}\n",
            "Epoch 1/10\n",
            "17/17 [==============================] - 12s 465ms/step - loss: 0.6913 - accuracy: 0.5262 - val_loss: 0.6925 - val_accuracy: 0.4833\n",
            "Epoch 2/10\n",
            "17/17 [==============================] - 6s 358ms/step - loss: 0.6791 - accuracy: 0.6324 - val_loss: 0.6708 - val_accuracy: 0.6700\n",
            "Epoch 3/10\n",
            "17/17 [==============================] - 6s 363ms/step - loss: 0.6278 - accuracy: 0.7524 - val_loss: 0.6301 - val_accuracy: 0.7133\n",
            "Epoch 4/10\n",
            "17/17 [==============================] - 6s 344ms/step - loss: 0.5064 - accuracy: 0.8119 - val_loss: 0.5349 - val_accuracy: 0.7400\n",
            "Epoch 5/10\n",
            "17/17 [==============================] - 6s 361ms/step - loss: 0.3261 - accuracy: 0.8981 - val_loss: 0.4707 - val_accuracy: 0.8000\n",
            "Epoch 6/10\n",
            "17/17 [==============================] - 6s 364ms/step - loss: 0.1538 - accuracy: 0.9524 - val_loss: 0.5421 - val_accuracy: 0.8283\n",
            "Epoch 7/10\n",
            "17/17 [==============================] - 6s 373ms/step - loss: 0.1192 - accuracy: 0.9605 - val_loss: 0.5469 - val_accuracy: 0.8267\n",
            "Epoch 8/10\n",
            "17/17 [==============================] - 6s 369ms/step - loss: 0.1092 - accuracy: 0.9648 - val_loss: 0.5342 - val_accuracy: 0.8350\n",
            "Epoch 9/10\n",
            "17/17 [==============================] - 6s 375ms/step - loss: 0.0890 - accuracy: 0.9705 - val_loss: 0.5570 - val_accuracy: 0.8250\n",
            "Epoch 10/10\n",
            "17/17 [==============================] - 6s 374ms/step - loss: 0.0805 - accuracy: 0.9729 - val_loss: 0.5583 - val_accuracy: 0.8450\n",
            "10/10 [==============================] - 0s 34ms/step - loss: 0.5793 - accuracy: 0.8467\n",
            "              precision    recall  f1-score   support\n",
            "\n",
            "           0       0.82      0.89      0.85       151\n",
            "           1       0.88      0.80      0.84       149\n",
            "\n",
            "    accuracy                           0.85       300\n",
            "   macro avg       0.85      0.85      0.85       300\n",
            "weighted avg       0.85      0.85      0.85       300\n",
            "\n"
          ],
          "name": "stdout"
        },
        {
          "output_type": "stream",
          "text": [
            "WARNING:absl:Found untraced functions such as gru_cell_25_layer_call_and_return_conditional_losses, gru_cell_25_layer_call_fn, gru_cell_26_layer_call_and_return_conditional_losses, gru_cell_26_layer_call_fn, gru_cell_25_layer_call_fn while saving (showing 5 of 10). These functions will not be directly callable after loading.\n"
          ],
          "name": "stderr"
        },
        {
          "output_type": "stream",
          "text": [
            "INFO:tensorflow:Assets written to: drive/MyDrive/ml_project/SLS/models/SLS_BiGRUAtt_HP_complete/16_0.4_rmsprop/assets\n"
          ],
          "name": "stdout"
        },
        {
          "output_type": "stream",
          "text": [
            "INFO:tensorflow:Assets written to: drive/MyDrive/ml_project/SLS/models/SLS_BiGRUAtt_HP_complete/16_0.4_rmsprop/assets\n"
          ],
          "name": "stderr"
        },
        {
          "output_type": "stream",
          "text": [
            "esecuzione:  8\n",
            "{'dropout': 0.5, 'num_units': 16, 'optimizer': 'adam'}\n",
            "Epoch 1/10\n",
            "17/17 [==============================] - 12s 464ms/step - loss: 0.6938 - accuracy: 0.5086 - val_loss: 0.6919 - val_accuracy: 0.5200\n",
            "Epoch 2/10\n",
            "17/17 [==============================] - 6s 374ms/step - loss: 0.6879 - accuracy: 0.6500 - val_loss: 0.6871 - val_accuracy: 0.5817\n",
            "Epoch 3/10\n",
            "17/17 [==============================] - 6s 369ms/step - loss: 0.6747 - accuracy: 0.6500 - val_loss: 0.6692 - val_accuracy: 0.6417\n",
            "Epoch 4/10\n",
            "17/17 [==============================] - 6s 353ms/step - loss: 0.6235 - accuracy: 0.7343 - val_loss: 0.6265 - val_accuracy: 0.6267\n",
            "Epoch 5/10\n",
            "17/17 [==============================] - 6s 352ms/step - loss: 0.4953 - accuracy: 0.7957 - val_loss: 0.5404 - val_accuracy: 0.6967\n",
            "Epoch 6/10\n",
            "17/17 [==============================] - 6s 353ms/step - loss: 0.3074 - accuracy: 0.8995 - val_loss: 0.4378 - val_accuracy: 0.8167\n",
            "Epoch 7/10\n",
            "17/17 [==============================] - 6s 350ms/step - loss: 0.1467 - accuracy: 0.9576 - val_loss: 0.5925 - val_accuracy: 0.8200\n",
            "Epoch 8/10\n",
            "17/17 [==============================] - 6s 350ms/step - loss: 0.1092 - accuracy: 0.9629 - val_loss: 0.5454 - val_accuracy: 0.8450\n",
            "Epoch 9/10\n",
            "17/17 [==============================] - 6s 355ms/step - loss: 0.0795 - accuracy: 0.9748 - val_loss: 0.5032 - val_accuracy: 0.8467\n",
            "Epoch 10/10\n",
            "17/17 [==============================] - 6s 371ms/step - loss: 0.0702 - accuracy: 0.9786 - val_loss: 0.5440 - val_accuracy: 0.8533\n",
            "10/10 [==============================] - 0s 33ms/step - loss: 0.5369 - accuracy: 0.8233\n",
            "              precision    recall  f1-score   support\n",
            "\n",
            "           0       0.81      0.84      0.83       151\n",
            "           1       0.83      0.81      0.82       149\n",
            "\n",
            "    accuracy                           0.82       300\n",
            "   macro avg       0.82      0.82      0.82       300\n",
            "weighted avg       0.82      0.82      0.82       300\n",
            "\n"
          ],
          "name": "stdout"
        },
        {
          "output_type": "stream",
          "text": [
            "WARNING:absl:Found untraced functions such as gru_cell_28_layer_call_and_return_conditional_losses, gru_cell_28_layer_call_fn, gru_cell_29_layer_call_and_return_conditional_losses, gru_cell_29_layer_call_fn, gru_cell_28_layer_call_fn while saving (showing 5 of 10). These functions will not be directly callable after loading.\n"
          ],
          "name": "stderr"
        },
        {
          "output_type": "stream",
          "text": [
            "INFO:tensorflow:Assets written to: drive/MyDrive/ml_project/SLS/models/SLS_BiGRUAtt_HP_complete/16_0.5_adam/assets\n"
          ],
          "name": "stdout"
        },
        {
          "output_type": "stream",
          "text": [
            "INFO:tensorflow:Assets written to: drive/MyDrive/ml_project/SLS/models/SLS_BiGRUAtt_HP_complete/16_0.5_adam/assets\n"
          ],
          "name": "stderr"
        },
        {
          "output_type": "stream",
          "text": [
            "esecuzione:  9\n",
            "{'dropout': 0.5, 'num_units': 16, 'optimizer': 'rmsprop'}\n",
            "Epoch 1/10\n",
            "17/17 [==============================] - 12s 462ms/step - loss: 0.6887 - accuracy: 0.5210 - val_loss: 0.6832 - val_accuracy: 0.7333\n",
            "Epoch 2/10\n",
            "17/17 [==============================] - 6s 348ms/step - loss: 0.6619 - accuracy: 0.7490 - val_loss: 0.6549 - val_accuracy: 0.6267\n",
            "Epoch 3/10\n",
            "17/17 [==============================] - 6s 368ms/step - loss: 0.5752 - accuracy: 0.7662 - val_loss: 0.5873 - val_accuracy: 0.6983\n",
            "Epoch 4/10\n",
            "17/17 [==============================] - 6s 368ms/step - loss: 0.4351 - accuracy: 0.8414 - val_loss: 0.5008 - val_accuracy: 0.7433\n",
            "Epoch 5/10\n",
            "17/17 [==============================] - 6s 364ms/step - loss: 0.2361 - accuracy: 0.9381 - val_loss: 0.5207 - val_accuracy: 0.8250\n",
            "Epoch 6/10\n",
            "17/17 [==============================] - 6s 353ms/step - loss: 0.1072 - accuracy: 0.9676 - val_loss: 0.9092 - val_accuracy: 0.8400\n",
            "Epoch 7/10\n",
            "17/17 [==============================] - 6s 369ms/step - loss: 0.1031 - accuracy: 0.9700 - val_loss: 0.6294 - val_accuracy: 0.8417\n",
            "Epoch 8/10\n",
            "17/17 [==============================] - 6s 373ms/step - loss: 0.1043 - accuracy: 0.9686 - val_loss: 0.9432 - val_accuracy: 0.8367\n",
            "Epoch 9/10\n",
            "17/17 [==============================] - 6s 356ms/step - loss: 0.0921 - accuracy: 0.9710 - val_loss: 0.5776 - val_accuracy: 0.8400\n",
            "Epoch 10/10\n",
            "17/17 [==============================] - 6s 362ms/step - loss: 0.0821 - accuracy: 0.9733 - val_loss: 0.5377 - val_accuracy: 0.8383\n",
            "10/10 [==============================] - 0s 34ms/step - loss: 0.5134 - accuracy: 0.8433\n",
            "              precision    recall  f1-score   support\n",
            "\n",
            "           0       0.83      0.87      0.85       151\n",
            "           1       0.86      0.82      0.84       149\n",
            "\n",
            "    accuracy                           0.84       300\n",
            "   macro avg       0.84      0.84      0.84       300\n",
            "weighted avg       0.84      0.84      0.84       300\n",
            "\n"
          ],
          "name": "stdout"
        },
        {
          "output_type": "stream",
          "text": [
            "WARNING:absl:Found untraced functions such as gru_cell_31_layer_call_and_return_conditional_losses, gru_cell_31_layer_call_fn, gru_cell_32_layer_call_and_return_conditional_losses, gru_cell_32_layer_call_fn, gru_cell_31_layer_call_fn while saving (showing 5 of 10). These functions will not be directly callable after loading.\n"
          ],
          "name": "stderr"
        },
        {
          "output_type": "stream",
          "text": [
            "INFO:tensorflow:Assets written to: drive/MyDrive/ml_project/SLS/models/SLS_BiGRUAtt_HP_complete/16_0.5_rmsprop/assets\n"
          ],
          "name": "stdout"
        },
        {
          "output_type": "stream",
          "text": [
            "INFO:tensorflow:Assets written to: drive/MyDrive/ml_project/SLS/models/SLS_BiGRUAtt_HP_complete/16_0.5_rmsprop/assets\n"
          ],
          "name": "stderr"
        },
        {
          "output_type": "stream",
          "text": [
            "esecuzione:  10\n",
            "{'dropout': 0.6, 'num_units': 16, 'optimizer': 'adam'}\n",
            "Epoch 1/10\n",
            "17/17 [==============================] - 12s 463ms/step - loss: 0.6950 - accuracy: 0.4933 - val_loss: 0.6905 - val_accuracy: 0.7267\n",
            "Epoch 2/10\n",
            "17/17 [==============================] - 6s 373ms/step - loss: 0.6887 - accuracy: 0.5571 - val_loss: 0.6876 - val_accuracy: 0.5250\n",
            "Epoch 3/10\n",
            "17/17 [==============================] - 6s 348ms/step - loss: 0.6800 - accuracy: 0.6214 - val_loss: 0.6757 - val_accuracy: 0.8167\n",
            "Epoch 4/10\n",
            "17/17 [==============================] - 6s 346ms/step - loss: 0.6569 - accuracy: 0.7010 - val_loss: 0.6395 - val_accuracy: 0.8117\n",
            "Epoch 5/10\n",
            "17/17 [==============================] - 6s 365ms/step - loss: 0.5651 - accuracy: 0.8119 - val_loss: 0.5523 - val_accuracy: 0.7317\n",
            "Epoch 6/10\n",
            "17/17 [==============================] - 6s 368ms/step - loss: 0.3609 - accuracy: 0.9281 - val_loss: 0.4282 - val_accuracy: 0.8333\n",
            "Epoch 7/10\n",
            "17/17 [==============================] - 6s 370ms/step - loss: 0.1891 - accuracy: 0.9762 - val_loss: 0.4189 - val_accuracy: 0.8300\n",
            "Epoch 8/10\n",
            "17/17 [==============================] - 6s 354ms/step - loss: 0.1110 - accuracy: 0.9767 - val_loss: 0.4897 - val_accuracy: 0.8350\n",
            "Epoch 9/10\n",
            "17/17 [==============================] - 6s 350ms/step - loss: 0.0794 - accuracy: 0.9795 - val_loss: 0.5521 - val_accuracy: 0.8383\n",
            "Epoch 10/10\n",
            "17/17 [==============================] - 6s 350ms/step - loss: 0.0694 - accuracy: 0.9752 - val_loss: 0.5477 - val_accuracy: 0.8417\n",
            "10/10 [==============================] - 0s 32ms/step - loss: 0.5483 - accuracy: 0.8367\n",
            "              precision    recall  f1-score   support\n",
            "\n",
            "           0       0.81      0.87      0.84       151\n",
            "           1       0.86      0.80      0.83       149\n",
            "\n",
            "    accuracy                           0.84       300\n",
            "   macro avg       0.84      0.84      0.84       300\n",
            "weighted avg       0.84      0.84      0.84       300\n",
            "\n"
          ],
          "name": "stdout"
        },
        {
          "output_type": "stream",
          "text": [
            "WARNING:absl:Found untraced functions such as gru_cell_34_layer_call_and_return_conditional_losses, gru_cell_34_layer_call_fn, gru_cell_35_layer_call_and_return_conditional_losses, gru_cell_35_layer_call_fn, gru_cell_34_layer_call_fn while saving (showing 5 of 10). These functions will not be directly callable after loading.\n"
          ],
          "name": "stderr"
        },
        {
          "output_type": "stream",
          "text": [
            "INFO:tensorflow:Assets written to: drive/MyDrive/ml_project/SLS/models/SLS_BiGRUAtt_HP_complete/16_0.6_adam/assets\n"
          ],
          "name": "stdout"
        },
        {
          "output_type": "stream",
          "text": [
            "INFO:tensorflow:Assets written to: drive/MyDrive/ml_project/SLS/models/SLS_BiGRUAtt_HP_complete/16_0.6_adam/assets\n"
          ],
          "name": "stderr"
        },
        {
          "output_type": "stream",
          "text": [
            "esecuzione:  11\n",
            "{'dropout': 0.6, 'num_units': 16, 'optimizer': 'rmsprop'}\n",
            "Epoch 1/10\n",
            "17/17 [==============================] - 12s 454ms/step - loss: 0.6921 - accuracy: 0.5167 - val_loss: 0.6889 - val_accuracy: 0.4833\n",
            "Epoch 2/10\n",
            "17/17 [==============================] - 6s 368ms/step - loss: 0.6782 - accuracy: 0.6538 - val_loss: 0.6726 - val_accuracy: 0.5017\n",
            "Epoch 3/10\n",
            "17/17 [==============================] - 6s 363ms/step - loss: 0.6201 - accuracy: 0.7414 - val_loss: 0.6061 - val_accuracy: 0.6517\n",
            "Epoch 4/10\n",
            "17/17 [==============================] - 6s 360ms/step - loss: 0.4821 - accuracy: 0.8138 - val_loss: 0.4956 - val_accuracy: 0.7867\n",
            "Epoch 5/10\n",
            "17/17 [==============================] - 6s 368ms/step - loss: 0.2455 - accuracy: 0.9314 - val_loss: 0.5002 - val_accuracy: 0.8150\n",
            "Epoch 6/10\n",
            "17/17 [==============================] - 6s 355ms/step - loss: 0.1746 - accuracy: 0.9414 - val_loss: 0.5981 - val_accuracy: 0.8267\n",
            "Epoch 7/10\n",
            "17/17 [==============================] - 6s 369ms/step - loss: 0.1592 - accuracy: 0.9457 - val_loss: 0.4773 - val_accuracy: 0.8083\n",
            "Epoch 8/10\n",
            "17/17 [==============================] - 6s 372ms/step - loss: 0.1360 - accuracy: 0.9586 - val_loss: 0.5405 - val_accuracy: 0.8200\n",
            "Epoch 9/10\n",
            "17/17 [==============================] - 6s 350ms/step - loss: 0.1320 - accuracy: 0.9533 - val_loss: 0.6233 - val_accuracy: 0.8383\n",
            "Epoch 10/10\n",
            "17/17 [==============================] - 6s 355ms/step - loss: 0.1284 - accuracy: 0.9562 - val_loss: 0.4922 - val_accuracy: 0.8167\n",
            "10/10 [==============================] - 0s 34ms/step - loss: 0.4641 - accuracy: 0.8400\n",
            "              precision    recall  f1-score   support\n",
            "\n",
            "           0       0.84      0.85      0.84       151\n",
            "           1       0.84      0.83      0.84       149\n",
            "\n",
            "    accuracy                           0.84       300\n",
            "   macro avg       0.84      0.84      0.84       300\n",
            "weighted avg       0.84      0.84      0.84       300\n",
            "\n"
          ],
          "name": "stdout"
        },
        {
          "output_type": "stream",
          "text": [
            "WARNING:absl:Found untraced functions such as gru_cell_37_layer_call_and_return_conditional_losses, gru_cell_37_layer_call_fn, gru_cell_38_layer_call_and_return_conditional_losses, gru_cell_38_layer_call_fn, gru_cell_37_layer_call_fn while saving (showing 5 of 10). These functions will not be directly callable after loading.\n"
          ],
          "name": "stderr"
        },
        {
          "output_type": "stream",
          "text": [
            "INFO:tensorflow:Assets written to: drive/MyDrive/ml_project/SLS/models/SLS_BiGRUAtt_HP_complete/16_0.6_rmsprop/assets\n"
          ],
          "name": "stdout"
        },
        {
          "output_type": "stream",
          "text": [
            "INFO:tensorflow:Assets written to: drive/MyDrive/ml_project/SLS/models/SLS_BiGRUAtt_HP_complete/16_0.6_rmsprop/assets\n"
          ],
          "name": "stderr"
        },
        {
          "output_type": "stream",
          "text": [
            "esecuzione:  12\n",
            "{'dropout': 0.7, 'num_units': 16, 'optimizer': 'adam'}\n",
            "Epoch 1/10\n",
            "17/17 [==============================] - 13s 465ms/step - loss: 0.6914 - accuracy: 0.5300 - val_loss: 0.6887 - val_accuracy: 0.5167\n",
            "Epoch 2/10\n",
            "17/17 [==============================] - 6s 356ms/step - loss: 0.6854 - accuracy: 0.6224 - val_loss: 0.6829 - val_accuracy: 0.6833\n",
            "Epoch 3/10\n",
            "17/17 [==============================] - 6s 363ms/step - loss: 0.6691 - accuracy: 0.7157 - val_loss: 0.6604 - val_accuracy: 0.6533\n",
            "Epoch 4/10\n",
            "17/17 [==============================] - 6s 374ms/step - loss: 0.6071 - accuracy: 0.7405 - val_loss: 0.6140 - val_accuracy: 0.6367\n",
            "Epoch 5/10\n",
            "17/17 [==============================] - 6s 367ms/step - loss: 0.4823 - accuracy: 0.8010 - val_loss: 0.5493 - val_accuracy: 0.7000\n",
            "Epoch 6/10\n",
            "17/17 [==============================] - 6s 352ms/step - loss: 0.3229 - accuracy: 0.8857 - val_loss: 0.4827 - val_accuracy: 0.8000\n",
            "Epoch 7/10\n",
            "17/17 [==============================] - 6s 370ms/step - loss: 0.1783 - accuracy: 0.9424 - val_loss: 0.5837 - val_accuracy: 0.8167\n",
            "Epoch 8/10\n",
            "17/17 [==============================] - 6s 355ms/step - loss: 0.1289 - accuracy: 0.9548 - val_loss: 0.5499 - val_accuracy: 0.8267\n",
            "Epoch 9/10\n",
            "17/17 [==============================] - 6s 362ms/step - loss: 0.1050 - accuracy: 0.9652 - val_loss: 0.5207 - val_accuracy: 0.8283\n",
            "Epoch 10/10\n",
            "17/17 [==============================] - 6s 359ms/step - loss: 0.0816 - accuracy: 0.9752 - val_loss: 0.6198 - val_accuracy: 0.8483\n",
            "10/10 [==============================] - 0s 34ms/step - loss: 0.5808 - accuracy: 0.8333\n",
            "              precision    recall  f1-score   support\n",
            "\n",
            "           0       0.82      0.86      0.84       151\n",
            "           1       0.85      0.81      0.83       149\n",
            "\n",
            "    accuracy                           0.83       300\n",
            "   macro avg       0.83      0.83      0.83       300\n",
            "weighted avg       0.83      0.83      0.83       300\n",
            "\n"
          ],
          "name": "stdout"
        },
        {
          "output_type": "stream",
          "text": [
            "WARNING:absl:Found untraced functions such as gru_cell_40_layer_call_and_return_conditional_losses, gru_cell_40_layer_call_fn, gru_cell_41_layer_call_and_return_conditional_losses, gru_cell_41_layer_call_fn, gru_cell_40_layer_call_fn while saving (showing 5 of 10). These functions will not be directly callable after loading.\n"
          ],
          "name": "stderr"
        },
        {
          "output_type": "stream",
          "text": [
            "INFO:tensorflow:Assets written to: drive/MyDrive/ml_project/SLS/models/SLS_BiGRUAtt_HP_complete/16_0.7_adam/assets\n"
          ],
          "name": "stdout"
        },
        {
          "output_type": "stream",
          "text": [
            "INFO:tensorflow:Assets written to: drive/MyDrive/ml_project/SLS/models/SLS_BiGRUAtt_HP_complete/16_0.7_adam/assets\n"
          ],
          "name": "stderr"
        },
        {
          "output_type": "stream",
          "text": [
            "esecuzione:  13\n",
            "{'dropout': 0.7, 'num_units': 16, 'optimizer': 'rmsprop'}\n",
            "Epoch 1/10\n",
            "17/17 [==============================] - 13s 448ms/step - loss: 0.6917 - accuracy: 0.5248 - val_loss: 0.6882 - val_accuracy: 0.5083\n",
            "Epoch 2/10\n",
            "17/17 [==============================] - 6s 352ms/step - loss: 0.6764 - accuracy: 0.6362 - val_loss: 0.6657 - val_accuracy: 0.6417\n",
            "Epoch 3/10\n",
            "17/17 [==============================] - 6s 349ms/step - loss: 0.6216 - accuracy: 0.7257 - val_loss: 0.6141 - val_accuracy: 0.6567\n",
            "Epoch 4/10\n",
            "17/17 [==============================] - 6s 368ms/step - loss: 0.5145 - accuracy: 0.7819 - val_loss: 0.5451 - val_accuracy: 0.7300\n",
            "Epoch 5/10\n",
            "17/17 [==============================] - 6s 366ms/step - loss: 0.3828 - accuracy: 0.8690 - val_loss: 0.5139 - val_accuracy: 0.7600\n",
            "Epoch 6/10\n",
            "17/17 [==============================] - 6s 367ms/step - loss: 0.2479 - accuracy: 0.9252 - val_loss: 0.4803 - val_accuracy: 0.7950\n",
            "Epoch 7/10\n",
            "17/17 [==============================] - 6s 375ms/step - loss: 0.1624 - accuracy: 0.9457 - val_loss: 0.5981 - val_accuracy: 0.7950\n",
            "Epoch 8/10\n",
            "17/17 [==============================] - 6s 360ms/step - loss: 0.1390 - accuracy: 0.9519 - val_loss: 0.6123 - val_accuracy: 0.8000\n",
            "Epoch 9/10\n",
            "17/17 [==============================] - 6s 372ms/step - loss: 0.1261 - accuracy: 0.9548 - val_loss: 0.5538 - val_accuracy: 0.8100\n",
            "Epoch 10/10\n",
            "17/17 [==============================] - 6s 372ms/step - loss: 0.1330 - accuracy: 0.9514 - val_loss: 0.5533 - val_accuracy: 0.8233\n",
            "10/10 [==============================] - 0s 34ms/step - loss: 0.5683 - accuracy: 0.8167\n",
            "              precision    recall  f1-score   support\n",
            "\n",
            "           0       0.78      0.89      0.83       151\n",
            "           1       0.87      0.74      0.80       149\n",
            "\n",
            "    accuracy                           0.82       300\n",
            "   macro avg       0.82      0.82      0.82       300\n",
            "weighted avg       0.82      0.82      0.82       300\n",
            "\n"
          ],
          "name": "stdout"
        },
        {
          "output_type": "stream",
          "text": [
            "WARNING:absl:Found untraced functions such as gru_cell_43_layer_call_and_return_conditional_losses, gru_cell_43_layer_call_fn, gru_cell_44_layer_call_and_return_conditional_losses, gru_cell_44_layer_call_fn, gru_cell_43_layer_call_fn while saving (showing 5 of 10). These functions will not be directly callable after loading.\n"
          ],
          "name": "stderr"
        },
        {
          "output_type": "stream",
          "text": [
            "INFO:tensorflow:Assets written to: drive/MyDrive/ml_project/SLS/models/SLS_BiGRUAtt_HP_complete/16_0.7_rmsprop/assets\n"
          ],
          "name": "stdout"
        },
        {
          "output_type": "stream",
          "text": [
            "INFO:tensorflow:Assets written to: drive/MyDrive/ml_project/SLS/models/SLS_BiGRUAtt_HP_complete/16_0.7_rmsprop/assets\n"
          ],
          "name": "stderr"
        },
        {
          "output_type": "stream",
          "text": [
            "esecuzione:  14\n",
            "{'dropout': 0.8, 'num_units': 16, 'optimizer': 'adam'}\n",
            "Epoch 1/10\n",
            "17/17 [==============================] - 13s 470ms/step - loss: 0.6915 - accuracy: 0.5338 - val_loss: 0.6887 - val_accuracy: 0.6133\n",
            "Epoch 2/10\n",
            "17/17 [==============================] - 6s 348ms/step - loss: 0.6875 - accuracy: 0.5452 - val_loss: 0.6829 - val_accuracy: 0.8067\n",
            "Epoch 3/10\n",
            "17/17 [==============================] - 6s 344ms/step - loss: 0.6744 - accuracy: 0.7814 - val_loss: 0.6642 - val_accuracy: 0.7733\n",
            "Epoch 4/10\n",
            "17/17 [==============================] - 6s 343ms/step - loss: 0.6367 - accuracy: 0.7738 - val_loss: 0.6029 - val_accuracy: 0.7567\n",
            "Epoch 5/10\n",
            "17/17 [==============================] - 6s 367ms/step - loss: 0.5094 - accuracy: 0.9176 - val_loss: 0.4738 - val_accuracy: 0.8283\n",
            "Epoch 6/10\n",
            "17/17 [==============================] - 6s 357ms/step - loss: 0.3020 - accuracy: 0.9533 - val_loss: 0.4138 - val_accuracy: 0.8283\n",
            "Epoch 7/10\n",
            "17/17 [==============================] - 6s 348ms/step - loss: 0.1649 - accuracy: 0.9695 - val_loss: 0.4517 - val_accuracy: 0.8333\n",
            "Epoch 8/10\n",
            "17/17 [==============================] - 6s 372ms/step - loss: 0.1187 - accuracy: 0.9614 - val_loss: 0.5368 - val_accuracy: 0.8367\n",
            "Epoch 9/10\n",
            "17/17 [==============================] - 6s 358ms/step - loss: 0.0953 - accuracy: 0.9676 - val_loss: 0.5687 - val_accuracy: 0.8383\n",
            "Epoch 10/10\n",
            "17/17 [==============================] - 6s 361ms/step - loss: 0.1029 - accuracy: 0.9648 - val_loss: 0.5523 - val_accuracy: 0.8450\n",
            "10/10 [==============================] - 0s 34ms/step - loss: 0.5989 - accuracy: 0.8300\n",
            "              precision    recall  f1-score   support\n",
            "\n",
            "           0       0.81      0.87      0.84       151\n",
            "           1       0.86      0.79      0.82       149\n",
            "\n",
            "    accuracy                           0.83       300\n",
            "   macro avg       0.83      0.83      0.83       300\n",
            "weighted avg       0.83      0.83      0.83       300\n",
            "\n"
          ],
          "name": "stdout"
        },
        {
          "output_type": "stream",
          "text": [
            "WARNING:absl:Found untraced functions such as gru_cell_46_layer_call_and_return_conditional_losses, gru_cell_46_layer_call_fn, gru_cell_47_layer_call_and_return_conditional_losses, gru_cell_47_layer_call_fn, gru_cell_46_layer_call_fn while saving (showing 5 of 10). These functions will not be directly callable after loading.\n"
          ],
          "name": "stderr"
        },
        {
          "output_type": "stream",
          "text": [
            "INFO:tensorflow:Assets written to: drive/MyDrive/ml_project/SLS/models/SLS_BiGRUAtt_HP_complete/16_0.8_adam/assets\n"
          ],
          "name": "stdout"
        },
        {
          "output_type": "stream",
          "text": [
            "INFO:tensorflow:Assets written to: drive/MyDrive/ml_project/SLS/models/SLS_BiGRUAtt_HP_complete/16_0.8_adam/assets\n"
          ],
          "name": "stderr"
        },
        {
          "output_type": "stream",
          "text": [
            "esecuzione:  15\n",
            "{'dropout': 0.8, 'num_units': 16, 'optimizer': 'rmsprop'}\n",
            "Epoch 1/10\n",
            "17/17 [==============================] - 12s 505ms/step - loss: 0.6923 - accuracy: 0.5443 - val_loss: 0.6912 - val_accuracy: 0.4833\n",
            "Epoch 2/10\n",
            "17/17 [==============================] - 6s 369ms/step - loss: 0.6890 - accuracy: 0.5786 - val_loss: 0.6858 - val_accuracy: 0.7267\n",
            "Epoch 3/10\n",
            "17/17 [==============================] - 6s 366ms/step - loss: 0.6806 - accuracy: 0.6981 - val_loss: 0.6755 - val_accuracy: 0.6983\n",
            "Epoch 4/10\n",
            "17/17 [==============================] - 6s 346ms/step - loss: 0.6570 - accuracy: 0.7010 - val_loss: 0.6370 - val_accuracy: 0.7533\n",
            "Epoch 5/10\n",
            "17/17 [==============================] - 6s 369ms/step - loss: 0.5821 - accuracy: 0.8529 - val_loss: 0.5694 - val_accuracy: 0.7117\n",
            "Epoch 6/10\n",
            "17/17 [==============================] - 6s 367ms/step - loss: 0.4618 - accuracy: 0.8881 - val_loss: 0.4961 - val_accuracy: 0.7917\n",
            "Epoch 7/10\n",
            "17/17 [==============================] - 6s 354ms/step - loss: 0.3564 - accuracy: 0.9362 - val_loss: 0.4544 - val_accuracy: 0.8167\n",
            "Epoch 8/10\n",
            "17/17 [==============================] - 6s 349ms/step - loss: 0.2795 - accuracy: 0.9448 - val_loss: 0.4375 - val_accuracy: 0.8233\n",
            "Epoch 9/10\n",
            "17/17 [==============================] - 6s 351ms/step - loss: 0.2237 - accuracy: 0.9538 - val_loss: 0.4190 - val_accuracy: 0.8300\n",
            "Epoch 10/10\n",
            "17/17 [==============================] - 6s 368ms/step - loss: 0.1821 - accuracy: 0.9586 - val_loss: 0.4299 - val_accuracy: 0.8300\n",
            "10/10 [==============================] - 0s 33ms/step - loss: 0.4605 - accuracy: 0.8267\n",
            "              precision    recall  f1-score   support\n",
            "\n",
            "           0       0.79      0.89      0.84       151\n",
            "           1       0.87      0.77      0.81       149\n",
            "\n",
            "    accuracy                           0.83       300\n",
            "   macro avg       0.83      0.83      0.83       300\n",
            "weighted avg       0.83      0.83      0.83       300\n",
            "\n"
          ],
          "name": "stdout"
        },
        {
          "output_type": "stream",
          "text": [
            "WARNING:absl:Found untraced functions such as gru_cell_49_layer_call_and_return_conditional_losses, gru_cell_49_layer_call_fn, gru_cell_50_layer_call_and_return_conditional_losses, gru_cell_50_layer_call_fn, gru_cell_49_layer_call_fn while saving (showing 5 of 10). These functions will not be directly callable after loading.\n"
          ],
          "name": "stderr"
        },
        {
          "output_type": "stream",
          "text": [
            "INFO:tensorflow:Assets written to: drive/MyDrive/ml_project/SLS/models/SLS_BiGRUAtt_HP_complete/16_0.8_rmsprop/assets\n"
          ],
          "name": "stdout"
        },
        {
          "output_type": "stream",
          "text": [
            "INFO:tensorflow:Assets written to: drive/MyDrive/ml_project/SLS/models/SLS_BiGRUAtt_HP_complete/16_0.8_rmsprop/assets\n"
          ],
          "name": "stderr"
        },
        {
          "output_type": "stream",
          "text": [
            "esecuzione:  16\n",
            "{'dropout': 0.9, 'num_units': 16, 'optimizer': 'adam'}\n",
            "Epoch 1/10\n",
            "17/17 [==============================] - 12s 459ms/step - loss: 0.6946 - accuracy: 0.5029 - val_loss: 0.6937 - val_accuracy: 0.4833\n",
            "Epoch 2/10\n",
            "17/17 [==============================] - 6s 370ms/step - loss: 0.6923 - accuracy: 0.5205 - val_loss: 0.6915 - val_accuracy: 0.4850\n",
            "Epoch 3/10\n",
            "17/17 [==============================] - 6s 365ms/step - loss: 0.6895 - accuracy: 0.5433 - val_loss: 0.6918 - val_accuracy: 0.4833\n",
            "Epoch 4/10\n",
            "17/17 [==============================] - 6s 366ms/step - loss: 0.6859 - accuracy: 0.5852 - val_loss: 0.6816 - val_accuracy: 0.5833\n",
            "Epoch 5/10\n",
            "17/17 [==============================] - 6s 367ms/step - loss: 0.6747 - accuracy: 0.6529 - val_loss: 0.6585 - val_accuracy: 0.6683\n",
            "Epoch 6/10\n",
            "17/17 [==============================] - 6s 380ms/step - loss: 0.6374 - accuracy: 0.7148 - val_loss: 0.6333 - val_accuracy: 0.6367\n",
            "Epoch 7/10\n",
            "17/17 [==============================] - 6s 358ms/step - loss: 0.5505 - accuracy: 0.7300 - val_loss: 0.5719 - val_accuracy: 0.7017\n",
            "Epoch 8/10\n",
            "17/17 [==============================] - 6s 357ms/step - loss: 0.4188 - accuracy: 0.8095 - val_loss: 0.5712 - val_accuracy: 0.7983\n",
            "Epoch 9/10\n",
            "17/17 [==============================] - 6s 381ms/step - loss: 0.3221 - accuracy: 0.8648 - val_loss: 0.6562 - val_accuracy: 0.8100\n",
            "Epoch 10/10\n",
            "17/17 [==============================] - 6s 380ms/step - loss: 0.2655 - accuracy: 0.8976 - val_loss: 0.5258 - val_accuracy: 0.8333\n",
            "10/10 [==============================] - 0s 34ms/step - loss: 0.5403 - accuracy: 0.8100\n",
            "              precision    recall  f1-score   support\n",
            "\n",
            "           0       0.76      0.91      0.83       151\n",
            "           1       0.88      0.71      0.79       149\n",
            "\n",
            "    accuracy                           0.81       300\n",
            "   macro avg       0.82      0.81      0.81       300\n",
            "weighted avg       0.82      0.81      0.81       300\n",
            "\n"
          ],
          "name": "stdout"
        },
        {
          "output_type": "stream",
          "text": [
            "WARNING:absl:Found untraced functions such as gru_cell_52_layer_call_and_return_conditional_losses, gru_cell_52_layer_call_fn, gru_cell_53_layer_call_and_return_conditional_losses, gru_cell_53_layer_call_fn, gru_cell_52_layer_call_fn while saving (showing 5 of 10). These functions will not be directly callable after loading.\n"
          ],
          "name": "stderr"
        },
        {
          "output_type": "stream",
          "text": [
            "INFO:tensorflow:Assets written to: drive/MyDrive/ml_project/SLS/models/SLS_BiGRUAtt_HP_complete/16_0.9_adam/assets\n"
          ],
          "name": "stdout"
        },
        {
          "output_type": "stream",
          "text": [
            "INFO:tensorflow:Assets written to: drive/MyDrive/ml_project/SLS/models/SLS_BiGRUAtt_HP_complete/16_0.9_adam/assets\n"
          ],
          "name": "stderr"
        },
        {
          "output_type": "stream",
          "text": [
            "esecuzione:  17\n",
            "{'dropout': 0.9, 'num_units': 16, 'optimizer': 'rmsprop'}\n",
            "Epoch 1/10\n",
            "17/17 [==============================] - 12s 478ms/step - loss: 0.6913 - accuracy: 0.5267 - val_loss: 0.6862 - val_accuracy: 0.5200\n",
            "Epoch 2/10\n",
            "17/17 [==============================] - 6s 363ms/step - loss: 0.6848 - accuracy: 0.5843 - val_loss: 0.6839 - val_accuracy: 0.5167\n",
            "Epoch 3/10\n",
            "17/17 [==============================] - 6s 355ms/step - loss: 0.6751 - accuracy: 0.6548 - val_loss: 0.6695 - val_accuracy: 0.5450\n",
            "Epoch 4/10\n",
            "17/17 [==============================] - 6s 371ms/step - loss: 0.6461 - accuracy: 0.7062 - val_loss: 0.6170 - val_accuracy: 0.6783\n",
            "Epoch 5/10\n",
            "17/17 [==============================] - 6s 357ms/step - loss: 0.5915 - accuracy: 0.7567 - val_loss: 0.5740 - val_accuracy: 0.6917\n",
            "Epoch 6/10\n",
            "17/17 [==============================] - 6s 374ms/step - loss: 0.5217 - accuracy: 0.7819 - val_loss: 0.5377 - val_accuracy: 0.7283\n",
            "Epoch 7/10\n",
            "17/17 [==============================] - 6s 352ms/step - loss: 0.4486 - accuracy: 0.8362 - val_loss: 0.4963 - val_accuracy: 0.7783\n",
            "Epoch 8/10\n",
            "17/17 [==============================] - 6s 358ms/step - loss: 0.3692 - accuracy: 0.8752 - val_loss: 0.4677 - val_accuracy: 0.8000\n",
            "Epoch 9/10\n",
            "17/17 [==============================] - 6s 359ms/step - loss: 0.3172 - accuracy: 0.9033 - val_loss: 0.4539 - val_accuracy: 0.8017\n",
            "Epoch 10/10\n",
            "17/17 [==============================] - 6s 355ms/step - loss: 0.2681 - accuracy: 0.9167 - val_loss: 0.4601 - val_accuracy: 0.8050\n",
            "10/10 [==============================] - 0s 37ms/step - loss: 0.4710 - accuracy: 0.8000\n",
            "              precision    recall  f1-score   support\n",
            "\n",
            "           0       0.81      0.79      0.80       151\n",
            "           1       0.79      0.81      0.80       149\n",
            "\n",
            "    accuracy                           0.80       300\n",
            "   macro avg       0.80      0.80      0.80       300\n",
            "weighted avg       0.80      0.80      0.80       300\n",
            "\n"
          ],
          "name": "stdout"
        },
        {
          "output_type": "stream",
          "text": [
            "WARNING:absl:Found untraced functions such as gru_cell_55_layer_call_and_return_conditional_losses, gru_cell_55_layer_call_fn, gru_cell_56_layer_call_and_return_conditional_losses, gru_cell_56_layer_call_fn, gru_cell_55_layer_call_fn while saving (showing 5 of 10). These functions will not be directly callable after loading.\n"
          ],
          "name": "stderr"
        },
        {
          "output_type": "stream",
          "text": [
            "INFO:tensorflow:Assets written to: drive/MyDrive/ml_project/SLS/models/SLS_BiGRUAtt_HP_complete/16_0.9_rmsprop/assets\n"
          ],
          "name": "stdout"
        },
        {
          "output_type": "stream",
          "text": [
            "INFO:tensorflow:Assets written to: drive/MyDrive/ml_project/SLS/models/SLS_BiGRUAtt_HP_complete/16_0.9_rmsprop/assets\n"
          ],
          "name": "stderr"
        },
        {
          "output_type": "stream",
          "text": [
            "esecuzione:  18\n",
            "{'dropout': 0.1, 'num_units': 32, 'optimizer': 'adam'}\n",
            "Epoch 1/10\n",
            "17/17 [==============================] - 15s 595ms/step - loss: 0.6867 - accuracy: 0.5495 - val_loss: 0.6814 - val_accuracy: 0.8267\n",
            "Epoch 2/10\n",
            "17/17 [==============================] - 8s 479ms/step - loss: 0.6316 - accuracy: 0.7705 - val_loss: 0.6073 - val_accuracy: 0.8350\n",
            "Epoch 3/10\n",
            "17/17 [==============================] - 8s 481ms/step - loss: 0.3627 - accuracy: 0.9700 - val_loss: 0.4196 - val_accuracy: 0.8333\n",
            "Epoch 4/10\n",
            "17/17 [==============================] - 8s 473ms/step - loss: 0.1173 - accuracy: 0.9829 - val_loss: 0.4828 - val_accuracy: 0.8300\n",
            "Epoch 5/10\n",
            "17/17 [==============================] - 8s 476ms/step - loss: 0.0596 - accuracy: 0.9852 - val_loss: 0.6140 - val_accuracy: 0.8300\n",
            "Epoch 6/10\n",
            "17/17 [==============================] - 8s 468ms/step - loss: 0.0528 - accuracy: 0.9871 - val_loss: 0.6680 - val_accuracy: 0.8100\n",
            "Epoch 7/10\n",
            "17/17 [==============================] - 8s 463ms/step - loss: 0.0438 - accuracy: 0.9886 - val_loss: 0.5848 - val_accuracy: 0.8400\n",
            "Epoch 8/10\n",
            "17/17 [==============================] - 8s 482ms/step - loss: 0.0379 - accuracy: 0.9905 - val_loss: 0.5863 - val_accuracy: 0.8400\n",
            "Epoch 9/10\n",
            "17/17 [==============================] - 8s 477ms/step - loss: 0.0353 - accuracy: 0.9900 - val_loss: 0.6555 - val_accuracy: 0.8483\n",
            "Epoch 10/10\n",
            "17/17 [==============================] - 8s 471ms/step - loss: 0.0367 - accuracy: 0.9924 - val_loss: 0.6127 - val_accuracy: 0.8417\n",
            "10/10 [==============================] - 0s 40ms/step - loss: 0.5998 - accuracy: 0.8267\n",
            "              precision    recall  f1-score   support\n",
            "\n",
            "           0       0.81      0.86      0.83       151\n",
            "           1       0.85      0.79      0.82       149\n",
            "\n",
            "    accuracy                           0.83       300\n",
            "   macro avg       0.83      0.83      0.83       300\n",
            "weighted avg       0.83      0.83      0.83       300\n",
            "\n"
          ],
          "name": "stdout"
        },
        {
          "output_type": "stream",
          "text": [
            "WARNING:absl:Found untraced functions such as gru_cell_58_layer_call_and_return_conditional_losses, gru_cell_58_layer_call_fn, gru_cell_59_layer_call_and_return_conditional_losses, gru_cell_59_layer_call_fn, gru_cell_58_layer_call_fn while saving (showing 5 of 10). These functions will not be directly callable after loading.\n"
          ],
          "name": "stderr"
        },
        {
          "output_type": "stream",
          "text": [
            "INFO:tensorflow:Assets written to: drive/MyDrive/ml_project/SLS/models/SLS_BiGRUAtt_HP_complete/32_0.1_adam/assets\n"
          ],
          "name": "stdout"
        },
        {
          "output_type": "stream",
          "text": [
            "INFO:tensorflow:Assets written to: drive/MyDrive/ml_project/SLS/models/SLS_BiGRUAtt_HP_complete/32_0.1_adam/assets\n"
          ],
          "name": "stderr"
        },
        {
          "output_type": "stream",
          "text": [
            "esecuzione:  19\n",
            "{'dropout': 0.1, 'num_units': 32, 'optimizer': 'rmsprop'}\n",
            "Epoch 1/10\n",
            "17/17 [==============================] - 15s 585ms/step - loss: 0.6627 - accuracy: 0.6452 - val_loss: 0.6314 - val_accuracy: 0.6633\n",
            "Epoch 2/10\n",
            "17/17 [==============================] - 8s 479ms/step - loss: 0.4189 - accuracy: 0.8686 - val_loss: 0.5531 - val_accuracy: 0.7233\n",
            "Epoch 3/10\n",
            "17/17 [==============================] - 8s 470ms/step - loss: 0.1316 - accuracy: 0.9690 - val_loss: 0.6310 - val_accuracy: 0.8267\n",
            "Epoch 4/10\n",
            "17/17 [==============================] - 8s 462ms/step - loss: 0.0723 - accuracy: 0.9800 - val_loss: 0.5337 - val_accuracy: 0.8267\n",
            "Epoch 5/10\n",
            "17/17 [==============================] - 8s 475ms/step - loss: 0.0616 - accuracy: 0.9824 - val_loss: 0.5599 - val_accuracy: 0.8400\n",
            "Epoch 6/10\n",
            "17/17 [==============================] - 8s 474ms/step - loss: 0.0543 - accuracy: 0.9852 - val_loss: 0.4966 - val_accuracy: 0.8450\n",
            "Epoch 7/10\n",
            "17/17 [==============================] - 8s 474ms/step - loss: 0.0475 - accuracy: 0.9895 - val_loss: 0.6821 - val_accuracy: 0.8350\n",
            "Epoch 8/10\n",
            "17/17 [==============================] - 8s 477ms/step - loss: 0.0444 - accuracy: 0.9876 - val_loss: 0.5673 - val_accuracy: 0.8433\n",
            "Epoch 9/10\n",
            "17/17 [==============================] - 8s 472ms/step - loss: 0.0354 - accuracy: 0.9895 - val_loss: 0.6382 - val_accuracy: 0.8550\n",
            "Epoch 10/10\n",
            "17/17 [==============================] - 8s 470ms/step - loss: 0.0337 - accuracy: 0.9905 - val_loss: 1.0082 - val_accuracy: 0.8417\n",
            "10/10 [==============================] - 0s 41ms/step - loss: 1.0132 - accuracy: 0.8300\n",
            "              precision    recall  f1-score   support\n",
            "\n",
            "           0       0.82      0.85      0.83       151\n",
            "           1       0.84      0.81      0.83       149\n",
            "\n",
            "    accuracy                           0.83       300\n",
            "   macro avg       0.83      0.83      0.83       300\n",
            "weighted avg       0.83      0.83      0.83       300\n",
            "\n"
          ],
          "name": "stdout"
        },
        {
          "output_type": "stream",
          "text": [
            "WARNING:absl:Found untraced functions such as gru_cell_61_layer_call_and_return_conditional_losses, gru_cell_61_layer_call_fn, gru_cell_62_layer_call_and_return_conditional_losses, gru_cell_62_layer_call_fn, gru_cell_61_layer_call_fn while saving (showing 5 of 10). These functions will not be directly callable after loading.\n"
          ],
          "name": "stderr"
        },
        {
          "output_type": "stream",
          "text": [
            "INFO:tensorflow:Assets written to: drive/MyDrive/ml_project/SLS/models/SLS_BiGRUAtt_HP_complete/32_0.1_rmsprop/assets\n"
          ],
          "name": "stdout"
        },
        {
          "output_type": "stream",
          "text": [
            "INFO:tensorflow:Assets written to: drive/MyDrive/ml_project/SLS/models/SLS_BiGRUAtt_HP_complete/32_0.1_rmsprop/assets\n"
          ],
          "name": "stderr"
        },
        {
          "output_type": "stream",
          "text": [
            "esecuzione:  20\n",
            "{'dropout': 0.2, 'num_units': 32, 'optimizer': 'adam'}\n",
            "Epoch 1/10\n",
            "17/17 [==============================] - 13s 572ms/step - loss: 0.6884 - accuracy: 0.5410 - val_loss: 0.6822 - val_accuracy: 0.5183\n",
            "Epoch 2/10\n",
            "17/17 [==============================] - 8s 466ms/step - loss: 0.6386 - accuracy: 0.7119 - val_loss: 0.6124 - val_accuracy: 0.7733\n",
            "Epoch 3/10\n",
            "17/17 [==============================] - 8s 465ms/step - loss: 0.3608 - accuracy: 0.9643 - val_loss: 0.4087 - val_accuracy: 0.8383\n",
            "Epoch 4/10\n",
            "17/17 [==============================] - 8s 474ms/step - loss: 0.0747 - accuracy: 0.9833 - val_loss: 0.6668 - val_accuracy: 0.8400\n",
            "Epoch 5/10\n",
            "17/17 [==============================] - 8s 477ms/step - loss: 0.0485 - accuracy: 0.9876 - val_loss: 0.5350 - val_accuracy: 0.8400\n",
            "Epoch 6/10\n",
            "17/17 [==============================] - 8s 472ms/step - loss: 0.0416 - accuracy: 0.9890 - val_loss: 0.5661 - val_accuracy: 0.8350\n",
            "Epoch 7/10\n",
            "17/17 [==============================] - 8s 464ms/step - loss: 0.0350 - accuracy: 0.9910 - val_loss: 0.6285 - val_accuracy: 0.8300\n",
            "Epoch 8/10\n",
            "17/17 [==============================] - 8s 470ms/step - loss: 0.0336 - accuracy: 0.9910 - val_loss: 0.5942 - val_accuracy: 0.8400\n",
            "Epoch 9/10\n",
            "17/17 [==============================] - 8s 476ms/step - loss: 0.0299 - accuracy: 0.9924 - val_loss: 0.6469 - val_accuracy: 0.8317\n",
            "Epoch 10/10\n",
            "17/17 [==============================] - 8s 475ms/step - loss: 0.0248 - accuracy: 0.9933 - val_loss: 0.7523 - val_accuracy: 0.8317\n",
            "10/10 [==============================] - 0s 40ms/step - loss: 0.7503 - accuracy: 0.8433\n",
            "              precision    recall  f1-score   support\n",
            "\n",
            "           0       0.83      0.86      0.85       151\n",
            "           1       0.85      0.83      0.84       149\n",
            "\n",
            "    accuracy                           0.84       300\n",
            "   macro avg       0.84      0.84      0.84       300\n",
            "weighted avg       0.84      0.84      0.84       300\n",
            "\n"
          ],
          "name": "stdout"
        },
        {
          "output_type": "stream",
          "text": [
            "WARNING:absl:Found untraced functions such as gru_cell_64_layer_call_and_return_conditional_losses, gru_cell_64_layer_call_fn, gru_cell_65_layer_call_and_return_conditional_losses, gru_cell_65_layer_call_fn, gru_cell_64_layer_call_fn while saving (showing 5 of 10). These functions will not be directly callable after loading.\n"
          ],
          "name": "stderr"
        },
        {
          "output_type": "stream",
          "text": [
            "INFO:tensorflow:Assets written to: drive/MyDrive/ml_project/SLS/models/SLS_BiGRUAtt_HP_complete/32_0.2_adam/assets\n"
          ],
          "name": "stdout"
        },
        {
          "output_type": "stream",
          "text": [
            "INFO:tensorflow:Assets written to: drive/MyDrive/ml_project/SLS/models/SLS_BiGRUAtt_HP_complete/32_0.2_adam/assets\n"
          ],
          "name": "stderr"
        },
        {
          "output_type": "stream",
          "text": [
            "esecuzione:  21\n",
            "{'dropout': 0.2, 'num_units': 32, 'optimizer': 'rmsprop'}\n",
            "Epoch 1/10\n",
            "17/17 [==============================] - 14s 576ms/step - loss: 0.6824 - accuracy: 0.5643 - val_loss: 0.6653 - val_accuracy: 0.6117\n",
            "Epoch 2/10\n",
            "17/17 [==============================] - 8s 477ms/step - loss: 0.4909 - accuracy: 0.8462 - val_loss: 0.5230 - val_accuracy: 0.7367\n",
            "Epoch 3/10\n",
            "17/17 [==============================] - 8s 464ms/step - loss: 0.1762 - accuracy: 0.9690 - val_loss: 0.4659 - val_accuracy: 0.8367\n",
            "Epoch 4/10\n",
            "17/17 [==============================] - 8s 476ms/step - loss: 0.0549 - accuracy: 0.9852 - val_loss: 0.5935 - val_accuracy: 0.8483\n",
            "Epoch 5/10\n",
            "17/17 [==============================] - 8s 470ms/step - loss: 0.0406 - accuracy: 0.9890 - val_loss: 0.5251 - val_accuracy: 0.8267\n",
            "Epoch 6/10\n",
            "17/17 [==============================] - 8s 473ms/step - loss: 0.0384 - accuracy: 0.9881 - val_loss: 0.5503 - val_accuracy: 0.8433\n",
            "Epoch 7/10\n",
            "17/17 [==============================] - 8s 474ms/step - loss: 0.0322 - accuracy: 0.9919 - val_loss: 0.6745 - val_accuracy: 0.8417\n",
            "Epoch 8/10\n",
            "17/17 [==============================] - 8s 467ms/step - loss: 0.0261 - accuracy: 0.9929 - val_loss: 3.3844 - val_accuracy: 0.8083\n",
            "Epoch 9/10\n",
            "17/17 [==============================] - 8s 463ms/step - loss: 0.0619 - accuracy: 0.9905 - val_loss: 0.6338 - val_accuracy: 0.8400\n",
            "Epoch 10/10\n",
            "17/17 [==============================] - 8s 469ms/step - loss: 0.0267 - accuracy: 0.9924 - val_loss: 0.8696 - val_accuracy: 0.8333\n",
            "10/10 [==============================] - 0s 40ms/step - loss: 0.8916 - accuracy: 0.8300\n",
            "              precision    recall  f1-score   support\n",
            "\n",
            "           0       0.81      0.86      0.84       151\n",
            "           1       0.85      0.80      0.82       149\n",
            "\n",
            "    accuracy                           0.83       300\n",
            "   macro avg       0.83      0.83      0.83       300\n",
            "weighted avg       0.83      0.83      0.83       300\n",
            "\n"
          ],
          "name": "stdout"
        },
        {
          "output_type": "stream",
          "text": [
            "WARNING:absl:Found untraced functions such as gru_cell_67_layer_call_and_return_conditional_losses, gru_cell_67_layer_call_fn, gru_cell_68_layer_call_and_return_conditional_losses, gru_cell_68_layer_call_fn, gru_cell_67_layer_call_fn while saving (showing 5 of 10). These functions will not be directly callable after loading.\n"
          ],
          "name": "stderr"
        },
        {
          "output_type": "stream",
          "text": [
            "INFO:tensorflow:Assets written to: drive/MyDrive/ml_project/SLS/models/SLS_BiGRUAtt_HP_complete/32_0.2_rmsprop/assets\n"
          ],
          "name": "stdout"
        },
        {
          "output_type": "stream",
          "text": [
            "INFO:tensorflow:Assets written to: drive/MyDrive/ml_project/SLS/models/SLS_BiGRUAtt_HP_complete/32_0.2_rmsprop/assets\n"
          ],
          "name": "stderr"
        },
        {
          "output_type": "stream",
          "text": [
            "esecuzione:  22\n",
            "{'dropout': 0.3, 'num_units': 32, 'optimizer': 'adam'}\n",
            "Epoch 1/10\n",
            "17/17 [==============================] - 13s 568ms/step - loss: 0.6841 - accuracy: 0.5619 - val_loss: 0.6891 - val_accuracy: 0.4833\n",
            "Epoch 2/10\n",
            "17/17 [==============================] - 8s 479ms/step - loss: 0.6224 - accuracy: 0.6762 - val_loss: 0.5952 - val_accuracy: 0.7433\n",
            "Epoch 3/10\n",
            "17/17 [==============================] - 8s 470ms/step - loss: 0.3715 - accuracy: 0.9148 - val_loss: 0.4469 - val_accuracy: 0.8117\n",
            "Epoch 4/10\n",
            "17/17 [==============================] - 8s 469ms/step - loss: 0.1130 - accuracy: 0.9871 - val_loss: 0.4839 - val_accuracy: 0.8267\n",
            "Epoch 5/10\n",
            "17/17 [==============================] - 8s 472ms/step - loss: 0.0446 - accuracy: 0.9895 - val_loss: 0.6608 - val_accuracy: 0.8300\n",
            "Epoch 6/10\n",
            "17/17 [==============================] - 8s 469ms/step - loss: 0.0346 - accuracy: 0.9905 - val_loss: 0.6135 - val_accuracy: 0.8383\n",
            "Epoch 7/10\n",
            "17/17 [==============================] - 8s 470ms/step - loss: 0.0315 - accuracy: 0.9914 - val_loss: 0.6210 - val_accuracy: 0.8367\n",
            "Epoch 8/10\n",
            "17/17 [==============================] - 8s 490ms/step - loss: 0.0259 - accuracy: 0.9933 - val_loss: 0.6231 - val_accuracy: 0.8333\n",
            "Epoch 9/10\n",
            "17/17 [==============================] - 8s 480ms/step - loss: 0.0288 - accuracy: 0.9924 - val_loss: 0.6123 - val_accuracy: 0.8417\n",
            "Epoch 10/10\n",
            "17/17 [==============================] - 8s 470ms/step - loss: 0.0241 - accuracy: 0.9933 - val_loss: 0.6688 - val_accuracy: 0.8400\n",
            "10/10 [==============================] - 0s 45ms/step - loss: 0.6647 - accuracy: 0.8233\n",
            "              precision    recall  f1-score   support\n",
            "\n",
            "           0       0.79      0.88      0.83       151\n",
            "           1       0.86      0.77      0.81       149\n",
            "\n",
            "    accuracy                           0.82       300\n",
            "   macro avg       0.83      0.82      0.82       300\n",
            "weighted avg       0.83      0.82      0.82       300\n",
            "\n"
          ],
          "name": "stdout"
        },
        {
          "output_type": "stream",
          "text": [
            "WARNING:absl:Found untraced functions such as gru_cell_70_layer_call_and_return_conditional_losses, gru_cell_70_layer_call_fn, gru_cell_71_layer_call_and_return_conditional_losses, gru_cell_71_layer_call_fn, gru_cell_70_layer_call_fn while saving (showing 5 of 10). These functions will not be directly callable after loading.\n"
          ],
          "name": "stderr"
        },
        {
          "output_type": "stream",
          "text": [
            "INFO:tensorflow:Assets written to: drive/MyDrive/ml_project/SLS/models/SLS_BiGRUAtt_HP_complete/32_0.3_adam/assets\n"
          ],
          "name": "stdout"
        },
        {
          "output_type": "stream",
          "text": [
            "INFO:tensorflow:Assets written to: drive/MyDrive/ml_project/SLS/models/SLS_BiGRUAtt_HP_complete/32_0.3_adam/assets\n"
          ],
          "name": "stderr"
        },
        {
          "output_type": "stream",
          "text": [
            "esecuzione:  23\n",
            "{'dropout': 0.3, 'num_units': 32, 'optimizer': 'rmsprop'}\n",
            "Epoch 1/10\n",
            "17/17 [==============================] - 14s 580ms/step - loss: 0.6548 - accuracy: 0.7081 - val_loss: 0.6188 - val_accuracy: 0.7033\n",
            "Epoch 2/10\n",
            "17/17 [==============================] - 8s 470ms/step - loss: 0.3999 - accuracy: 0.8976 - val_loss: 0.4803 - val_accuracy: 0.7700\n",
            "Epoch 3/10\n",
            "17/17 [==============================] - 8s 478ms/step - loss: 0.1671 - accuracy: 0.9752 - val_loss: 0.4211 - val_accuracy: 0.8367\n",
            "Epoch 4/10\n",
            "17/17 [==============================] - 8s 475ms/step - loss: 0.0933 - accuracy: 0.9824 - val_loss: 0.4814 - val_accuracy: 0.8417\n",
            "Epoch 5/10\n",
            "17/17 [==============================] - 8s 471ms/step - loss: 0.0466 - accuracy: 0.9910 - val_loss: 0.8177 - val_accuracy: 0.7667\n",
            "Epoch 6/10\n",
            "17/17 [==============================] - 8s 480ms/step - loss: 0.0363 - accuracy: 0.9905 - val_loss: 0.8031 - val_accuracy: 0.7800\n",
            "Epoch 7/10\n",
            "17/17 [==============================] - 8s 477ms/step - loss: 0.0409 - accuracy: 0.9876 - val_loss: 0.7217 - val_accuracy: 0.8283\n",
            "Epoch 8/10\n",
            "17/17 [==============================] - 8s 464ms/step - loss: 0.0341 - accuracy: 0.9914 - val_loss: 0.7141 - val_accuracy: 0.8450\n",
            "Epoch 9/10\n",
            "17/17 [==============================] - 8s 471ms/step - loss: 0.0322 - accuracy: 0.9914 - val_loss: 0.7324 - val_accuracy: 0.8367\n",
            "Epoch 10/10\n",
            "17/17 [==============================] - 8s 469ms/step - loss: 0.0301 - accuracy: 0.9914 - val_loss: 0.7273 - val_accuracy: 0.8417\n",
            "10/10 [==============================] - 0s 41ms/step - loss: 0.6808 - accuracy: 0.8300\n",
            "              precision    recall  f1-score   support\n",
            "\n",
            "           0       0.81      0.86      0.84       151\n",
            "           1       0.85      0.80      0.82       149\n",
            "\n",
            "    accuracy                           0.83       300\n",
            "   macro avg       0.83      0.83      0.83       300\n",
            "weighted avg       0.83      0.83      0.83       300\n",
            "\n"
          ],
          "name": "stdout"
        },
        {
          "output_type": "stream",
          "text": [
            "WARNING:absl:Found untraced functions such as gru_cell_73_layer_call_and_return_conditional_losses, gru_cell_73_layer_call_fn, gru_cell_74_layer_call_and_return_conditional_losses, gru_cell_74_layer_call_fn, gru_cell_73_layer_call_fn while saving (showing 5 of 10). These functions will not be directly callable after loading.\n"
          ],
          "name": "stderr"
        },
        {
          "output_type": "stream",
          "text": [
            "INFO:tensorflow:Assets written to: drive/MyDrive/ml_project/SLS/models/SLS_BiGRUAtt_HP_complete/32_0.3_rmsprop/assets\n"
          ],
          "name": "stdout"
        },
        {
          "output_type": "stream",
          "text": [
            "INFO:tensorflow:Assets written to: drive/MyDrive/ml_project/SLS/models/SLS_BiGRUAtt_HP_complete/32_0.3_rmsprop/assets\n"
          ],
          "name": "stderr"
        },
        {
          "output_type": "stream",
          "text": [
            "esecuzione:  24\n",
            "{'dropout': 0.4, 'num_units': 32, 'optimizer': 'adam'}\n",
            "Epoch 1/10\n",
            "17/17 [==============================] - 15s 590ms/step - loss: 0.6887 - accuracy: 0.6219 - val_loss: 0.6832 - val_accuracy: 0.7867\n",
            "Epoch 2/10\n",
            "17/17 [==============================] - 8s 470ms/step - loss: 0.6393 - accuracy: 0.7824 - val_loss: 0.6173 - val_accuracy: 0.6683\n",
            "Epoch 3/10\n",
            "17/17 [==============================] - 8s 481ms/step - loss: 0.4377 - accuracy: 0.8210 - val_loss: 0.5195 - val_accuracy: 0.7617\n",
            "Epoch 4/10\n",
            "17/17 [==============================] - 8s 483ms/step - loss: 0.1571 - accuracy: 0.9538 - val_loss: 0.7360 - val_accuracy: 0.8133\n",
            "Epoch 5/10\n",
            "17/17 [==============================] - 8s 470ms/step - loss: 0.0787 - accuracy: 0.9762 - val_loss: 0.6704 - val_accuracy: 0.8183\n",
            "Epoch 6/10\n",
            "17/17 [==============================] - 8s 476ms/step - loss: 0.0670 - accuracy: 0.9810 - val_loss: 0.6966 - val_accuracy: 0.8267\n",
            "Epoch 7/10\n",
            "17/17 [==============================] - 8s 469ms/step - loss: 0.0557 - accuracy: 0.9819 - val_loss: 0.6591 - val_accuracy: 0.8250\n",
            "Epoch 8/10\n",
            "17/17 [==============================] - 8s 482ms/step - loss: 0.0424 - accuracy: 0.9914 - val_loss: 0.6173 - val_accuracy: 0.8317\n",
            "Epoch 9/10\n",
            "17/17 [==============================] - 8s 476ms/step - loss: 0.0324 - accuracy: 0.9905 - val_loss: 0.6976 - val_accuracy: 0.8383\n",
            "Epoch 10/10\n",
            "17/17 [==============================] - 8s 479ms/step - loss: 0.0323 - accuracy: 0.9933 - val_loss: 0.6592 - val_accuracy: 0.8383\n",
            "10/10 [==============================] - 0s 42ms/step - loss: 0.6403 - accuracy: 0.8433\n",
            "              precision    recall  f1-score   support\n",
            "\n",
            "           0       0.83      0.87      0.85       151\n",
            "           1       0.86      0.82      0.84       149\n",
            "\n",
            "    accuracy                           0.84       300\n",
            "   macro avg       0.84      0.84      0.84       300\n",
            "weighted avg       0.84      0.84      0.84       300\n",
            "\n"
          ],
          "name": "stdout"
        },
        {
          "output_type": "stream",
          "text": [
            "WARNING:absl:Found untraced functions such as gru_cell_76_layer_call_and_return_conditional_losses, gru_cell_76_layer_call_fn, gru_cell_77_layer_call_and_return_conditional_losses, gru_cell_77_layer_call_fn, gru_cell_76_layer_call_fn while saving (showing 5 of 10). These functions will not be directly callable after loading.\n"
          ],
          "name": "stderr"
        },
        {
          "output_type": "stream",
          "text": [
            "INFO:tensorflow:Assets written to: drive/MyDrive/ml_project/SLS/models/SLS_BiGRUAtt_HP_complete/32_0.4_adam/assets\n"
          ],
          "name": "stdout"
        },
        {
          "output_type": "stream",
          "text": [
            "INFO:tensorflow:Assets written to: drive/MyDrive/ml_project/SLS/models/SLS_BiGRUAtt_HP_complete/32_0.4_adam/assets\n"
          ],
          "name": "stderr"
        },
        {
          "output_type": "stream",
          "text": [
            "esecuzione:  25\n",
            "{'dropout': 0.4, 'num_units': 32, 'optimizer': 'rmsprop'}\n",
            "Epoch 1/10\n",
            "17/17 [==============================] - 14s 570ms/step - loss: 0.6647 - accuracy: 0.6895 - val_loss: 0.6132 - val_accuracy: 0.7933\n",
            "Epoch 2/10\n",
            "17/17 [==============================] - 8s 481ms/step - loss: 0.3827 - accuracy: 0.9252 - val_loss: 0.4392 - val_accuracy: 0.8367\n",
            "Epoch 3/10\n",
            "17/17 [==============================] - 8s 463ms/step - loss: 0.1645 - accuracy: 0.9771 - val_loss: 0.4623 - val_accuracy: 0.8233\n",
            "Epoch 4/10\n",
            "17/17 [==============================] - 8s 472ms/step - loss: 0.0822 - accuracy: 0.9876 - val_loss: 0.5016 - val_accuracy: 0.8300\n",
            "Epoch 5/10\n",
            "17/17 [==============================] - 8s 473ms/step - loss: 0.0436 - accuracy: 0.9914 - val_loss: 0.6408 - val_accuracy: 0.8233\n",
            "Epoch 6/10\n",
            "17/17 [==============================] - 8s 475ms/step - loss: 0.0373 - accuracy: 0.9890 - val_loss: 0.7001 - val_accuracy: 0.8367\n",
            "Epoch 7/10\n",
            "17/17 [==============================] - 8s 475ms/step - loss: 0.0383 - accuracy: 0.9890 - val_loss: 0.6648 - val_accuracy: 0.8383\n",
            "Epoch 8/10\n",
            "17/17 [==============================] - 8s 455ms/step - loss: 0.0276 - accuracy: 0.9919 - val_loss: 0.7152 - val_accuracy: 0.8350\n",
            "Epoch 9/10\n",
            "17/17 [==============================] - 8s 474ms/step - loss: 0.0299 - accuracy: 0.9905 - val_loss: 0.7456 - val_accuracy: 0.8383\n",
            "Epoch 10/10\n",
            "17/17 [==============================] - 8s 474ms/step - loss: 0.0292 - accuracy: 0.9924 - val_loss: 0.7728 - val_accuracy: 0.8200\n",
            "10/10 [==============================] - 0s 43ms/step - loss: 0.6821 - accuracy: 0.8233\n",
            "              precision    recall  f1-score   support\n",
            "\n",
            "           0       0.84      0.80      0.82       151\n",
            "           1       0.81      0.85      0.83       149\n",
            "\n",
            "    accuracy                           0.82       300\n",
            "   macro avg       0.82      0.82      0.82       300\n",
            "weighted avg       0.82      0.82      0.82       300\n",
            "\n"
          ],
          "name": "stdout"
        },
        {
          "output_type": "stream",
          "text": [
            "WARNING:absl:Found untraced functions such as gru_cell_79_layer_call_and_return_conditional_losses, gru_cell_79_layer_call_fn, gru_cell_80_layer_call_and_return_conditional_losses, gru_cell_80_layer_call_fn, gru_cell_79_layer_call_fn while saving (showing 5 of 10). These functions will not be directly callable after loading.\n"
          ],
          "name": "stderr"
        },
        {
          "output_type": "stream",
          "text": [
            "INFO:tensorflow:Assets written to: drive/MyDrive/ml_project/SLS/models/SLS_BiGRUAtt_HP_complete/32_0.4_rmsprop/assets\n"
          ],
          "name": "stdout"
        },
        {
          "output_type": "stream",
          "text": [
            "INFO:tensorflow:Assets written to: drive/MyDrive/ml_project/SLS/models/SLS_BiGRUAtt_HP_complete/32_0.4_rmsprop/assets\n"
          ],
          "name": "stderr"
        },
        {
          "output_type": "stream",
          "text": [
            "esecuzione:  26\n",
            "{'dropout': 0.5, 'num_units': 32, 'optimizer': 'adam'}\n",
            "Epoch 1/10\n",
            "17/17 [==============================] - 15s 590ms/step - loss: 0.6838 - accuracy: 0.5538 - val_loss: 0.6794 - val_accuracy: 0.4967\n",
            "Epoch 2/10\n",
            "17/17 [==============================] - 8s 473ms/step - loss: 0.6167 - accuracy: 0.7757 - val_loss: 0.5859 - val_accuracy: 0.8050\n",
            "Epoch 3/10\n",
            "17/17 [==============================] - 8s 474ms/step - loss: 0.3591 - accuracy: 0.9371 - val_loss: 0.4309 - val_accuracy: 0.8250\n",
            "Epoch 4/10\n",
            "17/17 [==============================] - 8s 478ms/step - loss: 0.1205 - accuracy: 0.9905 - val_loss: 0.4544 - val_accuracy: 0.8300\n",
            "Epoch 5/10\n",
            "17/17 [==============================] - 8s 476ms/step - loss: 0.0521 - accuracy: 0.9919 - val_loss: 0.5791 - val_accuracy: 0.8300\n",
            "Epoch 6/10\n",
            "17/17 [==============================] - 8s 477ms/step - loss: 0.0311 - accuracy: 0.9933 - val_loss: 0.6943 - val_accuracy: 0.8283\n",
            "Epoch 7/10\n",
            "17/17 [==============================] - 8s 480ms/step - loss: 0.0360 - accuracy: 0.9895 - val_loss: 0.7065 - val_accuracy: 0.8300\n",
            "Epoch 8/10\n",
            "17/17 [==============================] - 8s 479ms/step - loss: 0.0286 - accuracy: 0.9933 - val_loss: 0.7441 - val_accuracy: 0.8433\n",
            "Epoch 9/10\n",
            "17/17 [==============================] - 8s 475ms/step - loss: 0.0301 - accuracy: 0.9914 - val_loss: 0.7471 - val_accuracy: 0.8433\n",
            "Epoch 10/10\n",
            "17/17 [==============================] - 8s 478ms/step - loss: 0.0232 - accuracy: 0.9933 - val_loss: 0.7452 - val_accuracy: 0.8317\n",
            "10/10 [==============================] - 1s 54ms/step - loss: 0.7106 - accuracy: 0.8300\n",
            "              precision    recall  f1-score   support\n",
            "\n",
            "           0       0.83      0.83      0.83       151\n",
            "           1       0.83      0.83      0.83       149\n",
            "\n",
            "    accuracy                           0.83       300\n",
            "   macro avg       0.83      0.83      0.83       300\n",
            "weighted avg       0.83      0.83      0.83       300\n",
            "\n"
          ],
          "name": "stdout"
        },
        {
          "output_type": "stream",
          "text": [
            "WARNING:absl:Found untraced functions such as gru_cell_82_layer_call_and_return_conditional_losses, gru_cell_82_layer_call_fn, gru_cell_83_layer_call_and_return_conditional_losses, gru_cell_83_layer_call_fn, gru_cell_82_layer_call_fn while saving (showing 5 of 10). These functions will not be directly callable after loading.\n"
          ],
          "name": "stderr"
        },
        {
          "output_type": "stream",
          "text": [
            "INFO:tensorflow:Assets written to: drive/MyDrive/ml_project/SLS/models/SLS_BiGRUAtt_HP_complete/32_0.5_adam/assets\n"
          ],
          "name": "stdout"
        },
        {
          "output_type": "stream",
          "text": [
            "INFO:tensorflow:Assets written to: drive/MyDrive/ml_project/SLS/models/SLS_BiGRUAtt_HP_complete/32_0.5_adam/assets\n"
          ],
          "name": "stderr"
        },
        {
          "output_type": "stream",
          "text": [
            "esecuzione:  27\n",
            "{'dropout': 0.5, 'num_units': 32, 'optimizer': 'rmsprop'}\n",
            "Epoch 1/10\n",
            "17/17 [==============================] - 14s 572ms/step - loss: 0.6926 - accuracy: 0.5514 - val_loss: 0.6810 - val_accuracy: 0.5867\n",
            "Epoch 2/10\n",
            "17/17 [==============================] - 8s 483ms/step - loss: 0.6012 - accuracy: 0.7405 - val_loss: 0.5701 - val_accuracy: 0.7100\n",
            "Epoch 3/10\n",
            "17/17 [==============================] - 8s 477ms/step - loss: 0.3011 - accuracy: 0.9095 - val_loss: 0.4887 - val_accuracy: 0.7967\n",
            "Epoch 4/10\n",
            "17/17 [==============================] - 8s 475ms/step - loss: 0.0813 - accuracy: 0.9757 - val_loss: 0.6813 - val_accuracy: 0.8200\n",
            "Epoch 5/10\n",
            "17/17 [==============================] - 8s 484ms/step - loss: 0.0653 - accuracy: 0.9795 - val_loss: 0.7296 - val_accuracy: 0.8033\n",
            "Epoch 6/10\n",
            "17/17 [==============================] - 8s 474ms/step - loss: 0.0656 - accuracy: 0.9814 - val_loss: 0.7984 - val_accuracy: 0.8333\n",
            "Epoch 7/10\n",
            "17/17 [==============================] - 8s 482ms/step - loss: 0.0571 - accuracy: 0.9833 - val_loss: 0.6996 - val_accuracy: 0.8367\n",
            "Epoch 8/10\n",
            "17/17 [==============================] - 8s 487ms/step - loss: 0.0496 - accuracy: 0.9876 - val_loss: 0.7053 - val_accuracy: 0.8433\n",
            "Epoch 9/10\n",
            "17/17 [==============================] - 8s 479ms/step - loss: 0.0431 - accuracy: 0.9890 - val_loss: 0.6662 - val_accuracy: 0.8417\n",
            "Epoch 10/10\n",
            "17/17 [==============================] - 8s 479ms/step - loss: 0.0449 - accuracy: 0.9862 - val_loss: 0.7612 - val_accuracy: 0.8367\n",
            "10/10 [==============================] - 0s 41ms/step - loss: 0.7889 - accuracy: 0.8167\n",
            "              precision    recall  f1-score   support\n",
            "\n",
            "           0       0.77      0.91      0.83       151\n",
            "           1       0.89      0.72      0.80       149\n",
            "\n",
            "    accuracy                           0.82       300\n",
            "   macro avg       0.83      0.82      0.81       300\n",
            "weighted avg       0.83      0.82      0.82       300\n",
            "\n"
          ],
          "name": "stdout"
        },
        {
          "output_type": "stream",
          "text": [
            "WARNING:absl:Found untraced functions such as gru_cell_85_layer_call_and_return_conditional_losses, gru_cell_85_layer_call_fn, gru_cell_86_layer_call_and_return_conditional_losses, gru_cell_86_layer_call_fn, gru_cell_85_layer_call_fn while saving (showing 5 of 10). These functions will not be directly callable after loading.\n"
          ],
          "name": "stderr"
        },
        {
          "output_type": "stream",
          "text": [
            "INFO:tensorflow:Assets written to: drive/MyDrive/ml_project/SLS/models/SLS_BiGRUAtt_HP_complete/32_0.5_rmsprop/assets\n"
          ],
          "name": "stdout"
        },
        {
          "output_type": "stream",
          "text": [
            "INFO:tensorflow:Assets written to: drive/MyDrive/ml_project/SLS/models/SLS_BiGRUAtt_HP_complete/32_0.5_rmsprop/assets\n"
          ],
          "name": "stderr"
        },
        {
          "output_type": "stream",
          "text": [
            "esecuzione:  28\n",
            "{'dropout': 0.6, 'num_units': 32, 'optimizer': 'adam'}\n",
            "Epoch 1/10\n",
            "17/17 [==============================] - 15s 580ms/step - loss: 0.6819 - accuracy: 0.6467 - val_loss: 0.6741 - val_accuracy: 0.5900\n",
            "Epoch 2/10\n",
            "17/17 [==============================] - 8s 472ms/step - loss: 0.6069 - accuracy: 0.8476 - val_loss: 0.5730 - val_accuracy: 0.7200\n",
            "Epoch 3/10\n",
            "17/17 [==============================] - 8s 483ms/step - loss: 0.3475 - accuracy: 0.9224 - val_loss: 0.4295 - val_accuracy: 0.8217\n",
            "Epoch 4/10\n",
            "17/17 [==============================] - 8s 475ms/step - loss: 0.1391 - accuracy: 0.9771 - val_loss: 0.4627 - val_accuracy: 0.8300\n",
            "Epoch 5/10\n",
            "17/17 [==============================] - 8s 477ms/step - loss: 0.0631 - accuracy: 0.9890 - val_loss: 0.5824 - val_accuracy: 0.8367\n",
            "Epoch 6/10\n",
            "17/17 [==============================] - 8s 476ms/step - loss: 0.0344 - accuracy: 0.9938 - val_loss: 0.7252 - val_accuracy: 0.8350\n",
            "Epoch 7/10\n",
            "17/17 [==============================] - 8s 481ms/step - loss: 0.0288 - accuracy: 0.9914 - val_loss: 0.7546 - val_accuracy: 0.8350\n",
            "Epoch 8/10\n",
            "17/17 [==============================] - 8s 471ms/step - loss: 0.0272 - accuracy: 0.9919 - val_loss: 0.7672 - val_accuracy: 0.8383\n",
            "Epoch 9/10\n",
            "17/17 [==============================] - 8s 483ms/step - loss: 0.0306 - accuracy: 0.9933 - val_loss: 0.7562 - val_accuracy: 0.8350\n",
            "Epoch 10/10\n",
            "17/17 [==============================] - 8s 470ms/step - loss: 0.0308 - accuracy: 0.9929 - val_loss: 0.7937 - val_accuracy: 0.8383\n",
            "10/10 [==============================] - 0s 40ms/step - loss: 0.8052 - accuracy: 0.8267\n",
            "              precision    recall  f1-score   support\n",
            "\n",
            "           0       0.80      0.88      0.84       151\n",
            "           1       0.86      0.77      0.82       149\n",
            "\n",
            "    accuracy                           0.83       300\n",
            "   macro avg       0.83      0.83      0.83       300\n",
            "weighted avg       0.83      0.83      0.83       300\n",
            "\n"
          ],
          "name": "stdout"
        },
        {
          "output_type": "stream",
          "text": [
            "WARNING:absl:Found untraced functions such as gru_cell_88_layer_call_and_return_conditional_losses, gru_cell_88_layer_call_fn, gru_cell_89_layer_call_and_return_conditional_losses, gru_cell_89_layer_call_fn, gru_cell_88_layer_call_fn while saving (showing 5 of 10). These functions will not be directly callable after loading.\n"
          ],
          "name": "stderr"
        },
        {
          "output_type": "stream",
          "text": [
            "INFO:tensorflow:Assets written to: drive/MyDrive/ml_project/SLS/models/SLS_BiGRUAtt_HP_complete/32_0.6_adam/assets\n"
          ],
          "name": "stdout"
        },
        {
          "output_type": "stream",
          "text": [
            "INFO:tensorflow:Assets written to: drive/MyDrive/ml_project/SLS/models/SLS_BiGRUAtt_HP_complete/32_0.6_adam/assets\n"
          ],
          "name": "stderr"
        },
        {
          "output_type": "stream",
          "text": [
            "esecuzione:  29\n",
            "{'dropout': 0.6, 'num_units': 32, 'optimizer': 'rmsprop'}\n",
            "Epoch 1/10\n",
            "17/17 [==============================] - 14s 588ms/step - loss: 0.6791 - accuracy: 0.5652 - val_loss: 0.6524 - val_accuracy: 0.5950\n",
            "Epoch 2/10\n",
            "17/17 [==============================] - 8s 478ms/step - loss: 0.4807 - accuracy: 0.8981 - val_loss: 0.4425 - val_accuracy: 0.8383\n",
            "Epoch 3/10\n",
            "17/17 [==============================] - 8s 481ms/step - loss: 0.1775 - accuracy: 0.9762 - val_loss: 0.4581 - val_accuracy: 0.8150\n",
            "Epoch 4/10\n",
            "17/17 [==============================] - 8s 480ms/step - loss: 0.0539 - accuracy: 0.9857 - val_loss: 0.6690 - val_accuracy: 0.8167\n",
            "Epoch 5/10\n",
            "17/17 [==============================] - 8s 478ms/step - loss: 0.0458 - accuracy: 0.9848 - val_loss: 0.5584 - val_accuracy: 0.8383\n",
            "Epoch 6/10\n",
            "17/17 [==============================] - 8s 474ms/step - loss: 0.0376 - accuracy: 0.9867 - val_loss: 0.5936 - val_accuracy: 0.8367\n",
            "Epoch 7/10\n",
            "17/17 [==============================] - 8s 465ms/step - loss: 0.0383 - accuracy: 0.9900 - val_loss: 0.7796 - val_accuracy: 0.8367\n",
            "Epoch 8/10\n",
            "17/17 [==============================] - 8s 479ms/step - loss: 0.0276 - accuracy: 0.9919 - val_loss: 0.7666 - val_accuracy: 0.8400\n",
            "Epoch 9/10\n",
            "17/17 [==============================] - 8s 479ms/step - loss: 0.0323 - accuracy: 0.9895 - val_loss: 0.6669 - val_accuracy: 0.8317\n",
            "Epoch 10/10\n",
            "17/17 [==============================] - 8s 468ms/step - loss: 0.0327 - accuracy: 0.9910 - val_loss: 0.7372 - val_accuracy: 0.8317\n",
            "10/10 [==============================] - 0s 43ms/step - loss: 0.7932 - accuracy: 0.8167\n",
            "              precision    recall  f1-score   support\n",
            "\n",
            "           0       0.81      0.83      0.82       151\n",
            "           1       0.83      0.80      0.81       149\n",
            "\n",
            "    accuracy                           0.82       300\n",
            "   macro avg       0.82      0.82      0.82       300\n",
            "weighted avg       0.82      0.82      0.82       300\n",
            "\n"
          ],
          "name": "stdout"
        },
        {
          "output_type": "stream",
          "text": [
            "WARNING:absl:Found untraced functions such as gru_cell_91_layer_call_and_return_conditional_losses, gru_cell_91_layer_call_fn, gru_cell_92_layer_call_and_return_conditional_losses, gru_cell_92_layer_call_fn, gru_cell_91_layer_call_fn while saving (showing 5 of 10). These functions will not be directly callable after loading.\n"
          ],
          "name": "stderr"
        },
        {
          "output_type": "stream",
          "text": [
            "INFO:tensorflow:Assets written to: drive/MyDrive/ml_project/SLS/models/SLS_BiGRUAtt_HP_complete/32_0.6_rmsprop/assets\n"
          ],
          "name": "stdout"
        },
        {
          "output_type": "stream",
          "text": [
            "INFO:tensorflow:Assets written to: drive/MyDrive/ml_project/SLS/models/SLS_BiGRUAtt_HP_complete/32_0.6_rmsprop/assets\n"
          ],
          "name": "stderr"
        },
        {
          "output_type": "stream",
          "text": [
            "esecuzione:  30\n",
            "{'dropout': 0.7, 'num_units': 32, 'optimizer': 'adam'}\n",
            "Epoch 1/10\n",
            "17/17 [==============================] - 14s 578ms/step - loss: 0.6934 - accuracy: 0.5310 - val_loss: 0.6882 - val_accuracy: 0.5533\n",
            "Epoch 2/10\n",
            "17/17 [==============================] - 8s 475ms/step - loss: 0.6744 - accuracy: 0.7281 - val_loss: 0.6568 - val_accuracy: 0.6783\n",
            "Epoch 3/10\n",
            "17/17 [==============================] - 8s 476ms/step - loss: 0.5655 - accuracy: 0.7562 - val_loss: 0.5650 - val_accuracy: 0.6750\n",
            "Epoch 4/10\n",
            "17/17 [==============================] - 8s 471ms/step - loss: 0.2965 - accuracy: 0.9038 - val_loss: 0.4767 - val_accuracy: 0.8017\n",
            "Epoch 5/10\n",
            "17/17 [==============================] - 8s 479ms/step - loss: 0.0966 - accuracy: 0.9738 - val_loss: 0.9065 - val_accuracy: 0.8317\n",
            "Epoch 6/10\n",
            "17/17 [==============================] - 8s 469ms/step - loss: 0.0727 - accuracy: 0.9771 - val_loss: 0.6129 - val_accuracy: 0.8350\n",
            "Epoch 7/10\n",
            "17/17 [==============================] - 8s 478ms/step - loss: 0.0461 - accuracy: 0.9881 - val_loss: 0.6691 - val_accuracy: 0.8433\n",
            "Epoch 8/10\n",
            "17/17 [==============================] - 8s 478ms/step - loss: 0.0409 - accuracy: 0.9871 - val_loss: 0.7442 - val_accuracy: 0.8417\n",
            "Epoch 9/10\n",
            "17/17 [==============================] - 8s 477ms/step - loss: 0.0328 - accuracy: 0.9895 - val_loss: 0.8351 - val_accuracy: 0.8383\n",
            "Epoch 10/10\n",
            "17/17 [==============================] - 8s 477ms/step - loss: 0.0405 - accuracy: 0.9871 - val_loss: 0.7545 - val_accuracy: 0.8367\n",
            "10/10 [==============================] - 0s 41ms/step - loss: 0.7335 - accuracy: 0.8233\n",
            "              precision    recall  f1-score   support\n",
            "\n",
            "           0       0.78      0.90      0.84       151\n",
            "           1       0.88      0.74      0.81       149\n",
            "\n",
            "    accuracy                           0.82       300\n",
            "   macro avg       0.83      0.82      0.82       300\n",
            "weighted avg       0.83      0.82      0.82       300\n",
            "\n"
          ],
          "name": "stdout"
        },
        {
          "output_type": "stream",
          "text": [
            "WARNING:absl:Found untraced functions such as gru_cell_94_layer_call_and_return_conditional_losses, gru_cell_94_layer_call_fn, gru_cell_95_layer_call_and_return_conditional_losses, gru_cell_95_layer_call_fn, gru_cell_94_layer_call_fn while saving (showing 5 of 10). These functions will not be directly callable after loading.\n"
          ],
          "name": "stderr"
        },
        {
          "output_type": "stream",
          "text": [
            "INFO:tensorflow:Assets written to: drive/MyDrive/ml_project/SLS/models/SLS_BiGRUAtt_HP_complete/32_0.7_adam/assets\n"
          ],
          "name": "stdout"
        },
        {
          "output_type": "stream",
          "text": [
            "INFO:tensorflow:Assets written to: drive/MyDrive/ml_project/SLS/models/SLS_BiGRUAtt_HP_complete/32_0.7_adam/assets\n"
          ],
          "name": "stderr"
        },
        {
          "output_type": "stream",
          "text": [
            "esecuzione:  31\n",
            "{'dropout': 0.7, 'num_units': 32, 'optimizer': 'rmsprop'}\n",
            "Epoch 1/10\n",
            "17/17 [==============================] - 14s 593ms/step - loss: 0.6902 - accuracy: 0.5476 - val_loss: 0.6775 - val_accuracy: 0.6983\n",
            "Epoch 2/10\n",
            "17/17 [==============================] - 8s 469ms/step - loss: 0.5944 - accuracy: 0.7833 - val_loss: 0.5863 - val_accuracy: 0.6783\n",
            "Epoch 3/10\n",
            "17/17 [==============================] - 8s 470ms/step - loss: 0.3627 - accuracy: 0.8510 - val_loss: 0.5484 - val_accuracy: 0.7650\n",
            "Epoch 4/10\n",
            "17/17 [==============================] - 8s 483ms/step - loss: 0.1716 - accuracy: 0.9424 - val_loss: 0.6362 - val_accuracy: 0.7967\n",
            "Epoch 5/10\n",
            "17/17 [==============================] - 8s 472ms/step - loss: 0.1166 - accuracy: 0.9543 - val_loss: 0.7083 - val_accuracy: 0.8083\n",
            "Epoch 6/10\n",
            "17/17 [==============================] - 8s 484ms/step - loss: 0.0916 - accuracy: 0.9652 - val_loss: 0.6885 - val_accuracy: 0.8067\n",
            "Epoch 7/10\n",
            "17/17 [==============================] - 8s 479ms/step - loss: 0.0879 - accuracy: 0.9719 - val_loss: 0.6573 - val_accuracy: 0.8167\n",
            "Epoch 8/10\n",
            "17/17 [==============================] - 8s 480ms/step - loss: 0.0864 - accuracy: 0.9714 - val_loss: 0.6986 - val_accuracy: 0.8200\n",
            "Epoch 9/10\n",
            "17/17 [==============================] - 8s 482ms/step - loss: 0.0875 - accuracy: 0.9700 - val_loss: 0.7240 - val_accuracy: 0.8250\n",
            "Epoch 10/10\n",
            "17/17 [==============================] - 8s 464ms/step - loss: 0.0680 - accuracy: 0.9790 - val_loss: 0.6867 - val_accuracy: 0.8300\n",
            "10/10 [==============================] - 0s 43ms/step - loss: 0.6163 - accuracy: 0.8367\n",
            "              precision    recall  f1-score   support\n",
            "\n",
            "           0       0.81      0.88      0.84       151\n",
            "           1       0.87      0.79      0.83       149\n",
            "\n",
            "    accuracy                           0.84       300\n",
            "   macro avg       0.84      0.84      0.84       300\n",
            "weighted avg       0.84      0.84      0.84       300\n",
            "\n"
          ],
          "name": "stdout"
        },
        {
          "output_type": "stream",
          "text": [
            "WARNING:absl:Found untraced functions such as gru_cell_97_layer_call_and_return_conditional_losses, gru_cell_97_layer_call_fn, gru_cell_98_layer_call_and_return_conditional_losses, gru_cell_98_layer_call_fn, gru_cell_97_layer_call_fn while saving (showing 5 of 10). These functions will not be directly callable after loading.\n"
          ],
          "name": "stderr"
        },
        {
          "output_type": "stream",
          "text": [
            "INFO:tensorflow:Assets written to: drive/MyDrive/ml_project/SLS/models/SLS_BiGRUAtt_HP_complete/32_0.7_rmsprop/assets\n"
          ],
          "name": "stdout"
        },
        {
          "output_type": "stream",
          "text": [
            "INFO:tensorflow:Assets written to: drive/MyDrive/ml_project/SLS/models/SLS_BiGRUAtt_HP_complete/32_0.7_rmsprop/assets\n"
          ],
          "name": "stderr"
        },
        {
          "output_type": "stream",
          "text": [
            "esecuzione:  32\n",
            "{'dropout': 0.8, 'num_units': 32, 'optimizer': 'adam'}\n",
            "Epoch 1/10\n",
            "17/17 [==============================] - 15s 652ms/step - loss: 0.6824 - accuracy: 0.6243 - val_loss: 0.6699 - val_accuracy: 0.6483\n",
            "Epoch 2/10\n",
            "17/17 [==============================] - 8s 470ms/step - loss: 0.6269 - accuracy: 0.7367 - val_loss: 0.6080 - val_accuracy: 0.6417\n",
            "Epoch 3/10\n",
            "17/17 [==============================] - 8s 474ms/step - loss: 0.4620 - accuracy: 0.8233 - val_loss: 0.5220 - val_accuracy: 0.7583\n",
            "Epoch 4/10\n",
            "17/17 [==============================] - 8s 482ms/step - loss: 0.2575 - accuracy: 0.9195 - val_loss: 0.5072 - val_accuracy: 0.8167\n",
            "Epoch 5/10\n",
            "17/17 [==============================] - 8s 469ms/step - loss: 0.1009 - accuracy: 0.9681 - val_loss: 1.0566 - val_accuracy: 0.8233\n",
            "Epoch 6/10\n",
            "17/17 [==============================] - 8s 473ms/step - loss: 0.0783 - accuracy: 0.9752 - val_loss: 0.6501 - val_accuracy: 0.8333\n",
            "Epoch 7/10\n",
            "17/17 [==============================] - 8s 469ms/step - loss: 0.0551 - accuracy: 0.9819 - val_loss: 0.6762 - val_accuracy: 0.8367\n",
            "Epoch 8/10\n",
            "17/17 [==============================] - 8s 465ms/step - loss: 0.0539 - accuracy: 0.9810 - val_loss: 0.7003 - val_accuracy: 0.8333\n",
            "Epoch 9/10\n",
            "17/17 [==============================] - 8s 468ms/step - loss: 0.0472 - accuracy: 0.9852 - val_loss: 0.7379 - val_accuracy: 0.8350\n",
            "Epoch 10/10\n",
            "17/17 [==============================] - 8s 462ms/step - loss: 0.0424 - accuracy: 0.9867 - val_loss: 0.7161 - val_accuracy: 0.8367\n",
            "10/10 [==============================] - 0s 42ms/step - loss: 0.7811 - accuracy: 0.8200\n",
            "              precision    recall  f1-score   support\n",
            "\n",
            "           0       0.79      0.87      0.83       151\n",
            "           1       0.86      0.77      0.81       149\n",
            "\n",
            "    accuracy                           0.82       300\n",
            "   macro avg       0.82      0.82      0.82       300\n",
            "weighted avg       0.82      0.82      0.82       300\n",
            "\n"
          ],
          "name": "stdout"
        },
        {
          "output_type": "stream",
          "text": [
            "WARNING:absl:Found untraced functions such as gru_cell_100_layer_call_and_return_conditional_losses, gru_cell_100_layer_call_fn, gru_cell_101_layer_call_and_return_conditional_losses, gru_cell_101_layer_call_fn, gru_cell_100_layer_call_fn while saving (showing 5 of 10). These functions will not be directly callable after loading.\n"
          ],
          "name": "stderr"
        },
        {
          "output_type": "stream",
          "text": [
            "INFO:tensorflow:Assets written to: drive/MyDrive/ml_project/SLS/models/SLS_BiGRUAtt_HP_complete/32_0.8_adam/assets\n"
          ],
          "name": "stdout"
        },
        {
          "output_type": "stream",
          "text": [
            "INFO:tensorflow:Assets written to: drive/MyDrive/ml_project/SLS/models/SLS_BiGRUAtt_HP_complete/32_0.8_adam/assets\n"
          ],
          "name": "stderr"
        },
        {
          "output_type": "stream",
          "text": [
            "esecuzione:  33\n",
            "{'dropout': 0.8, 'num_units': 32, 'optimizer': 'rmsprop'}\n",
            "Epoch 1/10\n",
            "17/17 [==============================] - 14s 587ms/step - loss: 0.6899 - accuracy: 0.5271 - val_loss: 0.6787 - val_accuracy: 0.5267\n",
            "Epoch 2/10\n",
            "17/17 [==============================] - 8s 466ms/step - loss: 0.6370 - accuracy: 0.7157 - val_loss: 0.5702 - val_accuracy: 0.7367\n",
            "Epoch 3/10\n",
            "17/17 [==============================] - 8s 468ms/step - loss: 0.3974 - accuracy: 0.9267 - val_loss: 0.5044 - val_accuracy: 0.7450\n",
            "Epoch 4/10\n",
            "17/17 [==============================] - 8s 472ms/step - loss: 0.2259 - accuracy: 0.9557 - val_loss: 0.5040 - val_accuracy: 0.7983\n",
            "Epoch 5/10\n",
            "17/17 [==============================] - 8s 466ms/step - loss: 0.1386 - accuracy: 0.9719 - val_loss: 0.5030 - val_accuracy: 0.8067\n",
            "Epoch 6/10\n",
            "17/17 [==============================] - 8s 462ms/step - loss: 0.0943 - accuracy: 0.9767 - val_loss: 0.6026 - val_accuracy: 0.8250\n",
            "Epoch 7/10\n",
            "17/17 [==============================] - 8s 463ms/step - loss: 0.0622 - accuracy: 0.9848 - val_loss: 0.7053 - val_accuracy: 0.8200\n",
            "Epoch 8/10\n",
            "17/17 [==============================] - 8s 471ms/step - loss: 0.0573 - accuracy: 0.9819 - val_loss: 0.7814 - val_accuracy: 0.8300\n",
            "Epoch 9/10\n",
            "17/17 [==============================] - 8s 466ms/step - loss: 0.0524 - accuracy: 0.9857 - val_loss: 0.7722 - val_accuracy: 0.8250\n",
            "Epoch 10/10\n",
            "17/17 [==============================] - 8s 468ms/step - loss: 0.0497 - accuracy: 0.9848 - val_loss: 0.8375 - val_accuracy: 0.8317\n",
            "10/10 [==============================] - 0s 42ms/step - loss: 0.8737 - accuracy: 0.8233\n",
            "              precision    recall  f1-score   support\n",
            "\n",
            "           0       0.80      0.87      0.83       151\n",
            "           1       0.86      0.77      0.81       149\n",
            "\n",
            "    accuracy                           0.82       300\n",
            "   macro avg       0.83      0.82      0.82       300\n",
            "weighted avg       0.83      0.82      0.82       300\n",
            "\n"
          ],
          "name": "stdout"
        },
        {
          "output_type": "stream",
          "text": [
            "WARNING:absl:Found untraced functions such as gru_cell_103_layer_call_and_return_conditional_losses, gru_cell_103_layer_call_fn, gru_cell_104_layer_call_and_return_conditional_losses, gru_cell_104_layer_call_fn, gru_cell_103_layer_call_fn while saving (showing 5 of 10). These functions will not be directly callable after loading.\n"
          ],
          "name": "stderr"
        },
        {
          "output_type": "stream",
          "text": [
            "INFO:tensorflow:Assets written to: drive/MyDrive/ml_project/SLS/models/SLS_BiGRUAtt_HP_complete/32_0.8_rmsprop/assets\n"
          ],
          "name": "stdout"
        },
        {
          "output_type": "stream",
          "text": [
            "INFO:tensorflow:Assets written to: drive/MyDrive/ml_project/SLS/models/SLS_BiGRUAtt_HP_complete/32_0.8_rmsprop/assets\n"
          ],
          "name": "stderr"
        },
        {
          "output_type": "stream",
          "text": [
            "esecuzione:  34\n",
            "{'dropout': 0.9, 'num_units': 32, 'optimizer': 'adam'}\n",
            "Epoch 1/10\n",
            "17/17 [==============================] - 13s 573ms/step - loss: 0.6952 - accuracy: 0.4943 - val_loss: 0.6947 - val_accuracy: 0.4833\n",
            "Epoch 2/10\n",
            "17/17 [==============================] - 8s 470ms/step - loss: 0.6880 - accuracy: 0.5748 - val_loss: 0.6810 - val_accuracy: 0.5350\n",
            "Epoch 3/10\n",
            "17/17 [==============================] - 8s 474ms/step - loss: 0.6747 - accuracy: 0.6505 - val_loss: 0.6435 - val_accuracy: 0.6850\n",
            "Epoch 4/10\n",
            "17/17 [==============================] - 8s 478ms/step - loss: 0.6038 - accuracy: 0.7276 - val_loss: 0.5871 - val_accuracy: 0.6817\n",
            "Epoch 5/10\n",
            "17/17 [==============================] - 8s 461ms/step - loss: 0.4152 - accuracy: 0.8133 - val_loss: 0.6326 - val_accuracy: 0.7733\n",
            "Epoch 6/10\n",
            "17/17 [==============================] - 8s 465ms/step - loss: 0.2650 - accuracy: 0.8881 - val_loss: 0.7421 - val_accuracy: 0.7883\n",
            "Epoch 7/10\n",
            "17/17 [==============================] - 8s 477ms/step - loss: 0.2247 - accuracy: 0.9157 - val_loss: 0.7755 - val_accuracy: 0.7917\n",
            "Epoch 8/10\n",
            "17/17 [==============================] - 8s 467ms/step - loss: 0.1874 - accuracy: 0.9276 - val_loss: 0.7249 - val_accuracy: 0.7983\n",
            "Epoch 9/10\n",
            "17/17 [==============================] - 8s 473ms/step - loss: 0.1942 - accuracy: 0.9329 - val_loss: 0.6660 - val_accuracy: 0.8067\n",
            "Epoch 10/10\n",
            "17/17 [==============================] - 8s 468ms/step - loss: 0.1622 - accuracy: 0.9443 - val_loss: 0.7094 - val_accuracy: 0.8117\n",
            "10/10 [==============================] - 0s 40ms/step - loss: 0.6493 - accuracy: 0.8200\n",
            "              precision    recall  f1-score   support\n",
            "\n",
            "           0       0.82      0.82      0.82       151\n",
            "           1       0.82      0.82      0.82       149\n",
            "\n",
            "    accuracy                           0.82       300\n",
            "   macro avg       0.82      0.82      0.82       300\n",
            "weighted avg       0.82      0.82      0.82       300\n",
            "\n"
          ],
          "name": "stdout"
        },
        {
          "output_type": "stream",
          "text": [
            "WARNING:absl:Found untraced functions such as gru_cell_106_layer_call_and_return_conditional_losses, gru_cell_106_layer_call_fn, gru_cell_107_layer_call_and_return_conditional_losses, gru_cell_107_layer_call_fn, gru_cell_106_layer_call_fn while saving (showing 5 of 10). These functions will not be directly callable after loading.\n"
          ],
          "name": "stderr"
        },
        {
          "output_type": "stream",
          "text": [
            "INFO:tensorflow:Assets written to: drive/MyDrive/ml_project/SLS/models/SLS_BiGRUAtt_HP_complete/32_0.9_adam/assets\n"
          ],
          "name": "stdout"
        },
        {
          "output_type": "stream",
          "text": [
            "INFO:tensorflow:Assets written to: drive/MyDrive/ml_project/SLS/models/SLS_BiGRUAtt_HP_complete/32_0.9_adam/assets\n"
          ],
          "name": "stderr"
        },
        {
          "output_type": "stream",
          "text": [
            "esecuzione:  35\n",
            "{'dropout': 0.9, 'num_units': 32, 'optimizer': 'rmsprop'}\n",
            "Epoch 1/10\n",
            "17/17 [==============================] - 15s 594ms/step - loss: 0.6909 - accuracy: 0.5295 - val_loss: 0.6799 - val_accuracy: 0.5567\n",
            "Epoch 2/10\n",
            "17/17 [==============================] - 8s 475ms/step - loss: 0.6634 - accuracy: 0.6505 - val_loss: 0.6024 - val_accuracy: 0.8133\n",
            "Epoch 3/10\n",
            "17/17 [==============================] - 8s 471ms/step - loss: 0.5187 - accuracy: 0.8529 - val_loss: 0.4703 - val_accuracy: 0.8150\n",
            "Epoch 4/10\n",
            "17/17 [==============================] - 8s 463ms/step - loss: 0.3486 - accuracy: 0.9171 - val_loss: 0.4410 - val_accuracy: 0.8150\n",
            "Epoch 5/10\n",
            "17/17 [==============================] - 8s 472ms/step - loss: 0.2319 - accuracy: 0.9310 - val_loss: 0.4737 - val_accuracy: 0.8150\n",
            "Epoch 6/10\n",
            "17/17 [==============================] - 8s 476ms/step - loss: 0.1738 - accuracy: 0.9562 - val_loss: 0.5407 - val_accuracy: 0.8200\n",
            "Epoch 7/10\n",
            "17/17 [==============================] - 8s 477ms/step - loss: 0.1320 - accuracy: 0.9590 - val_loss: 0.6056 - val_accuracy: 0.8133\n",
            "Epoch 8/10\n",
            "17/17 [==============================] - 8s 474ms/step - loss: 0.1106 - accuracy: 0.9619 - val_loss: 0.6815 - val_accuracy: 0.8167\n",
            "Epoch 9/10\n",
            "17/17 [==============================] - 8s 479ms/step - loss: 0.1057 - accuracy: 0.9595 - val_loss: 0.7439 - val_accuracy: 0.8133\n",
            "Epoch 10/10\n",
            "17/17 [==============================] - 8s 460ms/step - loss: 0.0913 - accuracy: 0.9690 - val_loss: 0.8179 - val_accuracy: 0.8200\n",
            "10/10 [==============================] - 0s 44ms/step - loss: 0.8669 - accuracy: 0.8300\n",
            "              precision    recall  f1-score   support\n",
            "\n",
            "           0       0.80      0.88      0.84       151\n",
            "           1       0.87      0.78      0.82       149\n",
            "\n",
            "    accuracy                           0.83       300\n",
            "   macro avg       0.83      0.83      0.83       300\n",
            "weighted avg       0.83      0.83      0.83       300\n",
            "\n"
          ],
          "name": "stdout"
        },
        {
          "output_type": "stream",
          "text": [
            "WARNING:absl:Found untraced functions such as gru_cell_109_layer_call_and_return_conditional_losses, gru_cell_109_layer_call_fn, gru_cell_110_layer_call_and_return_conditional_losses, gru_cell_110_layer_call_fn, gru_cell_109_layer_call_fn while saving (showing 5 of 10). These functions will not be directly callable after loading.\n"
          ],
          "name": "stderr"
        },
        {
          "output_type": "stream",
          "text": [
            "INFO:tensorflow:Assets written to: drive/MyDrive/ml_project/SLS/models/SLS_BiGRUAtt_HP_complete/32_0.9_rmsprop/assets\n"
          ],
          "name": "stdout"
        },
        {
          "output_type": "stream",
          "text": [
            "INFO:tensorflow:Assets written to: drive/MyDrive/ml_project/SLS/models/SLS_BiGRUAtt_HP_complete/32_0.9_rmsprop/assets\n"
          ],
          "name": "stderr"
        },
        {
          "output_type": "stream",
          "text": [
            "esecuzione:  36\n",
            "{'dropout': 0.1, 'num_units': 64, 'optimizer': 'adam'}\n",
            "Epoch 1/10\n",
            "17/17 [==============================] - 18s 863ms/step - loss: 0.6750 - accuracy: 0.5724 - val_loss: 0.6467 - val_accuracy: 0.8167\n",
            "Epoch 2/10\n",
            "17/17 [==============================] - 13s 757ms/step - loss: 0.3657 - accuracy: 0.9438 - val_loss: 0.4315 - val_accuracy: 0.8250\n",
            "Epoch 3/10\n",
            "17/17 [==============================] - 12s 723ms/step - loss: 0.0460 - accuracy: 0.9943 - val_loss: 0.8933 - val_accuracy: 0.8317\n",
            "Epoch 4/10\n",
            "17/17 [==============================] - 13s 750ms/step - loss: 0.0320 - accuracy: 0.9919 - val_loss: 0.8973 - val_accuracy: 0.8267\n",
            "Epoch 5/10\n",
            "17/17 [==============================] - 13s 752ms/step - loss: 0.0211 - accuracy: 0.9957 - val_loss: 0.7896 - val_accuracy: 0.8300\n",
            "Epoch 6/10\n",
            "17/17 [==============================] - 12s 726ms/step - loss: 0.0238 - accuracy: 0.9933 - val_loss: 0.7380 - val_accuracy: 0.8267\n",
            "Epoch 7/10\n",
            "17/17 [==============================] - 12s 727ms/step - loss: 0.0185 - accuracy: 0.9943 - val_loss: 0.7383 - val_accuracy: 0.8383\n",
            "Epoch 8/10\n",
            "17/17 [==============================] - 13s 753ms/step - loss: 0.0184 - accuracy: 0.9957 - val_loss: 0.8055 - val_accuracy: 0.8367\n",
            "Epoch 9/10\n",
            "17/17 [==============================] - 13s 755ms/step - loss: 0.0155 - accuracy: 0.9957 - val_loss: 0.8413 - val_accuracy: 0.8083\n",
            "Epoch 10/10\n",
            "17/17 [==============================] - 12s 727ms/step - loss: 0.0163 - accuracy: 0.9957 - val_loss: 0.8203 - val_accuracy: 0.8367\n",
            "10/10 [==============================] - 1s 64ms/step - loss: 0.7775 - accuracy: 0.8433\n",
            "              precision    recall  f1-score   support\n",
            "\n",
            "           0       0.82      0.87      0.85       151\n",
            "           1       0.86      0.81      0.84       149\n",
            "\n",
            "    accuracy                           0.84       300\n",
            "   macro avg       0.84      0.84      0.84       300\n",
            "weighted avg       0.84      0.84      0.84       300\n",
            "\n"
          ],
          "name": "stdout"
        },
        {
          "output_type": "stream",
          "text": [
            "WARNING:absl:Found untraced functions such as gru_cell_112_layer_call_and_return_conditional_losses, gru_cell_112_layer_call_fn, gru_cell_113_layer_call_and_return_conditional_losses, gru_cell_113_layer_call_fn, gru_cell_112_layer_call_fn while saving (showing 5 of 10). These functions will not be directly callable after loading.\n"
          ],
          "name": "stderr"
        },
        {
          "output_type": "stream",
          "text": [
            "INFO:tensorflow:Assets written to: drive/MyDrive/ml_project/SLS/models/SLS_BiGRUAtt_HP_complete/64_0.1_adam/assets\n"
          ],
          "name": "stdout"
        },
        {
          "output_type": "stream",
          "text": [
            "INFO:tensorflow:Assets written to: drive/MyDrive/ml_project/SLS/models/SLS_BiGRUAtt_HP_complete/64_0.1_adam/assets\n"
          ],
          "name": "stderr"
        },
        {
          "output_type": "stream",
          "text": [
            "esecuzione:  37\n",
            "{'dropout': 0.1, 'num_units': 64, 'optimizer': 'rmsprop'}\n",
            "Epoch 1/10\n",
            "17/17 [==============================] - 19s 879ms/step - loss: 0.4871 - accuracy: 0.7705 - val_loss: 0.4645 - val_accuracy: 0.8033\n",
            "Epoch 2/10\n",
            "17/17 [==============================] - 13s 753ms/step - loss: 0.0615 - accuracy: 0.9890 - val_loss: 0.7698 - val_accuracy: 0.8150\n",
            "Epoch 3/10\n",
            "17/17 [==============================] - 12s 729ms/step - loss: 0.0296 - accuracy: 0.9924 - val_loss: 0.6003 - val_accuracy: 0.8383\n",
            "Epoch 4/10\n",
            "17/17 [==============================] - 12s 735ms/step - loss: 0.0230 - accuracy: 0.9948 - val_loss: 0.8219 - val_accuracy: 0.8283\n",
            "Epoch 5/10\n",
            "17/17 [==============================] - 12s 731ms/step - loss: 0.0236 - accuracy: 0.9938 - val_loss: 0.7464 - val_accuracy: 0.8250\n",
            "Epoch 6/10\n",
            "17/17 [==============================] - 13s 769ms/step - loss: 0.0218 - accuracy: 0.9948 - val_loss: 0.7916 - val_accuracy: 0.8400\n",
            "Epoch 7/10\n",
            "17/17 [==============================] - 12s 731ms/step - loss: 0.0164 - accuracy: 0.9952 - val_loss: 0.7880 - val_accuracy: 0.8183\n",
            "Epoch 8/10\n",
            "17/17 [==============================] - 13s 771ms/step - loss: 0.0166 - accuracy: 0.9957 - val_loss: 0.9777 - val_accuracy: 0.8350\n",
            "Epoch 9/10\n",
            "17/17 [==============================] - 13s 761ms/step - loss: 0.0154 - accuracy: 0.9962 - val_loss: 0.8578 - val_accuracy: 0.8283\n",
            "Epoch 10/10\n",
            "17/17 [==============================] - 12s 733ms/step - loss: 0.0179 - accuracy: 0.9952 - val_loss: 0.9157 - val_accuracy: 0.8300\n",
            "10/10 [==============================] - 1s 63ms/step - loss: 0.9799 - accuracy: 0.8200\n",
            "              precision    recall  f1-score   support\n",
            "\n",
            "           0       0.79      0.87      0.83       151\n",
            "           1       0.85      0.77      0.81       149\n",
            "\n",
            "    accuracy                           0.82       300\n",
            "   macro avg       0.82      0.82      0.82       300\n",
            "weighted avg       0.82      0.82      0.82       300\n",
            "\n"
          ],
          "name": "stdout"
        },
        {
          "output_type": "stream",
          "text": [
            "WARNING:absl:Found untraced functions such as gru_cell_115_layer_call_and_return_conditional_losses, gru_cell_115_layer_call_fn, gru_cell_116_layer_call_and_return_conditional_losses, gru_cell_116_layer_call_fn, gru_cell_115_layer_call_fn while saving (showing 5 of 10). These functions will not be directly callable after loading.\n"
          ],
          "name": "stderr"
        },
        {
          "output_type": "stream",
          "text": [
            "INFO:tensorflow:Assets written to: drive/MyDrive/ml_project/SLS/models/SLS_BiGRUAtt_HP_complete/64_0.1_rmsprop/assets\n"
          ],
          "name": "stdout"
        },
        {
          "output_type": "stream",
          "text": [
            "INFO:tensorflow:Assets written to: drive/MyDrive/ml_project/SLS/models/SLS_BiGRUAtt_HP_complete/64_0.1_rmsprop/assets\n"
          ],
          "name": "stderr"
        },
        {
          "output_type": "stream",
          "text": [
            "esecuzione:  38\n",
            "{'dropout': 0.2, 'num_units': 64, 'optimizer': 'adam'}\n",
            "Epoch 1/10\n",
            "17/17 [==============================] - 20s 883ms/step - loss: 0.6373 - accuracy: 0.6905 - val_loss: 0.5758 - val_accuracy: 0.7333\n",
            "Epoch 2/10\n",
            "17/17 [==============================] - 13s 757ms/step - loss: 0.2192 - accuracy: 0.9676 - val_loss: 0.5203 - val_accuracy: 0.8233\n",
            "Epoch 3/10\n",
            "17/17 [==============================] - 13s 751ms/step - loss: 0.0332 - accuracy: 0.9890 - val_loss: 0.7980 - val_accuracy: 0.8300\n",
            "Epoch 4/10\n",
            "17/17 [==============================] - 13s 756ms/step - loss: 0.0237 - accuracy: 0.9924 - val_loss: 0.8084 - val_accuracy: 0.8267\n",
            "Epoch 5/10\n",
            "17/17 [==============================] - 13s 750ms/step - loss: 0.0188 - accuracy: 0.9957 - val_loss: 0.7222 - val_accuracy: 0.8200\n",
            "Epoch 6/10\n",
            "17/17 [==============================] - 12s 724ms/step - loss: 0.0193 - accuracy: 0.9943 - val_loss: 0.7452 - val_accuracy: 0.8200\n",
            "Epoch 7/10\n",
            "17/17 [==============================] - 12s 726ms/step - loss: 0.0150 - accuracy: 0.9952 - val_loss: 0.7941 - val_accuracy: 0.8217\n",
            "Epoch 8/10\n",
            "17/17 [==============================] - 13s 754ms/step - loss: 0.0164 - accuracy: 0.9952 - val_loss: 0.8655 - val_accuracy: 0.8417\n",
            "Epoch 9/10\n",
            "17/17 [==============================] - 13s 748ms/step - loss: 0.0174 - accuracy: 0.9952 - val_loss: 0.8135 - val_accuracy: 0.8267\n",
            "Epoch 10/10\n",
            "17/17 [==============================] - 13s 753ms/step - loss: 0.0147 - accuracy: 0.9957 - val_loss: 0.8367 - val_accuracy: 0.8250\n",
            "10/10 [==============================] - 1s 62ms/step - loss: 0.7762 - accuracy: 0.8233\n",
            "              precision    recall  f1-score   support\n",
            "\n",
            "           0       0.82      0.83      0.83       151\n",
            "           1       0.83      0.81      0.82       149\n",
            "\n",
            "    accuracy                           0.82       300\n",
            "   macro avg       0.82      0.82      0.82       300\n",
            "weighted avg       0.82      0.82      0.82       300\n",
            "\n"
          ],
          "name": "stdout"
        },
        {
          "output_type": "stream",
          "text": [
            "WARNING:absl:Found untraced functions such as gru_cell_118_layer_call_and_return_conditional_losses, gru_cell_118_layer_call_fn, gru_cell_119_layer_call_and_return_conditional_losses, gru_cell_119_layer_call_fn, gru_cell_118_layer_call_fn while saving (showing 5 of 10). These functions will not be directly callable after loading.\n"
          ],
          "name": "stderr"
        },
        {
          "output_type": "stream",
          "text": [
            "INFO:tensorflow:Assets written to: drive/MyDrive/ml_project/SLS/models/SLS_BiGRUAtt_HP_complete/64_0.2_adam/assets\n"
          ],
          "name": "stdout"
        },
        {
          "output_type": "stream",
          "text": [
            "INFO:tensorflow:Assets written to: drive/MyDrive/ml_project/SLS/models/SLS_BiGRUAtt_HP_complete/64_0.2_adam/assets\n"
          ],
          "name": "stderr"
        },
        {
          "output_type": "stream",
          "text": [
            "esecuzione:  39\n",
            "{'dropout': 0.2, 'num_units': 64, 'optimizer': 'rmsprop'}\n",
            "Epoch 1/10\n",
            "17/17 [==============================] - 19s 859ms/step - loss: 0.4184 - accuracy: 0.8605 - val_loss: 0.4896 - val_accuracy: 0.7883\n",
            "Epoch 2/10\n",
            "17/17 [==============================] - 12s 728ms/step - loss: 0.0608 - accuracy: 0.9890 - val_loss: 0.6205 - val_accuracy: 0.8417\n",
            "Epoch 3/10\n",
            "17/17 [==============================] - 12s 725ms/step - loss: 0.0244 - accuracy: 0.9938 - val_loss: 0.8491 - val_accuracy: 0.8300\n",
            "Epoch 4/10\n",
            "17/17 [==============================] - 12s 727ms/step - loss: 0.0254 - accuracy: 0.9914 - val_loss: 0.7919 - val_accuracy: 0.8200\n",
            "Epoch 5/10\n",
            "17/17 [==============================] - 13s 761ms/step - loss: 0.0164 - accuracy: 0.9948 - val_loss: 0.8534 - val_accuracy: 0.8183\n",
            "Epoch 6/10\n",
            "17/17 [==============================] - 13s 755ms/step - loss: 0.0195 - accuracy: 0.9957 - val_loss: 0.7526 - val_accuracy: 0.8400\n",
            "Epoch 7/10\n",
            "17/17 [==============================] - 13s 753ms/step - loss: 0.0166 - accuracy: 0.9962 - val_loss: 0.9602 - val_accuracy: 0.8367\n",
            "Epoch 8/10\n",
            "17/17 [==============================] - 13s 752ms/step - loss: 0.0178 - accuracy: 0.9948 - val_loss: 0.9718 - val_accuracy: 0.8400\n",
            "Epoch 9/10\n",
            "17/17 [==============================] - 12s 730ms/step - loss: 0.0148 - accuracy: 0.9962 - val_loss: 0.9792 - val_accuracy: 0.8317\n",
            "Epoch 10/10\n",
            "17/17 [==============================] - 13s 758ms/step - loss: 0.0126 - accuracy: 0.9962 - val_loss: 1.1073 - val_accuracy: 0.8267\n",
            "10/10 [==============================] - 1s 64ms/step - loss: 1.0092 - accuracy: 0.8267\n",
            "              precision    recall  f1-score   support\n",
            "\n",
            "           0       0.85      0.80      0.82       151\n",
            "           1       0.81      0.85      0.83       149\n",
            "\n",
            "    accuracy                           0.83       300\n",
            "   macro avg       0.83      0.83      0.83       300\n",
            "weighted avg       0.83      0.83      0.83       300\n",
            "\n"
          ],
          "name": "stdout"
        },
        {
          "output_type": "stream",
          "text": [
            "WARNING:absl:Found untraced functions such as gru_cell_121_layer_call_and_return_conditional_losses, gru_cell_121_layer_call_fn, gru_cell_122_layer_call_and_return_conditional_losses, gru_cell_122_layer_call_fn, gru_cell_121_layer_call_fn while saving (showing 5 of 10). These functions will not be directly callable after loading.\n"
          ],
          "name": "stderr"
        },
        {
          "output_type": "stream",
          "text": [
            "INFO:tensorflow:Assets written to: drive/MyDrive/ml_project/SLS/models/SLS_BiGRUAtt_HP_complete/64_0.2_rmsprop/assets\n"
          ],
          "name": "stdout"
        },
        {
          "output_type": "stream",
          "text": [
            "INFO:tensorflow:Assets written to: drive/MyDrive/ml_project/SLS/models/SLS_BiGRUAtt_HP_complete/64_0.2_rmsprop/assets\n"
          ],
          "name": "stderr"
        },
        {
          "output_type": "stream",
          "text": [
            "esecuzione:  40\n",
            "{'dropout': 0.3, 'num_units': 64, 'optimizer': 'adam'}\n",
            "Epoch 1/10\n",
            "17/17 [==============================] - 19s 879ms/step - loss: 0.6716 - accuracy: 0.5700 - val_loss: 0.6510 - val_accuracy: 0.6100\n",
            "Epoch 2/10\n",
            "17/17 [==============================] - 13s 767ms/step - loss: 0.3519 - accuracy: 0.9452 - val_loss: 0.4467 - val_accuracy: 0.8150\n",
            "Epoch 3/10\n",
            "17/17 [==============================] - 13s 741ms/step - loss: 0.0417 - accuracy: 0.9924 - val_loss: 1.1795 - val_accuracy: 0.8217\n",
            "Epoch 4/10\n",
            "17/17 [==============================] - 13s 766ms/step - loss: 0.0185 - accuracy: 0.9943 - val_loss: 0.8446 - val_accuracy: 0.8233\n",
            "Epoch 5/10\n",
            "17/17 [==============================] - 13s 741ms/step - loss: 0.0173 - accuracy: 0.9948 - val_loss: 0.8561 - val_accuracy: 0.8233\n",
            "Epoch 6/10\n",
            "17/17 [==============================] - 13s 744ms/step - loss: 0.0172 - accuracy: 0.9952 - val_loss: 0.8924 - val_accuracy: 0.8333\n",
            "Epoch 7/10\n",
            "17/17 [==============================] - 13s 769ms/step - loss: 0.0144 - accuracy: 0.9967 - val_loss: 0.9067 - val_accuracy: 0.8217\n",
            "Epoch 8/10\n",
            "17/17 [==============================] - 13s 778ms/step - loss: 0.0143 - accuracy: 0.9952 - val_loss: 0.9354 - val_accuracy: 0.8183\n",
            "Epoch 9/10\n",
            "17/17 [==============================] - 13s 774ms/step - loss: 0.0133 - accuracy: 0.9976 - val_loss: 0.9801 - val_accuracy: 0.8217\n",
            "Epoch 10/10\n",
            "17/17 [==============================] - 13s 771ms/step - loss: 0.0102 - accuracy: 0.9976 - val_loss: 1.0026 - val_accuracy: 0.8200\n",
            "10/10 [==============================] - 1s 63ms/step - loss: 0.8872 - accuracy: 0.8367\n",
            "              precision    recall  f1-score   support\n",
            "\n",
            "           0       0.84      0.84      0.84       151\n",
            "           1       0.84      0.83      0.84       149\n",
            "\n",
            "    accuracy                           0.84       300\n",
            "   macro avg       0.84      0.84      0.84       300\n",
            "weighted avg       0.84      0.84      0.84       300\n",
            "\n"
          ],
          "name": "stdout"
        },
        {
          "output_type": "stream",
          "text": [
            "WARNING:absl:Found untraced functions such as gru_cell_124_layer_call_and_return_conditional_losses, gru_cell_124_layer_call_fn, gru_cell_125_layer_call_and_return_conditional_losses, gru_cell_125_layer_call_fn, gru_cell_124_layer_call_fn while saving (showing 5 of 10). These functions will not be directly callable after loading.\n"
          ],
          "name": "stderr"
        },
        {
          "output_type": "stream",
          "text": [
            "INFO:tensorflow:Assets written to: drive/MyDrive/ml_project/SLS/models/SLS_BiGRUAtt_HP_complete/64_0.3_adam/assets\n"
          ],
          "name": "stdout"
        },
        {
          "output_type": "stream",
          "text": [
            "INFO:tensorflow:Assets written to: drive/MyDrive/ml_project/SLS/models/SLS_BiGRUAtt_HP_complete/64_0.3_adam/assets\n"
          ],
          "name": "stderr"
        },
        {
          "output_type": "stream",
          "text": [
            "esecuzione:  41\n",
            "{'dropout': 0.3, 'num_units': 64, 'optimizer': 'rmsprop'}\n",
            "Epoch 1/10\n",
            "17/17 [==============================] - 20s 883ms/step - loss: 0.5254 - accuracy: 0.7519 - val_loss: 0.4697 - val_accuracy: 0.7967\n",
            "Epoch 2/10\n",
            "17/17 [==============================] - 13s 760ms/step - loss: 0.0571 - accuracy: 0.9871 - val_loss: 0.5842 - val_accuracy: 0.8300\n",
            "Epoch 3/10\n",
            "17/17 [==============================] - 13s 763ms/step - loss: 0.0392 - accuracy: 0.9924 - val_loss: 0.5508 - val_accuracy: 0.8417\n",
            "Epoch 4/10\n",
            "17/17 [==============================] - 13s 759ms/step - loss: 0.0198 - accuracy: 0.9943 - val_loss: 0.9388 - val_accuracy: 0.8267\n",
            "Epoch 5/10\n",
            "17/17 [==============================] - 13s 760ms/step - loss: 0.0194 - accuracy: 0.9957 - val_loss: 0.8501 - val_accuracy: 0.8367\n",
            "Epoch 6/10\n",
            "17/17 [==============================] - 13s 761ms/step - loss: 0.0144 - accuracy: 0.9957 - val_loss: 1.0526 - val_accuracy: 0.7583\n",
            "Epoch 7/10\n",
            "17/17 [==============================] - 13s 763ms/step - loss: 0.0181 - accuracy: 0.9924 - val_loss: 0.8721 - val_accuracy: 0.8333\n",
            "Epoch 8/10\n",
            "17/17 [==============================] - 13s 761ms/step - loss: 0.0133 - accuracy: 0.9971 - val_loss: 1.1578 - val_accuracy: 0.8300\n",
            "Epoch 9/10\n",
            "17/17 [==============================] - 13s 760ms/step - loss: 0.0163 - accuracy: 0.9962 - val_loss: 0.8736 - val_accuracy: 0.8350\n",
            "Epoch 10/10\n",
            "17/17 [==============================] - 12s 734ms/step - loss: 0.0111 - accuracy: 0.9971 - val_loss: 1.1135 - val_accuracy: 0.8117\n",
            "10/10 [==============================] - 1s 64ms/step - loss: 1.0652 - accuracy: 0.8167\n",
            "              precision    recall  f1-score   support\n",
            "\n",
            "           0       0.85      0.77      0.81       151\n",
            "           1       0.79      0.86      0.82       149\n",
            "\n",
            "    accuracy                           0.82       300\n",
            "   macro avg       0.82      0.82      0.82       300\n",
            "weighted avg       0.82      0.82      0.82       300\n",
            "\n"
          ],
          "name": "stdout"
        },
        {
          "output_type": "stream",
          "text": [
            "WARNING:absl:Found untraced functions such as gru_cell_127_layer_call_and_return_conditional_losses, gru_cell_127_layer_call_fn, gru_cell_128_layer_call_and_return_conditional_losses, gru_cell_128_layer_call_fn, gru_cell_127_layer_call_fn while saving (showing 5 of 10). These functions will not be directly callable after loading.\n"
          ],
          "name": "stderr"
        },
        {
          "output_type": "stream",
          "text": [
            "INFO:tensorflow:Assets written to: drive/MyDrive/ml_project/SLS/models/SLS_BiGRUAtt_HP_complete/64_0.3_rmsprop/assets\n"
          ],
          "name": "stdout"
        },
        {
          "output_type": "stream",
          "text": [
            "INFO:tensorflow:Assets written to: drive/MyDrive/ml_project/SLS/models/SLS_BiGRUAtt_HP_complete/64_0.3_rmsprop/assets\n"
          ],
          "name": "stderr"
        },
        {
          "output_type": "stream",
          "text": [
            "esecuzione:  42\n",
            "{'dropout': 0.4, 'num_units': 64, 'optimizer': 'adam'}\n",
            "Epoch 1/10\n",
            "17/17 [==============================] - 19s 880ms/step - loss: 0.6233 - accuracy: 0.7233 - val_loss: 0.5450 - val_accuracy: 0.8167\n",
            "Epoch 2/10\n",
            "17/17 [==============================] - 12s 725ms/step - loss: 0.2006 - accuracy: 0.9929 - val_loss: 0.5348 - val_accuracy: 0.8250\n",
            "Epoch 3/10\n",
            "17/17 [==============================] - 13s 757ms/step - loss: 0.0274 - accuracy: 0.9952 - val_loss: 0.9682 - val_accuracy: 0.8250\n",
            "Epoch 4/10\n",
            "17/17 [==============================] - 13s 759ms/step - loss: 0.0188 - accuracy: 0.9943 - val_loss: 1.2296 - val_accuracy: 0.8233\n",
            "Epoch 5/10\n",
            "17/17 [==============================] - 13s 739ms/step - loss: 0.0175 - accuracy: 0.9948 - val_loss: 1.1171 - val_accuracy: 0.8383\n",
            "Epoch 6/10\n",
            "17/17 [==============================] - 13s 766ms/step - loss: 0.0178 - accuracy: 0.9948 - val_loss: 1.1686 - val_accuracy: 0.8300\n",
            "Epoch 7/10\n",
            "17/17 [==============================] - 13s 766ms/step - loss: 0.0146 - accuracy: 0.9952 - val_loss: 1.3878 - val_accuracy: 0.8383\n",
            "Epoch 8/10\n",
            "17/17 [==============================] - 13s 764ms/step - loss: 0.0157 - accuracy: 0.9957 - val_loss: 0.9500 - val_accuracy: 0.8217\n",
            "Epoch 9/10\n",
            "17/17 [==============================] - 13s 741ms/step - loss: 0.0103 - accuracy: 0.9976 - val_loss: 0.9809 - val_accuracy: 0.8250\n",
            "Epoch 10/10\n",
            "17/17 [==============================] - 13s 738ms/step - loss: 0.0097 - accuracy: 0.9962 - val_loss: 1.0683 - val_accuracy: 0.8200\n",
            "10/10 [==============================] - 1s 65ms/step - loss: 0.9932 - accuracy: 0.8333\n",
            "              precision    recall  f1-score   support\n",
            "\n",
            "           0       0.83      0.83      0.83       151\n",
            "           1       0.83      0.83      0.83       149\n",
            "\n",
            "    accuracy                           0.83       300\n",
            "   macro avg       0.83      0.83      0.83       300\n",
            "weighted avg       0.83      0.83      0.83       300\n",
            "\n"
          ],
          "name": "stdout"
        },
        {
          "output_type": "stream",
          "text": [
            "WARNING:absl:Found untraced functions such as gru_cell_130_layer_call_and_return_conditional_losses, gru_cell_130_layer_call_fn, gru_cell_131_layer_call_and_return_conditional_losses, gru_cell_131_layer_call_fn, gru_cell_130_layer_call_fn while saving (showing 5 of 10). These functions will not be directly callable after loading.\n"
          ],
          "name": "stderr"
        },
        {
          "output_type": "stream",
          "text": [
            "INFO:tensorflow:Assets written to: drive/MyDrive/ml_project/SLS/models/SLS_BiGRUAtt_HP_complete/64_0.4_adam/assets\n"
          ],
          "name": "stdout"
        },
        {
          "output_type": "stream",
          "text": [
            "INFO:tensorflow:Assets written to: drive/MyDrive/ml_project/SLS/models/SLS_BiGRUAtt_HP_complete/64_0.4_adam/assets\n"
          ],
          "name": "stderr"
        },
        {
          "output_type": "stream",
          "text": [
            "esecuzione:  43\n",
            "{'dropout': 0.4, 'num_units': 64, 'optimizer': 'rmsprop'}\n",
            "Epoch 1/10\n",
            "17/17 [==============================] - 19s 889ms/step - loss: 0.4987 - accuracy: 0.7938 - val_loss: 0.4402 - val_accuracy: 0.8200\n",
            "Epoch 2/10\n",
            "17/17 [==============================] - 12s 732ms/step - loss: 0.0769 - accuracy: 0.9857 - val_loss: 0.7095 - val_accuracy: 0.8133\n",
            "Epoch 3/10\n",
            "17/17 [==============================] - 13s 764ms/step - loss: 0.0235 - accuracy: 0.9933 - val_loss: 0.7771 - val_accuracy: 0.8267\n",
            "Epoch 4/10\n",
            "17/17 [==============================] - 13s 765ms/step - loss: 0.0197 - accuracy: 0.9929 - val_loss: 0.8668 - val_accuracy: 0.8283\n",
            "Epoch 5/10\n",
            "17/17 [==============================] - 13s 757ms/step - loss: 0.0216 - accuracy: 0.9938 - val_loss: 0.8893 - val_accuracy: 0.8317\n",
            "Epoch 6/10\n",
            "17/17 [==============================] - 13s 773ms/step - loss: 0.0172 - accuracy: 0.9948 - val_loss: 0.8685 - val_accuracy: 0.8333\n",
            "Epoch 7/10\n",
            "17/17 [==============================] - 13s 778ms/step - loss: 0.0135 - accuracy: 0.9971 - val_loss: 1.0171 - val_accuracy: 0.8300\n",
            "Epoch 8/10\n",
            "17/17 [==============================] - 13s 751ms/step - loss: 0.0161 - accuracy: 0.9957 - val_loss: 0.9392 - val_accuracy: 0.8217\n",
            "Epoch 9/10\n",
            "17/17 [==============================] - 13s 770ms/step - loss: 0.0138 - accuracy: 0.9957 - val_loss: 1.0554 - val_accuracy: 0.7900\n",
            "Epoch 10/10\n",
            "17/17 [==============================] - 13s 741ms/step - loss: 0.0088 - accuracy: 0.9962 - val_loss: 1.1145 - val_accuracy: 0.8250\n",
            "10/10 [==============================] - 1s 63ms/step - loss: 1.0254 - accuracy: 0.8300\n",
            "              precision    recall  f1-score   support\n",
            "\n",
            "           0       0.81      0.86      0.84       151\n",
            "           1       0.85      0.80      0.82       149\n",
            "\n",
            "    accuracy                           0.83       300\n",
            "   macro avg       0.83      0.83      0.83       300\n",
            "weighted avg       0.83      0.83      0.83       300\n",
            "\n"
          ],
          "name": "stdout"
        },
        {
          "output_type": "stream",
          "text": [
            "WARNING:absl:Found untraced functions such as gru_cell_133_layer_call_and_return_conditional_losses, gru_cell_133_layer_call_fn, gru_cell_134_layer_call_and_return_conditional_losses, gru_cell_134_layer_call_fn, gru_cell_133_layer_call_fn while saving (showing 5 of 10). These functions will not be directly callable after loading.\n"
          ],
          "name": "stderr"
        },
        {
          "output_type": "stream",
          "text": [
            "INFO:tensorflow:Assets written to: drive/MyDrive/ml_project/SLS/models/SLS_BiGRUAtt_HP_complete/64_0.4_rmsprop/assets\n"
          ],
          "name": "stdout"
        },
        {
          "output_type": "stream",
          "text": [
            "INFO:tensorflow:Assets written to: drive/MyDrive/ml_project/SLS/models/SLS_BiGRUAtt_HP_complete/64_0.4_rmsprop/assets\n"
          ],
          "name": "stderr"
        },
        {
          "output_type": "stream",
          "text": [
            "esecuzione:  44\n",
            "{'dropout': 0.5, 'num_units': 64, 'optimizer': 'adam'}\n",
            "Epoch 1/10\n",
            "17/17 [==============================] - 19s 875ms/step - loss: 0.6659 - accuracy: 0.5976 - val_loss: 0.6209 - val_accuracy: 0.7933\n",
            "Epoch 2/10\n",
            "17/17 [==============================] - 13s 757ms/step - loss: 0.3298 - accuracy: 0.9705 - val_loss: 0.4752 - val_accuracy: 0.8100\n",
            "Epoch 3/10\n",
            "17/17 [==============================] - 13s 737ms/step - loss: 0.0416 - accuracy: 0.9948 - val_loss: 0.8801 - val_accuracy: 0.8167\n",
            "Epoch 4/10\n",
            "17/17 [==============================] - 13s 738ms/step - loss: 0.0148 - accuracy: 0.9952 - val_loss: 1.2148 - val_accuracy: 0.8183\n",
            "Epoch 5/10\n",
            "17/17 [==============================] - 13s 766ms/step - loss: 0.0190 - accuracy: 0.9943 - val_loss: 1.1533 - val_accuracy: 0.8250\n",
            "Epoch 6/10\n",
            "17/17 [==============================] - 13s 742ms/step - loss: 0.0178 - accuracy: 0.9943 - val_loss: 1.1582 - val_accuracy: 0.8283\n",
            "Epoch 7/10\n",
            "17/17 [==============================] - 12s 736ms/step - loss: 0.0122 - accuracy: 0.9976 - val_loss: 1.1053 - val_accuracy: 0.8200\n",
            "Epoch 8/10\n",
            "17/17 [==============================] - 13s 767ms/step - loss: 0.0109 - accuracy: 0.9962 - val_loss: 1.1639 - val_accuracy: 0.8217\n",
            "Epoch 9/10\n",
            "17/17 [==============================] - 12s 734ms/step - loss: 0.0082 - accuracy: 0.9971 - val_loss: 1.1948 - val_accuracy: 0.8217\n",
            "Epoch 10/10\n",
            "17/17 [==============================] - 13s 743ms/step - loss: 0.0070 - accuracy: 0.9976 - val_loss: 1.2790 - val_accuracy: 0.8167\n",
            "10/10 [==============================] - 1s 63ms/step - loss: 1.1767 - accuracy: 0.8333\n",
            "              precision    recall  f1-score   support\n",
            "\n",
            "           0       0.83      0.83      0.83       151\n",
            "           1       0.83      0.83      0.83       149\n",
            "\n",
            "    accuracy                           0.83       300\n",
            "   macro avg       0.83      0.83      0.83       300\n",
            "weighted avg       0.83      0.83      0.83       300\n",
            "\n"
          ],
          "name": "stdout"
        },
        {
          "output_type": "stream",
          "text": [
            "WARNING:absl:Found untraced functions such as gru_cell_136_layer_call_and_return_conditional_losses, gru_cell_136_layer_call_fn, gru_cell_137_layer_call_and_return_conditional_losses, gru_cell_137_layer_call_fn, gru_cell_136_layer_call_fn while saving (showing 5 of 10). These functions will not be directly callable after loading.\n"
          ],
          "name": "stderr"
        },
        {
          "output_type": "stream",
          "text": [
            "INFO:tensorflow:Assets written to: drive/MyDrive/ml_project/SLS/models/SLS_BiGRUAtt_HP_complete/64_0.5_adam/assets\n"
          ],
          "name": "stdout"
        },
        {
          "output_type": "stream",
          "text": [
            "INFO:tensorflow:Assets written to: drive/MyDrive/ml_project/SLS/models/SLS_BiGRUAtt_HP_complete/64_0.5_adam/assets\n"
          ],
          "name": "stderr"
        },
        {
          "output_type": "stream",
          "text": [
            "esecuzione:  45\n",
            "{'dropout': 0.5, 'num_units': 64, 'optimizer': 'rmsprop'}\n",
            "Epoch 1/10\n",
            "17/17 [==============================] - 19s 900ms/step - loss: 0.5201 - accuracy: 0.7405 - val_loss: 0.5318 - val_accuracy: 0.7783\n",
            "Epoch 2/10\n",
            "17/17 [==============================] - 13s 770ms/step - loss: 0.0555 - accuracy: 0.9852 - val_loss: 1.2728 - val_accuracy: 0.8383\n",
            "Epoch 3/10\n",
            "17/17 [==============================] - 13s 765ms/step - loss: 0.0347 - accuracy: 0.9900 - val_loss: 0.7004 - val_accuracy: 0.8383\n",
            "Epoch 4/10\n",
            "17/17 [==============================] - 13s 769ms/step - loss: 0.0242 - accuracy: 0.9933 - val_loss: 0.7294 - val_accuracy: 0.8300\n",
            "Epoch 5/10\n",
            "17/17 [==============================] - 13s 758ms/step - loss: 0.0160 - accuracy: 0.9938 - val_loss: 0.8264 - val_accuracy: 0.8400\n",
            "Epoch 6/10\n",
            "17/17 [==============================] - 13s 770ms/step - loss: 0.0200 - accuracy: 0.9929 - val_loss: 0.9130 - val_accuracy: 0.8250\n",
            "Epoch 7/10\n",
            "17/17 [==============================] - 13s 745ms/step - loss: 0.0165 - accuracy: 0.9957 - val_loss: 1.0450 - val_accuracy: 0.8067\n",
            "Epoch 8/10\n",
            "17/17 [==============================] - 13s 769ms/step - loss: 0.0133 - accuracy: 0.9957 - val_loss: 1.0033 - val_accuracy: 0.7767\n",
            "Epoch 9/10\n",
            "17/17 [==============================] - 13s 743ms/step - loss: 0.0221 - accuracy: 0.9905 - val_loss: 0.9609 - val_accuracy: 0.8333\n",
            "Epoch 10/10\n",
            "17/17 [==============================] - 13s 746ms/step - loss: 0.0120 - accuracy: 0.9957 - val_loss: 1.0323 - val_accuracy: 0.8333\n",
            "10/10 [==============================] - 1s 66ms/step - loss: 1.0883 - accuracy: 0.8267\n",
            "              precision    recall  f1-score   support\n",
            "\n",
            "           0       0.82      0.84      0.83       151\n",
            "           1       0.83      0.81      0.82       149\n",
            "\n",
            "    accuracy                           0.83       300\n",
            "   macro avg       0.83      0.83      0.83       300\n",
            "weighted avg       0.83      0.83      0.83       300\n",
            "\n"
          ],
          "name": "stdout"
        },
        {
          "output_type": "stream",
          "text": [
            "WARNING:absl:Found untraced functions such as gru_cell_139_layer_call_and_return_conditional_losses, gru_cell_139_layer_call_fn, gru_cell_140_layer_call_and_return_conditional_losses, gru_cell_140_layer_call_fn, gru_cell_139_layer_call_fn while saving (showing 5 of 10). These functions will not be directly callable after loading.\n"
          ],
          "name": "stderr"
        },
        {
          "output_type": "stream",
          "text": [
            "INFO:tensorflow:Assets written to: drive/MyDrive/ml_project/SLS/models/SLS_BiGRUAtt_HP_complete/64_0.5_rmsprop/assets\n"
          ],
          "name": "stdout"
        },
        {
          "output_type": "stream",
          "text": [
            "INFO:tensorflow:Assets written to: drive/MyDrive/ml_project/SLS/models/SLS_BiGRUAtt_HP_complete/64_0.5_rmsprop/assets\n"
          ],
          "name": "stderr"
        },
        {
          "output_type": "stream",
          "text": [
            "esecuzione:  46\n",
            "{'dropout': 0.6, 'num_units': 64, 'optimizer': 'adam'}\n",
            "Epoch 1/10\n",
            "17/17 [==============================] - 20s 896ms/step - loss: 0.6654 - accuracy: 0.7781 - val_loss: 0.6148 - val_accuracy: 0.8200\n",
            "Epoch 2/10\n",
            "17/17 [==============================] - 13s 739ms/step - loss: 0.3241 - accuracy: 0.9848 - val_loss: 0.4844 - val_accuracy: 0.8217\n",
            "Epoch 3/10\n",
            "17/17 [==============================] - 13s 767ms/step - loss: 0.0390 - accuracy: 0.9967 - val_loss: 1.2029 - val_accuracy: 0.8300\n",
            "Epoch 4/10\n",
            "17/17 [==============================] - 13s 764ms/step - loss: 0.0272 - accuracy: 0.9938 - val_loss: 1.1155 - val_accuracy: 0.8133\n",
            "Epoch 5/10\n",
            "17/17 [==============================] - 12s 736ms/step - loss: 0.0159 - accuracy: 0.9952 - val_loss: 1.1377 - val_accuracy: 0.8183\n",
            "Epoch 6/10\n",
            "17/17 [==============================] - 13s 763ms/step - loss: 0.0153 - accuracy: 0.9943 - val_loss: 1.1182 - val_accuracy: 0.8183\n",
            "Epoch 7/10\n",
            "17/17 [==============================] - 13s 760ms/step - loss: 0.0115 - accuracy: 0.9962 - val_loss: 1.1379 - val_accuracy: 0.8133\n",
            "Epoch 8/10\n",
            "17/17 [==============================] - 13s 765ms/step - loss: 0.0093 - accuracy: 0.9967 - val_loss: 1.1739 - val_accuracy: 0.8367\n",
            "Epoch 9/10\n",
            "17/17 [==============================] - 13s 767ms/step - loss: 0.0092 - accuracy: 0.9971 - val_loss: 1.2106 - val_accuracy: 0.8183\n",
            "Epoch 10/10\n",
            "17/17 [==============================] - 13s 773ms/step - loss: 0.0121 - accuracy: 0.9962 - val_loss: 1.2138 - val_accuracy: 0.8217\n",
            "10/10 [==============================] - 1s 66ms/step - loss: 1.1194 - accuracy: 0.8367\n",
            "              precision    recall  f1-score   support\n",
            "\n",
            "           0       0.84      0.84      0.84       151\n",
            "           1       0.84      0.83      0.84       149\n",
            "\n",
            "    accuracy                           0.84       300\n",
            "   macro avg       0.84      0.84      0.84       300\n",
            "weighted avg       0.84      0.84      0.84       300\n",
            "\n"
          ],
          "name": "stdout"
        },
        {
          "output_type": "stream",
          "text": [
            "WARNING:absl:Found untraced functions such as gru_cell_142_layer_call_and_return_conditional_losses, gru_cell_142_layer_call_fn, gru_cell_143_layer_call_and_return_conditional_losses, gru_cell_143_layer_call_fn, gru_cell_142_layer_call_fn while saving (showing 5 of 10). These functions will not be directly callable after loading.\n"
          ],
          "name": "stderr"
        },
        {
          "output_type": "stream",
          "text": [
            "INFO:tensorflow:Assets written to: drive/MyDrive/ml_project/SLS/models/SLS_BiGRUAtt_HP_complete/64_0.6_adam/assets\n"
          ],
          "name": "stdout"
        },
        {
          "output_type": "stream",
          "text": [
            "INFO:tensorflow:Assets written to: drive/MyDrive/ml_project/SLS/models/SLS_BiGRUAtt_HP_complete/64_0.6_adam/assets\n"
          ],
          "name": "stderr"
        },
        {
          "output_type": "stream",
          "text": [
            "esecuzione:  47\n",
            "{'dropout': 0.6, 'num_units': 64, 'optimizer': 'rmsprop'}\n",
            "Epoch 1/10\n",
            "17/17 [==============================] - 19s 860ms/step - loss: 0.5460 - accuracy: 0.7495 - val_loss: 0.5213 - val_accuracy: 0.7950\n",
            "Epoch 2/10\n",
            "17/17 [==============================] - 13s 769ms/step - loss: 0.0886 - accuracy: 0.9681 - val_loss: 0.6499 - val_accuracy: 0.8167\n",
            "Epoch 3/10\n",
            "17/17 [==============================] - 13s 765ms/step - loss: 0.0323 - accuracy: 0.9900 - val_loss: 1.0565 - val_accuracy: 0.8317\n",
            "Epoch 4/10\n",
            "17/17 [==============================] - 12s 736ms/step - loss: 0.0297 - accuracy: 0.9914 - val_loss: 0.8782 - val_accuracy: 0.8267\n",
            "Epoch 5/10\n",
            "17/17 [==============================] - 12s 735ms/step - loss: 0.0252 - accuracy: 0.9938 - val_loss: 0.9935 - val_accuracy: 0.8417\n",
            "Epoch 6/10\n",
            "17/17 [==============================] - 13s 765ms/step - loss: 0.0169 - accuracy: 0.9952 - val_loss: 1.0728 - val_accuracy: 0.8267\n",
            "Epoch 7/10\n",
            "17/17 [==============================] - 13s 758ms/step - loss: 0.0123 - accuracy: 0.9976 - val_loss: 1.0634 - val_accuracy: 0.8350\n",
            "Epoch 8/10\n",
            "17/17 [==============================] - 13s 747ms/step - loss: 0.0114 - accuracy: 0.9962 - val_loss: 1.2881 - val_accuracy: 0.8267\n",
            "Epoch 9/10\n",
            "17/17 [==============================] - 13s 765ms/step - loss: 0.0124 - accuracy: 0.9952 - val_loss: 1.3235 - val_accuracy: 0.8350\n",
            "Epoch 10/10\n",
            "17/17 [==============================] - 13s 768ms/step - loss: 0.0125 - accuracy: 0.9971 - val_loss: 1.2474 - val_accuracy: 0.7867\n",
            "10/10 [==============================] - 1s 63ms/step - loss: 1.0992 - accuracy: 0.7967\n",
            "              precision    recall  f1-score   support\n",
            "\n",
            "           0       0.86      0.72      0.78       151\n",
            "           1       0.75      0.88      0.81       149\n",
            "\n",
            "    accuracy                           0.80       300\n",
            "   macro avg       0.81      0.80      0.80       300\n",
            "weighted avg       0.81      0.80      0.80       300\n",
            "\n"
          ],
          "name": "stdout"
        },
        {
          "output_type": "stream",
          "text": [
            "WARNING:absl:Found untraced functions such as gru_cell_145_layer_call_and_return_conditional_losses, gru_cell_145_layer_call_fn, gru_cell_146_layer_call_and_return_conditional_losses, gru_cell_146_layer_call_fn, gru_cell_145_layer_call_fn while saving (showing 5 of 10). These functions will not be directly callable after loading.\n"
          ],
          "name": "stderr"
        },
        {
          "output_type": "stream",
          "text": [
            "INFO:tensorflow:Assets written to: drive/MyDrive/ml_project/SLS/models/SLS_BiGRUAtt_HP_complete/64_0.6_rmsprop/assets\n"
          ],
          "name": "stdout"
        },
        {
          "output_type": "stream",
          "text": [
            "INFO:tensorflow:Assets written to: drive/MyDrive/ml_project/SLS/models/SLS_BiGRUAtt_HP_complete/64_0.6_rmsprop/assets\n"
          ],
          "name": "stderr"
        },
        {
          "output_type": "stream",
          "text": [
            "esecuzione:  48\n",
            "{'dropout': 0.7, 'num_units': 64, 'optimizer': 'adam'}\n",
            "Epoch 1/10\n",
            "17/17 [==============================] - 18s 858ms/step - loss: 0.6453 - accuracy: 0.7086 - val_loss: 0.5664 - val_accuracy: 0.8017\n",
            "Epoch 2/10\n",
            "17/17 [==============================] - 13s 775ms/step - loss: 0.2737 - accuracy: 0.9914 - val_loss: 0.5143 - val_accuracy: 0.8150\n",
            "Epoch 3/10\n",
            "17/17 [==============================] - 13s 743ms/step - loss: 0.0414 - accuracy: 0.9938 - val_loss: 1.2510 - val_accuracy: 0.8033\n",
            "Epoch 4/10\n",
            "17/17 [==============================] - 12s 735ms/step - loss: 0.0204 - accuracy: 0.9943 - val_loss: 1.2354 - val_accuracy: 0.8233\n",
            "Epoch 5/10\n",
            "17/17 [==============================] - 13s 772ms/step - loss: 0.0119 - accuracy: 0.9957 - val_loss: 1.6353 - val_accuracy: 0.8117\n",
            "Epoch 6/10\n",
            "17/17 [==============================] - 13s 768ms/step - loss: 0.0131 - accuracy: 0.9957 - val_loss: 1.2550 - val_accuracy: 0.8383\n",
            "Epoch 7/10\n",
            "17/17 [==============================] - 13s 772ms/step - loss: 0.0131 - accuracy: 0.9943 - val_loss: 1.2895 - val_accuracy: 0.8433\n",
            "Epoch 8/10\n",
            "17/17 [==============================] - 13s 771ms/step - loss: 0.0124 - accuracy: 0.9957 - val_loss: 1.2992 - val_accuracy: 0.8367\n",
            "Epoch 9/10\n",
            "17/17 [==============================] - 13s 763ms/step - loss: 0.0137 - accuracy: 0.9948 - val_loss: 1.4069 - val_accuracy: 0.8317\n",
            "Epoch 10/10\n",
            "17/17 [==============================] - 13s 765ms/step - loss: 0.0136 - accuracy: 0.9938 - val_loss: 1.3551 - val_accuracy: 0.8367\n",
            "10/10 [==============================] - 1s 64ms/step - loss: 1.3571 - accuracy: 0.8167\n",
            "              precision    recall  f1-score   support\n",
            "\n",
            "           0       0.79      0.86      0.83       151\n",
            "           1       0.85      0.77      0.81       149\n",
            "\n",
            "    accuracy                           0.82       300\n",
            "   macro avg       0.82      0.82      0.82       300\n",
            "weighted avg       0.82      0.82      0.82       300\n",
            "\n"
          ],
          "name": "stdout"
        },
        {
          "output_type": "stream",
          "text": [
            "WARNING:absl:Found untraced functions such as gru_cell_148_layer_call_and_return_conditional_losses, gru_cell_148_layer_call_fn, gru_cell_149_layer_call_and_return_conditional_losses, gru_cell_149_layer_call_fn, gru_cell_148_layer_call_fn while saving (showing 5 of 10). These functions will not be directly callable after loading.\n"
          ],
          "name": "stderr"
        },
        {
          "output_type": "stream",
          "text": [
            "INFO:tensorflow:Assets written to: drive/MyDrive/ml_project/SLS/models/SLS_BiGRUAtt_HP_complete/64_0.7_adam/assets\n"
          ],
          "name": "stdout"
        },
        {
          "output_type": "stream",
          "text": [
            "INFO:tensorflow:Assets written to: drive/MyDrive/ml_project/SLS/models/SLS_BiGRUAtt_HP_complete/64_0.7_adam/assets\n"
          ],
          "name": "stderr"
        },
        {
          "output_type": "stream",
          "text": [
            "esecuzione:  49\n",
            "{'dropout': 0.7, 'num_units': 64, 'optimizer': 'rmsprop'}\n",
            "Epoch 1/10\n",
            "17/17 [==============================] - 19s 890ms/step - loss: 0.5222 - accuracy: 0.7705 - val_loss: 0.4670 - val_accuracy: 0.7967\n",
            "Epoch 2/10\n",
            "17/17 [==============================] - 13s 748ms/step - loss: 0.0827 - accuracy: 0.9843 - val_loss: 0.8771 - val_accuracy: 0.8017\n",
            "Epoch 3/10\n",
            "17/17 [==============================] - 13s 768ms/step - loss: 0.0278 - accuracy: 0.9929 - val_loss: 1.1646 - val_accuracy: 0.8067\n",
            "Epoch 4/10\n",
            "17/17 [==============================] - 13s 775ms/step - loss: 0.0338 - accuracy: 0.9871 - val_loss: 0.8878 - val_accuracy: 0.8250\n",
            "Epoch 5/10\n",
            "17/17 [==============================] - 13s 770ms/step - loss: 0.0220 - accuracy: 0.9914 - val_loss: 1.0529 - val_accuracy: 0.8150\n",
            "Epoch 6/10\n",
            "17/17 [==============================] - 13s 767ms/step - loss: 0.0146 - accuracy: 0.9943 - val_loss: 1.1301 - val_accuracy: 0.8317\n",
            "Epoch 7/10\n",
            "17/17 [==============================] - 13s 767ms/step - loss: 0.0236 - accuracy: 0.9924 - val_loss: 1.1348 - val_accuracy: 0.8200\n",
            "Epoch 8/10\n",
            "17/17 [==============================] - 13s 769ms/step - loss: 0.0175 - accuracy: 0.9962 - val_loss: 1.1367 - val_accuracy: 0.8117\n",
            "Epoch 9/10\n",
            "17/17 [==============================] - 13s 762ms/step - loss: 0.0199 - accuracy: 0.9943 - val_loss: 1.1283 - val_accuracy: 0.8333\n",
            "Epoch 10/10\n",
            "17/17 [==============================] - 13s 764ms/step - loss: 0.0137 - accuracy: 0.9948 - val_loss: 1.4186 - val_accuracy: 0.8133\n",
            "10/10 [==============================] - 1s 68ms/step - loss: 1.4775 - accuracy: 0.8167\n",
            "              precision    recall  f1-score   support\n",
            "\n",
            "           0       0.82      0.81      0.82       151\n",
            "           1       0.81      0.82      0.82       149\n",
            "\n",
            "    accuracy                           0.82       300\n",
            "   macro avg       0.82      0.82      0.82       300\n",
            "weighted avg       0.82      0.82      0.82       300\n",
            "\n"
          ],
          "name": "stdout"
        },
        {
          "output_type": "stream",
          "text": [
            "WARNING:absl:Found untraced functions such as gru_cell_151_layer_call_and_return_conditional_losses, gru_cell_151_layer_call_fn, gru_cell_152_layer_call_and_return_conditional_losses, gru_cell_152_layer_call_fn, gru_cell_151_layer_call_fn while saving (showing 5 of 10). These functions will not be directly callable after loading.\n"
          ],
          "name": "stderr"
        },
        {
          "output_type": "stream",
          "text": [
            "INFO:tensorflow:Assets written to: drive/MyDrive/ml_project/SLS/models/SLS_BiGRUAtt_HP_complete/64_0.7_rmsprop/assets\n"
          ],
          "name": "stdout"
        },
        {
          "output_type": "stream",
          "text": [
            "INFO:tensorflow:Assets written to: drive/MyDrive/ml_project/SLS/models/SLS_BiGRUAtt_HP_complete/64_0.7_rmsprop/assets\n"
          ],
          "name": "stderr"
        },
        {
          "output_type": "stream",
          "text": [
            "esecuzione:  50\n",
            "{'dropout': 0.8, 'num_units': 64, 'optimizer': 'adam'}\n",
            "Epoch 1/10\n",
            "17/17 [==============================] - 19s 892ms/step - loss: 0.6728 - accuracy: 0.7076 - val_loss: 0.6231 - val_accuracy: 0.8200\n",
            "Epoch 2/10\n",
            "17/17 [==============================] - 13s 760ms/step - loss: 0.4233 - accuracy: 0.9257 - val_loss: 0.4467 - val_accuracy: 0.8167\n",
            "Epoch 3/10\n",
            "17/17 [==============================] - 13s 762ms/step - loss: 0.0963 - accuracy: 0.9781 - val_loss: 1.0015 - val_accuracy: 0.8117\n",
            "Epoch 4/10\n",
            "17/17 [==============================] - 13s 769ms/step - loss: 0.0320 - accuracy: 0.9905 - val_loss: 0.9450 - val_accuracy: 0.8300\n",
            "Epoch 5/10\n",
            "17/17 [==============================] - 13s 759ms/step - loss: 0.0275 - accuracy: 0.9924 - val_loss: 1.0484 - val_accuracy: 0.8283\n",
            "Epoch 6/10\n",
            "17/17 [==============================] - 13s 763ms/step - loss: 0.0272 - accuracy: 0.9924 - val_loss: 1.1246 - val_accuracy: 0.8333\n",
            "Epoch 7/10\n",
            "17/17 [==============================] - 12s 737ms/step - loss: 0.0291 - accuracy: 0.9895 - val_loss: 1.0837 - val_accuracy: 0.8333\n",
            "Epoch 8/10\n",
            "17/17 [==============================] - 12s 732ms/step - loss: 0.0287 - accuracy: 0.9895 - val_loss: 1.1048 - val_accuracy: 0.8233\n",
            "Epoch 9/10\n",
            "17/17 [==============================] - 12s 736ms/step - loss: 0.0283 - accuracy: 0.9886 - val_loss: 1.1167 - val_accuracy: 0.8217\n",
            "Epoch 10/10\n",
            "17/17 [==============================] - 13s 774ms/step - loss: 0.0173 - accuracy: 0.9962 - val_loss: 1.1469 - val_accuracy: 0.8333\n",
            "10/10 [==============================] - 1s 69ms/step - loss: 1.0712 - accuracy: 0.8200\n",
            "              precision    recall  f1-score   support\n",
            "\n",
            "           0       0.80      0.85      0.83       151\n",
            "           1       0.84      0.79      0.81       149\n",
            "\n",
            "    accuracy                           0.82       300\n",
            "   macro avg       0.82      0.82      0.82       300\n",
            "weighted avg       0.82      0.82      0.82       300\n",
            "\n"
          ],
          "name": "stdout"
        },
        {
          "output_type": "stream",
          "text": [
            "WARNING:absl:Found untraced functions such as gru_cell_154_layer_call_and_return_conditional_losses, gru_cell_154_layer_call_fn, gru_cell_155_layer_call_and_return_conditional_losses, gru_cell_155_layer_call_fn, gru_cell_154_layer_call_fn while saving (showing 5 of 10). These functions will not be directly callable after loading.\n"
          ],
          "name": "stderr"
        },
        {
          "output_type": "stream",
          "text": [
            "INFO:tensorflow:Assets written to: drive/MyDrive/ml_project/SLS/models/SLS_BiGRUAtt_HP_complete/64_0.8_adam/assets\n"
          ],
          "name": "stdout"
        },
        {
          "output_type": "stream",
          "text": [
            "INFO:tensorflow:Assets written to: drive/MyDrive/ml_project/SLS/models/SLS_BiGRUAtt_HP_complete/64_0.8_adam/assets\n"
          ],
          "name": "stderr"
        },
        {
          "output_type": "stream",
          "text": [
            "esecuzione:  51\n",
            "{'dropout': 0.8, 'num_units': 64, 'optimizer': 'rmsprop'}\n",
            "Epoch 1/10\n",
            "17/17 [==============================] - 19s 895ms/step - loss: 0.5696 - accuracy: 0.7343 - val_loss: 0.4849 - val_accuracy: 0.7450\n",
            "Epoch 2/10\n",
            "17/17 [==============================] - 13s 738ms/step - loss: 0.1583 - accuracy: 0.9581 - val_loss: 0.7837 - val_accuracy: 0.7833\n",
            "Epoch 3/10\n",
            "17/17 [==============================] - 13s 744ms/step - loss: 0.0563 - accuracy: 0.9805 - val_loss: 0.8308 - val_accuracy: 0.8267\n",
            "Epoch 4/10\n",
            "17/17 [==============================] - 13s 769ms/step - loss: 0.0424 - accuracy: 0.9886 - val_loss: 1.0255 - val_accuracy: 0.8283\n",
            "Epoch 5/10\n",
            "17/17 [==============================] - 13s 783ms/step - loss: 0.0296 - accuracy: 0.9900 - val_loss: 1.1902 - val_accuracy: 0.8217\n",
            "Epoch 6/10\n",
            "17/17 [==============================] - 13s 767ms/step - loss: 0.0340 - accuracy: 0.9881 - val_loss: 0.9984 - val_accuracy: 0.8133\n",
            "Epoch 7/10\n",
            "17/17 [==============================] - 12s 732ms/step - loss: 0.0245 - accuracy: 0.9933 - val_loss: 1.2287 - val_accuracy: 0.8300\n",
            "Epoch 8/10\n",
            "17/17 [==============================] - 13s 770ms/step - loss: 0.0185 - accuracy: 0.9910 - val_loss: 1.3722 - val_accuracy: 0.8283\n",
            "Epoch 9/10\n",
            "17/17 [==============================] - 13s 778ms/step - loss: 0.0236 - accuracy: 0.9919 - val_loss: 1.3336 - val_accuracy: 0.8317\n",
            "Epoch 10/10\n",
            "17/17 [==============================] - 13s 742ms/step - loss: 0.0228 - accuracy: 0.9919 - val_loss: 1.2375 - val_accuracy: 0.8350\n",
            "10/10 [==============================] - 1s 66ms/step - loss: 1.2925 - accuracy: 0.8233\n",
            "              precision    recall  f1-score   support\n",
            "\n",
            "           0       0.79      0.88      0.83       151\n",
            "           1       0.86      0.77      0.81       149\n",
            "\n",
            "    accuracy                           0.82       300\n",
            "   macro avg       0.83      0.82      0.82       300\n",
            "weighted avg       0.83      0.82      0.82       300\n",
            "\n"
          ],
          "name": "stdout"
        },
        {
          "output_type": "stream",
          "text": [
            "WARNING:absl:Found untraced functions such as gru_cell_157_layer_call_and_return_conditional_losses, gru_cell_157_layer_call_fn, gru_cell_158_layer_call_and_return_conditional_losses, gru_cell_158_layer_call_fn, gru_cell_157_layer_call_fn while saving (showing 5 of 10). These functions will not be directly callable after loading.\n"
          ],
          "name": "stderr"
        },
        {
          "output_type": "stream",
          "text": [
            "INFO:tensorflow:Assets written to: drive/MyDrive/ml_project/SLS/models/SLS_BiGRUAtt_HP_complete/64_0.8_rmsprop/assets\n"
          ],
          "name": "stdout"
        },
        {
          "output_type": "stream",
          "text": [
            "INFO:tensorflow:Assets written to: drive/MyDrive/ml_project/SLS/models/SLS_BiGRUAtt_HP_complete/64_0.8_rmsprop/assets\n"
          ],
          "name": "stderr"
        },
        {
          "output_type": "stream",
          "text": [
            "esecuzione:  52\n",
            "{'dropout': 0.9, 'num_units': 64, 'optimizer': 'adam'}\n",
            "Epoch 1/10\n",
            "17/17 [==============================] - 19s 877ms/step - loss: 0.6865 - accuracy: 0.5490 - val_loss: 0.6675 - val_accuracy: 0.5450\n",
            "Epoch 2/10\n",
            "17/17 [==============================] - 12s 735ms/step - loss: 0.6203 - accuracy: 0.6795 - val_loss: 0.4986 - val_accuracy: 0.8100\n",
            "Epoch 3/10\n",
            "17/17 [==============================] - 13s 764ms/step - loss: 0.3007 - accuracy: 0.9190 - val_loss: 0.5815 - val_accuracy: 0.8067\n",
            "Epoch 4/10\n",
            "17/17 [==============================] - 12s 734ms/step - loss: 0.0997 - accuracy: 0.9710 - val_loss: 1.0483 - val_accuracy: 0.8083\n",
            "Epoch 5/10\n",
            "17/17 [==============================] - 13s 763ms/step - loss: 0.0745 - accuracy: 0.9690 - val_loss: 1.2077 - val_accuracy: 0.8200\n",
            "Epoch 6/10\n",
            "17/17 [==============================] - 13s 765ms/step - loss: 0.0732 - accuracy: 0.9762 - val_loss: 1.1810 - val_accuracy: 0.8167\n",
            "Epoch 7/10\n",
            "17/17 [==============================] - 13s 738ms/step - loss: 0.0557 - accuracy: 0.9800 - val_loss: 1.1632 - val_accuracy: 0.8217\n",
            "Epoch 8/10\n",
            "17/17 [==============================] - 13s 773ms/step - loss: 0.0610 - accuracy: 0.9776 - val_loss: 1.1918 - val_accuracy: 0.8233\n",
            "Epoch 9/10\n",
            "17/17 [==============================] - 13s 764ms/step - loss: 0.0486 - accuracy: 0.9843 - val_loss: 1.2218 - val_accuracy: 0.8333\n",
            "Epoch 10/10\n",
            "17/17 [==============================] - 13s 744ms/step - loss: 0.0545 - accuracy: 0.9771 - val_loss: 1.1514 - val_accuracy: 0.8333\n",
            "10/10 [==============================] - 1s 68ms/step - loss: 1.1795 - accuracy: 0.8167\n",
            "              precision    recall  f1-score   support\n",
            "\n",
            "           0       0.79      0.87      0.83       151\n",
            "           1       0.85      0.77      0.81       149\n",
            "\n",
            "    accuracy                           0.82       300\n",
            "   macro avg       0.82      0.82      0.82       300\n",
            "weighted avg       0.82      0.82      0.82       300\n",
            "\n"
          ],
          "name": "stdout"
        },
        {
          "output_type": "stream",
          "text": [
            "WARNING:absl:Found untraced functions such as gru_cell_160_layer_call_and_return_conditional_losses, gru_cell_160_layer_call_fn, gru_cell_161_layer_call_and_return_conditional_losses, gru_cell_161_layer_call_fn, gru_cell_160_layer_call_fn while saving (showing 5 of 10). These functions will not be directly callable after loading.\n"
          ],
          "name": "stderr"
        },
        {
          "output_type": "stream",
          "text": [
            "INFO:tensorflow:Assets written to: drive/MyDrive/ml_project/SLS/models/SLS_BiGRUAtt_HP_complete/64_0.9_adam/assets\n"
          ],
          "name": "stdout"
        },
        {
          "output_type": "stream",
          "text": [
            "INFO:tensorflow:Assets written to: drive/MyDrive/ml_project/SLS/models/SLS_BiGRUAtt_HP_complete/64_0.9_adam/assets\n"
          ],
          "name": "stderr"
        },
        {
          "output_type": "stream",
          "text": [
            "esecuzione:  53\n",
            "{'dropout': 0.9, 'num_units': 64, 'optimizer': 'rmsprop'}\n",
            "Epoch 1/10\n",
            "17/17 [==============================] - 19s 854ms/step - loss: 0.6441 - accuracy: 0.6629 - val_loss: 0.5048 - val_accuracy: 0.7983\n",
            "Epoch 2/10\n",
            "17/17 [==============================] - 12s 736ms/step - loss: 0.3191 - accuracy: 0.9095 - val_loss: 0.5571 - val_accuracy: 0.7950\n",
            "Epoch 3/10\n",
            "17/17 [==============================] - 13s 764ms/step - loss: 0.1509 - accuracy: 0.9533 - val_loss: 0.7297 - val_accuracy: 0.8083\n",
            "Epoch 4/10\n",
            "17/17 [==============================] - 13s 761ms/step - loss: 0.1084 - accuracy: 0.9605 - val_loss: 0.9365 - val_accuracy: 0.8150\n",
            "Epoch 5/10\n",
            "17/17 [==============================] - 13s 763ms/step - loss: 0.0786 - accuracy: 0.9738 - val_loss: 1.0785 - val_accuracy: 0.8167\n",
            "Epoch 6/10\n",
            "17/17 [==============================] - 13s 757ms/step - loss: 0.0694 - accuracy: 0.9748 - val_loss: 1.1134 - val_accuracy: 0.8183\n",
            "Epoch 7/10\n",
            "17/17 [==============================] - 13s 763ms/step - loss: 0.0791 - accuracy: 0.9724 - val_loss: 1.1013 - val_accuracy: 0.8067\n",
            "Epoch 8/10\n",
            "17/17 [==============================] - 13s 769ms/step - loss: 0.0582 - accuracy: 0.9771 - val_loss: 1.1506 - val_accuracy: 0.8167\n",
            "Epoch 9/10\n",
            "17/17 [==============================] - 13s 764ms/step - loss: 0.0516 - accuracy: 0.9805 - val_loss: 1.2482 - val_accuracy: 0.8283\n",
            "Epoch 10/10\n",
            "17/17 [==============================] - 13s 761ms/step - loss: 0.0693 - accuracy: 0.9738 - val_loss: 1.0904 - val_accuracy: 0.8267\n",
            "10/10 [==============================] - 1s 63ms/step - loss: 1.1158 - accuracy: 0.8167\n",
            "              precision    recall  f1-score   support\n",
            "\n",
            "           0       0.79      0.87      0.83       151\n",
            "           1       0.85      0.77      0.81       149\n",
            "\n",
            "    accuracy                           0.82       300\n",
            "   macro avg       0.82      0.82      0.82       300\n",
            "weighted avg       0.82      0.82      0.82       300\n",
            "\n"
          ],
          "name": "stdout"
        },
        {
          "output_type": "stream",
          "text": [
            "WARNING:absl:Found untraced functions such as gru_cell_163_layer_call_and_return_conditional_losses, gru_cell_163_layer_call_fn, gru_cell_164_layer_call_and_return_conditional_losses, gru_cell_164_layer_call_fn, gru_cell_163_layer_call_fn while saving (showing 5 of 10). These functions will not be directly callable after loading.\n"
          ],
          "name": "stderr"
        },
        {
          "output_type": "stream",
          "text": [
            "INFO:tensorflow:Assets written to: drive/MyDrive/ml_project/SLS/models/SLS_BiGRUAtt_HP_complete/64_0.9_rmsprop/assets\n"
          ],
          "name": "stdout"
        },
        {
          "output_type": "stream",
          "text": [
            "INFO:tensorflow:Assets written to: drive/MyDrive/ml_project/SLS/models/SLS_BiGRUAtt_HP_complete/64_0.9_rmsprop/assets\n"
          ],
          "name": "stderr"
        }
      ]
    },
    {
      "cell_type": "code",
      "metadata": {
        "id": "HMhfUJMR9QQ1"
      },
      "source": [
        "x_train_file = open(\"drive/MyDrive/ml_project/SLS/x_train.pickle\", \"wb\")\n",
        "pickle.dump(x_train, x_train_file)\n",
        "x_train_file.close()\n",
        "\n",
        "\n",
        "x_test_file = open(\"drive/MyDrive/ml_project/SLS/x_test.pickle\", \"wb\")\n",
        "pickle.dump(x_test, x_test_file)\n",
        "x_test_file.close()\n",
        "\n",
        "\n",
        "y_train_file = open(\"drive/MyDrive/ml_project/SLS/y_train.pickle\", \"wb\")\n",
        "pickle.dump(y_train, y_train_file)\n",
        "y_train_file.close()\n",
        "\n",
        "y_test_file = open(\"drive/MyDrive/ml_project/SLS/y_test.pickle\", \"wb\")\n",
        "pickle.dump(y_test, y_test_file)\n",
        "y_test_file.close()"
      ],
      "execution_count": 46,
      "outputs": []
    },
    {
      "source": [
        "Dopo aver effettuato  diverse esecuzioni, la migliore configurazione risulta essere: NUM_UNITS:16, Dropout:0.4, OPT: RMSProp con accuracy del 84% dunque al variare di tali parametri non si riesce ad ottenere un risultato migliore mostrato dall'articolo (86%). L'ultima prova che si effettua è quella di modificare il learning rate"
      ],
      "cell_type": "markdown",
      "metadata": {}
    },
    {
      "cell_type": "code",
      "execution_count": 14,
      "metadata": {},
      "outputs": [],
      "source": [
        "HP_LR = hp.HParam('learning_rate', hp.Discrete([0.0001, 0.001, 0.005, 0.009, 0.1, 0.2, 0.25, 0.3]))\n",
        "\n",
        "#log_dir = 'drive/MyDrive/ml_project/SLS/logs/SLS_BiGRUAtt_HP_complete_LR'\n",
        "log_dir = 'logs/SLS_BiGRUAtt_HP_complete_LR'\n",
        "METRIC_ACCURACY = 'accuracy'\n",
        "METRIC_PRECISION = \"precision\"\n",
        "METRIC_RECALL = \"recall\"\n",
        "\n",
        "with tensorflow.summary.create_file_writer(log_dir).as_default():\n",
        "    hp.hparams_config(\n",
        "        hparams=[HP_LR],\n",
        "        metrics=[hp.Metric(METRIC_ACCURACY, display_name=\"Accuracy\"), hp.Metric(METRIC_PRECISION, display_name=\"Precision\"), hp.Metric(METRIC_RECALL, display_name=\"Recall\")],\n",
        "    )"
      ]
    },
    {
      "cell_type": "code",
      "execution_count": 18,
      "metadata": {},
      "outputs": [],
      "source": [
        "def train_test_model(hparams):\n",
        "    model = Sequential([\n",
        "        embedding_layer,\n",
        "        Bidirectional(GRU(units=16, return_sequences=True, dropout=0.4)),\n",
        "        Dense(16),\n",
        "        Dense(16),\n",
        "        attention(),\n",
        "        Dense(2, activation=\"sigmoid\"),\n",
        "    ])\n",
        "    opt = RMSprop(learning_rate=hparams[HP_LR])\n",
        "    model.compile(optimizer=opt, loss=\"binary_crossentropy\", metrics=[\"accuracy\"])\n",
        "    model.fit(x_train_index[:2100], y_train_categorical[:2100], epochs=10, batch_size=128, verbose=1, validation_data=(x_train_index[2100:], y_train_categorical[2100:]), callbacks=[tensorflow.keras.callbacks.TensorBoard(log_dir), hp.KerasCallback(log_dir, hparams)])\n",
        "    _, accuracy = model.evaluate(x_test_index, y_test_categorical)\n",
        "    y_pred = np.argmax(model.predict(x_test_index), axis=1).astype(\"float32\")\n",
        "    print(classification_report(y_test, y_pred))\n",
        "    model.save(\"models/BiGRUAtt_HP_complete_LR/{}_{}_{}\".format(16, 0.4, hparams[HP_LR]))\n",
        "    return accuracy, precision_score(y_test, y_pred), recall_score(y_test, y_pred)"
      ]
    },
    {
      "cell_type": "code",
      "execution_count": 16,
      "metadata": {},
      "outputs": [],
      "source": [
        "def run(run_dir, hparams):\n",
        "    with tensorflow.summary.create_file_writer(run_dir).as_default():\n",
        "        hp.hparams(hparams)\n",
        "        accuracy, precision, recall = train_test_model(hparams)\n",
        "        tensorflow.summary.scalar(METRIC_ACCURACY, accuracy, step=1)\n",
        "        tensorflow.summary.scalar(METRIC_PRECISION, precision, step=1)\n",
        "        tensorflow.summary.scalar(METRIC_RECALL, recall, step=1)"
      ]
    },
    {
      "cell_type": "code",
      "execution_count": 19,
      "metadata": {},
      "outputs": [
        {
          "output_type": "stream",
          "name": "stdout",
          "text": [
            "esecuzione:  0\n",
            "{'learning_rate': 0.0001}\n",
            "Epoch 1/10\n",
            "17/17 [==============================] - 9s 362ms/step - loss: 0.6933 - accuracy: 0.5033 - val_loss: 0.6930 - val_accuracy: 0.5050\n",
            "Epoch 2/10\n",
            "17/17 [==============================] - 5s 296ms/step - loss: 0.6931 - accuracy: 0.4986 - val_loss: 0.6929 - val_accuracy: 0.5217\n",
            "Epoch 3/10\n",
            "17/17 [==============================] - 5s 279ms/step - loss: 0.6931 - accuracy: 0.5005 - val_loss: 0.6929 - val_accuracy: 0.5283\n",
            "Epoch 4/10\n",
            "17/17 [==============================] - 4s 253ms/step - loss: 0.6929 - accuracy: 0.5310 - val_loss: 0.6929 - val_accuracy: 0.5083\n",
            "Epoch 5/10\n",
            "17/17 [==============================] - 4s 245ms/step - loss: 0.6928 - accuracy: 0.5229 - val_loss: 0.6930 - val_accuracy: 0.4983\n",
            "Epoch 6/10\n",
            "17/17 [==============================] - 4s 263ms/step - loss: 0.6926 - accuracy: 0.5167 - val_loss: 0.6929 - val_accuracy: 0.4883\n",
            "Epoch 7/10\n",
            "17/17 [==============================] - 4s 242ms/step - loss: 0.6926 - accuracy: 0.5181 - val_loss: 0.6929 - val_accuracy: 0.4700\n",
            "Epoch 8/10\n",
            "17/17 [==============================] - 4s 242ms/step - loss: 0.6924 - accuracy: 0.5114 - val_loss: 0.6928 - val_accuracy: 0.4733\n",
            "Epoch 9/10\n",
            "17/17 [==============================] - 4s 236ms/step - loss: 0.6923 - accuracy: 0.5152 - val_loss: 0.6926 - val_accuracy: 0.4883\n",
            "Epoch 10/10\n",
            "17/17 [==============================] - 4s 227ms/step - loss: 0.6921 - accuracy: 0.5257 - val_loss: 0.6926 - val_accuracy: 0.4817\n",
            "10/10 [==============================] - 0s 24ms/step - loss: 0.6918 - accuracy: 0.5267\n",
            "              precision    recall  f1-score   support\n",
            "\n",
            "           0       0.64      0.05      0.09       145\n",
            "           1       0.52      0.97      0.68       155\n",
            "\n",
            "    accuracy                           0.53       300\n",
            "   macro avg       0.58      0.51      0.38       300\n",
            "weighted avg       0.58      0.53      0.39       300\n",
            "\n",
            "WARNING:absl:Found untraced functions such as gru_cell_4_layer_call_fn, gru_cell_4_layer_call_and_return_conditional_losses, gru_cell_5_layer_call_fn, gru_cell_5_layer_call_and_return_conditional_losses, gru_cell_4_layer_call_fn while saving (showing 5 of 10). These functions will not be directly callable after loading.\n",
            "INFO:tensorflow:Assets written to: models/BiGRUAtt_HP_complete_LR/16_0.4_0.0001/assets\n",
            "INFO:tensorflow:Assets written to: models/BiGRUAtt_HP_complete_LR/16_0.4_0.0001/assets\n",
            "esecuzione:  1\n",
            "{'learning_rate': 0.001}\n",
            "Epoch 1/10\n",
            "17/17 [==============================] - 10s 384ms/step - loss: 0.6921 - accuracy: 0.5148 - val_loss: 0.6944 - val_accuracy: 0.4667\n",
            "Epoch 2/10\n",
            "17/17 [==============================] - 4s 254ms/step - loss: 0.6882 - accuracy: 0.5619 - val_loss: 0.6851 - val_accuracy: 0.5283\n",
            "Epoch 3/10\n",
            "17/17 [==============================] - 4s 261ms/step - loss: 0.6769 - accuracy: 0.6152 - val_loss: 0.6656 - val_accuracy: 0.6367\n",
            "Epoch 4/10\n",
            "17/17 [==============================] - 4s 219ms/step - loss: 0.6551 - accuracy: 0.6333 - val_loss: 0.6097 - val_accuracy: 0.6833\n",
            "Epoch 5/10\n",
            "17/17 [==============================] - 4s 213ms/step - loss: 0.6031 - accuracy: 0.6967 - val_loss: 0.5238 - val_accuracy: 0.7650\n",
            "Epoch 6/10\n",
            "17/17 [==============================] - 4s 231ms/step - loss: 0.5212 - accuracy: 0.7481 - val_loss: 0.6385 - val_accuracy: 0.7517\n",
            "Epoch 7/10\n",
            "17/17 [==============================] - 4s 219ms/step - loss: 0.4895 - accuracy: 0.7710 - val_loss: 0.4223 - val_accuracy: 0.8233\n",
            "Epoch 8/10\n",
            "17/17 [==============================] - 4s 221ms/step - loss: 0.4721 - accuracy: 0.7829 - val_loss: 0.5056 - val_accuracy: 0.8017\n",
            "Epoch 9/10\n",
            "17/17 [==============================] - 4s 222ms/step - loss: 0.4496 - accuracy: 0.8010 - val_loss: 0.4418 - val_accuracy: 0.8167\n",
            "Epoch 10/10\n",
            "17/17 [==============================] - 4s 229ms/step - loss: 0.4328 - accuracy: 0.8086 - val_loss: 0.4162 - val_accuracy: 0.8317\n",
            "10/10 [==============================] - 0s 24ms/step - loss: 0.5199 - accuracy: 0.7567\n",
            "              precision    recall  f1-score   support\n",
            "\n",
            "           0       0.73      0.79      0.76       145\n",
            "           1       0.79      0.72      0.75       155\n",
            "\n",
            "    accuracy                           0.76       300\n",
            "   macro avg       0.76      0.76      0.76       300\n",
            "weighted avg       0.76      0.76      0.76       300\n",
            "\n",
            "WARNING:absl:Found untraced functions such as gru_cell_7_layer_call_fn, gru_cell_7_layer_call_and_return_conditional_losses, gru_cell_8_layer_call_fn, gru_cell_8_layer_call_and_return_conditional_losses, gru_cell_7_layer_call_fn while saving (showing 5 of 10). These functions will not be directly callable after loading.\n",
            "INFO:tensorflow:Assets written to: models/BiGRUAtt_HP_complete_LR/16_0.4_0.001/assets\n",
            "INFO:tensorflow:Assets written to: models/BiGRUAtt_HP_complete_LR/16_0.4_0.001/assets\n",
            "esecuzione:  2\n",
            "{'learning_rate': 0.005}\n",
            "Epoch 1/10\n",
            "17/17 [==============================] - 9s 354ms/step - loss: 0.6855 - accuracy: 0.5633 - val_loss: 0.6328 - val_accuracy: 0.5933\n",
            "Epoch 2/10\n",
            "17/17 [==============================] - 5s 265ms/step - loss: 0.5549 - accuracy: 0.7038 - val_loss: 0.4730 - val_accuracy: 0.7917\n",
            "Epoch 3/10\n",
            "17/17 [==============================] - 4s 251ms/step - loss: 0.3671 - accuracy: 0.8505 - val_loss: 0.4428 - val_accuracy: 0.8433\n",
            "Epoch 4/10\n",
            "17/17 [==============================] - 4s 212ms/step - loss: 0.2965 - accuracy: 0.8862 - val_loss: 0.3640 - val_accuracy: 0.8467\n",
            "Epoch 5/10\n",
            "17/17 [==============================] - 3s 206ms/step - loss: 0.2427 - accuracy: 0.9148 - val_loss: 0.3704 - val_accuracy: 0.8417\n",
            "Epoch 6/10\n",
            "17/17 [==============================] - 3s 206ms/step - loss: 0.2118 - accuracy: 0.9238 - val_loss: 0.3580 - val_accuracy: 0.8517\n",
            "Epoch 7/10\n",
            "17/17 [==============================] - 4s 210ms/step - loss: 0.1768 - accuracy: 0.9333 - val_loss: 0.3975 - val_accuracy: 0.8467\n",
            "Epoch 8/10\n",
            "17/17 [==============================] - 4s 211ms/step - loss: 0.1609 - accuracy: 0.9414 - val_loss: 0.4561 - val_accuracy: 0.8517\n",
            "Epoch 9/10\n",
            "17/17 [==============================] - 4s 211ms/step - loss: 0.1306 - accuracy: 0.9548 - val_loss: 0.4533 - val_accuracy: 0.8567\n",
            "Epoch 10/10\n",
            "17/17 [==============================] - 4s 212ms/step - loss: 0.1114 - accuracy: 0.9610 - val_loss: 0.4572 - val_accuracy: 0.8583\n",
            "10/10 [==============================] - 0s 24ms/step - loss: 0.5221 - accuracy: 0.8433\n",
            "              precision    recall  f1-score   support\n",
            "\n",
            "           0       0.82      0.87      0.84       145\n",
            "           1       0.87      0.82      0.84       155\n",
            "\n",
            "    accuracy                           0.84       300\n",
            "   macro avg       0.84      0.84      0.84       300\n",
            "weighted avg       0.84      0.84      0.84       300\n",
            "\n",
            "WARNING:absl:Found untraced functions such as gru_cell_10_layer_call_fn, gru_cell_10_layer_call_and_return_conditional_losses, gru_cell_11_layer_call_fn, gru_cell_11_layer_call_and_return_conditional_losses, gru_cell_10_layer_call_fn while saving (showing 5 of 10). These functions will not be directly callable after loading.\n",
            "INFO:tensorflow:Assets written to: models/BiGRUAtt_HP_complete_LR/16_0.4_0.005/assets\n",
            "INFO:tensorflow:Assets written to: models/BiGRUAtt_HP_complete_LR/16_0.4_0.005/assets\n",
            "esecuzione:  3\n",
            "{'learning_rate': 0.009}\n",
            "Epoch 1/10\n",
            "17/17 [==============================] - 9s 351ms/step - loss: 0.6845 - accuracy: 0.5595 - val_loss: 0.5439 - val_accuracy: 0.7067\n",
            "Epoch 2/10\n",
            "17/17 [==============================] - 5s 268ms/step - loss: 0.3236 - accuracy: 0.8843 - val_loss: 0.3528 - val_accuracy: 0.8467\n",
            "Epoch 3/10\n",
            "17/17 [==============================] - 5s 268ms/step - loss: 0.1670 - accuracy: 0.9395 - val_loss: 0.4394 - val_accuracy: 0.8333\n",
            "Epoch 4/10\n",
            "17/17 [==============================] - 4s 246ms/step - loss: 0.1444 - accuracy: 0.9519 - val_loss: 0.4091 - val_accuracy: 0.8633\n",
            "Epoch 5/10\n",
            "17/17 [==============================] - 4s 206ms/step - loss: 0.1357 - accuracy: 0.9529 - val_loss: 0.5604 - val_accuracy: 0.8250\n",
            "Epoch 6/10\n",
            "17/17 [==============================] - 4s 206ms/step - loss: 0.0950 - accuracy: 0.9695 - val_loss: 0.5409 - val_accuracy: 0.8450\n",
            "Epoch 7/10\n",
            "17/17 [==============================] - 4s 207ms/step - loss: 0.0803 - accuracy: 0.9752 - val_loss: 0.4989 - val_accuracy: 0.8500\n",
            "Epoch 8/10\n",
            "17/17 [==============================] - 4s 210ms/step - loss: 0.0711 - accuracy: 0.9776 - val_loss: 0.5996 - val_accuracy: 0.8167\n",
            "Epoch 9/10\n",
            "17/17 [==============================] - 4s 212ms/step - loss: 0.0567 - accuracy: 0.9795 - val_loss: 0.7279 - val_accuracy: 0.8467\n",
            "Epoch 10/10\n",
            "17/17 [==============================] - 4s 210ms/step - loss: 0.0452 - accuracy: 0.9833 - val_loss: 0.6968 - val_accuracy: 0.8483\n",
            "10/10 [==============================] - 0s 22ms/step - loss: 0.8322 - accuracy: 0.8333\n",
            "              precision    recall  f1-score   support\n",
            "\n",
            "           0       0.79      0.89      0.84       145\n",
            "           1       0.88      0.78      0.83       155\n",
            "\n",
            "    accuracy                           0.83       300\n",
            "   macro avg       0.84      0.84      0.83       300\n",
            "weighted avg       0.84      0.83      0.83       300\n",
            "\n",
            "WARNING:absl:Found untraced functions such as gru_cell_13_layer_call_fn, gru_cell_13_layer_call_and_return_conditional_losses, gru_cell_14_layer_call_fn, gru_cell_14_layer_call_and_return_conditional_losses, gru_cell_13_layer_call_fn while saving (showing 5 of 10). These functions will not be directly callable after loading.\n",
            "INFO:tensorflow:Assets written to: models/BiGRUAtt_HP_complete_LR/16_0.4_0.009/assets\n",
            "INFO:tensorflow:Assets written to: models/BiGRUAtt_HP_complete_LR/16_0.4_0.009/assets\n",
            "esecuzione:  4\n",
            "{'learning_rate': 0.1}\n",
            "Epoch 1/10\n",
            "17/17 [==============================] - 9s 333ms/step - loss: 8.7225 - accuracy: 0.5133 - val_loss: 0.7576 - val_accuracy: 0.5100\n",
            "Epoch 2/10\n",
            "17/17 [==============================] - 5s 288ms/step - loss: 0.6520 - accuracy: 0.6376 - val_loss: 3.5993 - val_accuracy: 0.4333\n",
            "Epoch 3/10\n",
            "17/17 [==============================] - 5s 267ms/step - loss: 1.5641 - accuracy: 0.6457 - val_loss: 0.7456 - val_accuracy: 0.6833\n",
            "Epoch 4/10\n",
            "17/17 [==============================] - 4s 236ms/step - loss: 1.7201 - accuracy: 0.6714 - val_loss: 1.0637 - val_accuracy: 0.6183\n",
            "Epoch 5/10\n",
            "17/17 [==============================] - 4s 224ms/step - loss: 0.2761 - accuracy: 0.8905 - val_loss: 0.5965 - val_accuracy: 0.7933\n",
            "Epoch 6/10\n",
            "17/17 [==============================] - 4s 216ms/step - loss: 0.2148 - accuracy: 0.9157 - val_loss: 0.9394 - val_accuracy: 0.6767\n",
            "Epoch 7/10\n",
            "17/17 [==============================] - 3s 204ms/step - loss: 4.2171 - accuracy: 0.6824 - val_loss: 0.7110 - val_accuracy: 0.7600\n",
            "Epoch 8/10\n",
            "17/17 [==============================] - 4s 208ms/step - loss: 0.1733 - accuracy: 0.9357 - val_loss: 0.6208 - val_accuracy: 0.7900\n",
            "Epoch 9/10\n",
            "17/17 [==============================] - 4s 210ms/step - loss: 0.1502 - accuracy: 0.9471 - val_loss: 0.4441 - val_accuracy: 0.8083\n",
            "Epoch 10/10\n",
            "17/17 [==============================] - 4s 209ms/step - loss: 0.4540 - accuracy: 0.9043 - val_loss: 3.8401 - val_accuracy: 0.7850\n",
            "10/10 [==============================] - 0s 22ms/step - loss: 3.3678 - accuracy: 0.8000\n",
            "              precision    recall  f1-score   support\n",
            "\n",
            "           0       0.80      0.79      0.79       145\n",
            "           1       0.80      0.81      0.81       155\n",
            "\n",
            "    accuracy                           0.80       300\n",
            "   macro avg       0.80      0.80      0.80       300\n",
            "weighted avg       0.80      0.80      0.80       300\n",
            "\n",
            "WARNING:absl:Found untraced functions such as gru_cell_16_layer_call_fn, gru_cell_16_layer_call_and_return_conditional_losses, gru_cell_17_layer_call_fn, gru_cell_17_layer_call_and_return_conditional_losses, gru_cell_16_layer_call_fn while saving (showing 5 of 10). These functions will not be directly callable after loading.\n",
            "INFO:tensorflow:Assets written to: models/BiGRUAtt_HP_complete_LR/16_0.4_0.1/assets\n",
            "INFO:tensorflow:Assets written to: models/BiGRUAtt_HP_complete_LR/16_0.4_0.1/assets\n",
            "esecuzione:  5\n",
            "{'learning_rate': 0.2}\n",
            "Epoch 1/10\n",
            "17/17 [==============================] - 9s 325ms/step - loss: 162.7042 - accuracy: 0.5224 - val_loss: 4.1952 - val_accuracy: 0.5417\n",
            "Epoch 2/10\n",
            "17/17 [==============================] - 4s 244ms/step - loss: 1.9063 - accuracy: 0.5752 - val_loss: 2.5105 - val_accuracy: 0.5500\n",
            "Epoch 3/10\n",
            "17/17 [==============================] - 4s 245ms/step - loss: 9.9067 - accuracy: 0.5633 - val_loss: 1.8693 - val_accuracy: 0.6067\n",
            "Epoch 4/10\n",
            "17/17 [==============================] - 4s 240ms/step - loss: 1.8902 - accuracy: 0.6195 - val_loss: 6.7957 - val_accuracy: 0.5217\n",
            "Epoch 5/10\n",
            "17/17 [==============================] - 4s 226ms/step - loss: 18.0876 - accuracy: 0.5824 - val_loss: 0.8732 - val_accuracy: 0.6633\n",
            "Epoch 6/10\n",
            "17/17 [==============================] - 4s 226ms/step - loss: 0.6616 - accuracy: 0.7262 - val_loss: 0.9533 - val_accuracy: 0.4850\n",
            "Epoch 7/10\n",
            "17/17 [==============================] - 4s 224ms/step - loss: 3.4394 - accuracy: 0.6967 - val_loss: 18.0889 - val_accuracy: 0.5533\n",
            "Epoch 8/10\n",
            "17/17 [==============================] - 4s 217ms/step - loss: 18.0279 - accuracy: 0.6581 - val_loss: 0.9240 - val_accuracy: 0.6333\n",
            "Epoch 9/10\n",
            "17/17 [==============================] - 4s 208ms/step - loss: 0.7093 - accuracy: 0.7195 - val_loss: 1.3043 - val_accuracy: 0.6833\n",
            "Epoch 10/10\n",
            "17/17 [==============================] - 4s 210ms/step - loss: 21.6615 - accuracy: 0.5567 - val_loss: 1.5231 - val_accuracy: 0.6167\n",
            "10/10 [==============================] - 0s 22ms/step - loss: 1.2726 - accuracy: 0.6700\n",
            "              precision    recall  f1-score   support\n",
            "\n",
            "           0       0.74      0.48      0.59       145\n",
            "           1       0.64      0.85      0.73       155\n",
            "\n",
            "    accuracy                           0.67       300\n",
            "   macro avg       0.69      0.66      0.66       300\n",
            "weighted avg       0.69      0.67      0.66       300\n",
            "\n",
            "WARNING:absl:Found untraced functions such as gru_cell_19_layer_call_fn, gru_cell_19_layer_call_and_return_conditional_losses, gru_cell_20_layer_call_fn, gru_cell_20_layer_call_and_return_conditional_losses, gru_cell_19_layer_call_fn while saving (showing 5 of 10). These functions will not be directly callable after loading.\n",
            "INFO:tensorflow:Assets written to: models/BiGRUAtt_HP_complete_LR/16_0.4_0.2/assets\n",
            "INFO:tensorflow:Assets written to: models/BiGRUAtt_HP_complete_LR/16_0.4_0.2/assets\n",
            "esecuzione:  6\n",
            "{'learning_rate': 0.25}\n",
            "Epoch 1/10\n",
            "17/17 [==============================] - 9s 355ms/step - loss: 125.4457 - accuracy: 0.5376 - val_loss: 1.5582 - val_accuracy: 0.5633\n",
            "Epoch 2/10\n",
            "17/17 [==============================] - 5s 273ms/step - loss: 2.2387 - accuracy: 0.6010 - val_loss: 2.7093 - val_accuracy: 0.5933\n",
            "Epoch 3/10\n",
            "17/17 [==============================] - 5s 270ms/step - loss: 21.0344 - accuracy: 0.5586 - val_loss: 36.0642 - val_accuracy: 0.4667\n",
            "Epoch 4/10\n",
            "17/17 [==============================] - 4s 243ms/step - loss: 3.5673 - accuracy: 0.5814 - val_loss: 0.7694 - val_accuracy: 0.4767\n",
            "Epoch 5/10\n",
            "17/17 [==============================] - 4s 266ms/step - loss: 62.0036 - accuracy: 0.5133 - val_loss: 2.5500 - val_accuracy: 0.4983\n",
            "Epoch 6/10\n",
            "17/17 [==============================] - 4s 233ms/step - loss: 2.5834 - accuracy: 0.5319 - val_loss: 2.2288 - val_accuracy: 0.5517\n",
            "Epoch 7/10\n",
            "17/17 [==============================] - 4s 231ms/step - loss: 7.6549 - accuracy: 0.5129 - val_loss: 4.7464 - val_accuracy: 0.4817\n",
            "Epoch 8/10\n",
            "17/17 [==============================] - 4s 222ms/step - loss: 1.9444 - accuracy: 0.5895 - val_loss: 0.6468 - val_accuracy: 0.6550\n",
            "Epoch 9/10\n",
            "17/17 [==============================] - 4s 222ms/step - loss: 7.8429 - accuracy: 0.5771 - val_loss: 83.7641 - val_accuracy: 0.4667\n",
            "Epoch 10/10\n",
            "17/17 [==============================] - 4s 209ms/step - loss: 46.6332 - accuracy: 0.5829 - val_loss: 1.3792 - val_accuracy: 0.5733\n",
            "10/10 [==============================] - 0s 22ms/step - loss: 1.6297 - accuracy: 0.5133\n",
            "              precision    recall  f1-score   support\n",
            "\n",
            "           0       0.50      0.49      0.49       145\n",
            "           1       0.53      0.54      0.53       155\n",
            "\n",
            "    accuracy                           0.51       300\n",
            "   macro avg       0.51      0.51      0.51       300\n",
            "weighted avg       0.51      0.51      0.51       300\n",
            "\n",
            "WARNING:absl:Found untraced functions such as gru_cell_22_layer_call_fn, gru_cell_22_layer_call_and_return_conditional_losses, gru_cell_23_layer_call_fn, gru_cell_23_layer_call_and_return_conditional_losses, gru_cell_22_layer_call_fn while saving (showing 5 of 10). These functions will not be directly callable after loading.\n",
            "INFO:tensorflow:Assets written to: models/BiGRUAtt_HP_complete_LR/16_0.4_0.25/assets\n",
            "INFO:tensorflow:Assets written to: models/BiGRUAtt_HP_complete_LR/16_0.4_0.25/assets\n",
            "esecuzione:  7\n",
            "{'learning_rate': 0.3}\n",
            "Epoch 1/10\n",
            "17/17 [==============================] - 8s 325ms/step - loss: 104.4665 - accuracy: 0.5019 - val_loss: 1.7031 - val_accuracy: 0.5333\n",
            "Epoch 2/10\n",
            "17/17 [==============================] - 4s 243ms/step - loss: 11.5870 - accuracy: 0.5081 - val_loss: 6.6810 - val_accuracy: 0.4950\n",
            "Epoch 3/10\n",
            "17/17 [==============================] - 4s 248ms/step - loss: 43.2335 - accuracy: 0.4871 - val_loss: 1.2836 - val_accuracy: 0.5617\n",
            "Epoch 4/10\n",
            "17/17 [==============================] - 4s 219ms/step - loss: 1.7206 - accuracy: 0.5481 - val_loss: 2.0589 - val_accuracy: 0.5283\n",
            "Epoch 5/10\n",
            "17/17 [==============================] - 4s 210ms/step - loss: 65.3027 - accuracy: 0.5343 - val_loss: 177.5988 - val_accuracy: 0.4667\n",
            "Epoch 6/10\n",
            "17/17 [==============================] - 4s 211ms/step - loss: 14.4731 - accuracy: 0.5319 - val_loss: 9.1925 - val_accuracy: 0.4733\n",
            "Epoch 7/10\n",
            "17/17 [==============================] - 4s 223ms/step - loss: 1.9352 - accuracy: 0.5219 - val_loss: 12.7107 - val_accuracy: 0.4767\n",
            "Epoch 8/10\n",
            "17/17 [==============================] - 4s 251ms/step - loss: 43.4897 - accuracy: 0.5033 - val_loss: 1.5696 - val_accuracy: 0.4750\n",
            "Epoch 9/10\n",
            "17/17 [==============================] - 4s 248ms/step - loss: 2.5438 - accuracy: 0.5138 - val_loss: 63.3148 - val_accuracy: 0.5317\n",
            "Epoch 10/10\n",
            "17/17 [==============================] - 4s 229ms/step - loss: 70.7277 - accuracy: 0.5267 - val_loss: 3.0004 - val_accuracy: 0.4833\n",
            "10/10 [==============================] - 0s 28ms/step - loss: 2.7764 - accuracy: 0.5167\n",
            "              precision    recall  f1-score   support\n",
            "\n",
            "           0       0.50      0.03      0.06       145\n",
            "           1       0.52      0.97      0.67       155\n",
            "\n",
            "    accuracy                           0.52       300\n",
            "   macro avg       0.51      0.50      0.37       300\n",
            "weighted avg       0.51      0.52      0.38       300\n",
            "\n",
            "WARNING:absl:Found untraced functions such as gru_cell_25_layer_call_fn, gru_cell_25_layer_call_and_return_conditional_losses, gru_cell_26_layer_call_fn, gru_cell_26_layer_call_and_return_conditional_losses, gru_cell_25_layer_call_fn while saving (showing 5 of 10). These functions will not be directly callable after loading.\n",
            "INFO:tensorflow:Assets written to: models/BiGRUAtt_HP_complete_LR/16_0.4_0.3/assets\n",
            "INFO:tensorflow:Assets written to: models/BiGRUAtt_HP_complete_LR/16_0.4_0.3/assets\n"
          ]
        }
      ],
      "source": [
        "n_esecuzione = 0\n",
        "for lr in HP_LR.domain.values:\n",
        "    hparams = {\n",
        "        HP_LR: lr,\n",
        "        }\n",
        "    print(\"esecuzione: \", n_esecuzione)\n",
        "    print({h.name: hparams[h] for h in hparams})\n",
        "    run(log_dir + \"/esecuzione_{}\".format(n_esecuzione), hparams)\n",
        "    n_esecuzione += 1 "
      ]
    }
  ]
}