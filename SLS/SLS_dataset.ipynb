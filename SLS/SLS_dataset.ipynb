{
 "metadata": {
  "language_info": {
   "codemirror_mode": {
    "name": "ipython",
    "version": 3
   },
   "file_extension": ".py",
   "mimetype": "text/x-python",
   "name": "python",
   "nbconvert_exporter": "python",
   "pygments_lexer": "ipython3",
   "version": "3.8.5"
  },
  "orig_nbformat": 2,
  "kernelspec": {
   "name": "pythonjvsc74a57bd0799eb0fd45bbf32cd22b7eb12315f66a6945dddec75ab4ee4de6611b037c6c79",
   "display_name": "Python 3.8.5 64-bit ('venv': venv)"
  },
  "metadata": {
   "interpreter": {
    "hash": "799eb0fd45bbf32cd22b7eb12315f66a6945dddec75ab4ee4de6611b037c6c79"
   }
  }
 },
 "nbformat": 4,
 "nbformat_minor": 2,
 "cells": [
  {
   "cell_type": "code",
   "execution_count": 17,
   "metadata": {},
   "outputs": [],
   "source": [
    "import pandas as pd\n",
    "import numpy as np\n",
    "import pickle"
   ]
  },
  {
   "source": [
    "creazione dataset, ricordando che con 1 si identificano le frasi positive e con 0 quelle negative"
   ],
   "cell_type": "markdown",
   "metadata": {}
  },
  {
   "cell_type": "code",
   "execution_count": 5,
   "metadata": {},
   "outputs": [],
   "source": [
    "dataset_amazon = pd.read_csv(\"dataset/amazon_cells_labelled.txt\", sep=\"\\t\", names=[\"sentence\", \"sentiment\"])\n",
    "dataset_imdb = pd.read_csv(\"dataset/imdb_labelled.txt\", sep=\". \\t\", names=[\"sentence\", \"sentiment\"], header=None, engine=\"python\")\n",
    "dataset_yelp = pd.read_csv(\"dataset/yelp_labelled.txt\", sep=\"\\t\", names=[\"sentence\", \"sentiment\"])"
   ]
  },
  {
   "cell_type": "code",
   "execution_count": 7,
   "metadata": {},
   "outputs": [],
   "source": [
    "dataset = pd.concat([dataset_amazon, dataset_imdb, dataset_yelp])"
   ]
  },
  {
   "cell_type": "code",
   "execution_count": 19,
   "metadata": {},
   "outputs": [
    {
     "output_type": "stream",
     "name": "stdout",
     "text": [
      "                                            sentence  sentiment\n0  So there is no way for me to plug it in here i...          0\n1                        Good case, Excellent value.          1\n2                             Great for the jawbone.          1\n3  Tied to charger for conversations lasting more...          0\n4                                  The mic is great.          1\n5  I have to jiggle the plug to get it to line up...          0\n6  If you have several dozen or several hundred c...          0\n7        If you are Razr owner...you must have this!          1\n8                Needless to say, I wasted my money.          0\n9                   What a waste of money and time!.          0\n"
     ]
    }
   ],
   "source": [
    "print(dataset[:10])"
   ]
  },
  {
   "cell_type": "code",
   "execution_count": 11,
   "metadata": {},
   "outputs": [
    {
     "output_type": "stream",
     "name": "stdout",
     "text": [
      "Dimensione dataset:  3000\nSentimenti all'interno del dataset:  [0 1]\nNumero di elementi nulli:\n sentence     0\nsentiment    0\ndtype: int64\nNumero di elementi positivi:  50.0 %\nNumero di elementi negativi:  50.0 %\n"
     ]
    }
   ],
   "source": [
    "print(\"Dimensione dataset: \", len(dataset))\n",
    "print(\"Sentimenti all'interno del dataset: \", dataset[\"sentiment\"].unique())\n",
    "print(\"Numero di elementi nulli:\\n\", dataset.isnull().sum())\n",
    "print(\"Numero di elementi positivi: \", (len(dataset[\"sentiment\"][dataset.sentiment == 1])/len(dataset))*100, \"%\")\n",
    "print(\"Numero di elementi negativi: \", (len(dataset[\"sentiment\"][dataset.sentiment == 0])/len(dataset))*100, \"%\")"
   ]
  },
  {
   "cell_type": "code",
   "execution_count": 18,
   "metadata": {},
   "outputs": [],
   "source": [
    "files = open(\"dataset/dataset_SLS.pickle\", \"wb\")\n",
    "pickle.dump(dataset, files)"
   ]
  }
 ]
}